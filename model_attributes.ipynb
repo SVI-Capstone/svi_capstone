{
 "cells": [
  {
   "cell_type": "code",
   "execution_count": 39,
   "metadata": {},
   "outputs": [],
   "source": [
    "import pandas as pd\n",
    "import numpy as np\n",
    "import matplotlib.pyplot as plt\n",
    "%matplotlib inline\n",
    "import wrangle\n",
    "import model\n",
    "import model_MAE\n",
    "\n",
    "from sklearn.metrics import mean_squared_error\n",
    "from sklearn.linear_model import LinearRegression\n",
    "from statsmodels.formula.api import ols\n",
    "from sklearn.metrics import mean_squared_error, r2_score, explained_variance_score\n",
    "from sklearn.feature_selection import f_regression, SelectKBest, RFE \n",
    "from sklearn.linear_model import LinearRegression, LassoLars, TweedieRegressor\n",
    "from sklearn.preprocessing import PolynomialFeatures\n",
    "from math import sqrt\n",
    "from scipy import stats"
   ]
  },
  {
   "cell_type": "code",
   "execution_count": 2,
   "metadata": {},
   "outputs": [
    {
     "name": "stdout",
     "output_type": "stream",
     "text": [
      "Acquire: compiling raw data files...\n",
      "Acquire: Completed!\n",
      "Prepare: preparing data files...\n",
      "Prepare: Completed!\n",
      "(289, 25) (73, 25)\n"
     ]
    }
   ],
   "source": [
    "df, train_exp, X_train_scaled, y_train, X_test_scaled, y_test = wrangle.wrangle_data()"
   ]
  },
  {
   "cell_type": "code",
   "execution_count": 3,
   "metadata": {},
   "outputs": [
    {
     "data": {
      "text/plain": [
       "Index(['raw_svi', 'f_pov_soci', 'f_unemp_soci', 'f_pci_soci', 'f_nohsdp_soci',\n",
       "       'f_age65_comp', 'f_age17_comp', 'f_disabl_comp', 'f_sngpnt_comp',\n",
       "       'f_minrty_status', 'f_limeng_status', 'f_munit_trans', 'f_mobile_trans',\n",
       "       'f_crowd_trans', 'f_noveh_trans', 'f_groupq_trans',\n",
       "       'f_soci_total_scaled', 'f_comp_total_scaled', 'f_status_total_scaled',\n",
       "       'f_trans_total_scaled', 'all_flags_total_scaled', 'rank_svi_scaled'],\n",
       "      dtype='object')"
      ]
     },
     "execution_count": 3,
     "metadata": {},
     "output_type": "execute_result"
    }
   ],
   "source": [
    "X_train_scaled.columns"
   ]
  },
  {
   "cell_type": "markdown",
   "metadata": {},
   "source": [
    "# Create Baseline"
   ]
  },
  {
   "cell_type": "code",
   "execution_count": 4,
   "metadata": {},
   "outputs": [
    {
     "data": {
      "text/plain": [
       "(3201.968351790576, 2903.7827641596423)"
      ]
     },
     "execution_count": 4,
     "metadata": {},
     "output_type": "execute_result"
    }
   ],
   "source": [
    "y_train.tract_cases_per_100k.mean(), y_train.tract_cases_per_100k.median()"
   ]
  },
  {
   "cell_type": "code",
   "execution_count": 5,
   "metadata": {},
   "outputs": [
    {
     "name": "stdout",
     "output_type": "stream",
     "text": [
      "Baseline MAE: 973.0351509141836\n"
     ]
    }
   ],
   "source": [
    "# MAE\n",
    "mean_baseMAE, basepred1 = model_MAE.get_baseline_mean(y_train)"
   ]
  },
  {
   "cell_type": "code",
   "execution_count": 6,
   "metadata": {},
   "outputs": [
    {
     "name": "stdout",
     "output_type": "stream",
     "text": [
      "Baseline RMSE: 1257.2466801311145\n"
     ]
    }
   ],
   "source": [
    "# using mean\n",
    "mean_baseRMSE, basepred = model.get_baseline_mean(y_train)"
   ]
  },
  {
   "cell_type": "code",
   "execution_count": 7,
   "metadata": {},
   "outputs": [
    {
     "name": "stdout",
     "output_type": "stream",
     "text": [
      "Baseline MAE: 950.9798103241462\n"
     ]
    }
   ],
   "source": [
    "# using median\n",
    "median_baseMAE, basepred2 = model_MAE.get_baseline_median(y_train)"
   ]
  },
  {
   "cell_type": "code",
   "execution_count": 8,
   "metadata": {},
   "outputs": [
    {
     "name": "stdout",
     "output_type": "stream",
     "text": [
      "Baseline RMSE: 1292.1237786572597\n"
     ]
    }
   ],
   "source": [
    "# using median\n",
    "median_baseRMSE, basepred = model.get_baseline_median(y_train)"
   ]
  },
  {
   "cell_type": "markdown",
   "metadata": {},
   "source": [
    "# Feature Ranking"
   ]
  },
  {
   "cell_type": "code",
   "execution_count": 9,
   "metadata": {},
   "outputs": [
    {
     "data": {
      "text/html": [
       "<div>\n",
       "<style scoped>\n",
       "    .dataframe tbody tr th:only-of-type {\n",
       "        vertical-align: middle;\n",
       "    }\n",
       "\n",
       "    .dataframe tbody tr th {\n",
       "        vertical-align: top;\n",
       "    }\n",
       "\n",
       "    .dataframe thead th {\n",
       "        text-align: right;\n",
       "    }\n",
       "</style>\n",
       "<table border=\"1\" class=\"dataframe\">\n",
       "  <thead>\n",
       "    <tr style=\"text-align: right;\">\n",
       "      <th></th>\n",
       "      <th>features</th>\n",
       "    </tr>\n",
       "    <tr>\n",
       "      <th>rank</th>\n",
       "      <th></th>\n",
       "    </tr>\n",
       "  </thead>\n",
       "  <tbody>\n",
       "    <tr>\n",
       "      <th>1</th>\n",
       "      <td>rank_svi_scaled</td>\n",
       "    </tr>\n",
       "    <tr>\n",
       "      <th>2</th>\n",
       "      <td>f_soci_total_scaled</td>\n",
       "    </tr>\n",
       "    <tr>\n",
       "      <th>3</th>\n",
       "      <td>f_pov_soci</td>\n",
       "    </tr>\n",
       "    <tr>\n",
       "      <th>4</th>\n",
       "      <td>f_minrty_status</td>\n",
       "    </tr>\n",
       "    <tr>\n",
       "      <th>5</th>\n",
       "      <td>all_flags_total_scaled</td>\n",
       "    </tr>\n",
       "    <tr>\n",
       "      <th>6</th>\n",
       "      <td>f_groupq_trans</td>\n",
       "    </tr>\n",
       "    <tr>\n",
       "      <th>7</th>\n",
       "      <td>f_age17_comp</td>\n",
       "    </tr>\n",
       "    <tr>\n",
       "      <th>8</th>\n",
       "      <td>f_comp_total_scaled</td>\n",
       "    </tr>\n",
       "    <tr>\n",
       "      <th>9</th>\n",
       "      <td>f_munit_trans</td>\n",
       "    </tr>\n",
       "    <tr>\n",
       "      <th>10</th>\n",
       "      <td>f_age65_comp</td>\n",
       "    </tr>\n",
       "    <tr>\n",
       "      <th>11</th>\n",
       "      <td>f_unemp_soci</td>\n",
       "    </tr>\n",
       "    <tr>\n",
       "      <th>12</th>\n",
       "      <td>f_pci_soci</td>\n",
       "    </tr>\n",
       "    <tr>\n",
       "      <th>13</th>\n",
       "      <td>f_noveh_trans</td>\n",
       "    </tr>\n",
       "    <tr>\n",
       "      <th>14</th>\n",
       "      <td>f_nohsdp_soci</td>\n",
       "    </tr>\n",
       "    <tr>\n",
       "      <th>15</th>\n",
       "      <td>f_disabl_comp</td>\n",
       "    </tr>\n",
       "    <tr>\n",
       "      <th>16</th>\n",
       "      <td>f_status_total_scaled</td>\n",
       "    </tr>\n",
       "    <tr>\n",
       "      <th>17</th>\n",
       "      <td>raw_svi</td>\n",
       "    </tr>\n",
       "    <tr>\n",
       "      <th>18</th>\n",
       "      <td>f_limeng_status</td>\n",
       "    </tr>\n",
       "    <tr>\n",
       "      <th>19</th>\n",
       "      <td>f_mobile_trans</td>\n",
       "    </tr>\n",
       "    <tr>\n",
       "      <th>20</th>\n",
       "      <td>f_crowd_trans</td>\n",
       "    </tr>\n",
       "    <tr>\n",
       "      <th>21</th>\n",
       "      <td>f_trans_total_scaled</td>\n",
       "    </tr>\n",
       "    <tr>\n",
       "      <th>22</th>\n",
       "      <td>f_sngpnt_comp</td>\n",
       "    </tr>\n",
       "  </tbody>\n",
       "</table>\n",
       "</div>"
      ],
      "text/plain": [
       "                    features\n",
       "rank                        \n",
       "1            rank_svi_scaled\n",
       "2        f_soci_total_scaled\n",
       "3                 f_pov_soci\n",
       "4            f_minrty_status\n",
       "5     all_flags_total_scaled\n",
       "6             f_groupq_trans\n",
       "7               f_age17_comp\n",
       "8        f_comp_total_scaled\n",
       "9              f_munit_trans\n",
       "10              f_age65_comp\n",
       "11              f_unemp_soci\n",
       "12                f_pci_soci\n",
       "13             f_noveh_trans\n",
       "14             f_nohsdp_soci\n",
       "15             f_disabl_comp\n",
       "16     f_status_total_scaled\n",
       "17                   raw_svi\n",
       "18           f_limeng_status\n",
       "19            f_mobile_trans\n",
       "20             f_crowd_trans\n",
       "21      f_trans_total_scaled\n",
       "22             f_sngpnt_comp"
      ]
     },
     "execution_count": 9,
     "metadata": {},
     "output_type": "execute_result"
    }
   ],
   "source": [
    "# possible feature ranking?\n",
    "rankdf = model.feature_ranking(X_train_scaled, y_train)\n",
    "rankdf"
   ]
  },
  {
   "cell_type": "markdown",
   "metadata": {},
   "source": [
    "# Create X_train_scaled df with selected features to test"
   ]
  },
  {
   "cell_type": "markdown",
   "metadata": {},
   "source": [
    "## Feature groups to use for OLS, PF, and Tweedie models"
   ]
  },
  {
   "cell_type": "code",
   "execution_count": 10,
   "metadata": {},
   "outputs": [],
   "source": [
    "# only raw svi score\n",
    "X_raw_svi = X_train_scaled[['raw_svi']]\n",
    "# binned svi score by CDC range category = 1st ranked\n",
    "X_rank_svi_only = X_train_scaled[['rank_svi_scaled']]\n",
    "# top 4 ranked features\n",
    "X_top4 = X_train_scaled[['rank_svi_scaled', 'f_nohsdp_soci', 'f_minrty_status', 'f_groupq_trans']]\n",
    "# only the summary of the flags = 19th ranked\n",
    "X_all_flags_only = X_train_scaled[['all_flags_total_scaled']]\n",
    "# only summary flags, should be the same as all flags total? = 5th, 12th, 15th, 21st\n",
    "X_summary_flags = X_train_scaled[['f_comp_total_scaled', 'f_soci_total_scaled', 'f_status_total_scaled', 'f_trans_total_scaled']]\n",
    "# all individual flags\n",
    "X_not_summary_flags = X_train_scaled[['f_nohsdp_soci', 'f_minrty_status', 'f_groupq_trans', 'f_unemp_soci', \n",
    "                                     'f_disabl_comp', 'f_noveh_trans', 'f_mobile_trans', 'f_age65_comp', \n",
    "                                     'f_age17_comp', 'f_pov_soci', 'f_limeng_status', 'f_crowd_trans', \n",
    "                                      'f_pci_soci', 'f_sngpnt_comp', 'f_munit_trans']]"
   ]
  },
  {
   "cell_type": "markdown",
   "metadata": {},
   "source": [
    "## LassoLars\n",
    "- includes feature selection as part of model so will use all features on this model"
   ]
  },
  {
   "cell_type": "markdown",
   "metadata": {},
   "source": [
    "## Drilling in features to test -- RETURN HERE\n",
    "\n",
    "- what is the score using only 1 summary flag at a time?\n",
    "    - if one summary group is better might be worth investigating for which features within group have greatest impact?"
   ]
  },
  {
   "cell_type": "markdown",
   "metadata": {},
   "source": [
    "# Run df through regression algorithms"
   ]
  },
  {
   "cell_type": "code",
   "execution_count": 11,
   "metadata": {},
   "outputs": [],
   "source": [
    "# create variables for loop\n",
    "df2test = [X_rank_svi_only, X_top4, X_all_flags_only, X_summary_flags, X_not_summary_flags, X_train_scaled, X_raw_svi]\n",
    "target = y_train\n",
    "\n",
    "# Linear Regression Models\n",
    "lm_MAE_list = []\n",
    "for df in df2test:\n",
    "    lm_MAE = model_MAE.linear_reg_train(df, target)\n",
    "    lm_MAE_list.append(lm_MAE)\n",
    "\n",
    "# Polynomial Features 2 degree\n",
    "pf2_MAE_list = []\n",
    "for df in df2test:\n",
    "    pf2_MAE = model_MAE.polynomial2(df, target)\n",
    "    pf2_MAE_list.append(pf2_MAE)\n",
    "\n",
    "# Tweedie power=0, alpha=.5\n",
    "tweedie05 = []\n",
    "for df in df2test:\n",
    "    tw_MAE = model_MAE.tweedie05(df, target)\n",
    "    tweedie05.append(tw_MAE)\n"
   ]
  },
  {
   "cell_type": "code",
   "execution_count": 12,
   "metadata": {},
   "outputs": [],
   "source": [
    "# # create variables for loop\n",
    "# df2test = [X_rank_svi_only, X_top5, X_all_flags_only, X_summary_flags, X_not_summary_flags, X_train_scaled]\n",
    "# target = y_train\n",
    "\n",
    "# # Linear Regression Models\n",
    "# lm_RMSE_list = []\n",
    "# for df in df2test:\n",
    "#     lm_RMSE = model.linear_reg_train(df, target)\n",
    "#     lm_RMSE_list.append(lm_RMSE)\n",
    "\n",
    "# # Polynomial Features 2 degree\n",
    "# pf2_RMSE_list = []\n",
    "# for df in df2test:\n",
    "#     pf2_RMSE = model.polynomial2(df, target)\n",
    "#     pf2_RMSE_list.append(pf2_RMSE)\n",
    "\n",
    "# # Tweedie power=0, alpha=.5\n",
    "# tweedie05 = []\n",
    "# for df in df2test:\n",
    "#     tw_RMSE = model.tweedie05(df, target)\n",
    "#     tweedie05.append(tw_RMSE)\n"
   ]
  },
  {
   "cell_type": "code",
   "execution_count": 13,
   "metadata": {},
   "outputs": [],
   "source": [
    "# LassoLars Models\n",
    "lars_MAE = model_MAE.lasso_lars(X_train_scaled, target)"
   ]
  },
  {
   "cell_type": "code",
   "execution_count": 14,
   "metadata": {},
   "outputs": [],
   "source": [
    "# LassoLars Models\n",
    "lars_RMSE = model.lasso_lars(X_train_scaled, target)"
   ]
  },
  {
   "cell_type": "markdown",
   "metadata": {},
   "source": [
    "# Summarize in results df"
   ]
  },
  {
   "cell_type": "code",
   "execution_count": 15,
   "metadata": {},
   "outputs": [
    {
     "data": {
      "text/html": [
       "<div>\n",
       "<style scoped>\n",
       "    .dataframe tbody tr th:only-of-type {\n",
       "        vertical-align: middle;\n",
       "    }\n",
       "\n",
       "    .dataframe tbody tr th {\n",
       "        vertical-align: top;\n",
       "    }\n",
       "\n",
       "    .dataframe thead th {\n",
       "        text-align: right;\n",
       "    }\n",
       "</style>\n",
       "<table border=\"1\" class=\"dataframe\">\n",
       "  <thead>\n",
       "    <tr style=\"text-align: right;\">\n",
       "      <th></th>\n",
       "      <th>Features</th>\n",
       "      <th>LinearRegression_MAE</th>\n",
       "      <th>Tweedie05_MAE</th>\n",
       "      <th>PolynomialFeatures2_MAE</th>\n",
       "      <th>LassoLars_MAE</th>\n",
       "      <th>Base_mean_MAE</th>\n",
       "      <th>Base_median_MAE</th>\n",
       "    </tr>\n",
       "  </thead>\n",
       "  <tbody>\n",
       "    <tr>\n",
       "      <th>5</th>\n",
       "      <td>all_features</td>\n",
       "      <td>694.319979</td>\n",
       "      <td>821.826107</td>\n",
       "      <td>416.712011</td>\n",
       "      <td>697.418073</td>\n",
       "      <td>973.035151</td>\n",
       "      <td>950.97981</td>\n",
       "    </tr>\n",
       "    <tr>\n",
       "      <th>4</th>\n",
       "      <td>not_summary_flags</td>\n",
       "      <td>768.309031</td>\n",
       "      <td>890.061139</td>\n",
       "      <td>523.157408</td>\n",
       "      <td>697.418073</td>\n",
       "      <td>973.035151</td>\n",
       "      <td>950.97981</td>\n",
       "    </tr>\n",
       "    <tr>\n",
       "      <th>1</th>\n",
       "      <td>top5</td>\n",
       "      <td>733.964872</td>\n",
       "      <td>872.729805</td>\n",
       "      <td>715.532379</td>\n",
       "      <td>697.418073</td>\n",
       "      <td>973.035151</td>\n",
       "      <td>950.97981</td>\n",
       "    </tr>\n",
       "    <tr>\n",
       "      <th>6</th>\n",
       "      <td>raw_svi_only</td>\n",
       "      <td>776.969617</td>\n",
       "      <td>924.491852</td>\n",
       "      <td>767.016031</td>\n",
       "      <td>697.418073</td>\n",
       "      <td>973.035151</td>\n",
       "      <td>950.97981</td>\n",
       "    </tr>\n",
       "    <tr>\n",
       "      <th>0</th>\n",
       "      <td>rank_svi_only</td>\n",
       "      <td>775.678114</td>\n",
       "      <td>900.500732</td>\n",
       "      <td>772.144027</td>\n",
       "      <td>697.418073</td>\n",
       "      <td>973.035151</td>\n",
       "      <td>950.97981</td>\n",
       "    </tr>\n",
       "    <tr>\n",
       "      <th>3</th>\n",
       "      <td>summary_flags</td>\n",
       "      <td>830.585295</td>\n",
       "      <td>944.466544</td>\n",
       "      <td>780.583376</td>\n",
       "      <td>697.418073</td>\n",
       "      <td>973.035151</td>\n",
       "      <td>950.97981</td>\n",
       "    </tr>\n",
       "    <tr>\n",
       "      <th>2</th>\n",
       "      <td>total_all_flags_only</td>\n",
       "      <td>865.391283</td>\n",
       "      <td>958.467458</td>\n",
       "      <td>850.094118</td>\n",
       "      <td>697.418073</td>\n",
       "      <td>973.035151</td>\n",
       "      <td>950.97981</td>\n",
       "    </tr>\n",
       "  </tbody>\n",
       "</table>\n",
       "</div>"
      ],
      "text/plain": [
       "               Features  LinearRegression_MAE  Tweedie05_MAE  \\\n",
       "5          all_features            694.319979     821.826107   \n",
       "4     not_summary_flags            768.309031     890.061139   \n",
       "1                  top5            733.964872     872.729805   \n",
       "6          raw_svi_only            776.969617     924.491852   \n",
       "0         rank_svi_only            775.678114     900.500732   \n",
       "3         summary_flags            830.585295     944.466544   \n",
       "2  total_all_flags_only            865.391283     958.467458   \n",
       "\n",
       "   PolynomialFeatures2_MAE  LassoLars_MAE  Base_mean_MAE  Base_median_MAE  \n",
       "5               416.712011     697.418073     973.035151        950.97981  \n",
       "4               523.157408     697.418073     973.035151        950.97981  \n",
       "1               715.532379     697.418073     973.035151        950.97981  \n",
       "6               767.016031     697.418073     973.035151        950.97981  \n",
       "0               772.144027     697.418073     973.035151        950.97981  \n",
       "3               780.583376     697.418073     973.035151        950.97981  \n",
       "2               850.094118     697.418073     973.035151        950.97981  "
      ]
     },
     "execution_count": 15,
     "metadata": {},
     "output_type": "execute_result"
    }
   ],
   "source": [
    "# create dataframe for results of all train models\n",
    "df_list = ['rank_svi_only', 'top5', 'total_all_flags_only', 'summary_flags', 'not_summary_flags', 'all_features', 'raw_svi_only']\n",
    "\n",
    "results = pd.DataFrame(df_list, columns=['Features'])\n",
    "results['LinearRegression_MAE'] = lm_MAE_list\n",
    "results['Tweedie05_MAE'] = tweedie05\n",
    "results['PolynomialFeatures2_MAE'] = pf2_MAE_list\n",
    "results['LassoLars_MAE'] = lars_MAE\n",
    "results['Base_mean_MAE'] = mean_baseMAE\n",
    "results['Base_median_MAE'] = median_baseMAE\n",
    "results.sort_values('PolynomialFeatures2_MAE')"
   ]
  },
  {
   "cell_type": "code",
   "execution_count": 16,
   "metadata": {},
   "outputs": [],
   "source": [
    "# # create dataframe for results of all train models\n",
    "# df_list = ['rank_svi_only', 'top5', 'total_all_flags_only', 'summary_flags', 'not_summary_flags', 'all_features', 'raw_svi_only']\n",
    "\n",
    "# results = pd.DataFrame(df_list, columns=['Features'])\n",
    "# results['LinearRegression_RMSE'] = lm_RMSE_list\n",
    "# results['Tweedie05_RMSE'] = tweedie05\n",
    "# results['PolynomialFeatures2_RMSE'] = pf2_RMSE_list\n",
    "# results['LassoLars_RMSE'] = lars_RMSE\n",
    "# results['Base_mean_RMSE'] = mean_baseRMSE\n",
    "# results['Base_median_RMSE'] = median_baseRMSE\n",
    "# results.sort_values('PolynomialFeatures2_RMSE')"
   ]
  },
  {
   "cell_type": "markdown",
   "metadata": {},
   "source": [
    "# Validate Stage\n",
    "\n",
    "## pick models to validate\n",
    "- LassoLars\n",
    "- LR all feature\n",
    "- PF2 all features\n",
    "- PF2 top5\n"
   ]
  },
  {
   "cell_type": "code",
   "execution_count": 17,
   "metadata": {},
   "outputs": [],
   "source": [
    "from numpy import mean\n",
    "from numpy import std, absolute\n",
    "from sklearn.datasets import make_blobs\n",
    "from sklearn.model_selection import LeaveOneOut\n",
    "from sklearn.model_selection import cross_val_score\n",
    "from sklearn.ensemble import RandomForestClassifier\n",
    "from sklearn.metrics import mean_squared_error, r2_score, explained_variance_score, mean_absolute_error"
   ]
  },
  {
   "cell_type": "code",
   "execution_count": 18,
   "metadata": {},
   "outputs": [
    {
     "name": "stdout",
     "output_type": "stream",
     "text": [
      "MAE: 745.523 (707.596)\n"
     ]
    }
   ],
   "source": [
    "# LassoLars\n",
    "# create loocv procedure\n",
    "cvLL = LeaveOneOut()\n",
    "# create model\n",
    "modelLL = LassoLars(alpha=1)\n",
    "# evaluate model\n",
    "scoresLL = cross_val_score(modelLL, X_train_scaled, y_train, scoring='neg_mean_absolute_error', cv=cvLL, n_jobs=-1)\n",
    "# force positive\n",
    "scoresLL = absolute(scoresLL)\n",
    "# report performance\n",
    "print('MAE: %.3f (%.3f)' % (mean(scoresLL), std(scoresLL)))"
   ]
  },
  {
   "cell_type": "code",
   "execution_count": 19,
   "metadata": {},
   "outputs": [
    {
     "name": "stdout",
     "output_type": "stream",
     "text": [
      "MAE: 753.715 (722.317)\n"
     ]
    }
   ],
   "source": [
    "# Linear Regression - all features\n",
    "# create loocv procedure\n",
    "cvLR = LeaveOneOut()\n",
    "# create model\n",
    "modelLR = LinearRegression()\n",
    "# evaluate model\n",
    "scoresLR = cross_val_score(modelLR, X_train_scaled, y_train, scoring='neg_mean_absolute_error', cv=cvLR, n_jobs=-1)\n",
    "# force positive\n",
    "scoresLR = absolute(scoresLR)\n",
    "# report performance\n",
    "print('MAE: %.3f (%.3f)' % (mean(scoresLR), std(scoresLR)))"
   ]
  },
  {
   "cell_type": "code",
   "execution_count": 20,
   "metadata": {},
   "outputs": [
    {
     "name": "stdout",
     "output_type": "stream",
     "text": [
      "MAE: 644168580363410.125 (3241353656002645.500)\n"
     ]
    }
   ],
   "source": [
    "# Polynomial Features 2 degrees - all features\n",
    "# create loocv procedure\n",
    "cvPF1 = LeaveOneOut()\n",
    "\n",
    "# create PF object\n",
    "pf1 = PolynomialFeatures(degree=2)\n",
    "# Fit and Transform model to get a new set of features...which are the original features squared\n",
    "X_train_squared1 = pf1.fit_transform(X_train_scaled)\n",
    "\n",
    "# create model\n",
    "modelPF1 = LinearRegression(normalize=True)\n",
    "# evaluate model\n",
    "scoresPF1 = cross_val_score(modelPF1, X_train_squared1, y_train, scoring='neg_mean_absolute_error', cv=cvPF1, n_jobs=-1)\n",
    "# force positive\n",
    "scoresPF1 = absolute(scoresPF1)\n",
    "# report performance\n",
    "print('MAE: %.3f (%.3f)' % (mean(scoresPF1), std(scoresPF1)))"
   ]
  },
  {
   "cell_type": "code",
   "execution_count": 21,
   "metadata": {},
   "outputs": [
    {
     "name": "stdout",
     "output_type": "stream",
     "text": [
      "MAE: 763.343 (638.873)\n"
     ]
    }
   ],
   "source": [
    "# Polynomial Features 2 degrees - top 5\n",
    "# create loocv procedure\n",
    "cvPF2 = LeaveOneOut()\n",
    "\n",
    "# create PF object\n",
    "pf2 = PolynomialFeatures(degree=2)\n",
    "# Fit and Transform model to get a new set of features...which are the original features squared\n",
    "X_train_squared2 = pf2.fit_transform(X_top4)\n",
    "\n",
    "# create model\n",
    "modelPF2 = LinearRegression(normalize=True)\n",
    "# evaluate model\n",
    "scoresPF2 = cross_val_score(modelPF2, X_train_squared2, y_train, scoring='neg_mean_absolute_error', cv=cvPF2, n_jobs=-1)\n",
    "# force positive\n",
    "scoresPF2 = absolute(scoresPF2)\n",
    "# report performance\n",
    "print('MAE: %.3f (%.3f)' % (mean(scoresPF2), std(scoresPF2)))"
   ]
  },
  {
   "cell_type": "markdown",
   "metadata": {},
   "source": [
    "# Test "
   ]
  },
  {
   "cell_type": "code",
   "execution_count": 22,
   "metadata": {},
   "outputs": [
    {
     "name": "stdout",
     "output_type": "stream",
     "text": [
      "MAE: 853.068\n"
     ]
    }
   ],
   "source": [
    "# fit model from cross validation to train dataset\n",
    "modelLL.fit(X_train_scaled, y_train)\n",
    "# use the trained dataset to predict on test\n",
    "lars_test_pred = modelLL.predict(X_test_scaled)\n",
    "# get the MAE of test\n",
    "lars_MAE = mean_absolute_error(y_test, lars_test_pred)\n",
    "print('MAE: %.3f' % lars_MAE)"
   ]
  },
  {
   "cell_type": "code",
   "execution_count": 23,
   "metadata": {},
   "outputs": [
    {
     "data": {
      "text/plain": [
       "array([    0.        ,  -266.44166894,   642.56062808,   463.69130524,\n",
       "         219.57817805,  -242.49315328,  -600.6779376 ,   163.26130203,\n",
       "           0.        ,   771.6833059 ,     0.        ,   156.42395614,\n",
       "         -91.04033532,     0.        ,  -349.35134   ,   535.61386987,\n",
       "           0.        ,     0.        ,     0.        ,     0.        ,\n",
       "           0.        , -1219.80815463])"
      ]
     },
     "execution_count": 23,
     "metadata": {},
     "output_type": "execute_result"
    }
   ],
   "source": [
    "modelLL.coef_"
   ]
  },
  {
   "cell_type": "code",
   "execution_count": 24,
   "metadata": {},
   "outputs": [
    {
     "data": {
      "text/html": [
       "<div>\n",
       "<style scoped>\n",
       "    .dataframe tbody tr th:only-of-type {\n",
       "        vertical-align: middle;\n",
       "    }\n",
       "\n",
       "    .dataframe tbody tr th {\n",
       "        vertical-align: top;\n",
       "    }\n",
       "\n",
       "    .dataframe thead th {\n",
       "        text-align: right;\n",
       "    }\n",
       "</style>\n",
       "<table border=\"1\" class=\"dataframe\">\n",
       "  <thead>\n",
       "    <tr style=\"text-align: right;\">\n",
       "      <th></th>\n",
       "      <th>raw_svi</th>\n",
       "      <th>f_pov_soci</th>\n",
       "      <th>f_unemp_soci</th>\n",
       "      <th>f_pci_soci</th>\n",
       "      <th>f_nohsdp_soci</th>\n",
       "      <th>f_age65_comp</th>\n",
       "      <th>f_age17_comp</th>\n",
       "      <th>f_disabl_comp</th>\n",
       "      <th>f_sngpnt_comp</th>\n",
       "      <th>f_minrty_status</th>\n",
       "      <th>...</th>\n",
       "      <th>f_mobile_trans</th>\n",
       "      <th>f_crowd_trans</th>\n",
       "      <th>f_noveh_trans</th>\n",
       "      <th>f_groupq_trans</th>\n",
       "      <th>f_soci_total_scaled</th>\n",
       "      <th>f_comp_total_scaled</th>\n",
       "      <th>f_status_total_scaled</th>\n",
       "      <th>f_trans_total_scaled</th>\n",
       "      <th>all_flags_total_scaled</th>\n",
       "      <th>rank_svi_scaled</th>\n",
       "    </tr>\n",
       "  </thead>\n",
       "  <tbody>\n",
       "    <tr>\n",
       "      <th>289</th>\n",
       "      <td>0.4879</td>\n",
       "      <td>0</td>\n",
       "      <td>0</td>\n",
       "      <td>0</td>\n",
       "      <td>0</td>\n",
       "      <td>0</td>\n",
       "      <td>0</td>\n",
       "      <td>0</td>\n",
       "      <td>0</td>\n",
       "      <td>0</td>\n",
       "      <td>...</td>\n",
       "      <td>0</td>\n",
       "      <td>0</td>\n",
       "      <td>0</td>\n",
       "      <td>0</td>\n",
       "      <td>0.0</td>\n",
       "      <td>0.000000</td>\n",
       "      <td>0.0</td>\n",
       "      <td>0.000000</td>\n",
       "      <td>0.000000</td>\n",
       "      <td>0.666667</td>\n",
       "    </tr>\n",
       "    <tr>\n",
       "      <th>200</th>\n",
       "      <td>0.6394</td>\n",
       "      <td>0</td>\n",
       "      <td>0</td>\n",
       "      <td>0</td>\n",
       "      <td>0</td>\n",
       "      <td>0</td>\n",
       "      <td>0</td>\n",
       "      <td>0</td>\n",
       "      <td>0</td>\n",
       "      <td>0</td>\n",
       "      <td>...</td>\n",
       "      <td>0</td>\n",
       "      <td>0</td>\n",
       "      <td>0</td>\n",
       "      <td>0</td>\n",
       "      <td>0.0</td>\n",
       "      <td>0.000000</td>\n",
       "      <td>0.0</td>\n",
       "      <td>0.333333</td>\n",
       "      <td>0.111111</td>\n",
       "      <td>0.333333</td>\n",
       "    </tr>\n",
       "    <tr>\n",
       "      <th>69</th>\n",
       "      <td>0.6523</td>\n",
       "      <td>0</td>\n",
       "      <td>0</td>\n",
       "      <td>0</td>\n",
       "      <td>0</td>\n",
       "      <td>0</td>\n",
       "      <td>0</td>\n",
       "      <td>0</td>\n",
       "      <td>0</td>\n",
       "      <td>1</td>\n",
       "      <td>...</td>\n",
       "      <td>0</td>\n",
       "      <td>0</td>\n",
       "      <td>1</td>\n",
       "      <td>0</td>\n",
       "      <td>0.0</td>\n",
       "      <td>0.000000</td>\n",
       "      <td>0.5</td>\n",
       "      <td>0.333333</td>\n",
       "      <td>0.222222</td>\n",
       "      <td>0.333333</td>\n",
       "    </tr>\n",
       "    <tr>\n",
       "      <th>29</th>\n",
       "      <td>0.0872</td>\n",
       "      <td>0</td>\n",
       "      <td>0</td>\n",
       "      <td>0</td>\n",
       "      <td>0</td>\n",
       "      <td>0</td>\n",
       "      <td>0</td>\n",
       "      <td>0</td>\n",
       "      <td>0</td>\n",
       "      <td>0</td>\n",
       "      <td>...</td>\n",
       "      <td>0</td>\n",
       "      <td>0</td>\n",
       "      <td>0</td>\n",
       "      <td>0</td>\n",
       "      <td>0.0</td>\n",
       "      <td>0.000000</td>\n",
       "      <td>0.0</td>\n",
       "      <td>0.000000</td>\n",
       "      <td>0.000000</td>\n",
       "      <td>1.000000</td>\n",
       "    </tr>\n",
       "    <tr>\n",
       "      <th>12</th>\n",
       "      <td>0.9531</td>\n",
       "      <td>0</td>\n",
       "      <td>0</td>\n",
       "      <td>0</td>\n",
       "      <td>0</td>\n",
       "      <td>0</td>\n",
       "      <td>0</td>\n",
       "      <td>1</td>\n",
       "      <td>0</td>\n",
       "      <td>0</td>\n",
       "      <td>...</td>\n",
       "      <td>0</td>\n",
       "      <td>0</td>\n",
       "      <td>0</td>\n",
       "      <td>0</td>\n",
       "      <td>0.0</td>\n",
       "      <td>0.333333</td>\n",
       "      <td>0.0</td>\n",
       "      <td>0.000000</td>\n",
       "      <td>0.111111</td>\n",
       "      <td>0.000000</td>\n",
       "    </tr>\n",
       "  </tbody>\n",
       "</table>\n",
       "<p>5 rows × 22 columns</p>\n",
       "</div>"
      ],
      "text/plain": [
       "     raw_svi  f_pov_soci  f_unemp_soci  f_pci_soci  f_nohsdp_soci  \\\n",
       "289   0.4879           0             0           0              0   \n",
       "200   0.6394           0             0           0              0   \n",
       "69    0.6523           0             0           0              0   \n",
       "29    0.0872           0             0           0              0   \n",
       "12    0.9531           0             0           0              0   \n",
       "\n",
       "     f_age65_comp  f_age17_comp  f_disabl_comp  f_sngpnt_comp  \\\n",
       "289             0             0              0              0   \n",
       "200             0             0              0              0   \n",
       "69              0             0              0              0   \n",
       "29              0             0              0              0   \n",
       "12              0             0              1              0   \n",
       "\n",
       "     f_minrty_status  ...  f_mobile_trans  f_crowd_trans  f_noveh_trans  \\\n",
       "289                0  ...               0              0              0   \n",
       "200                0  ...               0              0              0   \n",
       "69                 1  ...               0              0              1   \n",
       "29                 0  ...               0              0              0   \n",
       "12                 0  ...               0              0              0   \n",
       "\n",
       "     f_groupq_trans  f_soci_total_scaled  f_comp_total_scaled  \\\n",
       "289               0                  0.0             0.000000   \n",
       "200               0                  0.0             0.000000   \n",
       "69                0                  0.0             0.000000   \n",
       "29                0                  0.0             0.000000   \n",
       "12                0                  0.0             0.333333   \n",
       "\n",
       "     f_status_total_scaled  f_trans_total_scaled  all_flags_total_scaled  \\\n",
       "289                    0.0              0.000000                0.000000   \n",
       "200                    0.0              0.333333                0.111111   \n",
       "69                     0.5              0.333333                0.222222   \n",
       "29                     0.0              0.000000                0.000000   \n",
       "12                     0.0              0.000000                0.111111   \n",
       "\n",
       "     rank_svi_scaled  \n",
       "289         0.666667  \n",
       "200         0.333333  \n",
       "69          0.333333  \n",
       "29          1.000000  \n",
       "12          0.000000  \n",
       "\n",
       "[5 rows x 22 columns]"
      ]
     },
     "execution_count": 24,
     "metadata": {},
     "output_type": "execute_result"
    }
   ],
   "source": [
    "X_train_scaled.head()"
   ]
  },
  {
   "cell_type": "code",
   "execution_count": 25,
   "metadata": {},
   "outputs": [],
   "source": [
    "ll_coef_count = (modelLL.coef_ != 0)"
   ]
  },
  {
   "cell_type": "code",
   "execution_count": 26,
   "metadata": {},
   "outputs": [],
   "source": [
    "ll_coef = modelLL.coef_ "
   ]
  },
  {
   "cell_type": "code",
   "execution_count": 27,
   "metadata": {},
   "outputs": [
    {
     "data": {
      "text/plain": [
       "array([    0.        ,  -266.44166894,   642.56062808,   463.69130524,\n",
       "         219.57817805,  -242.49315328,  -600.6779376 ,   163.26130203,\n",
       "           0.        ,   771.6833059 ,     0.        ,   156.42395614,\n",
       "         -91.04033532,     0.        ,  -349.35134   ,   535.61386987,\n",
       "           0.        ,     0.        ,     0.        ,     0.        ,\n",
       "           0.        , -1219.80815463])"
      ]
     },
     "execution_count": 27,
     "metadata": {},
     "output_type": "execute_result"
    }
   ],
   "source": [
    "ll_coef"
   ]
  },
  {
   "cell_type": "code",
   "execution_count": null,
   "metadata": {},
   "outputs": [],
   "source": []
  },
  {
   "cell_type": "code",
   "execution_count": 28,
   "metadata": {},
   "outputs": [
    {
     "data": {
      "text/html": [
       "<div>\n",
       "<style scoped>\n",
       "    .dataframe tbody tr th:only-of-type {\n",
       "        vertical-align: middle;\n",
       "    }\n",
       "\n",
       "    .dataframe tbody tr th {\n",
       "        vertical-align: top;\n",
       "    }\n",
       "\n",
       "    .dataframe thead th {\n",
       "        text-align: right;\n",
       "    }\n",
       "</style>\n",
       "<table border=\"1\" class=\"dataframe\">\n",
       "  <thead>\n",
       "    <tr style=\"text-align: right;\">\n",
       "      <th></th>\n",
       "      <th>features</th>\n",
       "    </tr>\n",
       "    <tr>\n",
       "      <th>rank</th>\n",
       "      <th></th>\n",
       "    </tr>\n",
       "  </thead>\n",
       "  <tbody>\n",
       "    <tr>\n",
       "      <th>1</th>\n",
       "      <td>rank_svi_scaled</td>\n",
       "    </tr>\n",
       "    <tr>\n",
       "      <th>2</th>\n",
       "      <td>f_soci_total_scaled</td>\n",
       "    </tr>\n",
       "    <tr>\n",
       "      <th>3</th>\n",
       "      <td>f_pov_soci</td>\n",
       "    </tr>\n",
       "    <tr>\n",
       "      <th>4</th>\n",
       "      <td>f_minrty_status</td>\n",
       "    </tr>\n",
       "    <tr>\n",
       "      <th>5</th>\n",
       "      <td>all_flags_total_scaled</td>\n",
       "    </tr>\n",
       "    <tr>\n",
       "      <th>6</th>\n",
       "      <td>f_groupq_trans</td>\n",
       "    </tr>\n",
       "    <tr>\n",
       "      <th>7</th>\n",
       "      <td>f_age17_comp</td>\n",
       "    </tr>\n",
       "    <tr>\n",
       "      <th>8</th>\n",
       "      <td>f_comp_total_scaled</td>\n",
       "    </tr>\n",
       "    <tr>\n",
       "      <th>9</th>\n",
       "      <td>f_munit_trans</td>\n",
       "    </tr>\n",
       "    <tr>\n",
       "      <th>10</th>\n",
       "      <td>f_age65_comp</td>\n",
       "    </tr>\n",
       "    <tr>\n",
       "      <th>11</th>\n",
       "      <td>f_unemp_soci</td>\n",
       "    </tr>\n",
       "    <tr>\n",
       "      <th>12</th>\n",
       "      <td>f_pci_soci</td>\n",
       "    </tr>\n",
       "    <tr>\n",
       "      <th>13</th>\n",
       "      <td>f_noveh_trans</td>\n",
       "    </tr>\n",
       "    <tr>\n",
       "      <th>14</th>\n",
       "      <td>f_nohsdp_soci</td>\n",
       "    </tr>\n",
       "    <tr>\n",
       "      <th>15</th>\n",
       "      <td>f_disabl_comp</td>\n",
       "    </tr>\n",
       "    <tr>\n",
       "      <th>16</th>\n",
       "      <td>f_status_total_scaled</td>\n",
       "    </tr>\n",
       "    <tr>\n",
       "      <th>17</th>\n",
       "      <td>raw_svi</td>\n",
       "    </tr>\n",
       "    <tr>\n",
       "      <th>18</th>\n",
       "      <td>f_limeng_status</td>\n",
       "    </tr>\n",
       "    <tr>\n",
       "      <th>19</th>\n",
       "      <td>f_mobile_trans</td>\n",
       "    </tr>\n",
       "    <tr>\n",
       "      <th>20</th>\n",
       "      <td>f_crowd_trans</td>\n",
       "    </tr>\n",
       "    <tr>\n",
       "      <th>21</th>\n",
       "      <td>f_trans_total_scaled</td>\n",
       "    </tr>\n",
       "    <tr>\n",
       "      <th>22</th>\n",
       "      <td>f_sngpnt_comp</td>\n",
       "    </tr>\n",
       "  </tbody>\n",
       "</table>\n",
       "</div>"
      ],
      "text/plain": [
       "                    features\n",
       "rank                        \n",
       "1            rank_svi_scaled\n",
       "2        f_soci_total_scaled\n",
       "3                 f_pov_soci\n",
       "4            f_minrty_status\n",
       "5     all_flags_total_scaled\n",
       "6             f_groupq_trans\n",
       "7               f_age17_comp\n",
       "8        f_comp_total_scaled\n",
       "9              f_munit_trans\n",
       "10              f_age65_comp\n",
       "11              f_unemp_soci\n",
       "12                f_pci_soci\n",
       "13             f_noveh_trans\n",
       "14             f_nohsdp_soci\n",
       "15             f_disabl_comp\n",
       "16     f_status_total_scaled\n",
       "17                   raw_svi\n",
       "18           f_limeng_status\n",
       "19            f_mobile_trans\n",
       "20             f_crowd_trans\n",
       "21      f_trans_total_scaled\n",
       "22             f_sngpnt_comp"
      ]
     },
     "execution_count": 28,
     "metadata": {},
     "output_type": "execute_result"
    }
   ],
   "source": [
    "rankdf"
   ]
  },
  {
   "cell_type": "code",
   "execution_count": 29,
   "metadata": {},
   "outputs": [
    {
     "data": {
      "text/html": [
       "<div>\n",
       "<style scoped>\n",
       "    .dataframe tbody tr th:only-of-type {\n",
       "        vertical-align: middle;\n",
       "    }\n",
       "\n",
       "    .dataframe tbody tr th {\n",
       "        vertical-align: top;\n",
       "    }\n",
       "\n",
       "    .dataframe thead th {\n",
       "        text-align: right;\n",
       "    }\n",
       "</style>\n",
       "<table border=\"1\" class=\"dataframe\">\n",
       "  <thead>\n",
       "    <tr style=\"text-align: right;\">\n",
       "      <th></th>\n",
       "      <th>features</th>\n",
       "      <th>coefs</th>\n",
       "      <th>abs_coefs</th>\n",
       "    </tr>\n",
       "  </thead>\n",
       "  <tbody>\n",
       "    <tr>\n",
       "      <th>21</th>\n",
       "      <td>rank_svi_scaled</td>\n",
       "      <td>-1219.808155</td>\n",
       "      <td>1219.808155</td>\n",
       "    </tr>\n",
       "    <tr>\n",
       "      <th>9</th>\n",
       "      <td>f_minrty_status</td>\n",
       "      <td>771.683306</td>\n",
       "      <td>771.683306</td>\n",
       "    </tr>\n",
       "    <tr>\n",
       "      <th>2</th>\n",
       "      <td>f_unemp_soci</td>\n",
       "      <td>642.560628</td>\n",
       "      <td>642.560628</td>\n",
       "    </tr>\n",
       "    <tr>\n",
       "      <th>6</th>\n",
       "      <td>f_age17_comp</td>\n",
       "      <td>-600.677938</td>\n",
       "      <td>600.677938</td>\n",
       "    </tr>\n",
       "    <tr>\n",
       "      <th>15</th>\n",
       "      <td>f_groupq_trans</td>\n",
       "      <td>535.613870</td>\n",
       "      <td>535.613870</td>\n",
       "    </tr>\n",
       "    <tr>\n",
       "      <th>3</th>\n",
       "      <td>f_pci_soci</td>\n",
       "      <td>463.691305</td>\n",
       "      <td>463.691305</td>\n",
       "    </tr>\n",
       "    <tr>\n",
       "      <th>14</th>\n",
       "      <td>f_noveh_trans</td>\n",
       "      <td>-349.351340</td>\n",
       "      <td>349.351340</td>\n",
       "    </tr>\n",
       "    <tr>\n",
       "      <th>1</th>\n",
       "      <td>f_pov_soci</td>\n",
       "      <td>-266.441669</td>\n",
       "      <td>266.441669</td>\n",
       "    </tr>\n",
       "    <tr>\n",
       "      <th>5</th>\n",
       "      <td>f_age65_comp</td>\n",
       "      <td>-242.493153</td>\n",
       "      <td>242.493153</td>\n",
       "    </tr>\n",
       "    <tr>\n",
       "      <th>4</th>\n",
       "      <td>f_nohsdp_soci</td>\n",
       "      <td>219.578178</td>\n",
       "      <td>219.578178</td>\n",
       "    </tr>\n",
       "    <tr>\n",
       "      <th>7</th>\n",
       "      <td>f_disabl_comp</td>\n",
       "      <td>163.261302</td>\n",
       "      <td>163.261302</td>\n",
       "    </tr>\n",
       "    <tr>\n",
       "      <th>11</th>\n",
       "      <td>f_munit_trans</td>\n",
       "      <td>156.423956</td>\n",
       "      <td>156.423956</td>\n",
       "    </tr>\n",
       "    <tr>\n",
       "      <th>12</th>\n",
       "      <td>f_mobile_trans</td>\n",
       "      <td>-91.040335</td>\n",
       "      <td>91.040335</td>\n",
       "    </tr>\n",
       "    <tr>\n",
       "      <th>13</th>\n",
       "      <td>f_crowd_trans</td>\n",
       "      <td>0.000000</td>\n",
       "      <td>0.000000</td>\n",
       "    </tr>\n",
       "    <tr>\n",
       "      <th>10</th>\n",
       "      <td>f_limeng_status</td>\n",
       "      <td>0.000000</td>\n",
       "      <td>0.000000</td>\n",
       "    </tr>\n",
       "    <tr>\n",
       "      <th>8</th>\n",
       "      <td>f_sngpnt_comp</td>\n",
       "      <td>0.000000</td>\n",
       "      <td>0.000000</td>\n",
       "    </tr>\n",
       "    <tr>\n",
       "      <th>16</th>\n",
       "      <td>f_soci_total_scaled</td>\n",
       "      <td>0.000000</td>\n",
       "      <td>0.000000</td>\n",
       "    </tr>\n",
       "    <tr>\n",
       "      <th>17</th>\n",
       "      <td>f_comp_total_scaled</td>\n",
       "      <td>0.000000</td>\n",
       "      <td>0.000000</td>\n",
       "    </tr>\n",
       "    <tr>\n",
       "      <th>18</th>\n",
       "      <td>f_status_total_scaled</td>\n",
       "      <td>0.000000</td>\n",
       "      <td>0.000000</td>\n",
       "    </tr>\n",
       "    <tr>\n",
       "      <th>19</th>\n",
       "      <td>f_trans_total_scaled</td>\n",
       "      <td>0.000000</td>\n",
       "      <td>0.000000</td>\n",
       "    </tr>\n",
       "    <tr>\n",
       "      <th>20</th>\n",
       "      <td>all_flags_total_scaled</td>\n",
       "      <td>0.000000</td>\n",
       "      <td>0.000000</td>\n",
       "    </tr>\n",
       "    <tr>\n",
       "      <th>0</th>\n",
       "      <td>raw_svi</td>\n",
       "      <td>0.000000</td>\n",
       "      <td>0.000000</td>\n",
       "    </tr>\n",
       "  </tbody>\n",
       "</table>\n",
       "</div>"
      ],
      "text/plain": [
       "                  features        coefs    abs_coefs\n",
       "21         rank_svi_scaled -1219.808155  1219.808155\n",
       "9          f_minrty_status   771.683306   771.683306\n",
       "2             f_unemp_soci   642.560628   642.560628\n",
       "6             f_age17_comp  -600.677938   600.677938\n",
       "15          f_groupq_trans   535.613870   535.613870\n",
       "3               f_pci_soci   463.691305   463.691305\n",
       "14           f_noveh_trans  -349.351340   349.351340\n",
       "1               f_pov_soci  -266.441669   266.441669\n",
       "5             f_age65_comp  -242.493153   242.493153\n",
       "4            f_nohsdp_soci   219.578178   219.578178\n",
       "7            f_disabl_comp   163.261302   163.261302\n",
       "11           f_munit_trans   156.423956   156.423956\n",
       "12          f_mobile_trans   -91.040335    91.040335\n",
       "13           f_crowd_trans     0.000000     0.000000\n",
       "10         f_limeng_status     0.000000     0.000000\n",
       "8            f_sngpnt_comp     0.000000     0.000000\n",
       "16     f_soci_total_scaled     0.000000     0.000000\n",
       "17     f_comp_total_scaled     0.000000     0.000000\n",
       "18   f_status_total_scaled     0.000000     0.000000\n",
       "19    f_trans_total_scaled     0.000000     0.000000\n",
       "20  all_flags_total_scaled     0.000000     0.000000\n",
       "0                  raw_svi     0.000000     0.000000"
      ]
     },
     "execution_count": 29,
     "metadata": {},
     "output_type": "execute_result"
    }
   ],
   "source": [
    "ll_result = pd.DataFrame()\n",
    "x_train_columns = X_train_scaled.columns.tolist()\n",
    "ll_result['features'] = x_train_columns\n",
    "ll_result['coefs'] = modelLL.coef_\n",
    "ll_result['abs_coefs'] = abs(modelLL.coef_)\n",
    "ll_result.sort_values(by = 'abs_coefs', ascending = False)"
   ]
  },
  {
   "cell_type": "code",
   "execution_count": 30,
   "metadata": {},
   "outputs": [
    {
     "data": {
      "text/html": [
       "<div>\n",
       "<style scoped>\n",
       "    .dataframe tbody tr th:only-of-type {\n",
       "        vertical-align: middle;\n",
       "    }\n",
       "\n",
       "    .dataframe tbody tr th {\n",
       "        vertical-align: top;\n",
       "    }\n",
       "\n",
       "    .dataframe thead th {\n",
       "        text-align: right;\n",
       "    }\n",
       "</style>\n",
       "<table border=\"1\" class=\"dataframe\">\n",
       "  <thead>\n",
       "    <tr style=\"text-align: right;\">\n",
       "      <th></th>\n",
       "      <th>rank</th>\n",
       "      <th>features</th>\n",
       "    </tr>\n",
       "  </thead>\n",
       "  <tbody>\n",
       "    <tr>\n",
       "      <th>0</th>\n",
       "      <td>1</td>\n",
       "      <td>rank_svi_scaled</td>\n",
       "    </tr>\n",
       "    <tr>\n",
       "      <th>1</th>\n",
       "      <td>2</td>\n",
       "      <td>f_soci_total_scaled</td>\n",
       "    </tr>\n",
       "    <tr>\n",
       "      <th>2</th>\n",
       "      <td>3</td>\n",
       "      <td>f_pov_soci</td>\n",
       "    </tr>\n",
       "    <tr>\n",
       "      <th>3</th>\n",
       "      <td>4</td>\n",
       "      <td>f_minrty_status</td>\n",
       "    </tr>\n",
       "    <tr>\n",
       "      <th>4</th>\n",
       "      <td>5</td>\n",
       "      <td>all_flags_total_scaled</td>\n",
       "    </tr>\n",
       "    <tr>\n",
       "      <th>5</th>\n",
       "      <td>6</td>\n",
       "      <td>f_groupq_trans</td>\n",
       "    </tr>\n",
       "    <tr>\n",
       "      <th>6</th>\n",
       "      <td>7</td>\n",
       "      <td>f_age17_comp</td>\n",
       "    </tr>\n",
       "    <tr>\n",
       "      <th>7</th>\n",
       "      <td>8</td>\n",
       "      <td>f_comp_total_scaled</td>\n",
       "    </tr>\n",
       "    <tr>\n",
       "      <th>8</th>\n",
       "      <td>9</td>\n",
       "      <td>f_munit_trans</td>\n",
       "    </tr>\n",
       "    <tr>\n",
       "      <th>9</th>\n",
       "      <td>10</td>\n",
       "      <td>f_age65_comp</td>\n",
       "    </tr>\n",
       "    <tr>\n",
       "      <th>10</th>\n",
       "      <td>11</td>\n",
       "      <td>f_unemp_soci</td>\n",
       "    </tr>\n",
       "    <tr>\n",
       "      <th>11</th>\n",
       "      <td>12</td>\n",
       "      <td>f_pci_soci</td>\n",
       "    </tr>\n",
       "    <tr>\n",
       "      <th>12</th>\n",
       "      <td>13</td>\n",
       "      <td>f_noveh_trans</td>\n",
       "    </tr>\n",
       "    <tr>\n",
       "      <th>13</th>\n",
       "      <td>14</td>\n",
       "      <td>f_nohsdp_soci</td>\n",
       "    </tr>\n",
       "    <tr>\n",
       "      <th>14</th>\n",
       "      <td>15</td>\n",
       "      <td>f_disabl_comp</td>\n",
       "    </tr>\n",
       "    <tr>\n",
       "      <th>15</th>\n",
       "      <td>16</td>\n",
       "      <td>f_status_total_scaled</td>\n",
       "    </tr>\n",
       "    <tr>\n",
       "      <th>16</th>\n",
       "      <td>17</td>\n",
       "      <td>raw_svi</td>\n",
       "    </tr>\n",
       "    <tr>\n",
       "      <th>17</th>\n",
       "      <td>18</td>\n",
       "      <td>f_limeng_status</td>\n",
       "    </tr>\n",
       "    <tr>\n",
       "      <th>18</th>\n",
       "      <td>19</td>\n",
       "      <td>f_mobile_trans</td>\n",
       "    </tr>\n",
       "    <tr>\n",
       "      <th>19</th>\n",
       "      <td>20</td>\n",
       "      <td>f_crowd_trans</td>\n",
       "    </tr>\n",
       "    <tr>\n",
       "      <th>20</th>\n",
       "      <td>21</td>\n",
       "      <td>f_trans_total_scaled</td>\n",
       "    </tr>\n",
       "    <tr>\n",
       "      <th>21</th>\n",
       "      <td>22</td>\n",
       "      <td>f_sngpnt_comp</td>\n",
       "    </tr>\n",
       "  </tbody>\n",
       "</table>\n",
       "</div>"
      ],
      "text/plain": [
       "    rank                features\n",
       "0      1         rank_svi_scaled\n",
       "1      2     f_soci_total_scaled\n",
       "2      3              f_pov_soci\n",
       "3      4         f_minrty_status\n",
       "4      5  all_flags_total_scaled\n",
       "5      6          f_groupq_trans\n",
       "6      7            f_age17_comp\n",
       "7      8     f_comp_total_scaled\n",
       "8      9           f_munit_trans\n",
       "9     10            f_age65_comp\n",
       "10    11            f_unemp_soci\n",
       "11    12              f_pci_soci\n",
       "12    13           f_noveh_trans\n",
       "13    14           f_nohsdp_soci\n",
       "14    15           f_disabl_comp\n",
       "15    16   f_status_total_scaled\n",
       "16    17                 raw_svi\n",
       "17    18         f_limeng_status\n",
       "18    19          f_mobile_trans\n",
       "19    20           f_crowd_trans\n",
       "20    21    f_trans_total_scaled\n",
       "21    22           f_sngpnt_comp"
      ]
     },
     "execution_count": 30,
     "metadata": {},
     "output_type": "execute_result"
    }
   ],
   "source": [
    "rank_df = rankdf.copy()\n",
    "rank_df = rank_df.reset_index()\n",
    "rank_df"
   ]
  },
  {
   "cell_type": "code",
   "execution_count": 31,
   "metadata": {},
   "outputs": [
    {
     "ename": "KeyError",
     "evalue": "\"None of ['index'] are in the columns\"",
     "output_type": "error",
     "traceback": [
      "\u001b[0;31m---------------------------------------------------------------------------\u001b[0m",
      "\u001b[0;31mKeyError\u001b[0m                                  Traceback (most recent call last)",
      "\u001b[0;32m<ipython-input-31-03fca203fe43>\u001b[0m in \u001b[0;36m<module>\u001b[0;34m\u001b[0m\n\u001b[1;32m      1\u001b[0m \u001b[0mcomparison\u001b[0m \u001b[0;34m=\u001b[0m \u001b[0mpd\u001b[0m\u001b[0;34m.\u001b[0m\u001b[0mmerge\u001b[0m\u001b[0;34m(\u001b[0m\u001b[0mll_result\u001b[0m\u001b[0;34m,\u001b[0m \u001b[0mrank_df\u001b[0m\u001b[0;34m,\u001b[0m \u001b[0mon\u001b[0m \u001b[0;34m=\u001b[0m \u001b[0;34m'features'\u001b[0m\u001b[0;34m,\u001b[0m \u001b[0mhow\u001b[0m \u001b[0;34m=\u001b[0m \u001b[0;34m'inner'\u001b[0m\u001b[0;34m)\u001b[0m\u001b[0;34m\u001b[0m\u001b[0;34m\u001b[0m\u001b[0m\n\u001b[0;32m----> 2\u001b[0;31m \u001b[0mcomparison\u001b[0m \u001b[0;34m=\u001b[0m \u001b[0mcomparison\u001b[0m\u001b[0;34m.\u001b[0m\u001b[0mset_index\u001b[0m\u001b[0;34m(\u001b[0m\u001b[0;34m\"index\"\u001b[0m\u001b[0;34m)\u001b[0m\u001b[0;34m\u001b[0m\u001b[0;34m\u001b[0m\u001b[0m\n\u001b[0m",
      "\u001b[0;32m~/opt/anaconda3/lib/python3.7/site-packages/pandas/core/frame.py\u001b[0m in \u001b[0;36mset_index\u001b[0;34m(self, keys, drop, append, inplace, verify_integrity)\u001b[0m\n\u001b[1;32m   4549\u001b[0m \u001b[0;34m\u001b[0m\u001b[0m\n\u001b[1;32m   4550\u001b[0m         \u001b[0;32mif\u001b[0m \u001b[0mmissing\u001b[0m\u001b[0;34m:\u001b[0m\u001b[0;34m\u001b[0m\u001b[0;34m\u001b[0m\u001b[0m\n\u001b[0;32m-> 4551\u001b[0;31m             \u001b[0;32mraise\u001b[0m \u001b[0mKeyError\u001b[0m\u001b[0;34m(\u001b[0m\u001b[0;34mf\"None of {missing} are in the columns\"\u001b[0m\u001b[0;34m)\u001b[0m\u001b[0;34m\u001b[0m\u001b[0;34m\u001b[0m\u001b[0m\n\u001b[0m\u001b[1;32m   4552\u001b[0m \u001b[0;34m\u001b[0m\u001b[0m\n\u001b[1;32m   4553\u001b[0m         \u001b[0;32mif\u001b[0m \u001b[0minplace\u001b[0m\u001b[0;34m:\u001b[0m\u001b[0;34m\u001b[0m\u001b[0;34m\u001b[0m\u001b[0m\n",
      "\u001b[0;31mKeyError\u001b[0m: \"None of ['index'] are in the columns\""
     ]
    }
   ],
   "source": [
    "comparison = pd.merge(ll_result, rank_df, on = 'features', how = 'inner')\n",
    "comparison = comparison.set_index(\"index\")"
   ]
  },
  {
   "cell_type": "code",
   "execution_count": null,
   "metadata": {},
   "outputs": [],
   "source": [
    "comparison"
   ]
  },
  {
   "cell_type": "code",
   "execution_count": 32,
   "metadata": {},
   "outputs": [
    {
     "ename": "NameError",
     "evalue": "name 'rfe_ll_comp' is not defined",
     "output_type": "error",
     "traceback": [
      "\u001b[0;31m---------------------------------------------------------------------------\u001b[0m",
      "\u001b[0;31mNameError\u001b[0m                                 Traceback (most recent call last)",
      "\u001b[0;32m<ipython-input-32-7db707c47d34>\u001b[0m in \u001b[0;36m<module>\u001b[0;34m\u001b[0m\n\u001b[0;32m----> 1\u001b[0;31m \u001b[0mrfe_ll_comp\u001b[0m\u001b[0;34m.\u001b[0m\u001b[0msort_values\u001b[0m\u001b[0;34m(\u001b[0m\u001b[0mby\u001b[0m \u001b[0;34m=\u001b[0m \u001b[0;34m'abs_coefs'\u001b[0m\u001b[0;34m,\u001b[0m \u001b[0mascending\u001b[0m \u001b[0;34m=\u001b[0m \u001b[0;32mFalse\u001b[0m\u001b[0;34m)\u001b[0m\u001b[0;34m\u001b[0m\u001b[0;34m\u001b[0m\u001b[0m\n\u001b[0m",
      "\u001b[0;31mNameError\u001b[0m: name 'rfe_ll_comp' is not defined"
     ]
    }
   ],
   "source": [
    "rfe_ll_comp.sort_values(by = 'abs_coefs', ascending = False)"
   ]
  },
  {
   "cell_type": "code",
   "execution_count": null,
   "metadata": {},
   "outputs": [],
   "source": [
    "abs(ll_coef)"
   ]
  },
  {
   "cell_type": "code",
   "execution_count": null,
   "metadata": {},
   "outputs": [],
   "source": [
    "abs(modelLL.coef_)"
   ]
  },
  {
   "cell_type": "code",
   "execution_count": 33,
   "metadata": {},
   "outputs": [
    {
     "data": {
      "text/plain": [
       "array([    0.        ,  -266.44166894,   642.56062808,   463.69130524,\n",
       "         219.57817805,  -242.49315328,  -600.6779376 ,   163.26130203,\n",
       "           0.        ,   771.6833059 ,     0.        ,   156.42395614,\n",
       "         -91.04033532,     0.        ,  -349.35134   ,   535.61386987,\n",
       "           0.        ,     0.        ,     0.        ,     0.        ,\n",
       "           0.        , -1219.80815463])"
      ]
     },
     "execution_count": 33,
     "metadata": {},
     "output_type": "execute_result"
    }
   ],
   "source": [
    "modelLL.coef_"
   ]
  },
  {
   "cell_type": "code",
   "execution_count": 36,
   "metadata": {},
   "outputs": [],
   "source": [
    "m_log_alphas = -np.log10(modelLL.alphas_) # alpha contains the values of alpha through the model selection process."
   ]
  },
  {
   "cell_type": "code",
   "execution_count": 37,
   "metadata": {},
   "outputs": [],
   "source": [
    "import numpy as np"
   ]
  },
  {
   "cell_type": "code",
   "execution_count": 57,
   "metadata": {},
   "outputs": [
    {
     "data": {
      "text/plain": [
       "LassoLars(alpha=1)"
      ]
     },
     "execution_count": 57,
     "metadata": {},
     "output_type": "execute_result"
    }
   ],
   "source": [
    "modelLL"
   ]
  },
  {
   "cell_type": "code",
   "execution_count": 60,
   "metadata": {},
   "outputs": [
    {
     "data": {
      "text/plain": [
       "array([[ 0.00000000e+00,  2.13610954e+03,  3.31218060e+03,\n",
       "         3.22875706e+03,  3.02276415e+03,  2.11113458e+03,\n",
       "         2.03963999e+03,  1.96322014e+03,  1.74000054e+03,\n",
       "         1.63099031e+03,  9.12773546e+02, -1.13686838e-13,\n",
       "         0.00000000e+00,  0.00000000e+00,  0.00000000e+00,\n",
       "         0.00000000e+00,  0.00000000e+00,  0.00000000e+00],\n",
       "       [ 0.00000000e+00,  0.00000000e+00,  0.00000000e+00,\n",
       "         0.00000000e+00,  0.00000000e+00,  0.00000000e+00,\n",
       "         0.00000000e+00,  0.00000000e+00,  0.00000000e+00,\n",
       "         0.00000000e+00,  0.00000000e+00,  0.00000000e+00,\n",
       "         0.00000000e+00,  0.00000000e+00,  0.00000000e+00,\n",
       "        -1.47865546e+02, -7.51439672e+02, -1.33983862e+03],\n",
       "       [ 0.00000000e+00,  0.00000000e+00,  0.00000000e+00,\n",
       "         0.00000000e+00,  0.00000000e+00,  0.00000000e+00,\n",
       "         1.15853818e+02,  4.19403530e+02,  5.69840064e+02,\n",
       "         6.83501392e+02,  1.11092366e+03,  1.57057256e+03,\n",
       "         1.70507365e+03,  1.77708103e+03,  2.14774789e+03,\n",
       "         2.27644097e+03,  2.74042054e+03,  3.17905263e+03],\n",
       "       [ 0.00000000e+00,  0.00000000e+00,  0.00000000e+00,\n",
       "         0.00000000e+00,  0.00000000e+00,  0.00000000e+00,\n",
       "         0.00000000e+00,  2.86520949e+02,  3.31403661e+02,\n",
       "         4.17460743e+02,  7.74478676e+02,  1.18243118e+03,\n",
       "         1.30221068e+03,  1.35056078e+03,  1.59907571e+03,\n",
       "         1.72717606e+03,  2.23496811e+03,  2.69328516e+03],\n",
       "       [ 0.00000000e+00,  0.00000000e+00,  0.00000000e+00,\n",
       "         0.00000000e+00,  0.00000000e+00,  6.56379995e+02,\n",
       "         7.53172057e+02,  9.50374690e+02,  1.01553856e+03,\n",
       "         1.01978769e+03,  9.99856529e+02,  9.85585026e+02,\n",
       "         9.74760217e+02,  9.78516092e+02,  1.00123017e+03,\n",
       "         1.00678040e+03,  1.01923315e+03,  1.04933032e+03],\n",
       "       [ 0.00000000e+00,  0.00000000e+00,  0.00000000e+00,\n",
       "         0.00000000e+00,  0.00000000e+00,  0.00000000e+00,\n",
       "         0.00000000e+00,  0.00000000e+00,  0.00000000e+00,\n",
       "         0.00000000e+00,  0.00000000e+00,  0.00000000e+00,\n",
       "         0.00000000e+00,  0.00000000e+00, -2.45562848e+02,\n",
       "        -3.30965015e+02, -6.34710254e+02, -9.42739870e+02],\n",
       "       [ 0.00000000e+00,  0.00000000e+00,  0.00000000e+00,\n",
       "         0.00000000e+00,  0.00000000e+00,  0.00000000e+00,\n",
       "         0.00000000e+00,  0.00000000e+00,  0.00000000e+00,\n",
       "        -1.70600666e+02, -8.17073242e+02, -1.54351467e+03,\n",
       "        -1.77752716e+03, -1.85366936e+03, -2.27231101e+03,\n",
       "        -2.37714266e+03, -2.72802064e+03, -3.06816303e+03],\n",
       "       [ 0.00000000e+00,  0.00000000e+00,  0.00000000e+00,\n",
       "         0.00000000e+00,  0.00000000e+00,  0.00000000e+00,\n",
       "         0.00000000e+00,  0.00000000e+00,  0.00000000e+00,\n",
       "         0.00000000e+00,  0.00000000e+00,  1.66857370e+02,\n",
       "         2.09955085e+02,  2.48316355e+02,  4.55948643e+02,\n",
       "         5.23065022e+02,  7.80178574e+02,  1.02421456e+03],\n",
       "       [ 0.00000000e+00,  0.00000000e+00,  0.00000000e+00,\n",
       "         0.00000000e+00,  0.00000000e+00,  0.00000000e+00,\n",
       "         0.00000000e+00,  0.00000000e+00,  0.00000000e+00,\n",
       "         0.00000000e+00,  0.00000000e+00,  0.00000000e+00,\n",
       "         0.00000000e+00,  0.00000000e+00,  0.00000000e+00,\n",
       "         0.00000000e+00,  0.00000000e+00,  0.00000000e+00],\n",
       "       [ 0.00000000e+00,  0.00000000e+00,  0.00000000e+00,\n",
       "         1.62990028e+03,  1.82240986e+03,  2.54609849e+03,\n",
       "         2.60368430e+03,  2.68062669e+03,  2.78597002e+03,\n",
       "         2.85665742e+03,  3.18920265e+03,  3.54024777e+03,\n",
       "         3.64501362e+03,  3.68164487e+03,  3.86897084e+03,\n",
       "         3.92195686e+03,  4.14670578e+03,  4.33213214e+03],\n",
       "       [ 0.00000000e+00,  0.00000000e+00,  0.00000000e+00,\n",
       "         0.00000000e+00,  0.00000000e+00,  0.00000000e+00,\n",
       "         0.00000000e+00,  0.00000000e+00,  0.00000000e+00,\n",
       "         0.00000000e+00,  0.00000000e+00,  0.00000000e+00,\n",
       "         0.00000000e+00,  0.00000000e+00,  0.00000000e+00,\n",
       "         0.00000000e+00,  0.00000000e+00,  0.00000000e+00],\n",
       "       [ 0.00000000e+00,  0.00000000e+00,  0.00000000e+00,\n",
       "         0.00000000e+00,  0.00000000e+00,  0.00000000e+00,\n",
       "         0.00000000e+00,  0.00000000e+00,  0.00000000e+00,\n",
       "         0.00000000e+00,  0.00000000e+00,  0.00000000e+00,\n",
       "         0.00000000e+00,  0.00000000e+00,  0.00000000e+00,\n",
       "         0.00000000e+00,  3.52668513e+02,  6.90289692e+02],\n",
       "       [ 0.00000000e+00,  0.00000000e+00,  0.00000000e+00,\n",
       "         0.00000000e+00,  0.00000000e+00,  0.00000000e+00,\n",
       "         0.00000000e+00,  0.00000000e+00,  0.00000000e+00,\n",
       "         0.00000000e+00,  0.00000000e+00,  0.00000000e+00,\n",
       "         0.00000000e+00,  0.00000000e+00,  0.00000000e+00,\n",
       "         0.00000000e+00,  0.00000000e+00, -3.08756021e+02],\n",
       "       [ 0.00000000e+00,  0.00000000e+00,  0.00000000e+00,\n",
       "         0.00000000e+00,  0.00000000e+00,  0.00000000e+00,\n",
       "         0.00000000e+00,  0.00000000e+00,  0.00000000e+00,\n",
       "         0.00000000e+00,  0.00000000e+00,  0.00000000e+00,\n",
       "         0.00000000e+00,  0.00000000e+00,  0.00000000e+00,\n",
       "         0.00000000e+00,  0.00000000e+00,  0.00000000e+00],\n",
       "       [ 0.00000000e+00,  0.00000000e+00,  0.00000000e+00,\n",
       "         0.00000000e+00,  0.00000000e+00,  0.00000000e+00,\n",
       "         0.00000000e+00,  0.00000000e+00,  0.00000000e+00,\n",
       "         0.00000000e+00,  0.00000000e+00,  0.00000000e+00,\n",
       "         0.00000000e+00, -1.47409671e+02, -8.92417149e+02,\n",
       "        -1.06439309e+03, -1.73377987e+03, -2.43793580e+03],\n",
       "       [ 0.00000000e+00,  0.00000000e+00,  0.00000000e+00,\n",
       "         0.00000000e+00,  0.00000000e+00,  0.00000000e+00,\n",
       "         0.00000000e+00,  0.00000000e+00,  0.00000000e+00,\n",
       "         0.00000000e+00,  4.44278764e+02,  9.51784017e+02,\n",
       "         1.10339981e+03,  1.17674256e+03,  1.59373625e+03,\n",
       "         1.72131625e+03,  2.15116689e+03,  2.55961626e+03],\n",
       "       [ 0.00000000e+00,  0.00000000e+00,  0.00000000e+00,\n",
       "         0.00000000e+00,  1.75916183e+02,  5.87387676e+02,\n",
       "         4.94499391e+02,  0.00000000e+00,  0.00000000e+00,\n",
       "         0.00000000e+00,  0.00000000e+00,  0.00000000e+00,\n",
       "         0.00000000e+00,  0.00000000e+00,  0.00000000e+00,\n",
       "         0.00000000e+00,  0.00000000e+00,  0.00000000e+00],\n",
       "       [ 0.00000000e+00,  0.00000000e+00,  0.00000000e+00,\n",
       "         0.00000000e+00,  0.00000000e+00,  0.00000000e+00,\n",
       "         0.00000000e+00,  0.00000000e+00,  0.00000000e+00,\n",
       "         0.00000000e+00,  0.00000000e+00,  0.00000000e+00,\n",
       "         0.00000000e+00,  0.00000000e+00,  0.00000000e+00,\n",
       "         0.00000000e+00,  0.00000000e+00,  0.00000000e+00],\n",
       "       [ 0.00000000e+00,  0.00000000e+00,  0.00000000e+00,\n",
       "         0.00000000e+00,  0.00000000e+00,  0.00000000e+00,\n",
       "         0.00000000e+00,  0.00000000e+00,  0.00000000e+00,\n",
       "         0.00000000e+00,  0.00000000e+00,  0.00000000e+00,\n",
       "         0.00000000e+00,  0.00000000e+00,  0.00000000e+00,\n",
       "         0.00000000e+00,  0.00000000e+00,  0.00000000e+00],\n",
       "       [ 0.00000000e+00,  0.00000000e+00,  0.00000000e+00,\n",
       "         0.00000000e+00,  0.00000000e+00,  0.00000000e+00,\n",
       "         0.00000000e+00,  0.00000000e+00,  0.00000000e+00,\n",
       "         0.00000000e+00,  0.00000000e+00,  0.00000000e+00,\n",
       "         0.00000000e+00,  0.00000000e+00,  0.00000000e+00,\n",
       "         0.00000000e+00,  0.00000000e+00,  0.00000000e+00],\n",
       "       [ 0.00000000e+00,  0.00000000e+00,  0.00000000e+00,\n",
       "         0.00000000e+00,  0.00000000e+00,  0.00000000e+00,\n",
       "         0.00000000e+00,  0.00000000e+00,  0.00000000e+00,\n",
       "         0.00000000e+00,  0.00000000e+00,  0.00000000e+00,\n",
       "         0.00000000e+00,  0.00000000e+00,  0.00000000e+00,\n",
       "         0.00000000e+00,  0.00000000e+00,  0.00000000e+00],\n",
       "       [ 0.00000000e+00,  0.00000000e+00, -1.17607106e+03,\n",
       "        -2.88076085e+03, -3.26111350e+03, -5.09313795e+03,\n",
       "        -5.21604121e+03, -5.35198007e+03, -5.63758278e+03,\n",
       "        -5.76702269e+03, -6.47532310e+03, -7.32316109e+03,\n",
       "        -7.33029957e+03, -7.36900774e+03, -7.55008402e+03,\n",
       "        -7.59313585e+03, -7.79359158e+03, -8.07919303e+03]])"
      ]
     },
     "execution_count": 60,
     "metadata": {},
     "output_type": "execute_result"
    }
   ],
   "source": [
    "modelLL.coef_path_"
   ]
  },
  {
   "cell_type": "code",
   "execution_count": 63,
   "metadata": {},
   "outputs": [
    {
     "data": {
      "text/plain": [
       "((22, 18), (18,))"
      ]
     },
     "execution_count": 63,
     "metadata": {},
     "output_type": "execute_result"
    }
   ],
   "source": [
    "modelLL.coef_path_.shape, modelLL.alphas_.shape"
   ]
  },
  {
   "cell_type": "code",
   "execution_count": null,
   "metadata": {},
   "outputs": [],
   "source": []
  },
  {
   "cell_type": "code",
   "execution_count": null,
   "metadata": {},
   "outputs": [],
   "source": []
  },
  {
   "cell_type": "code",
   "execution_count": 54,
   "metadata": {},
   "outputs": [
    {
     "data": {
      "text/plain": [
       "(-1.6051837159435585, -0.0)"
      ]
     },
     "execution_count": 54,
     "metadata": {},
     "output_type": "execute_result"
    },
    {
     "data": {
      "image/png": "[encoded data removed]",
      "text/plain": [
       "<Figure size 432x288 with 1 Axes>"
      ]
     },
     "metadata": {
      "needs_background": "light"
     },
     "output_type": "display_data"
    }
   ],
   "source": [
    "# %matplotlib inline\n",
    "ax = plt.gca()\n",
    "\n",
    "m_log_alphas = -np.log10(modelLL.alphas_) # alpha contains the values of alpha through the model selection process.\n",
    "# plt.figure(figsize = (16, 9))\n",
    "plt.plot(m_log_alphas, modelLL.coef_path_.T) # change in regression coefficient\n",
    "np.shape(modelLL.coef_path_), np.shape(m_log_alphas)\n",
    "\n",
    "# plt.axvline(-np.log10(modelLL.alphas_), linestyle='--', color='k',\n",
    "#             label='alpha CV')\n",
    "\n",
    "plt.ylabel('Regression Coefficients')\n",
    "plt.xlabel('-log(alpha)')\n",
    "plt.title('Regression Coefficients Progression for Lasso Paths')\n",
    "ax.set_xlim(m_log_alphas.min(), m_log_alphas.max())\n",
    "# plt.show()"
   ]
  },
  {
   "cell_type": "code",
   "execution_count": 56,
   "metadata": {},
   "outputs": [
    {
     "data": {
      "text/plain": [
       "Text(0.5, 1.0, 'Regression Coefficients Progression for Lasso Paths')"
      ]
     },
     "execution_count": 56,
     "metadata": {},
     "output_type": "execute_result"
    },
    {
     "data": {
      "image/png": "[encoded data removed]",
      "text/plain": [
       "<Figure size 432x288 with 1 Axes>"
      ]
     },
     "metadata": {
      "needs_background": "light"
     },
     "output_type": "display_data"
    }
   ],
   "source": [
    "# %matplotlib inline\n",
    "ax = plt.gca()\n",
    "\n",
    "m_log_alphas_pos = np.log10(modelLL.alphas_) # alpha contains the values of alpha through the model selection process.\n",
    "# plt.figure(figsize = (16, 9))\n",
    "plt.plot(m_log_alphas_pos, modelLL.coef_path_.T) # change in regression coefficient\n",
    "np.shape(modelLL.coef_path_), np.shape(m_log_alphas_pos)\n",
    "\n",
    "# plt.axvline(-np.log10(modelLL.alphas_), linestyle='--', color='k',\n",
    "#             label='alpha CV')\n",
    "\n",
    "plt.ylabel('Regression Coefficients')\n",
    "plt.xlabel('-log(alpha)')\n",
    "plt.title('Regression Coefficients Progression for Lasso Paths')\n",
    "# ax.set_xlim(m_log_alphas_pos.min(), m_log_alphas_pos.max())\n",
    "# plt.show()"
   ]
  },
  {
   "cell_type": "code",
   "execution_count": null,
   "metadata": {},
   "outputs": [],
   "source": [
    "modelLL.alphas_"
   ]
  },
  {
   "cell_type": "code",
   "execution_count": null,
   "metadata": {},
   "outputs": [],
   "source": [
    "ll_paths = modelLL.coef_path_"
   ]
  },
  {
   "cell_type": "code",
   "execution_count": null,
   "metadata": {},
   "outputs": [],
   "source": [
    "import mglearn"
   ]
  },
  {
   "cell_type": "code",
   "execution_count": null,
   "metadata": {},
   "outputs": [],
   "source": [
    "mglearn.plots.plot_ridge_n_samples()"
   ]
  },
  {
   "cell_type": "code",
   "execution_count": null,
   "metadata": {},
   "outputs": [],
   "source": [
    "import matplotlib.pyplot as plt\n",
    "%matplotlib inline"
   ]
  },
  {
   "cell_type": "code",
   "execution_count": null,
   "metadata": {},
   "outputs": [],
   "source": [
    "plt.plot(modelLL.coef_, 's', label=\"Lasso alpha=1\")\n",
    "plt.plot(modelLL.coef_, '^', label=\"Lasso alpha=0.01\")\n",
    "plt.plot(modelLL.coef_, 'v', label=\"Lasso alpha=0.0001\")\n",
    "plt.xlabel('Log($\\\\lambda$)')\n",
    "plt.show()"
   ]
  },
  {
   "cell_type": "code",
   "execution_count": null,
   "metadata": {},
   "outputs": [],
   "source": [
    "modelLL.coef_"
   ]
  },
  {
   "cell_type": "code",
   "execution_count": null,
   "metadata": {},
   "outputs": [],
   "source": [
    "modelLL.coef_path_"
   ]
  },
  {
   "cell_type": "code",
   "execution_count": null,
   "metadata": {},
   "outputs": [],
   "source": [
    "# assuming you have variables X_train and lm\n",
    "pd.Series(dict(zip(X_train_scaled.columns, modelLL.coef_.ravel()))).sort_values()"
   ]
  },
  {
   "cell_type": "code",
   "execution_count": null,
   "metadata": {},
   "outputs": [],
   "source": []
  },
  {
   "cell_type": "code",
   "execution_count": null,
   "metadata": {},
   "outputs": [],
   "source": []
  },
  {
   "cell_type": "code",
   "execution_count": null,
   "metadata": {},
   "outputs": [],
   "source": []
  },
  {
   "cell_type": "code",
   "execution_count": null,
   "metadata": {},
   "outputs": [],
   "source": []
  },
  {
   "cell_type": "code",
   "execution_count": null,
   "metadata": {},
   "outputs": [],
   "source": []
  },
  {
   "cell_type": "code",
   "execution_count": null,
   "metadata": {},
   "outputs": [],
   "source": []
  },
  {
   "cell_type": "code",
   "execution_count": null,
   "metadata": {},
   "outputs": [],
   "source": [
    "modelLL.intercept_"
   ]
  },
  {
   "cell_type": "code",
   "execution_count": null,
   "metadata": {},
   "outputs": [],
   "source": [
    "modelLL.n_iter_"
   ]
  },
  {
   "cell_type": "code",
   "execution_count": null,
   "metadata": {},
   "outputs": [],
   "source": [
    "modelLL.alphas_"
   ]
  },
  {
   "cell_type": "code",
   "execution_count": null,
   "metadata": {},
   "outputs": [],
   "source": [
    "modelLL.alphas_.shape, modelLL.coef_path_.shape"
   ]
  },
  {
   "cell_type": "code",
   "execution_count": null,
   "metadata": {},
   "outputs": [],
   "source": [
    "m_log_alphas = -np.log10(modelLL.alphas_)"
   ]
  },
  {
   "cell_type": "code",
   "execution_count": null,
   "metadata": {},
   "outputs": [],
   "source": [
    "modelLL.coef_.T.shape"
   ]
  },
  {
   "cell_type": "code",
   "execution_count": null,
   "metadata": {},
   "outputs": [],
   "source": []
  },
  {
   "cell_type": "code",
   "execution_count": null,
   "metadata": {},
   "outputs": [],
   "source": [
    "fig,ax = plt.subplots()\n",
    "ax.plot(m_log_alphas, modelLL.coef_.T)\n",
    "# Set log scale\n",
    "ax.set_xscale('log')\n",
    "# Make alpha decrease from left to right\n",
    "ax.set_xlim(alphas_.max(), alphas_.min())"
   ]
  },
  {
   "cell_type": "code",
   "execution_count": null,
   "metadata": {},
   "outputs": [],
   "source": [
    "# I need to figure out a way to plot an array of lists = this is what I need to create that nice line chart I wanted to make.\n",
    "\n",
    "modelLL.coef_path_[0].shape"
   ]
  },
  {
   "cell_type": "code",
   "execution_count": null,
   "metadata": {},
   "outputs": [],
   "source": [
    "modelLL.coef_path_"
   ]
  },
  {
   "cell_type": "code",
   "execution_count": null,
   "metadata": {},
   "outputs": [],
   "source": []
  },
  {
   "cell_type": "code",
   "execution_count": null,
   "metadata": {},
   "outputs": [],
   "source": []
  },
  {
   "cell_type": "code",
   "execution_count": null,
   "metadata": {},
   "outputs": [],
   "source": [
    "modelLL.coef_"
   ]
  },
  {
   "cell_type": "code",
   "execution_count": null,
   "metadata": {},
   "outputs": [],
   "source": [
    "from sklearn.linear_model import Lasso"
   ]
  },
  {
   "cell_type": "code",
   "execution_count": null,
   "metadata": {},
   "outputs": [],
   "source": [
    "model"
   ]
  },
  {
   "cell_type": "code",
   "execution_count": null,
   "metadata": {},
   "outputs": [],
   "source": []
  },
  {
   "cell_type": "code",
   "execution_count": null,
   "metadata": {},
   "outputs": [],
   "source": []
  },
  {
   "cell_type": "code",
   "execution_count": null,
   "metadata": {},
   "outputs": [],
   "source": []
  },
  {
   "cell_type": "code",
   "execution_count": null,
   "metadata": {},
   "outputs": [],
   "source": []
  },
  {
   "cell_type": "code",
   "execution_count": null,
   "metadata": {},
   "outputs": [],
   "source": []
  },
  {
   "cell_type": "code",
   "execution_count": null,
   "metadata": {},
   "outputs": [],
   "source": []
  },
  {
   "cell_type": "code",
   "execution_count": null,
   "metadata": {},
   "outputs": [],
   "source": [
    "import pandas as pd\n",
    "import numpy as np\n",
    "from sklearn import preprocessing\n",
    "from sklearn.model_selection import train_test_split\n",
    "from sklearn.pipeline import Pipeline\n",
    "from sklearn.impute import SimpleImputer\n",
    "from sklearn.preprocessing import StandardScaler\n",
    "from sklearn.compose import ColumnTransformer\n",
    "from sklearn.metrics import f1_score\n",
    "from sklearn.preprocessing import OneHotEncoder\n",
    "from sklearn.base import BaseEstimator, TransformerMixin\n",
    "from sklearn.metrics import classification_report\n",
    "from sklearn.linear_model import LogisticRegression\n",
    "import eli5"
   ]
  },
  {
   "cell_type": "code",
   "execution_count": null,
   "metadata": {},
   "outputs": [],
   "source": [
    "train_values = pd.read_csv('train_values.csv')\n",
    "train_labels = pd.read_csv('train_labels.csv')\n",
    "train_data = train_values.merge(train_labels, left_on='building_id', right_on='building_id')"
   ]
  },
  {
   "cell_type": "code",
   "execution_count": null,
   "metadata": {},
   "outputs": [],
   "source": [
    "train_data.dtypes"
   ]
  },
  {
   "cell_type": "code",
   "execution_count": null,
   "metadata": {},
   "outputs": [],
   "source": [
    "train_data = train_data.drop('building_id', axis=1)\n",
    "numeric_features = train_data.select_dtypes(include=['int64', 'float64']).drop(['damage_grade'], axis=1).columns\n",
    "categorical_features = train_data.select_dtypes(include=['object']).columns\n",
    "X = train_data.drop('damage_grade', axis=1)\n",
    "y = train_data['damage_grade']\n",
    "X_train, X_test, y_train, y_test = train_test_split(X, y, test_size=0.2)"
   ]
  },
  {
   "cell_type": "code",
   "execution_count": null,
   "metadata": {},
   "outputs": [],
   "source": [
    "numeric_transformer = Pipeline(steps=[\n",
    "    ('imputer', SimpleImputer(strategy='median')),\n",
    "    ('scaler', StandardScaler())])\n",
    "categorical_transformer = Pipeline(steps=[\n",
    "    ('imputer', SimpleImputer(strategy='constant', fill_value='missing')),\n",
    "    ('one_hot', OneHotEncoder())])\n",
    "preprocessor = ColumnTransformer(\n",
    "    transformers=[\n",
    "        ('num', numeric_transformer, numeric_features),\n",
    "        ('cat', categorical_transformer, categorical_features)\n",
    "    ])\n",
    "pipe = Pipeline(steps=[('preprocessor', preprocessor),\n",
    "                      ('classifier',  LogisticRegression(class_weight='balanced', random_state=0))])\n",
    "    \n",
    "model = pipe.fit(X_train, y_train)"
   ]
  },
  {
   "cell_type": "code",
   "execution_count": null,
   "metadata": {},
   "outputs": [],
   "source": [
    "target_names = y_test.unique().astype(str)\n",
    "y_pred = model.predict(X_test)\n",
    "print(classification_report(y_test, y_pred, target_names=target_names))"
   ]
  },
  {
   "cell_type": "code",
   "execution_count": null,
   "metadata": {},
   "outputs": [],
   "source": [
    "onehot_columns = list(pipe.named_steps['preprocessor'].named_transformers_['cat'].named_steps['one_hot'].get_feature_names(input_features=categorical_features))\n",
    "numeric_features_list = list(numeric_features)\n",
    "numeric_features_list.extend(onehot_columns)"
   ]
  },
  {
   "cell_type": "code",
   "execution_count": null,
   "metadata": {},
   "outputs": [],
   "source": [
    "eli5.explain_weights(pipe.named_steps['classifier'], top=50, feature_names=numeric_features_list)"
   ]
  },
  {
   "cell_type": "code",
   "execution_count": null,
   "metadata": {},
   "outputs": [],
   "source": [
    "numeric_features"
   ]
  },
  {
   "cell_type": "code",
   "execution_count": null,
   "metadata": {},
   "outputs": [],
   "source": []
  }
 ],
 "metadata": {
  "kernelspec": {
   "display_name": "Python 3",
   "language": "python",
   "name": "python3"
  },
  "language_info": {
   "codemirror_mode": {
    "name": "ipython",
    "version": 3
   },
   "file_extension": ".py",
   "mimetype": "text/x-python",
   "name": "python",
   "nbconvert_exporter": "python",
   "pygments_lexer": "ipython3",
   "version": "3.7.9"
  },
  "toc": {
   "base_numbering": 1,
   "nav_menu": {},
   "number_sections": true,
   "sideBar": true,
   "skip_h1_title": false,
   "title_cell": "Table of Contents",
   "title_sidebar": "Contents",
   "toc_cell": false,
   "toc_position": {},
   "toc_section_display": true,
   "toc_window_display": false
  }
 },
 "nbformat": 4,
 "nbformat_minor": 4
}
