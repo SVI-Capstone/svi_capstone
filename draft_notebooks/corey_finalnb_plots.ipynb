{
 "cells": [
  {
   "cell_type": "code",
   "execution_count": 17,
   "metadata": {},
   "outputs": [
    {
     "ename": "ModuleNotFoundError",
     "evalue": "No module named 'scripts_python'",
     "output_type": "error",
     "traceback": [
      "\u001b[0;31m---------------------------------------------------------------------------\u001b[0m",
      "\u001b[0;31mModuleNotFoundError\u001b[0m                       Traceback (most recent call last)",
      "\u001b[0;32m<ipython-input-17-71f74fa394eb>\u001b[0m in \u001b[0;36m<module>\u001b[0;34m\u001b[0m\n\u001b[1;32m      9\u001b[0m \u001b[0;31m#from scripts_python import wrangle\u001b[0m\u001b[0;34m\u001b[0m\u001b[0;34m\u001b[0m\u001b[0;34m\u001b[0m\u001b[0m\n\u001b[1;32m     10\u001b[0m \u001b[0;31m#from project1.lib.module import function\u001b[0m\u001b[0;34m\u001b[0m\u001b[0;34m\u001b[0m\u001b[0;34m\u001b[0m\u001b[0m\n\u001b[0;32m---> 11\u001b[0;31m \u001b[0;32mimport\u001b[0m \u001b[0mscripts_python\u001b[0m\u001b[0;34m.\u001b[0m\u001b[0mwrangle\u001b[0m\u001b[0;34m\u001b[0m\u001b[0;34m\u001b[0m\u001b[0m\n\u001b[0m\u001b[1;32m     12\u001b[0m \u001b[0;34m\u001b[0m\u001b[0m\n\u001b[1;32m     13\u001b[0m \u001b[0;32mimport\u001b[0m \u001b[0mwarnings\u001b[0m\u001b[0;34m\u001b[0m\u001b[0;34m\u001b[0m\u001b[0m\n",
      "\u001b[0;31mModuleNotFoundError\u001b[0m: No module named 'scripts_python'"
     ]
    }
   ],
   "source": [
    "import pandas as pd\n",
    "import matplotlib.pyplot as plt\n",
    "import seaborn as sns\n",
    "import numpy as np\n",
    "from scipy import stats\n",
    "from scipy.stats import f_oneway, kruskal\n",
    "from math import sqrt\n",
    "\n",
    "#from scripts_python import wrangle\n",
    "#from project1.lib.module import function\n",
    "import scripts_python.wrangle\n",
    "\n",
    "import warnings\n",
    "warnings.simplefilter(action='ignore', category=FutureWarning)\n",
    "pd.options.mode.chained_assignment = None  # default='warn'"
   ]
  },
  {
   "cell_type": "code",
   "execution_count": null,
   "metadata": {},
   "outputs": [],
   "source": []
  },
  {
   "cell_type": "markdown",
   "metadata": {},
   "source": [
    "# Plot #1:\n",
    "\n",
    "**In mvp-sa section Hypothesis testing, 1st plot, would like this side by side SA and Dallas\n",
    "explore.sns_boxplot(train_exp)**\n"
   ]
  },
  {
   "cell_type": "code",
   "execution_count": null,
   "metadata": {},
   "outputs": [],
   "source": [
    "\n",
    "fig, axes = plt.subplots(1,2, figsize=(18, 10))\n",
    "plt.suptitle('December 8th COVID-19 Cases per 100K by SVI Range Category', fontsize=30, fontweight = 'bold')\n",
    "axes[0].set_title('San Antonio, TX')\n",
    "axes[1].set_title('Dallas, TX')\n",
    "\n",
    "# San Antonio Data\n",
    "df, train_exp, X_train_scaled, y_train, X_test_scaled, y_test = wrangle.wrangle_data()\n",
    "ax1 = sns.boxplot(ax=axes[0], \n",
    "            data=train_exp, \n",
    "            x='bin_svi', \n",
    "            y='tract_cases_per_100k')\n",
    "ax1.set_ylim([-100, 10000])\n",
    "ax1.set_ylabel(\"Cases by Tract per 100k\",labelpad=20)\n",
    "ax1.set_xlabel(\"Binned SVI Groups\",labelpad=20)\n",
    "ax1.tick_params(axis ='x', labelsize ='small')\n",
    "\n",
    "\n",
    "#Dallas Data\n",
    "df, train_exp, X_train_scaled, y_train, X_test_scaled, y_test = wrangle.wrangle_dallas_data()\n",
    "ax2 = sns.boxplot(ax=axes[1], \n",
    "            data=train_exp, \n",
    "            x='bin_svi', \n",
    "            y='tract_cases_per_100k')\n",
    "ax2.set_ylim([-100, 10000])\n",
    "ax2.yaxis.set_visible(False)\n",
    "ax2.tick_params(axis ='x', labelsize ='small')\n",
    "ax2.set_xlabel(\"Binned SVI Groups\",labelpad=20)\n",
    "\n",
    "plt.show()"
   ]
  },
  {
   "cell_type": "markdown",
   "metadata": {},
   "source": [
    "# Plot # 2:\n",
    "**same with 2nd plot in that section\n",
    "explore.joint_plot_index('raw_svi','tract_cases_per_100k', train_exp, 'bin_svi')**"
   ]
  },
  {
   "cell_type": "code",
   "execution_count": null,
   "metadata": {},
   "outputs": [],
   "source": [
    "\n",
    "fig, axes = plt.subplots(1,2, figsize=(18, 10))\n",
    "plt.suptitle('Distribution of Cases and SVI Score', fontsize=30, fontweight = 'bold')\n",
    "axes[0].set_title('San Antonio, TX')\n",
    "axes[1].set_title('Dallas, TX')\n",
    "\n",
    "# San Antonio Data\n",
    "df, train_exp, X_train_scaled, y_train, X_test_scaled, y_test = wrangle.wrangle_data()\n",
    "ax1 = sns.scatterplot(ax = axes[0],\n",
    "                      x = 'raw_svi', \n",
    "                      y = 'tract_cases_per_100k', \n",
    "                      data = train_exp, \n",
    "                      hue = 'bin_svi')\n",
    "ax1.set_ylim([-500,12000])\n",
    "ax1.set_ylabel(\"Cases by Tract per 100k\",labelpad=20)\n",
    "ax1.set_xlabel(\"SVI Index Value\",labelpad=20)\n",
    "ax1.tick_params(axis ='x', labelsize ='small')\n",
    "\n",
    "\n",
    "#Dallas Data\n",
    "df, train_exp, X_train_scaled, y_train, X_test_scaled, y_test = wrangle.wrangle_dallas_data()\n",
    "ax2 = sns.scatterplot(ax = axes[1],\n",
    "                      x = 'raw_svi', \n",
    "                      y = 'tract_cases_per_100k', \n",
    "                      data = train_exp, \n",
    "                      hue = 'bin_svi')\n",
    "ax2.set_ylim([-500,12000])\n",
    "ax2.yaxis.set_visible(False)\n",
    "ax2.tick_params(axis ='x', labelsize ='small')\n",
    "ax2.set_xlabel(\"SVI Index Value\",labelpad=20)\n",
    "\n",
    "plt.show()\n"
   ]
  },
  {
   "cell_type": "markdown",
   "metadata": {},
   "source": [
    "# Plot #3:\n",
    "\n",
    "**The the distribution of cases, explore.hist_case(train_exp.tract_cases_per_100k)**"
   ]
  },
  {
   "cell_type": "code",
   "execution_count": null,
   "metadata": {},
   "outputs": [],
   "source": [
    "## Code to Change\n",
    "fig, axes = plt.subplots(1,2, figsize=(18, 10))\n",
    "plt.suptitle('Distribution of Cases: December 8th 2020', fontsize=30, fontweight = 'bold')\n",
    "#axes[0].set_title('San Antonio, TX')\n",
    "#axes[1].set_title('Dallas, TX')\n",
    "\n",
    "# San Antonio Data\n",
    "df, train_exp, X_train_scaled, y_train, X_test_scaled, y_test = wrangle.wrangle_data()\n",
    "plt.subplot(1,2,1)\n",
    "ax1 = plt.hist(x = train_exp.tract_cases_per_100k, \n",
    "               bins = 10, color = 'gray', \n",
    "               edgecolor='k', \n",
    "               alpha=0.45)\n",
    "plt.title('San Antonio, TX')\n",
    "plt.xaxis(0, 100)\n",
    "plt.axvline(train_exp.tract_cases_per_100k.mean(), color = 'tab:orange', linestyle='dashed', linewidth=5)\n",
    "min_ylim_v, max_ylim_v = plt.ylim()\n",
    "plt.text(train_exp.tract_cases_per_100k.mean()*1.05, max_ylim_v*0.9, 'Mean: {:.2f}'.format(train_exp.tract_cases_per_100k.mean()))\n",
    "plt.grid(b = True, alpha = .45)\n",
    "\n",
    "\n",
    "#Dallas Data\n",
    "df, train_exp, X_train_scaled, y_train, X_test_scaled, y_test = wrangle.wrangle_dallas_data()\n",
    "plt.subplot(1,2,2)\n",
    "ax2 = plt.hist(x = train_exp.tract_cases_per_100k, \n",
    "               bins = 10, color = 'gray', \n",
    "               edgecolor='k', \n",
    "               alpha=0.45)\n",
    "plt.title('Dallas, TX')\n",
    "plt.xaxis(0, 100)\n",
    "plt.axvline(train_exp.tract_cases_per_100k.mean(), color = 'tab:orange', linestyle='dashed', linewidth=5)\n",
    "min_ylim_v, max_ylim_v = plt.ylim()\n",
    "plt.text(train_exp.tract_cases_per_100k.mean()*1.05, max_ylim_v*0.9, 'Mean: {:.2f}'.format(train_exp.tract_cases_per_100k.mean()))\n",
    "plt.grid(b = True, alpha = .45)\n",
    "plt.show()\n",
    "\n",
    "\n",
    "\n",
    "# plt.hist(x = series, bins = 10, color = 'gray', edgecolor='k', alpha=0.45)\n",
    "#     plt.title('Distribution of Cases in San Antonio, TX: December 8th 2020', y=1.02)\n",
    "#     plt.xlabel('Number of Cases per 100,000',labelpad=20)\n",
    "#     plt.ylabel('Tract Count',labelpad=20)\n",
    "#     plt.axvline(series.mean(), color = 'tab:orange', linestyle='dashed', linewidth=5)\n",
    "#     min_ylim_v, max_ylim_v = plt.ylim()\n",
    "#     plt.text(series.mean()*1.05, max_ylim_v*0.9, 'Mean: {:.2f}'.format(series.mean()))\n",
    "#     plt.grid(b = True, alpha = .45)"
   ]
  },
  {
   "cell_type": "code",
   "execution_count": null,
   "metadata": {},
   "outputs": [],
   "source": []
  }
 ],
 "metadata": {
  "kernelspec": {
   "display_name": "Python 3",
   "language": "python",
   "name": "python3"
  },
  "language_info": {
   "codemirror_mode": {
    "name": "ipython",
    "version": 3
   },
   "file_extension": ".py",
   "mimetype": "text/x-python",
   "name": "python",
   "nbconvert_exporter": "python",
   "pygments_lexer": "ipython3",
   "version": "3.8.5"
  }
 },
 "nbformat": 4,
 "nbformat_minor": 4
}
