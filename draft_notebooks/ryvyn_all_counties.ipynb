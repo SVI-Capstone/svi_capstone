{
 "cells": [
  {
   "cell_type": "code",
   "execution_count": 1,
   "metadata": {},
   "outputs": [],
   "source": [
    "import pandas as pd\n",
    "import acquire\n",
    "import wrangle\n",
    "import acquire_all_counties\n",
    "import prepare_counties"
   ]
  },
  {
   "cell_type": "code",
   "execution_count": null,
   "metadata": {},
   "outputs": [],
   "source": [
    "df = acquire_all_counties.get_countylevelonly_data()"
   ]
  },
  {
   "cell_type": "code",
   "execution_count": null,
   "metadata": {},
   "outputs": [],
   "source": [
    "df = prepare_counties.prepare_countylevelonly_data(df)"
   ]
  },
  {
   "cell_type": "code",
   "execution_count": null,
   "metadata": {},
   "outputs": [],
   "source": [
    "df.head()"
   ]
  },
  {
   "cell_type": "code",
   "execution_count": 2,
   "metadata": {},
   "outputs": [
    {
     "name": "stdout",
     "output_type": "stream",
     "text": [
      "Enter the requested date in YYYY-MM-DD format: 2020-12-08\n",
      "Enter the requested state full name: texas\n",
      "(254, 123)\n",
      "(254, 6)\n",
      "(254, 128)\n",
      "(203, 29) (51, 29)\n"
     ]
    }
   ],
   "source": [
    "df, train_exp, X_train_scaled, y_train, X_test_scaled, y_test = wrangle.wrangle_countylevelonly_data()\n"
   ]
  },
  {
   "cell_type": "code",
   "execution_count": 3,
   "metadata": {},
   "outputs": [
    {
     "data": {
      "text/html": [
       "<div>\n",
       "<style scoped>\n",
       "    .dataframe tbody tr th:only-of-type {\n",
       "        vertical-align: middle;\n",
       "    }\n",
       "\n",
       "    .dataframe tbody tr th {\n",
       "        vertical-align: top;\n",
       "    }\n",
       "\n",
       "    .dataframe thead th {\n",
       "        text-align: right;\n",
       "    }\n",
       "</style>\n",
       "<table border=\"1\" class=\"dataframe\">\n",
       "  <thead>\n",
       "    <tr style=\"text-align: right;\">\n",
       "      <th></th>\n",
       "      <th>county</th>\n",
       "      <th>e_totpop</th>\n",
       "      <th>raw_svi</th>\n",
       "      <th>f_pov_soci</th>\n",
       "      <th>f_unemp_soci</th>\n",
       "      <th>f_pci_soci</th>\n",
       "      <th>f_nohsdp_soci</th>\n",
       "      <th>f_soci_total</th>\n",
       "      <th>f_age65_comp</th>\n",
       "      <th>f_age17_comp</th>\n",
       "      <th>...</th>\n",
       "      <th>f_groupq_trans</th>\n",
       "      <th>f_trans_total</th>\n",
       "      <th>all_flags_total</th>\n",
       "      <th>cases</th>\n",
       "      <th>state_pop</th>\n",
       "      <th>pop_percentage</th>\n",
       "      <th>calculated_cases</th>\n",
       "      <th>cases_per_100k</th>\n",
       "      <th>bin_svi</th>\n",
       "      <th>rank_svi</th>\n",
       "    </tr>\n",
       "  </thead>\n",
       "  <tbody>\n",
       "    <tr>\n",
       "      <th>250</th>\n",
       "      <td>Zapata</td>\n",
       "      <td>14369</td>\n",
       "      <td>0.9895</td>\n",
       "      <td>1</td>\n",
       "      <td>1</td>\n",
       "      <td>1</td>\n",
       "      <td>1</td>\n",
       "      <td>4</td>\n",
       "      <td>0</td>\n",
       "      <td>1</td>\n",
       "      <td>...</td>\n",
       "      <td>0</td>\n",
       "      <td>2</td>\n",
       "      <td>10</td>\n",
       "      <td>591</td>\n",
       "      <td>27885195</td>\n",
       "      <td>0.000515</td>\n",
       "      <td>708.665777</td>\n",
       "      <td>4113.021087</td>\n",
       "      <td>High</td>\n",
       "      <td>1</td>\n",
       "    </tr>\n",
       "    <tr>\n",
       "      <th>59</th>\n",
       "      <td>Eastland</td>\n",
       "      <td>18270</td>\n",
       "      <td>0.8067</td>\n",
       "      <td>0</td>\n",
       "      <td>0</td>\n",
       "      <td>0</td>\n",
       "      <td>0</td>\n",
       "      <td>0</td>\n",
       "      <td>0</td>\n",
       "      <td>0</td>\n",
       "      <td>...</td>\n",
       "      <td>0</td>\n",
       "      <td>0</td>\n",
       "      <td>1</td>\n",
       "      <td>431</td>\n",
       "      <td>27885195</td>\n",
       "      <td>0.000655</td>\n",
       "      <td>901.059485</td>\n",
       "      <td>2359.058566</td>\n",
       "      <td>High</td>\n",
       "      <td>1</td>\n",
       "    </tr>\n",
       "    <tr>\n",
       "      <th>57</th>\n",
       "      <td>Dickens</td>\n",
       "      <td>2216</td>\n",
       "      <td>0.8796</td>\n",
       "      <td>0</td>\n",
       "      <td>1</td>\n",
       "      <td>0</td>\n",
       "      <td>0</td>\n",
       "      <td>1</td>\n",
       "      <td>0</td>\n",
       "      <td>0</td>\n",
       "      <td>...</td>\n",
       "      <td>0</td>\n",
       "      <td>0</td>\n",
       "      <td>1</td>\n",
       "      <td>71</td>\n",
       "      <td>27885195</td>\n",
       "      <td>0.000079</td>\n",
       "      <td>109.291068</td>\n",
       "      <td>3203.971119</td>\n",
       "      <td>High</td>\n",
       "      <td>1</td>\n",
       "    </tr>\n",
       "    <tr>\n",
       "      <th>113</th>\n",
       "      <td>Coryell</td>\n",
       "      <td>75389</td>\n",
       "      <td>0.7809</td>\n",
       "      <td>0</td>\n",
       "      <td>1</td>\n",
       "      <td>0</td>\n",
       "      <td>0</td>\n",
       "      <td>1</td>\n",
       "      <td>0</td>\n",
       "      <td>0</td>\n",
       "      <td>...</td>\n",
       "      <td>1</td>\n",
       "      <td>1</td>\n",
       "      <td>2</td>\n",
       "      <td>2667</td>\n",
       "      <td>27885195</td>\n",
       "      <td>0.002704</td>\n",
       "      <td>3718.115681</td>\n",
       "      <td>3537.651382</td>\n",
       "      <td>High</td>\n",
       "      <td>1</td>\n",
       "    </tr>\n",
       "    <tr>\n",
       "      <th>148</th>\n",
       "      <td>Dallam</td>\n",
       "      <td>7243</td>\n",
       "      <td>0.5503</td>\n",
       "      <td>0</td>\n",
       "      <td>0</td>\n",
       "      <td>0</td>\n",
       "      <td>1</td>\n",
       "      <td>1</td>\n",
       "      <td>0</td>\n",
       "      <td>1</td>\n",
       "      <td>...</td>\n",
       "      <td>0</td>\n",
       "      <td>0</td>\n",
       "      <td>3</td>\n",
       "      <td>436</td>\n",
       "      <td>27885195</td>\n",
       "      <td>0.000260</td>\n",
       "      <td>357.218054</td>\n",
       "      <td>6019.605136</td>\n",
       "      <td>Moderate High</td>\n",
       "      <td>2</td>\n",
       "    </tr>\n",
       "  </tbody>\n",
       "</table>\n",
       "<p>5 rows × 30 columns</p>\n",
       "</div>"
      ],
      "text/plain": [
       "       county  e_totpop  raw_svi  f_pov_soci  f_unemp_soci  f_pci_soci  \\\n",
       "250    Zapata     14369   0.9895           1             1           1   \n",
       "59   Eastland     18270   0.8067           0             0           0   \n",
       "57    Dickens      2216   0.8796           0             1           0   \n",
       "113   Coryell     75389   0.7809           0             1           0   \n",
       "148    Dallam      7243   0.5503           0             0           0   \n",
       "\n",
       "     f_nohsdp_soci  f_soci_total  f_age65_comp  f_age17_comp  ...  \\\n",
       "250              1             4             0             1  ...   \n",
       "59               0             0             0             0  ...   \n",
       "57               0             1             0             0  ...   \n",
       "113              0             1             0             0  ...   \n",
       "148              1             1             0             1  ...   \n",
       "\n",
       "     f_groupq_trans  f_trans_total  all_flags_total  cases  state_pop  \\\n",
       "250               0              2               10    591   27885195   \n",
       "59                0              0                1    431   27885195   \n",
       "57                0              0                1     71   27885195   \n",
       "113               1              1                2   2667   27885195   \n",
       "148               0              0                3    436   27885195   \n",
       "\n",
       "     pop_percentage  calculated_cases  cases_per_100k        bin_svi  rank_svi  \n",
       "250        0.000515        708.665777     4113.021087           High         1  \n",
       "59         0.000655        901.059485     2359.058566           High         1  \n",
       "57         0.000079        109.291068     3203.971119           High         1  \n",
       "113        0.002704       3718.115681     3537.651382           High         1  \n",
       "148        0.000260        357.218054     6019.605136  Moderate High         2  \n",
       "\n",
       "[5 rows x 30 columns]"
      ]
     },
     "execution_count": 3,
     "metadata": {},
     "output_type": "execute_result"
    }
   ],
   "source": [
    "train_exp.head()"
   ]
  },
  {
   "cell_type": "code",
   "execution_count": null,
   "metadata": {},
   "outputs": [],
   "source": []
  },
  {
   "cell_type": "code",
   "execution_count": null,
   "metadata": {},
   "outputs": [],
   "source": [
    "svidf, casesdf, zipsdf, cpopdf = acquire_all_counties.get_county_data()"
   ]
  },
  {
   "cell_type": "code",
   "execution_count": null,
   "metadata": {},
   "outputs": [],
   "source": [
    "svidf.head()"
   ]
  },
  {
   "cell_type": "code",
   "execution_count": null,
   "metadata": {},
   "outputs": [],
   "source": [
    "casesdf"
   ]
  },
  {
   "cell_type": "code",
   "execution_count": null,
   "metadata": {},
   "outputs": [],
   "source": [
    "zipsdf"
   ]
  },
  {
   "cell_type": "code",
   "execution_count": null,
   "metadata": {},
   "outputs": [],
   "source": [
    "cpopdf"
   ]
  },
  {
   "cell_type": "code",
   "execution_count": null,
   "metadata": {},
   "outputs": [],
   "source": []
  },
  {
   "cell_type": "code",
   "execution_count": null,
   "metadata": {},
   "outputs": [],
   "source": [
    "cntysvi = pd.read_csv('SVI2018_US_COUNTY.csv')"
   ]
  },
  {
   "cell_type": "code",
   "execution_count": null,
   "metadata": {},
   "outputs": [],
   "source": [
    "cntysvi.shape"
   ]
  },
  {
   "cell_type": "code",
   "execution_count": null,
   "metadata": {},
   "outputs": [],
   "source": [
    "cntysvi = cntysvi[cntysvi.E_TOTPOP != 0]"
   ]
  },
  {
   "cell_type": "code",
   "execution_count": null,
   "metadata": {},
   "outputs": [],
   "source": [
    "cntysvi.head()"
   ]
  },
  {
   "cell_type": "code",
   "execution_count": null,
   "metadata": {},
   "outputs": [],
   "source": [
    "cntysvi.shape"
   ]
  },
  {
   "cell_type": "code",
   "execution_count": null,
   "metadata": {},
   "outputs": [],
   "source": [
    "casesdf = pd.read_csv('COVID20201208_county', index_col=0)"
   ]
  },
  {
   "cell_type": "code",
   "execution_count": null,
   "metadata": {},
   "outputs": [],
   "source": [
    "casesdf.head()"
   ]
  },
  {
   "cell_type": "code",
   "execution_count": null,
   "metadata": {},
   "outputs": [],
   "source": []
  },
  {
   "cell_type": "code",
   "execution_count": null,
   "metadata": {},
   "outputs": [],
   "source": [
    "# list of US zip codes with county and population, also includes county weights\n",
    "countydf = pd.read_csv('uszips.csv')"
   ]
  },
  {
   "cell_type": "code",
   "execution_count": null,
   "metadata": {},
   "outputs": [],
   "source": [
    "countydf"
   ]
  },
  {
   "cell_type": "code",
   "execution_count": null,
   "metadata": {},
   "outputs": [],
   "source": [
    "countydf[countydf.county_name == 'Bexar']\n",
    "# shows 70 zip codes for Bexar county"
   ]
  },
  {
   "cell_type": "code",
   "execution_count": null,
   "metadata": {},
   "outputs": [],
   "source": [
    "countydf[countydf.county_name == 'Dallas']\n",
    "# shows 117 rows for Dallas, other states have a Dallas county"
   ]
  },
  {
   "cell_type": "code",
   "execution_count": null,
   "metadata": {},
   "outputs": [],
   "source": [
    "# filter for Dallas county TX only\n",
    "countydf[(countydf.county_name == 'Dallas') & (countydf.state_id == 'TX')]"
   ]
  },
  {
   "cell_type": "code",
   "execution_count": null,
   "metadata": {},
   "outputs": [],
   "source": [
    "# unpack county weights?\n",
    "countydf.county_weights = countydf.county_weights.str.strip('{')\n",
    "countydf.county_weights = countydf.county_weights.str.strip('}')\n",
    "county_weightsdf = countydf.county_weights.str.split(',', expand=True)\n",
    "county_weightsdf.columns = ['zip1', 'zip2', 'zip3', 'zip4', 'zip5', 'zip6']\n",
    "\n",
    "tidy_df = pd.concat([countydf, county_weightsdf], axis=1).drop(columns='county_weights')\n",
    "tidy_df"
   ]
  },
  {
   "cell_type": "code",
   "execution_count": null,
   "metadata": {},
   "outputs": [],
   "source": [
    "tidy_df1 = tidy_df.zip1.str.split(':', expand=True)\n",
    "tidy_df1.columns = ['zip_1', 'zip_1prcnt']\n",
    "\n",
    "tidy_df1 = pd.concat([tidy_df, tidy_df1], axis=1).drop(columns='zip1')\n",
    "tidy_df1"
   ]
  },
  {
   "cell_type": "code",
   "execution_count": null,
   "metadata": {},
   "outputs": [],
   "source": [
    "tidy_df1.zip_1 = tidy_df1.zip_1.str.strip(\"'\")\n",
    "\n",
    "tidy_df2 = tidy_df1.zip2.str.split(':', expand=True)\n",
    "tidy_df2.columns = ['zip_2', 'zip_2prcnt']\n",
    "\n",
    "tidy_df2 = pd.concat([tidy_df1, tidy_df2], axis=1).drop(columns='zip2')\n",
    "tidy_df2"
   ]
  },
  {
   "cell_type": "code",
   "execution_count": null,
   "metadata": {},
   "outputs": [],
   "source": [
    "tidy_df2.zip_2 = tidy_df2.zip_2.str.strip(\"'\")\n",
    "\n",
    "tidy_df3 = tidy_df2.zip3.str.split(':', expand=True)\n",
    "tidy_df3.columns = ['zip_3', 'zip_3prcnt']\n",
    "\n",
    "tidy_df3 = pd.concat([tidy_df2, tidy_df3], axis=1).drop(columns='zip3')\n",
    "tidy_df3"
   ]
  },
  {
   "cell_type": "code",
   "execution_count": null,
   "metadata": {},
   "outputs": [],
   "source": [
    "tidy_df3.zip_3 = tidy_df3.zip_3.str.strip(\"'\")\n",
    "\n",
    "tidy_df4 = tidy_df3.zip4.str.split(':', expand=True)\n",
    "tidy_df4.columns = ['zip_4', 'zip_4prcnt']\n",
    "\n",
    "tidy_df4 = pd.concat([tidy_df3, tidy_df4], axis=1).drop(columns='zip4')\n",
    "tidy_df4"
   ]
  },
  {
   "cell_type": "code",
   "execution_count": null,
   "metadata": {},
   "outputs": [],
   "source": [
    "tidy_df4.to_csv('check_tidy.csv')"
   ]
  },
  {
   "cell_type": "code",
   "execution_count": null,
   "metadata": {},
   "outputs": [],
   "source": [
    "all_dates = pd.read_csv('us-counties_COVID_all_dates.csv')"
   ]
  },
  {
   "cell_type": "code",
   "execution_count": null,
   "metadata": {},
   "outputs": [],
   "source": [
    "all_dates.head()"
   ]
  },
  {
   "cell_type": "code",
   "execution_count": null,
   "metadata": {},
   "outputs": [],
   "source": [
    "all_counties20201208 = all_dates[all_dates.date == '2020-12-08']"
   ]
  },
  {
   "cell_type": "code",
   "execution_count": null,
   "metadata": {},
   "outputs": [],
   "source": [
    "all_counties20201208[all_counties20201208.county == 'Bexar']"
   ]
  },
  {
   "cell_type": "code",
   "execution_count": null,
   "metadata": {},
   "outputs": [],
   "source": [
    "all_counties20201208.to_csv('COVID20201208_county')"
   ]
  },
  {
   "cell_type": "code",
   "execution_count": null,
   "metadata": {},
   "outputs": [],
   "source": [
    "date1208 = pd.read_csv('COVID20201208_county', index_col = 0)"
   ]
  },
  {
   "cell_type": "code",
   "execution_count": null,
   "metadata": {},
   "outputs": [],
   "source": [
    "date1208"
   ]
  },
  {
   "cell_type": "code",
   "execution_count": null,
   "metadata": {},
   "outputs": [],
   "source": [
    "# merge zip to county for datae 12/8 ?? use inner join? will lose Puerto Rico I think\n",
    "# need to isolate to Texas? other states have a Dallas county\n",
    "zip_1208_county = pd.merge(countydf, date1208, left_on='county_name', right_on='county')"
   ]
  },
  {
   "cell_type": "code",
   "execution_count": null,
   "metadata": {},
   "outputs": [],
   "source": [
    "zip_1208_county.shape"
   ]
  },
  {
   "cell_type": "code",
   "execution_count": null,
   "metadata": {},
   "outputs": [],
   "source": [
    "zip_1208_county[zip_1208_county.county_name == 'Bexar']\n",
    "# good, still have 70 zip codes for Bexar"
   ]
  },
  {
   "cell_type": "code",
   "execution_count": null,
   "metadata": {},
   "outputs": [],
   "source": [
    "zip_1208_county[(zip_1208_county.county_name == 'Dallas') & (zip_1208_county.state_id == 'TX')]\n",
    "# good, still have 70 zip codes for Bexar"
   ]
  },
  {
   "cell_type": "code",
   "execution_count": null,
   "metadata": {},
   "outputs": [],
   "source": []
  },
  {
   "cell_type": "code",
   "execution_count": null,
   "metadata": {},
   "outputs": [],
   "source": []
  },
  {
   "cell_type": "code",
   "execution_count": null,
   "metadata": {},
   "outputs": [],
   "source": [
    "# test Dallas compile\n",
    "dallasdf = acquire.compile_dallas_data()"
   ]
  },
  {
   "cell_type": "code",
   "execution_count": null,
   "metadata": {},
   "outputs": [],
   "source": [
    "dallasdf.isna().sum()"
   ]
  },
  {
   "cell_type": "code",
   "execution_count": null,
   "metadata": {},
   "outputs": [],
   "source": [
    "dallasdf.shape"
   ]
  },
  {
   "cell_type": "code",
   "execution_count": null,
   "metadata": {},
   "outputs": [],
   "source": [
    "null_list = dallasdf[dallasdf.cases_per_100k.isna()].zip.tolist()"
   ]
  },
  {
   "cell_type": "code",
   "execution_count": null,
   "metadata": {},
   "outputs": [],
   "source": [
    "# there are 62 zip codes in the Dallas SVI that are not showing in the list of cases\n",
    "len(set(null_list))"
   ]
  },
  {
   "cell_type": "code",
   "execution_count": null,
   "metadata": {},
   "outputs": [],
   "source": [
    "set(null_list)"
   ]
  },
  {
   "cell_type": "code",
   "execution_count": null,
   "metadata": {},
   "outputs": [],
   "source": [
    "ddf = acquire.get_dallas_data()"
   ]
  },
  {
   "cell_type": "code",
   "execution_count": null,
   "metadata": {},
   "outputs": [],
   "source": [
    "ddf.info()"
   ]
  },
  {
   "cell_type": "code",
   "execution_count": null,
   "metadata": {},
   "outputs": [],
   "source": [
    "ddf"
   ]
  },
  {
   "cell_type": "code",
   "execution_count": null,
   "metadata": {},
   "outputs": [],
   "source": []
  },
  {
   "cell_type": "code",
   "execution_count": null,
   "metadata": {},
   "outputs": [],
   "source": []
  },
  {
   "cell_type": "code",
   "execution_count": null,
   "metadata": {},
   "outputs": [],
   "source": [
    "dsvi = acquire.get_dallas_svi_data()"
   ]
  },
  {
   "cell_type": "code",
   "execution_count": null,
   "metadata": {},
   "outputs": [],
   "source": [
    "dsvi.shape"
   ]
  },
  {
   "cell_type": "code",
   "execution_count": null,
   "metadata": {},
   "outputs": [],
   "source": [
    "svi_zip = pd.merge(dsvi, mer, on='tract', how='left')"
   ]
  },
  {
   "cell_type": "code",
   "execution_count": null,
   "metadata": {},
   "outputs": [],
   "source": [
    "svi_zip[svi_zip.zip.isna()]"
   ]
  },
  {
   "cell_type": "code",
   "execution_count": null,
   "metadata": {},
   "outputs": [],
   "source": [
    "mer = acquire.get_HUD(dsvi)"
   ]
  },
  {
   "cell_type": "code",
   "execution_count": null,
   "metadata": {},
   "outputs": [],
   "source": [
    "len(mer)"
   ]
  },
  {
   "cell_type": "code",
   "execution_count": null,
   "metadata": {},
   "outputs": [],
   "source": [
    "mer.head()"
   ]
  },
  {
   "cell_type": "code",
   "execution_count": null,
   "metadata": {},
   "outputs": [],
   "source": [
    "mer[mer.tract == 48113001701]"
   ]
  },
  {
   "cell_type": "code",
   "execution_count": null,
   "metadata": {},
   "outputs": [],
   "source": [
    "mer[mer.tract == 48113020700]"
   ]
  },
  {
   "cell_type": "code",
   "execution_count": null,
   "metadata": {},
   "outputs": [],
   "source": []
  }
 ],
 "metadata": {
  "kernelspec": {
   "display_name": "Python 3",
   "language": "python",
   "name": "python3"
  },
  "language_info": {
   "codemirror_mode": {
    "name": "ipython",
    "version": 3
   },
   "file_extension": ".py",
   "mimetype": "text/x-python",
   "name": "python",
   "nbconvert_exporter": "python",
   "pygments_lexer": "ipython3",
   "version": "3.7.9"
  },
  "toc": {
   "base_numbering": 1,
   "nav_menu": {},
   "number_sections": true,
   "sideBar": true,
   "skip_h1_title": false,
   "title_cell": "Table of Contents",
   "title_sidebar": "Contents",
   "toc_cell": false,
   "toc_position": {},
   "toc_section_display": true,
   "toc_window_display": false
  }
 },
 "nbformat": 4,
 "nbformat_minor": 4
}
