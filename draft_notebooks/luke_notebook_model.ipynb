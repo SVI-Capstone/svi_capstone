{
 "cells": [
  {
   "cell_type": "code",
   "execution_count": null,
   "metadata": {},
   "outputs": [],
   "source": [
    "# This is Luke's scratchpad notebook."
   ]
  },
  {
   "cell_type": "code",
   "execution_count": 1,
   "metadata": {},
   "outputs": [],
   "source": [
    "# Importing the libraries:\n",
    "import pandas as pd\n",
    "import numpy as np\n",
    "import math\n",
    "from scipy import stats\n",
    "\n",
    "# visualizing\n",
    "import seaborn as sns\n",
    "import matplotlib.pyplot as plt\n",
    "%matplotlib inline\n",
    "\n",
    "# plt.rc('figure', figsize=(13, 10))\n",
    "# plt.rc('font', size=14)\n",
    "\n",
    "# preparing\n",
    "import sklearn.preprocessing\n",
    "from sklearn.model_selection import train_test_split\n",
    "from sklearn.preprocessing import LabelEncoder\n",
    "from sklearn.preprocessing import MinMaxScaler\n",
    "from sklearn.impute import SimpleImputer\n",
    "from sklearn.preprocessing import OneHotEncoder\n",
    "\n",
    "# modeling and evaluating\n",
    "from sklearn.linear_model import LogisticRegression\n",
    "from sklearn.tree import DecisionTreeClassifier\n",
    "from sklearn.ensemble import RandomForestClassifier\n",
    "from sklearn.ensemble import RandomForestRegressor\n",
    "from sklearn.metrics import classification_report, confusion_matrix, precision_score, recall_score, accuracy_score\n",
    "from sklearn.metrics import confusion_matrix\n",
    "\n",
    "# turn off warnings\n",
    "import warnings\n",
    "warnings.filterwarnings(\"ignore\")\n",
    "\n",
    "# acquiring\n",
    "from pydataset import data"
   ]
  },
  {
   "cell_type": "markdown",
   "metadata": {},
   "source": [
    "### Data Prep"
   ]
  },
  {
   "cell_type": "code",
   "execution_count": 4,
   "metadata": {},
   "outputs": [],
   "source": [
    "from scripts_python import wrangle\n",
    "from scripts_python import explore\n",
    "from scripts_python import model_MAE, model_classification"
   ]
  },
  {
   "cell_type": "code",
   "execution_count": 3,
   "metadata": {},
   "outputs": [],
   "source": [
    "# import acquire\n",
    "# import prepare\n",
    "# import wrangle\n",
    "# import model_MAE"
   ]
  },
  {
   "cell_type": "markdown",
   "metadata": {},
   "source": [
    "# Moving into Explore"
   ]
  },
  {
   "cell_type": "markdown",
   "metadata": {},
   "source": [
    "- Where are the clusters of cases visually?\n",
    "- Where are the most dense clusters?\n",
    "- How to define dense vs not dense?\n",
    "- What are some other visually interesting things?\n",
    "    - Scatterplot of all cases?\n",
    "    - mapplot of svi by census tract?"
   ]
  },
  {
   "cell_type": "code",
   "execution_count": 11,
   "metadata": {},
   "outputs": [
    {
     "name": "stdout",
     "output_type": "stream",
     "text": [
      "Acquire: compiling raw data files...\n",
      "Acquire: Completed!\n",
      "Prepare: preparing data files...\n",
      "Prepare: Completed!\n",
      "(289, 25) (73, 25)\n"
     ]
    }
   ],
   "source": [
    "df, train_exp, X_train_scaled, y_train, X_test_scaled, y_test = wrangle.wrangle_data()"
   ]
  },
  {
   "cell_type": "markdown",
   "metadata": {},
   "source": [
    "### Cross Validation"
   ]
  },
  {
   "cell_type": "code",
   "execution_count": 12,
   "metadata": {},
   "outputs": [],
   "source": [
    "# loocv to manually evaluate the performance of a random forest classifier\n",
    "from sklearn.datasets import make_blobs\n",
    "from sklearn.model_selection import LeaveOneOut\n",
    "from sklearn.ensemble import RandomForestClassifier\n",
    "from sklearn.metrics import accuracy_score\n",
    "from numpy import mean, std, absolute\n",
    "from pandas import read_csv\n",
    "from sklearn.model_selection import cross_val_score\n",
    "from sklearn.ensemble import RandomForestRegressor"
   ]
  },
  {
   "cell_type": "code",
   "execution_count": 13,
   "metadata": {},
   "outputs": [
    {
     "name": "stdout",
     "output_type": "stream",
     "text": [
      "Accuracy: 0.990\n"
     ]
    }
   ],
   "source": [
    "\n",
    "# create dataset\n",
    "X, y = make_blobs(n_samples=100, random_state=1)\n",
    "# create loocv procedure\n",
    "cv = LeaveOneOut()\n",
    "# enumerate splits\n",
    "y_true, y_pred = list(), list()\n",
    "for train_ix, test_ix in cv.split(X):\n",
    "\t# split data\n",
    "\tX_train, X_test = X[train_ix, :], X[test_ix, :]\n",
    "\ty_train, y_test = y[train_ix], y[test_ix]\n",
    "\t# fit model\n",
    "\tmodel = RandomForestClassifier(random_state=1)\n",
    "\tmodel.fit(X_train, y_train)\n",
    "\t# evaluate model\n",
    "\tyhat = model.predict(X_test)\n",
    "\t# store\n",
    "\ty_true.append(y_test[0])\n",
    "\ty_pred.append(yhat[0])\n",
    "# calculate accuracy\n",
    "acc = accuracy_score(y_true, y_pred)\n",
    "print('Accuracy: %.3f' % acc)"
   ]
  },
  {
   "cell_type": "code",
   "execution_count": 14,
   "metadata": {},
   "outputs": [
    {
     "name": "stdout",
     "output_type": "stream",
     "text": [
      "Accuracy: 0.990 (0.099)\n"
     ]
    }
   ],
   "source": [
    "# loocv to automatically evaluate the performance of a random forest classifier\n",
    "from numpy import mean\n",
    "from numpy import std\n",
    "from sklearn.datasets import make_blobs\n",
    "from sklearn.model_selection import LeaveOneOut\n",
    "from sklearn.model_selection import cross_val_score\n",
    "from sklearn.ensemble import RandomForestClassifier\n",
    "# create dataset\n",
    "X, y = make_blobs(n_samples=100, random_state=1)\n",
    "# create loocv procedure\n",
    "cv = LeaveOneOut()\n",
    "# create model\n",
    "model = RandomForestClassifier(random_state=1)\n",
    "# evaluate model\n",
    "scores = cross_val_score(model, X, y, scoring='accuracy', cv=cv, n_jobs=-1)\n",
    "# report performance\n",
    "print('Accuracy: %.3f (%.3f)' % (mean(scores), std(scores)))"
   ]
  },
  {
   "cell_type": "code",
   "execution_count": 15,
   "metadata": {},
   "outputs": [
    {
     "name": "stdout",
     "output_type": "stream",
     "text": [
      "(208, 60) (208,)\n"
     ]
    }
   ],
   "source": [
    "# Sonar Example:\n",
    "\n",
    "# summarize the sonar dataset\n",
    "from pandas import read_csv\n",
    "# load dataset\n",
    "url = 'https://raw.githubusercontent.com/jbrownlee/Datasets/master/sonar.csv'\n",
    "sonar_df = read_csv(url, header=None)\n",
    "# split into input and output elements\n",
    "data = sonar_df.values\n",
    "X, y = data[:, :-1], data[:, -1]\n",
    "print(X.shape, y.shape)"
   ]
  },
  {
   "cell_type": "code",
   "execution_count": 16,
   "metadata": {},
   "outputs": [
    {
     "data": {
      "text/plain": [
       "array(['R', 'R', 'R', 'R', 'R', 'R', 'R', 'R', 'R', 'R', 'R', 'R', 'R',\n",
       "       'R', 'R', 'R', 'R', 'R', 'R', 'R', 'R', 'R', 'R', 'R', 'R', 'R',\n",
       "       'R', 'R', 'R', 'R', 'R', 'R', 'R', 'R', 'R', 'R', 'R', 'R', 'R',\n",
       "       'R', 'R', 'R', 'R', 'R', 'R', 'R', 'R', 'R', 'R', 'R', 'R', 'R',\n",
       "       'R', 'R', 'R', 'R', 'R', 'R', 'R', 'R', 'R', 'R', 'R', 'R', 'R',\n",
       "       'R', 'R', 'R', 'R', 'R', 'R', 'R', 'R', 'R', 'R', 'R', 'R', 'R',\n",
       "       'R', 'R', 'R', 'R', 'R', 'R', 'R', 'R', 'R', 'R', 'R', 'R', 'R',\n",
       "       'R', 'R', 'R', 'R', 'R', 'R', 'M', 'M', 'M', 'M', 'M', 'M', 'M',\n",
       "       'M', 'M', 'M', 'M', 'M', 'M', 'M', 'M', 'M', 'M', 'M', 'M', 'M',\n",
       "       'M', 'M', 'M', 'M', 'M', 'M', 'M', 'M', 'M', 'M', 'M', 'M', 'M',\n",
       "       'M', 'M', 'M', 'M', 'M', 'M', 'M', 'M', 'M', 'M', 'M', 'M', 'M',\n",
       "       'M', 'M', 'M', 'M', 'M', 'M', 'M', 'M', 'M', 'M', 'M', 'M', 'M',\n",
       "       'M', 'M', 'M', 'M', 'M', 'M', 'M', 'M', 'M', 'M', 'M', 'M', 'M',\n",
       "       'M', 'M', 'M', 'M', 'M', 'M', 'M', 'M', 'M', 'M', 'M', 'M', 'M',\n",
       "       'M', 'M', 'M', 'M', 'M', 'M', 'M', 'M', 'M', 'M', 'M', 'M', 'M',\n",
       "       'M', 'M', 'M', 'M', 'M', 'M', 'M', 'M', 'M', 'M', 'M', 'M', 'M'],\n",
       "      dtype=object)"
      ]
     },
     "execution_count": 16,
     "metadata": {},
     "output_type": "execute_result"
    }
   ],
   "source": [
    "y"
   ]
  },
  {
   "cell_type": "code",
   "execution_count": 17,
   "metadata": {},
   "outputs": [],
   "source": [
    "# create loocv procedure\n",
    "cv = LeaveOneOut()"
   ]
  },
  {
   "cell_type": "code",
   "execution_count": 18,
   "metadata": {},
   "outputs": [],
   "source": [
    "# create model\n",
    "model = RandomForestClassifier(random_state=1)"
   ]
  },
  {
   "cell_type": "code",
   "execution_count": 19,
   "metadata": {},
   "outputs": [
    {
     "name": "stdout",
     "output_type": "stream",
     "text": [
      "Accuracy: 0.822 (0.382)\n"
     ]
    }
   ],
   "source": [
    "# evaluate model\n",
    "scores = cross_val_score(model, X, y, scoring='accuracy', cv=cv, n_jobs=-1)\n",
    "# report performance\n",
    "print('Accuracy: %.3f (%.3f)' % (mean(scores), std(scores)))"
   ]
  },
  {
   "cell_type": "markdown",
   "metadata": {},
   "source": [
    "#### Housing data example:"
   ]
  },
  {
   "cell_type": "code",
   "execution_count": 20,
   "metadata": {},
   "outputs": [
    {
     "name": "stdout",
     "output_type": "stream",
     "text": [
      "(506, 13) (506,)\n",
      "MAE: 2.182 (2.338)\n"
     ]
    }
   ],
   "source": [
    "# loocv evaluate random forest on the housing dataset\n",
    "from numpy import mean, std, absolute\n",
    "from pandas import read_csv\n",
    "from sklearn.model_selection import LeaveOneOut\n",
    "from sklearn.model_selection import cross_val_score\n",
    "from sklearn.ensemble import RandomForestRegressor\n",
    "# load dataset\n",
    "url = 'https://raw.githubusercontent.com/jbrownlee/Datasets/master/housing.csv'\n",
    "dataframe = read_csv(url, header=None)\n",
    "data = dataframe.values\n",
    "# split into inputs and outputs\n",
    "X, y = data[:, :-1], data[:, -1]\n",
    "print(X.shape, y.shape)\n",
    "# create loocv procedure\n",
    "cv = LeaveOneOut()\n",
    "# create model\n",
    "model = RandomForestRegressor(random_state=1)\n",
    "# evaluate model\n",
    "scores = cross_val_score(model, X, y, scoring='neg_mean_absolute_error', cv=cv, n_jobs=-1)\n",
    "# force positive\n",
    "scores = absolute(scores)\n",
    "# report performance\n",
    "print('MAE: %.3f (%.3f)' % (mean(scores), std(scores)))"
   ]
  },
  {
   "cell_type": "code",
   "execution_count": 21,
   "metadata": {},
   "outputs": [
    {
     "name": "stdout",
     "output_type": "stream",
     "text": [
      "Test set score: 0.88\n"
     ]
    }
   ],
   "source": [
    "from sklearn.datasets import make_blobs\n",
    "from sklearn.linear_model import LogisticRegression \n",
    "from sklearn.model_selection import train_test_split\n",
    "\n",
    "# create a synthetic dataset\n",
    "X, y = make_blobs(random_state=0)\n",
    "# split data and labels into a training and a test set\n",
    "X_train, X_test, y_train, y_test = train_test_split(X, y, random_state=0) # instantiate a model and fit it to the training set\n",
    "logreg = LogisticRegression().fit(X_train, y_train)\n",
    "# evaluate the model on the test set\n",
    "print(\"Test set score: {:.2f}\".format(logreg.score(X_test, y_test)))"
   ]
  },
  {
   "cell_type": "markdown",
   "metadata": {},
   "source": [
    "### Adjusting the modeling vizzes"
   ]
  },
  {
   "cell_type": "code",
   "execution_count": 5,
   "metadata": {},
   "outputs": [
    {
     "name": "stdout",
     "output_type": "stream",
     "text": [
      "Acquire: compiling raw data files...\n",
      "Acquire: Completed!\n",
      "Prepare: preparing data files...\n",
      "Prepare: Completed!\n",
      "(289, 40) (73, 40)\n"
     ]
    }
   ],
   "source": [
    "# data acquire and prep\n",
    "df, train_exp, X_train_scaled, y_train, X_test_scaled, y_test = wrangle.wrangle_data()"
   ]
  },
  {
   "cell_type": "code",
   "execution_count": 6,
   "metadata": {},
   "outputs": [
    {
     "data": {
      "text/html": [
       "<div>\n",
       "<style scoped>\n",
       "    .dataframe tbody tr th:only-of-type {\n",
       "        vertical-align: middle;\n",
       "    }\n",
       "\n",
       "    .dataframe tbody tr th {\n",
       "        vertical-align: top;\n",
       "    }\n",
       "\n",
       "    .dataframe thead th {\n",
       "        text-align: right;\n",
       "    }\n",
       "</style>\n",
       "<table border=\"1\" class=\"dataframe\">\n",
       "  <thead>\n",
       "    <tr style=\"text-align: right;\">\n",
       "      <th></th>\n",
       "      <th>tract</th>\n",
       "      <th>e_pov</th>\n",
       "      <th>ep_pov</th>\n",
       "      <th>spl_theme1</th>\n",
       "      <th>raw_svi</th>\n",
       "      <th>f_pov_soci</th>\n",
       "      <th>f_unemp_soci</th>\n",
       "      <th>f_pci_soci</th>\n",
       "      <th>f_nohsdp_soci</th>\n",
       "      <th>f_soci_total</th>\n",
       "      <th>...</th>\n",
       "      <th>delta</th>\n",
       "      <th>avg3yr</th>\n",
       "      <th>r_soci_rise</th>\n",
       "      <th>r_comp_rise</th>\n",
       "      <th>r_status_rise</th>\n",
       "      <th>r_trans_rise</th>\n",
       "      <th>r_soci_fall</th>\n",
       "      <th>r_comp_fall</th>\n",
       "      <th>r_status_fall</th>\n",
       "      <th>r_trans_fall</th>\n",
       "    </tr>\n",
       "  </thead>\n",
       "  <tbody>\n",
       "    <tr>\n",
       "      <th>0</th>\n",
       "      <td>48029110100</td>\n",
       "      <td>513</td>\n",
       "      <td>20.8</td>\n",
       "      <td>1.8960</td>\n",
       "      <td>0.6503</td>\n",
       "      <td>0</td>\n",
       "      <td>0</td>\n",
       "      <td>0</td>\n",
       "      <td>0</td>\n",
       "      <td>0</td>\n",
       "      <td>...</td>\n",
       "      <td>0.0763</td>\n",
       "      <td>0.710733</td>\n",
       "      <td>1</td>\n",
       "      <td>0</td>\n",
       "      <td>1</td>\n",
       "      <td>0</td>\n",
       "      <td>0</td>\n",
       "      <td>1</td>\n",
       "      <td>0</td>\n",
       "      <td>0</td>\n",
       "    </tr>\n",
       "    <tr>\n",
       "      <th>1</th>\n",
       "      <td>48029110300</td>\n",
       "      <td>1057</td>\n",
       "      <td>35.1</td>\n",
       "      <td>2.9638</td>\n",
       "      <td>0.6978</td>\n",
       "      <td>1</td>\n",
       "      <td>1</td>\n",
       "      <td>0</td>\n",
       "      <td>0</td>\n",
       "      <td>2</td>\n",
       "      <td>...</td>\n",
       "      <td>0.0462</td>\n",
       "      <td>0.754767</td>\n",
       "      <td>0</td>\n",
       "      <td>1</td>\n",
       "      <td>0</td>\n",
       "      <td>0</td>\n",
       "      <td>0</td>\n",
       "      <td>0</td>\n",
       "      <td>0</td>\n",
       "      <td>1</td>\n",
       "    </tr>\n",
       "    <tr>\n",
       "      <th>2</th>\n",
       "      <td>48029110500</td>\n",
       "      <td>1623</td>\n",
       "      <td>68.0</td>\n",
       "      <td>3.9778</td>\n",
       "      <td>0.9770</td>\n",
       "      <td>1</td>\n",
       "      <td>1</td>\n",
       "      <td>1</td>\n",
       "      <td>1</td>\n",
       "      <td>4</td>\n",
       "      <td>...</td>\n",
       "      <td>0.0367</td>\n",
       "      <td>0.968700</td>\n",
       "      <td>0</td>\n",
       "      <td>0</td>\n",
       "      <td>1</td>\n",
       "      <td>1</td>\n",
       "      <td>0</td>\n",
       "      <td>1</td>\n",
       "      <td>0</td>\n",
       "      <td>0</td>\n",
       "    </tr>\n",
       "    <tr>\n",
       "      <th>3</th>\n",
       "      <td>48029110600</td>\n",
       "      <td>1441</td>\n",
       "      <td>51.1</td>\n",
       "      <td>3.8270</td>\n",
       "      <td>0.9841</td>\n",
       "      <td>1</td>\n",
       "      <td>1</td>\n",
       "      <td>1</td>\n",
       "      <td>1</td>\n",
       "      <td>4</td>\n",
       "      <td>...</td>\n",
       "      <td>0.0263</td>\n",
       "      <td>0.982533</td>\n",
       "      <td>0</td>\n",
       "      <td>0</td>\n",
       "      <td>0</td>\n",
       "      <td>1</td>\n",
       "      <td>1</td>\n",
       "      <td>0</td>\n",
       "      <td>0</td>\n",
       "      <td>0</td>\n",
       "    </tr>\n",
       "    <tr>\n",
       "      <th>4</th>\n",
       "      <td>48029110700</td>\n",
       "      <td>376</td>\n",
       "      <td>33.8</td>\n",
       "      <td>3.4805</td>\n",
       "      <td>0.9378</td>\n",
       "      <td>0</td>\n",
       "      <td>0</td>\n",
       "      <td>1</td>\n",
       "      <td>0</td>\n",
       "      <td>1</td>\n",
       "      <td>...</td>\n",
       "      <td>0.0255</td>\n",
       "      <td>0.945667</td>\n",
       "      <td>1</td>\n",
       "      <td>0</td>\n",
       "      <td>1</td>\n",
       "      <td>0</td>\n",
       "      <td>0</td>\n",
       "      <td>0</td>\n",
       "      <td>0</td>\n",
       "      <td>0</td>\n",
       "    </tr>\n",
       "    <tr>\n",
       "      <th>...</th>\n",
       "      <td>...</td>\n",
       "      <td>...</td>\n",
       "      <td>...</td>\n",
       "      <td>...</td>\n",
       "      <td>...</td>\n",
       "      <td>...</td>\n",
       "      <td>...</td>\n",
       "      <td>...</td>\n",
       "      <td>...</td>\n",
       "      <td>...</td>\n",
       "      <td>...</td>\n",
       "      <td>...</td>\n",
       "      <td>...</td>\n",
       "      <td>...</td>\n",
       "      <td>...</td>\n",
       "      <td>...</td>\n",
       "      <td>...</td>\n",
       "      <td>...</td>\n",
       "      <td>...</td>\n",
       "      <td>...</td>\n",
       "      <td>...</td>\n",
       "    </tr>\n",
       "    <tr>\n",
       "      <th>357</th>\n",
       "      <td>48029192100</td>\n",
       "      <td>118</td>\n",
       "      <td>5.7</td>\n",
       "      <td>0.9579</td>\n",
       "      <td>0.3829</td>\n",
       "      <td>0</td>\n",
       "      <td>0</td>\n",
       "      <td>0</td>\n",
       "      <td>0</td>\n",
       "      <td>0</td>\n",
       "      <td>...</td>\n",
       "      <td>0.0130</td>\n",
       "      <td>0.418033</td>\n",
       "      <td>0</td>\n",
       "      <td>0</td>\n",
       "      <td>1</td>\n",
       "      <td>0</td>\n",
       "      <td>1</td>\n",
       "      <td>0</td>\n",
       "      <td>0</td>\n",
       "      <td>0</td>\n",
       "    </tr>\n",
       "    <tr>\n",
       "      <th>358</th>\n",
       "      <td>48029192200</td>\n",
       "      <td>496</td>\n",
       "      <td>21.4</td>\n",
       "      <td>2.2141</td>\n",
       "      <td>0.6125</td>\n",
       "      <td>0</td>\n",
       "      <td>0</td>\n",
       "      <td>0</td>\n",
       "      <td>0</td>\n",
       "      <td>0</td>\n",
       "      <td>...</td>\n",
       "      <td>0.0440</td>\n",
       "      <td>0.677867</td>\n",
       "      <td>0</td>\n",
       "      <td>0</td>\n",
       "      <td>0</td>\n",
       "      <td>0</td>\n",
       "      <td>0</td>\n",
       "      <td>1</td>\n",
       "      <td>0</td>\n",
       "      <td>0</td>\n",
       "    </tr>\n",
       "    <tr>\n",
       "      <th>359</th>\n",
       "      <td>48029192300</td>\n",
       "      <td>399</td>\n",
       "      <td>8.0</td>\n",
       "      <td>0.7303</td>\n",
       "      <td>0.1911</td>\n",
       "      <td>0</td>\n",
       "      <td>0</td>\n",
       "      <td>0</td>\n",
       "      <td>0</td>\n",
       "      <td>0</td>\n",
       "      <td>...</td>\n",
       "      <td>0.0863</td>\n",
       "      <td>0.152333</td>\n",
       "      <td>0</td>\n",
       "      <td>0</td>\n",
       "      <td>0</td>\n",
       "      <td>1</td>\n",
       "      <td>0</td>\n",
       "      <td>0</td>\n",
       "      <td>0</td>\n",
       "      <td>0</td>\n",
       "    </tr>\n",
       "    <tr>\n",
       "      <th>360</th>\n",
       "      <td>48029980003</td>\n",
       "      <td>77</td>\n",
       "      <td>10.9</td>\n",
       "      <td>1.9445</td>\n",
       "      <td>0.1477</td>\n",
       "      <td>0</td>\n",
       "      <td>0</td>\n",
       "      <td>0</td>\n",
       "      <td>0</td>\n",
       "      <td>0</td>\n",
       "      <td>...</td>\n",
       "      <td>0.1840</td>\n",
       "      <td>0.118400</td>\n",
       "      <td>1</td>\n",
       "      <td>1</td>\n",
       "      <td>0</td>\n",
       "      <td>0</td>\n",
       "      <td>0</td>\n",
       "      <td>0</td>\n",
       "      <td>0</td>\n",
       "      <td>0</td>\n",
       "    </tr>\n",
       "    <tr>\n",
       "      <th>361</th>\n",
       "      <td>48029980100</td>\n",
       "      <td>75</td>\n",
       "      <td>26.3</td>\n",
       "      <td>1.3757</td>\n",
       "      <td>0.2214</td>\n",
       "      <td>0</td>\n",
       "      <td>0</td>\n",
       "      <td>0</td>\n",
       "      <td>0</td>\n",
       "      <td>0</td>\n",
       "      <td>...</td>\n",
       "      <td>0.0864</td>\n",
       "      <td>0.213267</td>\n",
       "      <td>1</td>\n",
       "      <td>1</td>\n",
       "      <td>0</td>\n",
       "      <td>0</td>\n",
       "      <td>0</td>\n",
       "      <td>0</td>\n",
       "      <td>1</td>\n",
       "      <td>0</td>\n",
       "    </tr>\n",
       "  </tbody>\n",
       "</table>\n",
       "<p>362 rows × 41 columns</p>\n",
       "</div>"
      ],
      "text/plain": [
       "           tract  e_pov  ep_pov  spl_theme1  raw_svi  f_pov_soci  \\\n",
       "0    48029110100    513    20.8      1.8960   0.6503           0   \n",
       "1    48029110300   1057    35.1      2.9638   0.6978           1   \n",
       "2    48029110500   1623    68.0      3.9778   0.9770           1   \n",
       "3    48029110600   1441    51.1      3.8270   0.9841           1   \n",
       "4    48029110700    376    33.8      3.4805   0.9378           0   \n",
       "..           ...    ...     ...         ...      ...         ...   \n",
       "357  48029192100    118     5.7      0.9579   0.3829           0   \n",
       "358  48029192200    496    21.4      2.2141   0.6125           0   \n",
       "359  48029192300    399     8.0      0.7303   0.1911           0   \n",
       "360  48029980003     77    10.9      1.9445   0.1477           0   \n",
       "361  48029980100     75    26.3      1.3757   0.2214           0   \n",
       "\n",
       "     f_unemp_soci  f_pci_soci  f_nohsdp_soci  f_soci_total  ...   delta  \\\n",
       "0               0           0              0             0  ...  0.0763   \n",
       "1               1           0              0             2  ...  0.0462   \n",
       "2               1           1              1             4  ...  0.0367   \n",
       "3               1           1              1             4  ...  0.0263   \n",
       "4               0           1              0             1  ...  0.0255   \n",
       "..            ...         ...            ...           ...  ...     ...   \n",
       "357             0           0              0             0  ...  0.0130   \n",
       "358             0           0              0             0  ...  0.0440   \n",
       "359             0           0              0             0  ...  0.0863   \n",
       "360             0           0              0             0  ...  0.1840   \n",
       "361             0           0              0             0  ...  0.0864   \n",
       "\n",
       "       avg3yr  r_soci_rise  r_comp_rise  r_status_rise  r_trans_rise  \\\n",
       "0    0.710733            1            0              1             0   \n",
       "1    0.754767            0            1              0             0   \n",
       "2    0.968700            0            0              1             1   \n",
       "3    0.982533            0            0              0             1   \n",
       "4    0.945667            1            0              1             0   \n",
       "..        ...          ...          ...            ...           ...   \n",
       "357  0.418033            0            0              1             0   \n",
       "358  0.677867            0            0              0             0   \n",
       "359  0.152333            0            0              0             1   \n",
       "360  0.118400            1            1              0             0   \n",
       "361  0.213267            1            1              0             0   \n",
       "\n",
       "     r_soci_fall  r_comp_fall  r_status_fall  r_trans_fall  \n",
       "0              0            1              0             0  \n",
       "1              0            0              0             1  \n",
       "2              0            1              0             0  \n",
       "3              1            0              0             0  \n",
       "4              0            0              0             0  \n",
       "..           ...          ...            ...           ...  \n",
       "357            1            0              0             0  \n",
       "358            0            1              0             0  \n",
       "359            0            0              0             0  \n",
       "360            0            0              0             0  \n",
       "361            0            0              1             0  \n",
       "\n",
       "[362 rows x 41 columns]"
      ]
     },
     "execution_count": 6,
     "metadata": {},
     "output_type": "execute_result"
    }
   ],
   "source": [
    "df"
   ]
  },
  {
   "cell_type": "code",
   "execution_count": 9,
   "metadata": {},
   "outputs": [
    {
     "data": {
      "text/plain": [
       "(3201.968351790576, 2903.7827641596423)"
      ]
     },
     "execution_count": 9,
     "metadata": {},
     "output_type": "execute_result"
    }
   ],
   "source": [
    "# What is the mean vs median of the target variable?\n",
    "y_train.tract_cases_per_100k.mean(), y_train.tract_cases_per_100k.median()"
   ]
  },
  {
   "cell_type": "code",
   "execution_count": 10,
   "metadata": {},
   "outputs": [
    {
     "name": "stdout",
     "output_type": "stream",
     "text": [
      "Baseline MAE: 973.0351509141836\n"
     ]
    }
   ],
   "source": [
    "# calculate the mean absolute error (MAE) of the baseline using mean\n",
    "mean_baseMAE, basepred1 = model_MAE.get_baseline_mean(y_train)"
   ]
  },
  {
   "cell_type": "code",
   "execution_count": 11,
   "metadata": {},
   "outputs": [
    {
     "data": {
      "text/plain": [
       "0    287\n",
       "1      2\n",
       "Name: r_status_fall, dtype: int64"
      ]
     },
     "execution_count": 11,
     "metadata": {},
     "output_type": "execute_result"
    }
   ],
   "source": [
    "X_train_scaled.r_status_fall.value_counts()"
   ]
  },
  {
   "cell_type": "code",
   "execution_count": 12,
   "metadata": {},
   "outputs": [
    {
     "data": {
      "text/plain": [
       "1    151\n",
       "0    138\n",
       "Name: r_status_rise, dtype: int64"
      ]
     },
     "execution_count": 12,
     "metadata": {},
     "output_type": "execute_result"
    }
   ],
   "source": [
    "X_train_scaled.r_status_rise.value_counts()"
   ]
  },
  {
   "cell_type": "code",
   "execution_count": 13,
   "metadata": {},
   "outputs": [
    {
     "data": {
      "text/html": [
       "<div>\n",
       "<style scoped>\n",
       "    .dataframe tbody tr th:only-of-type {\n",
       "        vertical-align: middle;\n",
       "    }\n",
       "\n",
       "    .dataframe tbody tr th {\n",
       "        vertical-align: top;\n",
       "    }\n",
       "\n",
       "    .dataframe thead th {\n",
       "        text-align: right;\n",
       "    }\n",
       "</style>\n",
       "<table border=\"1\" class=\"dataframe\">\n",
       "  <thead>\n",
       "    <tr style=\"text-align: right;\">\n",
       "      <th></th>\n",
       "      <th>features</th>\n",
       "    </tr>\n",
       "    <tr>\n",
       "      <th>rank</th>\n",
       "      <th></th>\n",
       "    </tr>\n",
       "  </thead>\n",
       "  <tbody>\n",
       "    <tr>\n",
       "      <th>1</th>\n",
       "      <td>spl_theme1_scaled</td>\n",
       "    </tr>\n",
       "    <tr>\n",
       "      <th>2</th>\n",
       "      <td>r_status_fall</td>\n",
       "    </tr>\n",
       "    <tr>\n",
       "      <th>3</th>\n",
       "      <td>delta</td>\n",
       "    </tr>\n",
       "    <tr>\n",
       "      <th>4</th>\n",
       "      <td>avg3yr</td>\n",
       "    </tr>\n",
       "    <tr>\n",
       "      <th>5</th>\n",
       "      <td>rank_svi_scaled</td>\n",
       "    </tr>\n",
       "    <tr>\n",
       "      <th>6</th>\n",
       "      <td>f_soci_total_scaled</td>\n",
       "    </tr>\n",
       "    <tr>\n",
       "      <th>7</th>\n",
       "      <td>f_pov_soci</td>\n",
       "    </tr>\n",
       "    <tr>\n",
       "      <th>8</th>\n",
       "      <td>ep_pov_scaled</td>\n",
       "    </tr>\n",
       "    <tr>\n",
       "      <th>9</th>\n",
       "      <td>raw_svi</td>\n",
       "    </tr>\n",
       "    <tr>\n",
       "      <th>10</th>\n",
       "      <td>f_age17_comp</td>\n",
       "    </tr>\n",
       "    <tr>\n",
       "      <th>11</th>\n",
       "      <td>f_groupq_trans</td>\n",
       "    </tr>\n",
       "    <tr>\n",
       "      <th>12</th>\n",
       "      <td>f_minrty_status</td>\n",
       "    </tr>\n",
       "    <tr>\n",
       "      <th>13</th>\n",
       "      <td>f_mobile_trans</td>\n",
       "    </tr>\n",
       "    <tr>\n",
       "      <th>14</th>\n",
       "      <td>f_noveh_trans</td>\n",
       "    </tr>\n",
       "    <tr>\n",
       "      <th>15</th>\n",
       "      <td>falling</td>\n",
       "    </tr>\n",
       "    <tr>\n",
       "      <th>16</th>\n",
       "      <td>f_disabl_comp</td>\n",
       "    </tr>\n",
       "    <tr>\n",
       "      <th>17</th>\n",
       "      <td>r_trans_rise</td>\n",
       "    </tr>\n",
       "    <tr>\n",
       "      <th>18</th>\n",
       "      <td>e_pov_scaled</td>\n",
       "    </tr>\n",
       "    <tr>\n",
       "      <th>19</th>\n",
       "      <td>f_unemp_soci</td>\n",
       "    </tr>\n",
       "    <tr>\n",
       "      <th>20</th>\n",
       "      <td>f_munit_trans</td>\n",
       "    </tr>\n",
       "    <tr>\n",
       "      <th>21</th>\n",
       "      <td>f_pci_soci</td>\n",
       "    </tr>\n",
       "    <tr>\n",
       "      <th>22</th>\n",
       "      <td>f_crowd_trans</td>\n",
       "    </tr>\n",
       "    <tr>\n",
       "      <th>23</th>\n",
       "      <td>r_comp_rise</td>\n",
       "    </tr>\n",
       "    <tr>\n",
       "      <th>24</th>\n",
       "      <td>r_trans_fall</td>\n",
       "    </tr>\n",
       "    <tr>\n",
       "      <th>25</th>\n",
       "      <td>r_soci_fall</td>\n",
       "    </tr>\n",
       "    <tr>\n",
       "      <th>26</th>\n",
       "      <td>r_soci_rise</td>\n",
       "    </tr>\n",
       "    <tr>\n",
       "      <th>27</th>\n",
       "      <td>f_limeng_status</td>\n",
       "    </tr>\n",
       "    <tr>\n",
       "      <th>28</th>\n",
       "      <td>f_sngpnt_comp</td>\n",
       "    </tr>\n",
       "    <tr>\n",
       "      <th>29</th>\n",
       "      <td>r_comp_fall</td>\n",
       "    </tr>\n",
       "    <tr>\n",
       "      <th>30</th>\n",
       "      <td>f_status_total_scaled</td>\n",
       "    </tr>\n",
       "    <tr>\n",
       "      <th>31</th>\n",
       "      <td>f_trans_total_scaled</td>\n",
       "    </tr>\n",
       "    <tr>\n",
       "      <th>32</th>\n",
       "      <td>r_status_rise</td>\n",
       "    </tr>\n",
       "    <tr>\n",
       "      <th>33</th>\n",
       "      <td>f_nohsdp_soci</td>\n",
       "    </tr>\n",
       "    <tr>\n",
       "      <th>34</th>\n",
       "      <td>f_comp_total_scaled</td>\n",
       "    </tr>\n",
       "    <tr>\n",
       "      <th>35</th>\n",
       "      <td>f_age65_comp</td>\n",
       "    </tr>\n",
       "    <tr>\n",
       "      <th>36</th>\n",
       "      <td>rising</td>\n",
       "    </tr>\n",
       "    <tr>\n",
       "      <th>37</th>\n",
       "      <td>all_flags_total_scaled</td>\n",
       "    </tr>\n",
       "  </tbody>\n",
       "</table>\n",
       "</div>"
      ],
      "text/plain": [
       "                    features\n",
       "rank                        \n",
       "1          spl_theme1_scaled\n",
       "2              r_status_fall\n",
       "3                      delta\n",
       "4                     avg3yr\n",
       "5            rank_svi_scaled\n",
       "6        f_soci_total_scaled\n",
       "7                 f_pov_soci\n",
       "8              ep_pov_scaled\n",
       "9                    raw_svi\n",
       "10              f_age17_comp\n",
       "11            f_groupq_trans\n",
       "12           f_minrty_status\n",
       "13            f_mobile_trans\n",
       "14             f_noveh_trans\n",
       "15                   falling\n",
       "16             f_disabl_comp\n",
       "17              r_trans_rise\n",
       "18              e_pov_scaled\n",
       "19              f_unemp_soci\n",
       "20             f_munit_trans\n",
       "21                f_pci_soci\n",
       "22             f_crowd_trans\n",
       "23               r_comp_rise\n",
       "24              r_trans_fall\n",
       "25               r_soci_fall\n",
       "26               r_soci_rise\n",
       "27           f_limeng_status\n",
       "28             f_sngpnt_comp\n",
       "29               r_comp_fall\n",
       "30     f_status_total_scaled\n",
       "31      f_trans_total_scaled\n",
       "32             r_status_rise\n",
       "33             f_nohsdp_soci\n",
       "34       f_comp_total_scaled\n",
       "35              f_age65_comp\n",
       "36                    rising\n",
       "37    all_flags_total_scaled"
      ]
     },
     "execution_count": 13,
     "metadata": {},
     "output_type": "execute_result"
    }
   ],
   "source": [
    "rankdf = model_MAE.feature_ranking(X_train_scaled, y_train)\n",
    "rankdf"
   ]
  },
  {
   "cell_type": "code",
   "execution_count": 14,
   "metadata": {},
   "outputs": [],
   "source": [
    "# only raw svi score\n",
    "X_raw_svi = X_train_scaled[['raw_svi']]\n",
    "# binned svi score by CDC range category = 1st ranked\n",
    "X_rank_svi_only = X_train_scaled[['rank_svi_scaled']]\n",
    "# top 4 ranked features\n",
    "X_top4 = X_train_scaled[['spl_theme1_scaled', 'r_status_fall', 'delta', 'avg3yr']]\n",
    "# only the summary of the flags = 19th ranked\n",
    "X_all_flags_only = X_train_scaled[['all_flags_total_scaled']]\n",
    "# only summary flags, should be the same as all flags total? = 5th, 12th, 15th, 21st\n",
    "X_summary_flags = X_train_scaled[['f_comp_total_scaled', 'f_soci_total_scaled', 'f_status_total_scaled', 'f_trans_total_scaled']]\n",
    "# all individual flags\n",
    "X_not_summary_flags = X_train_scaled[['f_nohsdp_soci', 'f_minrty_status', 'f_groupq_trans', 'f_unemp_soci', \n",
    "                                     'f_disabl_comp', 'f_noveh_trans', 'f_mobile_trans', 'f_age65_comp', \n",
    "                                     'f_age17_comp', 'f_pov_soci', 'f_limeng_status', 'f_crowd_trans', \n",
    "                                      'f_pci_soci', 'f_sngpnt_comp', 'f_munit_trans']]\n",
    "# top 10 by RFE\n",
    "X_top10 = X_train_scaled[['spl_theme1_scaled', 'r_status_fall', 'delta', 'avg3yr', 'rank_svi_scaled', \n",
    "                          'f_soci_total_scaled', 'f_pov_soci', 'ep_pov_scaled', 'raw_svi', 'f_age17_comp']]\n",
    "# engineered features only\n",
    "X_svifeatures = X_train_scaled[['rising', 'falling', 'delta', 'avg3yr', 'r_soci_rise', 'r_comp_rise', \n",
    "                                'r_status_rise', 'r_trans_rise', 'r_soci_fall', 'r_comp_fall', 'r_status_fall', 'r_trans_fall']]\n",
    "X_Rlist = X_train_scaled[['rank_svi_scaled', 'rising', 'falling', 'delta', 'avg3yr']]"
   ]
  },
  {
   "cell_type": "code",
   "execution_count": 15,
   "metadata": {},
   "outputs": [],
   "source": [
    "# create variables for loop\n",
    "df2test = [X_rank_svi_only, X_top4, X_all_flags_only, X_summary_flags, X_not_summary_flags, X_train_scaled, \n",
    "           X_raw_svi, X_top10, X_svifeatures, X_Rlist]\n",
    "target = y_train"
   ]
  },
  {
   "cell_type": "code",
   "execution_count": 16,
   "metadata": {},
   "outputs": [
    {
     "name": "stdout",
     "output_type": "stream",
     "text": [
      "MAE: 781.251 (723.733)\n",
      "MAE: 738.457 (730.534)\n",
      "MAE: 872.290 (741.162)\n",
      "MAE: 848.118 (733.300)\n",
      "MAE: 824.294 (728.993)\n",
      "MAE: 769.915 (726.788)\n",
      "MAE: 782.547 (718.692)\n",
      "MAE: 730.765 (700.452)\n",
      "MAE: 828.639 (730.478)\n",
      "MAE: 796.571 (699.576)\n"
     ]
    }
   ],
   "source": [
    "# Linear Regression Models\n",
    "cvlm_MAE_list = []\n",
    "for df in df2test:\n",
    "    cvlm_MAE = model_MAE.cvLinearReg(df, target) \n",
    "    cvlm_MAE_list.append(cvlm_MAE)"
   ]
  },
  {
   "cell_type": "code",
   "execution_count": 17,
   "metadata": {},
   "outputs": [
    {
     "name": "stdout",
     "output_type": "stream",
     "text": [
      "MAE: 782.183 (722.924)\n",
      "MAE: 735.476 (724.108)\n",
      "MAE: 874.089 (739.091)\n",
      "MAE: 847.785 (727.430)\n",
      "MAE: 819.720 (718.520)\n",
      "MAE: 755.070 (718.984)\n",
      "MAE: 782.106 (719.369)\n",
      "MAE: 725.510 (706.691)\n",
      "MAE: 818.272 (736.689)\n",
      "MAE: 794.836 (702.891)\n"
     ]
    }
   ],
   "source": [
    "# LassoLars Models\n",
    "cvll_MAE_list = []\n",
    "for df in df2test:\n",
    "    cvll_MAE = model_MAE.cvLassoLars(df, target, 1) \n",
    "    cvll_MAE_list.append(cvll_MAE)"
   ]
  },
  {
   "cell_type": "code",
   "execution_count": 18,
   "metadata": {},
   "outputs": [
    {
     "name": "stdout",
     "output_type": "stream",
     "text": [
      "MAE: 789.115 (711.202)\n",
      "MAE: 867.371 (845.107)\n",
      "MAE: 886.140 (734.965)\n",
      "MAE: 864.634 (763.147)\n",
      "MAE: 814.246 (773.835)\n",
      "MAE: 845.827 (815.309)\n",
      "MAE: 970.368 (855.503)\n",
      "MAE: 865.925 (819.451)\n",
      "MAE: 861.783 (885.446)\n",
      "MAE: 896.730 (910.432)\n"
     ]
    }
   ],
   "source": [
    "# Random Forest Models\n",
    "cvrf_MAE_list = []\n",
    "for df in df2test:\n",
    "    cvrf_MAE = model_MAE.cvRandomForest(df, target, 4) \n",
    "    cvrf_MAE_list.append(cvrf_MAE)"
   ]
  },
  {
   "cell_type": "code",
   "execution_count": 19,
   "metadata": {},
   "outputs": [
    {
     "name": "stdout",
     "output_type": "stream",
     "text": [
      "MAE: 778.155 (716.039)\n",
      "MAE: 734.922 (761.302)\n",
      "MAE: 879.435 (757.200)\n",
      "MAE: 855.047 (752.401)\n",
      "MAE: 827.712 (759.579)\n",
      "MAE: 755.195 (746.671)\n",
      "MAE: 773.678 (717.783)\n",
      "MAE: 720.793 (745.715)\n",
      "MAE: 819.661 (753.491)\n",
      "MAE: 789.614 (699.771)\n"
     ]
    }
   ],
   "source": [
    "# Tweedie Regressor Models\n",
    "cvtw_MAE_list = []\n",
    "for df in df2test:\n",
    "    cvtw_MAE = model_MAE.cvTweedie(df, target, 1.25, .25)\n",
    "    cvtw_MAE_list.append(cvtw_MAE)"
   ]
  },
  {
   "cell_type": "code",
   "execution_count": 20,
   "metadata": {},
   "outputs": [
    {
     "name": "stdout",
     "output_type": "stream",
     "text": [
      "MAE: 931.598 (873.853)\n",
      "MAE: 938.449 (873.997)\n",
      "MAE: 950.422 (875.754)\n",
      "MAE: 947.592 (876.159)\n",
      "MAE: 945.986 (875.699)\n",
      "MAE: 950.627 (876.282)\n",
      "MAE: 933.094 (875.387)\n",
      "MAE: 941.275 (878.109)\n",
      "MAE: 954.337 (875.567)\n",
      "MAE: 946.354 (875.928)\n"
     ]
    }
   ],
   "source": [
    "# Support Vector Models\n",
    "cvSVRrbf_MAE_list = []\n",
    "for df in df2test:\n",
    "    cvSVRrbf_MAE = model_MAE.cvSVR(df, target, 'rbf')\n",
    "    cvSVRrbf_MAE_list.append(cvSVRrbf_MAE)"
   ]
  },
  {
   "cell_type": "code",
   "execution_count": 21,
   "metadata": {},
   "outputs": [
    {
     "name": "stdout",
     "output_type": "stream",
     "text": [
      "MAE: 945.721 (875.750)\n",
      "MAE: 942.046 (874.593)\n",
      "MAE: 957.058 (875.437)\n",
      "MAE: 955.889 (875.657)\n",
      "MAE: 941.801 (870.728)\n",
      "MAE: 913.362 (852.005)\n",
      "MAE: 947.493 (877.127)\n",
      "MAE: 919.083 (862.828)\n",
      "MAE: 949.308 (876.481)\n",
      "MAE: 942.727 (876.684)\n"
     ]
    }
   ],
   "source": [
    "# Support Vector Models\n",
    "cvSVRlinear_MAE_list = []\n",
    "for df in df2test:\n",
    "    cvSVRlinear_MAE = model_MAE.cvSVR(df, target, 'linear')\n",
    "    cvSVRlinear_MAE_list.append(cvSVRlinear_MAE)"
   ]
  },
  {
   "cell_type": "code",
   "execution_count": 22,
   "metadata": {},
   "outputs": [
    {
     "data": {
      "text/html": [
       "<div>\n",
       "<style scoped>\n",
       "    .dataframe tbody tr th:only-of-type {\n",
       "        vertical-align: middle;\n",
       "    }\n",
       "\n",
       "    .dataframe tbody tr th {\n",
       "        vertical-align: top;\n",
       "    }\n",
       "\n",
       "    .dataframe thead th {\n",
       "        text-align: right;\n",
       "    }\n",
       "</style>\n",
       "<table border=\"1\" class=\"dataframe\">\n",
       "  <thead>\n",
       "    <tr style=\"text-align: right;\">\n",
       "      <th></th>\n",
       "      <th>Features</th>\n",
       "      <th>Base_mean_MAE</th>\n",
       "      <th>LinearRegression_MAE</th>\n",
       "      <th>LassoLars_MAE</th>\n",
       "      <th>Tweedie_MAE</th>\n",
       "      <th>RandomForest_MAE</th>\n",
       "      <th>SVR_rbf_MAE</th>\n",
       "      <th>SVR_linear_MAE</th>\n",
       "    </tr>\n",
       "  </thead>\n",
       "  <tbody>\n",
       "    <tr>\n",
       "      <th>7</th>\n",
       "      <td>top10</td>\n",
       "      <td>973.035151</td>\n",
       "      <td>730.765130</td>\n",
       "      <td>725.509773</td>\n",
       "      <td>720.792978</td>\n",
       "      <td>865.924609</td>\n",
       "      <td>941.275487</td>\n",
       "      <td>919.082536</td>\n",
       "    </tr>\n",
       "    <tr>\n",
       "      <th>1</th>\n",
       "      <td>top4</td>\n",
       "      <td>973.035151</td>\n",
       "      <td>738.457447</td>\n",
       "      <td>735.475548</td>\n",
       "      <td>734.922336</td>\n",
       "      <td>867.371403</td>\n",
       "      <td>938.448679</td>\n",
       "      <td>942.045809</td>\n",
       "    </tr>\n",
       "    <tr>\n",
       "      <th>5</th>\n",
       "      <td>all_features</td>\n",
       "      <td>973.035151</td>\n",
       "      <td>769.914692</td>\n",
       "      <td>755.070224</td>\n",
       "      <td>755.194889</td>\n",
       "      <td>845.826816</td>\n",
       "      <td>950.627106</td>\n",
       "      <td>913.361770</td>\n",
       "    </tr>\n",
       "    <tr>\n",
       "      <th>0</th>\n",
       "      <td>rank_svi_only</td>\n",
       "      <td>973.035151</td>\n",
       "      <td>781.250760</td>\n",
       "      <td>782.183122</td>\n",
       "      <td>778.154680</td>\n",
       "      <td>789.115123</td>\n",
       "      <td>931.598167</td>\n",
       "      <td>945.721395</td>\n",
       "    </tr>\n",
       "    <tr>\n",
       "      <th>6</th>\n",
       "      <td>raw_svi_only</td>\n",
       "      <td>973.035151</td>\n",
       "      <td>782.547295</td>\n",
       "      <td>782.106104</td>\n",
       "      <td>773.677513</td>\n",
       "      <td>970.368056</td>\n",
       "      <td>933.094050</td>\n",
       "      <td>947.493170</td>\n",
       "    </tr>\n",
       "    <tr>\n",
       "      <th>9</th>\n",
       "      <td>Rlist</td>\n",
       "      <td>973.035151</td>\n",
       "      <td>796.571146</td>\n",
       "      <td>794.835626</td>\n",
       "      <td>789.613853</td>\n",
       "      <td>896.729646</td>\n",
       "      <td>946.353783</td>\n",
       "      <td>942.727399</td>\n",
       "    </tr>\n",
       "    <tr>\n",
       "      <th>4</th>\n",
       "      <td>not_summary_flags</td>\n",
       "      <td>973.035151</td>\n",
       "      <td>824.293633</td>\n",
       "      <td>819.719640</td>\n",
       "      <td>827.711959</td>\n",
       "      <td>814.246281</td>\n",
       "      <td>945.985592</td>\n",
       "      <td>941.801385</td>\n",
       "    </tr>\n",
       "    <tr>\n",
       "      <th>8</th>\n",
       "      <td>svi_features</td>\n",
       "      <td>973.035151</td>\n",
       "      <td>828.638600</td>\n",
       "      <td>818.271824</td>\n",
       "      <td>819.660817</td>\n",
       "      <td>861.782813</td>\n",
       "      <td>954.337244</td>\n",
       "      <td>949.308495</td>\n",
       "    </tr>\n",
       "    <tr>\n",
       "      <th>3</th>\n",
       "      <td>summary_flags</td>\n",
       "      <td>973.035151</td>\n",
       "      <td>848.117510</td>\n",
       "      <td>847.785452</td>\n",
       "      <td>855.047386</td>\n",
       "      <td>864.633669</td>\n",
       "      <td>947.592445</td>\n",
       "      <td>955.888640</td>\n",
       "    </tr>\n",
       "    <tr>\n",
       "      <th>2</th>\n",
       "      <td>total_all_flags_only</td>\n",
       "      <td>973.035151</td>\n",
       "      <td>872.289561</td>\n",
       "      <td>874.089199</td>\n",
       "      <td>879.435482</td>\n",
       "      <td>886.140112</td>\n",
       "      <td>950.421945</td>\n",
       "      <td>957.057820</td>\n",
       "    </tr>\n",
       "  </tbody>\n",
       "</table>\n",
       "</div>"
      ],
      "text/plain": [
       "               Features  Base_mean_MAE  LinearRegression_MAE  LassoLars_MAE  \\\n",
       "7                 top10     973.035151            730.765130     725.509773   \n",
       "1                  top4     973.035151            738.457447     735.475548   \n",
       "5          all_features     973.035151            769.914692     755.070224   \n",
       "0         rank_svi_only     973.035151            781.250760     782.183122   \n",
       "6          raw_svi_only     973.035151            782.547295     782.106104   \n",
       "9                 Rlist     973.035151            796.571146     794.835626   \n",
       "4     not_summary_flags     973.035151            824.293633     819.719640   \n",
       "8          svi_features     973.035151            828.638600     818.271824   \n",
       "3         summary_flags     973.035151            848.117510     847.785452   \n",
       "2  total_all_flags_only     973.035151            872.289561     874.089199   \n",
       "\n",
       "   Tweedie_MAE  RandomForest_MAE  SVR_rbf_MAE  SVR_linear_MAE  \n",
       "7   720.792978        865.924609   941.275487      919.082536  \n",
       "1   734.922336        867.371403   938.448679      942.045809  \n",
       "5   755.194889        845.826816   950.627106      913.361770  \n",
       "0   778.154680        789.115123   931.598167      945.721395  \n",
       "6   773.677513        970.368056   933.094050      947.493170  \n",
       "9   789.613853        896.729646   946.353783      942.727399  \n",
       "4   827.711959        814.246281   945.985592      941.801385  \n",
       "8   819.660817        861.782813   954.337244      949.308495  \n",
       "3   855.047386        864.633669   947.592445      955.888640  \n",
       "2   879.435482        886.140112   950.421945      957.057820  "
      ]
     },
     "execution_count": 22,
     "metadata": {},
     "output_type": "execute_result"
    }
   ],
   "source": [
    "\n",
    "# create dataframe for results of all train models\n",
    "df_list = ['rank_svi_only', 'top4', 'total_all_flags_only', 'summary_flags', 'not_summary_flags', \n",
    "           'all_features', 'raw_svi_only', 'top10', 'svi_features', 'Rlist']\n",
    "\n",
    "results = pd.DataFrame(df_list, columns=['Features'])\n",
    "results['Base_mean_MAE'] = mean_baseMAE\n",
    "results['LinearRegression_MAE'] = cvlm_MAE_list\n",
    "results['LassoLars_MAE'] = cvll_MAE_list\n",
    "results['Tweedie_MAE'] = cvtw_MAE_list\n",
    "results['RandomForest_MAE'] = cvrf_MAE_list\n",
    "results['SVR_rbf_MAE'] = cvSVRrbf_MAE_list\n",
    "results['SVR_linear_MAE'] = cvSVRlinear_MAE_list\n",
    "results.sort_values('LinearRegression_MAE')"
   ]
  },
  {
   "cell_type": "code",
   "execution_count": 23,
   "metadata": {},
   "outputs": [],
   "source": [
    "# create test dataframe with Top10 features as identified by RFE as that is the best performing model\n",
    "X_test_top10 = X_test_scaled[['spl_theme1_scaled', 'r_status_fall', 'delta', 'avg3yr', 'rank_svi_scaled', \n",
    "                          'f_soci_total_scaled', 'f_pov_soci', 'ep_pov_scaled', 'raw_svi', 'f_age17_comp']]"
   ]
  },
  {
   "cell_type": "code",
   "execution_count": 24,
   "metadata": {},
   "outputs": [
    {
     "data": {
      "text/plain": [
       "814.7051547216596"
      ]
     },
     "execution_count": 24,
     "metadata": {},
     "output_type": "execute_result"
    }
   ],
   "source": [
    "\n",
    "# fit Linear Regression with Top4 features on train dataset, then use that model to predict test values\n",
    "TWtestMAE, modelTW, y_predTW = model_MAE.tweedie_test(X_top10, y_train, X_test_top10, y_test, 1.5, .5)\n",
    "TWtestMAE"
   ]
  },
  {
   "cell_type": "code",
   "execution_count": 25,
   "metadata": {},
   "outputs": [
    {
     "data": {
      "text/plain": [
       "851.1850684448567"
      ]
     },
     "execution_count": 25,
     "metadata": {},
     "output_type": "execute_result"
    }
   ],
   "source": [
    "LRtestMAE, modelLR, y_predLR = model_MAE.linear_test(X_top10, y_train, X_test_top10, y_test)\n",
    "LRtestMAE"
   ]
  },
  {
   "cell_type": "code",
   "execution_count": 26,
   "metadata": {},
   "outputs": [
    {
     "data": {
      "text/plain": [
       "835.3720267505154"
      ]
     },
     "execution_count": 26,
     "metadata": {},
     "output_type": "execute_result"
    }
   ],
   "source": [
    "LLtestMAE, modelLL, y_predLL = model_MAE.lasso_lars_test(X_top10, y_train, X_test_top10, y_test)\n",
    "LLtestMAE"
   ]
  },
  {
   "cell_type": "code",
   "execution_count": 27,
   "metadata": {},
   "outputs": [],
   "source": [
    "# create test dataframe with only Top4 features as identified by RFE as that is the best performing model\n",
    "X_test_top4 = X_test_scaled[['spl_theme1_scaled', 'r_status_fall', 'delta', 'avg3yr']]"
   ]
  },
  {
   "cell_type": "code",
   "execution_count": 28,
   "metadata": {},
   "outputs": [
    {
     "data": {
      "text/plain": [
       "767.2785276859594"
      ]
     },
     "execution_count": 28,
     "metadata": {},
     "output_type": "execute_result"
    }
   ],
   "source": [
    "# fit Linear Regression with Top4 features on train dataset, then use that model to predict test values\n",
    "TWtestMAE, modelTW, y_test_predTW = model_MAE.tweedie_test(X_top4, y_train, X_test_top4, y_test, 1.5, .5)\n",
    "TWtestMAE"
   ]
  },
  {
   "cell_type": "code",
   "execution_count": 29,
   "metadata": {},
   "outputs": [
    {
     "data": {
      "text/plain": [
       "785.8045587970454"
      ]
     },
     "execution_count": 29,
     "metadata": {},
     "output_type": "execute_result"
    }
   ],
   "source": [
    "LRtestMAE, modelLR, y_test_predLR = model_MAE.linear_test(X_top4, y_train, X_test_top4, y_test)\n",
    "LRtestMAE"
   ]
  },
  {
   "cell_type": "code",
   "execution_count": 30,
   "metadata": {},
   "outputs": [
    {
     "data": {
      "text/plain": [
       "780.7786800511973"
      ]
     },
     "execution_count": 30,
     "metadata": {},
     "output_type": "execute_result"
    }
   ],
   "source": [
    "LLtestMAE, modelLL, y_test_predLL = model_MAE.lasso_lars_test(X_top4, y_train, X_test_top4, y_test)\n",
    "LLtestMAE"
   ]
  },
  {
   "cell_type": "code",
   "execution_count": 31,
   "metadata": {},
   "outputs": [
    {
     "data": {
      "text/plain": [
       "822.2687271506842"
      ]
     },
     "execution_count": 31,
     "metadata": {},
     "output_type": "execute_result"
    }
   ],
   "source": [
    "\n",
    "# for presentation visualization\n",
    "X_test_raw_svi_only = X_test_scaled[['raw_svi']]\n",
    "\n",
    "rTWtestMAE, rmodelTW, y_test_predrTW = model_MAE.tweedie_test(X_raw_svi, y_train, X_test_raw_svi_only, y_test, 1.5, .5)\n",
    "rTWtestMAE"
   ]
  },
  {
   "cell_type": "code",
   "execution_count": 32,
   "metadata": {},
   "outputs": [
    {
     "data": {
      "text/html": [
       "<div>\n",
       "<style scoped>\n",
       "    .dataframe tbody tr th:only-of-type {\n",
       "        vertical-align: middle;\n",
       "    }\n",
       "\n",
       "    .dataframe tbody tr th {\n",
       "        vertical-align: top;\n",
       "    }\n",
       "\n",
       "    .dataframe thead th {\n",
       "        text-align: right;\n",
       "    }\n",
       "</style>\n",
       "<table border=\"1\" class=\"dataframe\">\n",
       "  <thead>\n",
       "    <tr style=\"text-align: right;\">\n",
       "      <th></th>\n",
       "      <th>features</th>\n",
       "      <th>coefs</th>\n",
       "      <th>abs_coefs</th>\n",
       "    </tr>\n",
       "  </thead>\n",
       "  <tbody>\n",
       "    <tr>\n",
       "      <th>0</th>\n",
       "      <td>spl_theme1_scaled</td>\n",
       "      <td>0.633093</td>\n",
       "      <td>0.633093</td>\n",
       "    </tr>\n",
       "    <tr>\n",
       "      <th>1</th>\n",
       "      <td>r_status_fall</td>\n",
       "      <td>0.280740</td>\n",
       "      <td>0.280740</td>\n",
       "    </tr>\n",
       "    <tr>\n",
       "      <th>3</th>\n",
       "      <td>avg3yr</td>\n",
       "      <td>0.212281</td>\n",
       "      <td>0.212281</td>\n",
       "    </tr>\n",
       "    <tr>\n",
       "      <th>2</th>\n",
       "      <td>delta</td>\n",
       "      <td>-0.179980</td>\n",
       "      <td>0.179980</td>\n",
       "    </tr>\n",
       "  </tbody>\n",
       "</table>\n",
       "</div>"
      ],
      "text/plain": [
       "            features     coefs  abs_coefs\n",
       "0  spl_theme1_scaled  0.633093   0.633093\n",
       "1      r_status_fall  0.280740   0.280740\n",
       "3             avg3yr  0.212281   0.212281\n",
       "2              delta -0.179980   0.179980"
      ]
     },
     "execution_count": 32,
     "metadata": {},
     "output_type": "execute_result"
    }
   ],
   "source": [
    "# Tweedie Results table:\n",
    "tw_result = pd.DataFrame()\n",
    "x_train_columns = X_test_top4.columns.tolist()\n",
    "tw_result['features'] = x_train_columns\n",
    "tw_result['coefs'] = modelTW.coef_\n",
    "tw_result['abs_coefs'] = abs(modelTW.coef_)\n",
    "tw_result.sort_values(by = 'abs_coefs', ascending = False)"
   ]
  },
  {
   "cell_type": "markdown",
   "metadata": {},
   "source": [
    "### Visualization of predictions"
   ]
  },
  {
   "cell_type": "code",
   "execution_count": 33,
   "metadata": {},
   "outputs": [],
   "source": [
    "# create dataframe of actual, baseline, and predicted results for visualizations\n",
    "visualdf = model_MAE.create_visualdf(y_test, y_train, y_test_predLL, y_test_predLR, y_test_predTW, y_test_predrTW)"
   ]
  },
  {
   "cell_type": "code",
   "execution_count": 34,
   "metadata": {},
   "outputs": [
    {
     "data": {
      "image/png": "[encoded data removed]",
      "text/plain": [
       "<Figure size 1152x576 with 1 Axes>"
      ]
     },
     "metadata": {
      "needs_background": "light"
     },
     "output_type": "display_data"
    }
   ],
   "source": [
    "# visualization of actual vs predicted\n",
    "model_MAE.plot_actual_vs_predicted(visualdf)"
   ]
  },
  {
   "cell_type": "code",
   "execution_count": 35,
   "metadata": {},
   "outputs": [
    {
     "data": {
      "image/png": "[encoded data removed]",
      "text/plain": [
       "<Figure size 1152x576 with 1 Axes>"
      ]
     },
     "metadata": {
      "needs_background": "light"
     },
     "output_type": "display_data"
    }
   ],
   "source": [
    "# plotting Errors\n",
    "model_MAE.plotting_errors(visualdf)"
   ]
  },
  {
   "cell_type": "code",
   "execution_count": 36,
   "metadata": {},
   "outputs": [
    {
     "data": {
      "image/png": "[encoded data removed]",
      "text/plain": [
       "<Figure size 1152x576 with 1 Axes>"
      ]
     },
     "metadata": {
      "needs_background": "light"
     },
     "output_type": "display_data"
    }
   ],
   "source": [
    "\n",
    "# plotting Histograms\n",
    "model_MAE.plotting_histograms(visualdf)"
   ]
  },
  {
   "cell_type": "code",
   "execution_count": 37,
   "metadata": {},
   "outputs": [],
   "source": [
    "# Now this is where I adjust that histogram graphic."
   ]
  },
  {
   "cell_type": "code",
   "execution_count": 75,
   "metadata": {},
   "outputs": [],
   "source": [
    "# This function creates a comparison histogram\n",
    "\n",
    "def plotting_histograms(visualdf):\n",
    "    '''\n",
    "    Plots Histograms of top models, currently only shows actual vs best performing\n",
    "    '''\n",
    "    plt.figure(figsize=(16,8))\n",
    "    plt.hist(visualdf.actual, color='blue', alpha=.5, label=\"Actual Cases per 100K\", histtype=u'step', linewidth=5)\n",
    "#     plt.hist(visualdf.LRpred, color='orange', alpha=.5, label=\"Model: TW SVI only\")\n",
    "    plt.hist(visualdf.TWpred, color='green', alpha=.5, label=\"Model: TW Top 4 Features\")\n",
    "    #plt.hist(visualdf.LLpred, color='red', alpha=.5, label=\"Model: LassoLars\")\n",
    "    plt.xlabel(\"Cases per 100K\", fontsize = 16, fontweight = 'bold')\n",
    "    plt.ylabel(\"Frequency\", fontsize = 16, fontweight = 'bold')\n",
    "#     plt.title(\"SVI alone is not enough\")\n",
    "    plt.ylim(0, 30)\n",
    "    plt.xlim(-500, 9500)\n",
    "#     plt.legend()\n",
    "    plt.show()"
   ]
  },
  {
   "cell_type": "code",
   "execution_count": 76,
   "metadata": {},
   "outputs": [
    {
     "data": {
      "image/png": "[encoded data removed]",
      "text/plain": [
       "<Figure size 1152x576 with 1 Axes>"
      ]
     },
     "metadata": {
      "needs_background": "light"
     },
     "output_type": "display_data"
    }
   ],
   "source": [
    "plotting_histograms(visualdf)"
   ]
  },
  {
   "cell_type": "code",
   "execution_count": 77,
   "metadata": {},
   "outputs": [],
   "source": [
    "# San Antonio SVI total score histograms."
   ]
  },
  {
   "cell_type": "code",
   "execution_count": 78,
   "metadata": {},
   "outputs": [],
   "source": [
    "# This function creates a comparison histogram\n",
    "\n",
    "def plotting_histograms_total_svi(visualdf):\n",
    "    '''\n",
    "    Plots Histograms of top models, currently only shows actual vs best performing\n",
    "    '''\n",
    "    plt.figure(figsize=(16,8))\n",
    "    plt.hist(visualdf.actual, color='blue', alpha=.5, label=\"Actual Cases per 100K\", histtype=u'step', linewidth=5)\n",
    "    plt.hist(visualdf.LRpred, color='orange', alpha=.5, label=\"Model: TW SVI only\")\n",
    "#     plt.hist(visualdf.TWpred, color='green', alpha=.5, label=\"Model: TW Top 4 Features\")\n",
    "    #plt.hist(visualdf.LLpred, color='red', alpha=.5, label=\"Model: LassoLars\")\n",
    "    plt.xlabel(\"Cases per 100K\", fontsize = 16, fontweight = 'bold')\n",
    "    plt.ylabel(\"Frequency\", fontsize = 16, fontweight = 'bold')\n",
    "#     plt.title(\"SVI alone is not enough\")\n",
    "    plt.ylim(0, 30)\n",
    "    plt.xlim(-500, 9500)\n",
    "#     plt.legend()\n",
    "    plt.show()"
   ]
  },
  {
   "cell_type": "code",
   "execution_count": 79,
   "metadata": {},
   "outputs": [
    {
     "data": {
      "image/png": "[encoded data removed]",
      "text/plain": [
       "<Figure size 1152x576 with 1 Axes>"
      ]
     },
     "metadata": {
      "needs_background": "light"
     },
     "output_type": "display_data"
    }
   ],
   "source": [
    "plotting_histograms_total_svi(visualdf)"
   ]
  },
  {
   "cell_type": "code",
   "execution_count": 80,
   "metadata": {},
   "outputs": [],
   "source": [
    "# This creates the dataframes of predictions so we can visualize the results of our models' predictions\n",
    "\n",
    "def create_visualdf(y_test, y_train, y_test_predLL, y_test_predLR, y_test_predTW, y_test_predrTW):\n",
    "    '''\n",
    "    creates dataframe for making visualizations\n",
    "    '''\n",
    "    visualdf = pd.DataFrame()\n",
    "    visualdf['actual'] = y_test.tract_cases_per_100k\n",
    "    visualdf['baseline'] = y_train.tract_cases_per_100k.mean()\n",
    "    visualdf['TWpred'] = y_test_predTW\n",
    "    visualdf['LRpred'] = y_test_predLR\n",
    "    visualdf['LLpred'] = y_test_predLL\n",
    "    visualdf['SVI_only'] = y_test_predrTW\n",
    "    return visualdf"
   ]
  },
  {
   "cell_type": "code",
   "execution_count": null,
   "metadata": {},
   "outputs": [],
   "source": []
  }
 ],
 "metadata": {
  "kernelspec": {
   "display_name": "Python 3",
   "language": "python",
   "name": "python3"
  },
  "language_info": {
   "codemirror_mode": {
    "name": "ipython",
    "version": 3
   },
   "file_extension": ".py",
   "mimetype": "text/x-python",
   "name": "python",
   "nbconvert_exporter": "python",
   "pygments_lexer": "ipython3",
   "version": "3.7.9"
  }
 },
 "nbformat": 4,
 "nbformat_minor": 4
}
