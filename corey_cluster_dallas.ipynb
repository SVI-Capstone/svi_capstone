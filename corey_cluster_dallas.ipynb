{
 "cells": [
  {
   "cell_type": "code",
   "execution_count": 1,
   "metadata": {},
   "outputs": [],
   "source": [
    "import pandas as pd\n",
    "import matplotlib.pyplot as plt\n",
    "import seaborn as sns\n",
    "import numpy as np\n",
    "from scipy import stats\n",
    "from scipy.stats import f_oneway, kruskal\n",
    "from math import sqrt\n",
    "\n",
    "import wrangle\n",
    "import explore\n",
    "\n",
    "import warnings\n",
    "warnings.simplefilter(action='ignore', category=FutureWarning)\n",
    "pd.options.mode.chained_assignment = None  # default='warn'"
   ]
  },
  {
   "cell_type": "code",
   "execution_count": 2,
   "metadata": {},
   "outputs": [
    {
     "name": "stdout",
     "output_type": "stream",
     "text": [
      "Acquire: compiling raw data files...\n",
      "Acquire: Completed!\n",
      "Prepare: preparing data files...\n",
      "Prepare: Completed!\n",
      "(246, 28) (62, 28)\n"
     ]
    },
    {
     "data": {
      "text/plain": [
       "((308, 29), (246, 29), (246, 25), (246, 1), (62, 25), (62, 1))"
      ]
     },
     "execution_count": 2,
     "metadata": {},
     "output_type": "execute_result"
    }
   ],
   "source": [
    "df, train_exp, X_train_scaled, y_train, X_test_scaled, y_test = wrangle.wrangle_dallas_data()\n",
    "df.shape, train_exp.shape, X_train_scaled.shape, y_train.shape, X_test_scaled.shape, y_test.shape"
   ]
  },
  {
   "cell_type": "markdown",
   "metadata": {},
   "source": [
    "## Explore Functions"
   ]
  },
  {
   "cell_type": "code",
   "execution_count": 3,
   "metadata": {},
   "outputs": [],
   "source": [
    "from sklearn.cluster import KMeans\n",
    "\n",
    "# ##################################################################################################################\n",
    "\n",
    "# def r2(x, y):\n",
    "#     '''\n",
    "#     Takes in x and y and returns pearsons correlation coefficent\n",
    "#     '''\n",
    "#     return stats.pearsonr(x, y)[0] ** 2\n",
    "\n",
    "# ##################################################################################################################\n",
    "\n",
    "# def elbow_plot(X_train_scaled, cluster_vars):\n",
    "#     '''\n",
    "#     Given X_train and cluster variables plots an elbow_plot\n",
    "#     '''\n",
    "#     # elbow method to identify good k for us\n",
    "#     ks = range(1,10)\n",
    "    \n",
    "#     # empty list to hold inertia (sum of squares)\n",
    "#     sse = []\n",
    "\n",
    "#     # loop through each k, fit kmeans, get inertia\n",
    "#     for k in ks:\n",
    "#         kmeans = KMeans(n_clusters=k)\n",
    "#         kmeans.fit(X_train_scaled[cluster_vars])\n",
    "#         # inertia\n",
    "#         sse.append(kmeans.inertia_)\n",
    "\n",
    "#     print(pd.DataFrame(dict(k=ks, sse=sse)))\n",
    "\n",
    "#     # plot k with inertia\n",
    "#     plt.plot(ks, sse, 'bx-')\n",
    "#     plt.xlabel('k')\n",
    "#     plt.ylabel('SSE')\n",
    "#     plt.title('Elbow method to find optimal k')\n",
    "#     plt.show()\n",
    "\n",
    "# ##################################################################################################################\n",
    "\n",
    "# def run_kmeans(X_train, X_train_scaled, k, cluster_vars, cluster_col_name):\n",
    "#     '''\n",
    "#     Creates a kemeans object and creates a dataframe with cluster information\n",
    "#     '''\n",
    "#     # create kmeans object\n",
    "#     kmeans = KMeans(n_clusters = k, random_state = 13)\n",
    "#     kmeans.fit(X_train_scaled[cluster_vars])\n",
    "#     # predict and create a dataframe with cluster per observation\n",
    "#     train_clusters = \\\n",
    "#         pd.DataFrame(kmeans.predict(X_train_scaled[cluster_vars]),\n",
    "#                               columns=[cluster_col_name],\n",
    "#                               index=X_train.index)\n",
    "    \n",
    "#     return train_clusters, kmeans\n",
    "\n",
    "# ##################################################################################################################\n",
    "\n",
    "# def kmeans_transform(X_scaled, kmeans, cluster_vars, cluster_col_name):\n",
    "#     '''\n",
    "#     Takes in a dataframe and returns custers that have been predicted on that dataframe\n",
    "#     '''\n",
    "#     kmeans.transform(X_scaled[cluster_vars])\n",
    "#     trans_clusters = \\\n",
    "#         pd.DataFrame(kmeans.predict(X_scaled[cluster_vars]),\n",
    "#                               columns=[cluster_col_name],\n",
    "#                               index=X_scaled.index)\n",
    "    \n",
    "#     return trans_clusters\n",
    "\n",
    "# ##################################################################################################################\n",
    "\n",
    "# def get_centroids(cluster_vars, cluster_col_name, kmeans):\n",
    "#     '''\n",
    "#     Takes in kmeans and cluster variables to produce centroids\n",
    "#     '''\n",
    "#     centroid_col_names = ['centroid_' + i for i in cluster_vars]\n",
    "\n",
    "#     centroids = pd.DataFrame(kmeans.cluster_centers_, \n",
    "#              columns=centroid_col_names).reset_index().rename(columns={'index': cluster_col_name})\n",
    "    \n",
    "#     return centroids\n",
    "\n",
    "# ##################################################################################################################\n",
    "\n",
    "# def add_to_train(train_clusters, centroids, X_train_scaled, cluster_col_name):\n",
    "#     '''\n",
    "#     Takes in a datafrme, clusters, centroids and returns a new dataframe with all information concated together\n",
    "#     '''\n",
    "#     # concatenate cluster id\n",
    "#     X_train2 = pd.concat([X_train_scaled, train_clusters], axis=1)\n",
    "\n",
    "#     # join on clusterid to get centroids\n",
    "#     X_train2 = X_train2.merge(centroids, how='left', \n",
    "#                             on=cluster_col_name).\\\n",
    "#                         set_index(X_train_scaled.index)\n",
    "    \n",
    "#     return X_train2\n",
    "\n",
    "# ##################################################################################################################"
   ]
  },
  {
   "cell_type": "markdown",
   "metadata": {},
   "source": [
    "## Clustering In Dallas\n",
    "\n",
    "**Takeaway**: \n",
    "`Features that demonstrate potential for Clustering`\n",
    "\n",
    "1. E_POV (Persons below poverty estimate)\n",
    "2. EP_POV (Percentage of persons below poverty estimate)\n",
    "3. SPL_THEME1 (Sum of series for Socioeconomic theme)\n",
    "\n",
    "*Very few features are affective in classifying SVI groups.  Suggests COVID affects all groups equally in Dallas*"
   ]
  },
  {
   "cell_type": "markdown",
   "metadata": {},
   "source": [
    "#### Scatterplot spl_theme1"
   ]
  },
  {
   "cell_type": "code",
   "execution_count": 4,
   "metadata": {},
   "outputs": [
    {
     "data": {
      "image/png": "[encoded data removed]",
      "text/plain": [
       "<Figure size 432x288 with 1 Axes>"
      ]
     },
     "metadata": {
      "needs_background": "light"
     },
     "output_type": "display_data"
    }
   ],
   "source": [
    "sns.scatterplot(x='spl_theme1', y= 'tract_cases_per_100k',\n",
    "               data = train_exp, hue='bin_svi',legend = False)\n",
    "plt.title(\"\")\n",
    "plt.show()"
   ]
  },
  {
   "cell_type": "markdown",
   "metadata": {},
   "source": [
    "#### Correlation spl_theme1"
   ]
  },
  {
   "cell_type": "code",
   "execution_count": 5,
   "metadata": {},
   "outputs": [
    {
     "data": {
      "text/plain": [
       "0.05696058329529423"
      ]
     },
     "execution_count": 5,
     "metadata": {},
     "output_type": "execute_result"
    }
   ],
   "source": [
    "x = train_exp.spl_theme1\n",
    "y = train_exp.tract_cases_per_100k\n",
    "explore.r2(x,y)"
   ]
  },
  {
   "cell_type": "markdown",
   "metadata": {},
   "source": [
    "***"
   ]
  },
  {
   "cell_type": "markdown",
   "metadata": {},
   "source": [
    "#### Scatterplot ep_pov"
   ]
  },
  {
   "cell_type": "code",
   "execution_count": 6,
   "metadata": {},
   "outputs": [
    {
     "data": {
      "image/png": "[encoded data removed]",
      "text/plain": [
       "<Figure size 432x288 with 1 Axes>"
      ]
     },
     "metadata": {
      "needs_background": "light"
     },
     "output_type": "display_data"
    }
   ],
   "source": [
    "sns.scatterplot(x='ep_pov', y= 'tract_cases_per_100k',\n",
    "               data = train_exp, hue='bin_svi',legend = False)\n",
    "plt.title(\"\")\n",
    "plt.show()"
   ]
  },
  {
   "cell_type": "markdown",
   "metadata": {},
   "source": [
    "#### Correlation ep_pov"
   ]
  },
  {
   "cell_type": "code",
   "execution_count": 7,
   "metadata": {},
   "outputs": [
    {
     "data": {
      "text/plain": [
       "0.04498868969657258"
      ]
     },
     "execution_count": 7,
     "metadata": {},
     "output_type": "execute_result"
    }
   ],
   "source": [
    "x = train_exp.ep_pov\n",
    "y = train_exp.tract_cases_per_100k\n",
    "explore.r2(x,y)"
   ]
  },
  {
   "cell_type": "markdown",
   "metadata": {},
   "source": [
    "***"
   ]
  },
  {
   "cell_type": "markdown",
   "metadata": {},
   "source": [
    "#### Scatterplot e_pov"
   ]
  },
  {
   "cell_type": "code",
   "execution_count": 8,
   "metadata": {},
   "outputs": [
    {
     "data": {
      "image/png": "[encoded data removed]",
      "text/plain": [
       "<Figure size 432x288 with 1 Axes>"
      ]
     },
     "metadata": {
      "needs_background": "light"
     },
     "output_type": "display_data"
    }
   ],
   "source": [
    "sns.scatterplot(x='e_pov', y= 'tract_cases_per_100k',\n",
    "               data = train_exp, hue='bin_svi',legend = False)\n",
    "plt.title(\"\")\n",
    "plt.show()"
   ]
  },
  {
   "cell_type": "markdown",
   "metadata": {},
   "source": [
    "#### Correlation e_pov"
   ]
  },
  {
   "cell_type": "code",
   "execution_count": 9,
   "metadata": {},
   "outputs": [
    {
     "data": {
      "text/plain": [
       "0.0259971510461988"
      ]
     },
     "execution_count": 9,
     "metadata": {},
     "output_type": "execute_result"
    }
   ],
   "source": [
    "x = train_exp.e_pov\n",
    "y = train_exp.tract_cases_per_100k\n",
    "explore.r2(x,y)"
   ]
  },
  {
   "cell_type": "code",
   "execution_count": 10,
   "metadata": {},
   "outputs": [
    {
     "data": {
      "text/html": [
       "<div>\n",
       "<style scoped>\n",
       "    .dataframe tbody tr th:only-of-type {\n",
       "        vertical-align: middle;\n",
       "    }\n",
       "\n",
       "    .dataframe tbody tr th {\n",
       "        vertical-align: top;\n",
       "    }\n",
       "\n",
       "    .dataframe thead th {\n",
       "        text-align: right;\n",
       "    }\n",
       "</style>\n",
       "<table border=\"1\" class=\"dataframe\">\n",
       "  <thead>\n",
       "    <tr style=\"text-align: right;\">\n",
       "      <th></th>\n",
       "      <th>raw_svi</th>\n",
       "      <th>f_pov_soci</th>\n",
       "      <th>f_unemp_soci</th>\n",
       "      <th>f_pci_soci</th>\n",
       "      <th>f_nohsdp_soci</th>\n",
       "      <th>f_age65_comp</th>\n",
       "      <th>f_age17_comp</th>\n",
       "      <th>f_disabl_comp</th>\n",
       "      <th>f_sngpnt_comp</th>\n",
       "      <th>f_minrty_status</th>\n",
       "      <th>...</th>\n",
       "      <th>f_groupq_trans</th>\n",
       "      <th>f_soci_total_scaled</th>\n",
       "      <th>f_comp_total_scaled</th>\n",
       "      <th>f_status_total_scaled</th>\n",
       "      <th>f_trans_total_scaled</th>\n",
       "      <th>all_flags_total_scaled</th>\n",
       "      <th>rank_svi_scaled</th>\n",
       "      <th>spl_theme1_scaled</th>\n",
       "      <th>ep_pov_scaled</th>\n",
       "      <th>e_pov_scaled</th>\n",
       "    </tr>\n",
       "  </thead>\n",
       "  <tbody>\n",
       "    <tr>\n",
       "      <th>236</th>\n",
       "      <td>0.0891</td>\n",
       "      <td>0</td>\n",
       "      <td>0</td>\n",
       "      <td>0</td>\n",
       "      <td>0</td>\n",
       "      <td>0</td>\n",
       "      <td>0</td>\n",
       "      <td>0</td>\n",
       "      <td>0</td>\n",
       "      <td>0</td>\n",
       "      <td>...</td>\n",
       "      <td>0</td>\n",
       "      <td>0.00</td>\n",
       "      <td>0.000000</td>\n",
       "      <td>0.0</td>\n",
       "      <td>0.25</td>\n",
       "      <td>0.1</td>\n",
       "      <td>1.000000</td>\n",
       "      <td>0.166715</td>\n",
       "      <td>0.133212</td>\n",
       "      <td>0.145334</td>\n",
       "    </tr>\n",
       "    <tr>\n",
       "      <th>77</th>\n",
       "      <td>0.8041</td>\n",
       "      <td>0</td>\n",
       "      <td>0</td>\n",
       "      <td>0</td>\n",
       "      <td>1</td>\n",
       "      <td>0</td>\n",
       "      <td>0</td>\n",
       "      <td>0</td>\n",
       "      <td>0</td>\n",
       "      <td>0</td>\n",
       "      <td>...</td>\n",
       "      <td>0</td>\n",
       "      <td>0.25</td>\n",
       "      <td>0.000000</td>\n",
       "      <td>0.5</td>\n",
       "      <td>0.25</td>\n",
       "      <td>0.3</td>\n",
       "      <td>0.000000</td>\n",
       "      <td>0.790449</td>\n",
       "      <td>0.490876</td>\n",
       "      <td>0.415084</td>\n",
       "    </tr>\n",
       "    <tr>\n",
       "      <th>193</th>\n",
       "      <td>0.8900</td>\n",
       "      <td>0</td>\n",
       "      <td>0</td>\n",
       "      <td>1</td>\n",
       "      <td>1</td>\n",
       "      <td>0</td>\n",
       "      <td>1</td>\n",
       "      <td>0</td>\n",
       "      <td>1</td>\n",
       "      <td>1</td>\n",
       "      <td>...</td>\n",
       "      <td>0</td>\n",
       "      <td>0.50</td>\n",
       "      <td>0.666667</td>\n",
       "      <td>1.0</td>\n",
       "      <td>0.00</td>\n",
       "      <td>0.6</td>\n",
       "      <td>0.000000</td>\n",
       "      <td>0.790896</td>\n",
       "      <td>0.441606</td>\n",
       "      <td>0.541151</td>\n",
       "    </tr>\n",
       "    <tr>\n",
       "      <th>177</th>\n",
       "      <td>0.6402</td>\n",
       "      <td>0</td>\n",
       "      <td>0</td>\n",
       "      <td>0</td>\n",
       "      <td>0</td>\n",
       "      <td>0</td>\n",
       "      <td>0</td>\n",
       "      <td>0</td>\n",
       "      <td>0</td>\n",
       "      <td>0</td>\n",
       "      <td>...</td>\n",
       "      <td>0</td>\n",
       "      <td>0.00</td>\n",
       "      <td>0.000000</td>\n",
       "      <td>0.0</td>\n",
       "      <td>0.00</td>\n",
       "      <td>0.0</td>\n",
       "      <td>0.333333</td>\n",
       "      <td>0.508302</td>\n",
       "      <td>0.489051</td>\n",
       "      <td>0.561244</td>\n",
       "    </tr>\n",
       "    <tr>\n",
       "      <th>7</th>\n",
       "      <td>0.4159</td>\n",
       "      <td>0</td>\n",
       "      <td>0</td>\n",
       "      <td>0</td>\n",
       "      <td>0</td>\n",
       "      <td>0</td>\n",
       "      <td>0</td>\n",
       "      <td>0</td>\n",
       "      <td>0</td>\n",
       "      <td>0</td>\n",
       "      <td>...</td>\n",
       "      <td>0</td>\n",
       "      <td>0.00</td>\n",
       "      <td>0.000000</td>\n",
       "      <td>0.5</td>\n",
       "      <td>0.50</td>\n",
       "      <td>0.3</td>\n",
       "      <td>0.666667</td>\n",
       "      <td>0.586212</td>\n",
       "      <td>0.282847</td>\n",
       "      <td>0.374622</td>\n",
       "    </tr>\n",
       "    <tr>\n",
       "      <th>...</th>\n",
       "      <td>...</td>\n",
       "      <td>...</td>\n",
       "      <td>...</td>\n",
       "      <td>...</td>\n",
       "      <td>...</td>\n",
       "      <td>...</td>\n",
       "      <td>...</td>\n",
       "      <td>...</td>\n",
       "      <td>...</td>\n",
       "      <td>...</td>\n",
       "      <td>...</td>\n",
       "      <td>...</td>\n",
       "      <td>...</td>\n",
       "      <td>...</td>\n",
       "      <td>...</td>\n",
       "      <td>...</td>\n",
       "      <td>...</td>\n",
       "      <td>...</td>\n",
       "      <td>...</td>\n",
       "      <td>...</td>\n",
       "      <td>...</td>\n",
       "    </tr>\n",
       "    <tr>\n",
       "      <th>263</th>\n",
       "      <td>0.3548</td>\n",
       "      <td>0</td>\n",
       "      <td>0</td>\n",
       "      <td>0</td>\n",
       "      <td>0</td>\n",
       "      <td>0</td>\n",
       "      <td>0</td>\n",
       "      <td>0</td>\n",
       "      <td>0</td>\n",
       "      <td>0</td>\n",
       "      <td>...</td>\n",
       "      <td>0</td>\n",
       "      <td>0.00</td>\n",
       "      <td>0.000000</td>\n",
       "      <td>0.0</td>\n",
       "      <td>0.00</td>\n",
       "      <td>0.0</td>\n",
       "      <td>0.666667</td>\n",
       "      <td>0.273280</td>\n",
       "      <td>0.098540</td>\n",
       "      <td>0.058079</td>\n",
       "    </tr>\n",
       "    <tr>\n",
       "      <th>102</th>\n",
       "      <td>0.5758</td>\n",
       "      <td>0</td>\n",
       "      <td>0</td>\n",
       "      <td>0</td>\n",
       "      <td>0</td>\n",
       "      <td>0</td>\n",
       "      <td>0</td>\n",
       "      <td>0</td>\n",
       "      <td>0</td>\n",
       "      <td>0</td>\n",
       "      <td>...</td>\n",
       "      <td>0</td>\n",
       "      <td>0.00</td>\n",
       "      <td>0.000000</td>\n",
       "      <td>0.0</td>\n",
       "      <td>0.50</td>\n",
       "      <td>0.2</td>\n",
       "      <td>0.333333</td>\n",
       "      <td>0.565373</td>\n",
       "      <td>0.401460</td>\n",
       "      <td>0.133223</td>\n",
       "    </tr>\n",
       "    <tr>\n",
       "      <th>40</th>\n",
       "      <td>0.9334</td>\n",
       "      <td>1</td>\n",
       "      <td>0</td>\n",
       "      <td>1</td>\n",
       "      <td>1</td>\n",
       "      <td>0</td>\n",
       "      <td>0</td>\n",
       "      <td>0</td>\n",
       "      <td>0</td>\n",
       "      <td>1</td>\n",
       "      <td>...</td>\n",
       "      <td>0</td>\n",
       "      <td>0.75</td>\n",
       "      <td>0.000000</td>\n",
       "      <td>1.0</td>\n",
       "      <td>0.50</td>\n",
       "      <td>0.7</td>\n",
       "      <td>0.000000</td>\n",
       "      <td>0.906723</td>\n",
       "      <td>0.678832</td>\n",
       "      <td>0.634462</td>\n",
       "    </tr>\n",
       "    <tr>\n",
       "      <th>210</th>\n",
       "      <td>0.6177</td>\n",
       "      <td>0</td>\n",
       "      <td>0</td>\n",
       "      <td>0</td>\n",
       "      <td>0</td>\n",
       "      <td>0</td>\n",
       "      <td>0</td>\n",
       "      <td>0</td>\n",
       "      <td>0</td>\n",
       "      <td>0</td>\n",
       "      <td>...</td>\n",
       "      <td>0</td>\n",
       "      <td>0.00</td>\n",
       "      <td>0.000000</td>\n",
       "      <td>0.0</td>\n",
       "      <td>0.00</td>\n",
       "      <td>0.0</td>\n",
       "      <td>0.333333</td>\n",
       "      <td>0.626733</td>\n",
       "      <td>0.341241</td>\n",
       "      <td>0.175337</td>\n",
       "    </tr>\n",
       "    <tr>\n",
       "      <th>522</th>\n",
       "      <td>0.8416</td>\n",
       "      <td>1</td>\n",
       "      <td>0</td>\n",
       "      <td>0</td>\n",
       "      <td>0</td>\n",
       "      <td>0</td>\n",
       "      <td>0</td>\n",
       "      <td>1</td>\n",
       "      <td>0</td>\n",
       "      <td>0</td>\n",
       "      <td>...</td>\n",
       "      <td>1</td>\n",
       "      <td>0.25</td>\n",
       "      <td>0.333333</td>\n",
       "      <td>0.0</td>\n",
       "      <td>0.75</td>\n",
       "      <td>0.5</td>\n",
       "      <td>0.000000</td>\n",
       "      <td>0.655440</td>\n",
       "      <td>0.625912</td>\n",
       "      <td>0.202587</td>\n",
       "    </tr>\n",
       "  </tbody>\n",
       "</table>\n",
       "<p>246 rows × 25 columns</p>\n",
       "</div>"
      ],
      "text/plain": [
       "     raw_svi  f_pov_soci  f_unemp_soci  f_pci_soci  f_nohsdp_soci  \\\n",
       "236   0.0891           0             0           0              0   \n",
       "77    0.8041           0             0           0              1   \n",
       "193   0.8900           0             0           1              1   \n",
       "177   0.6402           0             0           0              0   \n",
       "7     0.4159           0             0           0              0   \n",
       "..       ...         ...           ...         ...            ...   \n",
       "263   0.3548           0             0           0              0   \n",
       "102   0.5758           0             0           0              0   \n",
       "40    0.9334           1             0           1              1   \n",
       "210   0.6177           0             0           0              0   \n",
       "522   0.8416           1             0           0              0   \n",
       "\n",
       "     f_age65_comp  f_age17_comp  f_disabl_comp  f_sngpnt_comp  \\\n",
       "236             0             0              0              0   \n",
       "77              0             0              0              0   \n",
       "193             0             1              0              1   \n",
       "177             0             0              0              0   \n",
       "7               0             0              0              0   \n",
       "..            ...           ...            ...            ...   \n",
       "263             0             0              0              0   \n",
       "102             0             0              0              0   \n",
       "40              0             0              0              0   \n",
       "210             0             0              0              0   \n",
       "522             0             0              1              0   \n",
       "\n",
       "     f_minrty_status  ...  f_groupq_trans  f_soci_total_scaled  \\\n",
       "236                0  ...               0                 0.00   \n",
       "77                 0  ...               0                 0.25   \n",
       "193                1  ...               0                 0.50   \n",
       "177                0  ...               0                 0.00   \n",
       "7                  0  ...               0                 0.00   \n",
       "..               ...  ...             ...                  ...   \n",
       "263                0  ...               0                 0.00   \n",
       "102                0  ...               0                 0.00   \n",
       "40                 1  ...               0                 0.75   \n",
       "210                0  ...               0                 0.00   \n",
       "522                0  ...               1                 0.25   \n",
       "\n",
       "     f_comp_total_scaled  f_status_total_scaled  f_trans_total_scaled  \\\n",
       "236             0.000000                    0.0                  0.25   \n",
       "77              0.000000                    0.5                  0.25   \n",
       "193             0.666667                    1.0                  0.00   \n",
       "177             0.000000                    0.0                  0.00   \n",
       "7               0.000000                    0.5                  0.50   \n",
       "..                   ...                    ...                   ...   \n",
       "263             0.000000                    0.0                  0.00   \n",
       "102             0.000000                    0.0                  0.50   \n",
       "40              0.000000                    1.0                  0.50   \n",
       "210             0.000000                    0.0                  0.00   \n",
       "522             0.333333                    0.0                  0.75   \n",
       "\n",
       "     all_flags_total_scaled  rank_svi_scaled  spl_theme1_scaled  \\\n",
       "236                     0.1         1.000000           0.166715   \n",
       "77                      0.3         0.000000           0.790449   \n",
       "193                     0.6         0.000000           0.790896   \n",
       "177                     0.0         0.333333           0.508302   \n",
       "7                       0.3         0.666667           0.586212   \n",
       "..                      ...              ...                ...   \n",
       "263                     0.0         0.666667           0.273280   \n",
       "102                     0.2         0.333333           0.565373   \n",
       "40                      0.7         0.000000           0.906723   \n",
       "210                     0.0         0.333333           0.626733   \n",
       "522                     0.5         0.000000           0.655440   \n",
       "\n",
       "     ep_pov_scaled  e_pov_scaled  \n",
       "236       0.133212      0.145334  \n",
       "77        0.490876      0.415084  \n",
       "193       0.441606      0.541151  \n",
       "177       0.489051      0.561244  \n",
       "7         0.282847      0.374622  \n",
       "..             ...           ...  \n",
       "263       0.098540      0.058079  \n",
       "102       0.401460      0.133223  \n",
       "40        0.678832      0.634462  \n",
       "210       0.341241      0.175337  \n",
       "522       0.625912      0.202587  \n",
       "\n",
       "[246 rows x 25 columns]"
      ]
     },
     "execution_count": 10,
     "metadata": {},
     "output_type": "execute_result"
    }
   ],
   "source": [
    "X_train_scaled"
   ]
  },
  {
   "cell_type": "markdown",
   "metadata": {},
   "source": [
    "***"
   ]
  },
  {
   "cell_type": "markdown",
   "metadata": {},
   "source": [
    "## Poverty Cluster"
   ]
  },
  {
   "cell_type": "markdown",
   "metadata": {},
   "source": [
    "#### Elbow Method to estabolish k"
   ]
  },
  {
   "cell_type": "code",
   "execution_count": 11,
   "metadata": {},
   "outputs": [
    {
     "name": "stdout",
     "output_type": "stream",
     "text": [
      "   k        sse\n",
      "0  1  46.826522\n",
      "1  2  14.930835\n",
      "2  3   9.444917\n",
      "3  4   7.346522\n",
      "4  5   6.131614\n",
      "5  6   5.140396\n",
      "6  7   4.547445\n",
      "7  8   4.192510\n",
      "8  9   3.854189\n"
     ]
    },
    {
     "data": {
      "image/png": "[encoded data removed]",
      "text/plain": [
       "<Figure size 432x288 with 1 Axes>"
      ]
     },
     "metadata": {
      "needs_background": "light"
     },
     "output_type": "display_data"
    }
   ],
   "source": [
    "cluster_vars = ['spl_theme1_scaled', 'ep_pov_scaled', 'e_pov_scaled']\n",
    "explore.elbow_plot(X_train_scaled, cluster_vars)"
   ]
  },
  {
   "cell_type": "markdown",
   "metadata": {},
   "source": [
    "` k = 4 `"
   ]
  },
  {
   "cell_type": "markdown",
   "metadata": {},
   "source": [
    "#### Create Clusters"
   ]
  },
  {
   "cell_type": "code",
   "execution_count": 12,
   "metadata": {},
   "outputs": [],
   "source": [
    "train_clusters, kmeans = explore.run_kmeans(train_exp, X_train_scaled, k=4, cluster_vars=cluster_vars, cluster_col_name = 'poverty_cluster')\n",
    "test_clusters = explore.kmeans_transform(X_test_scaled, kmeans, cluster_vars, cluster_col_name = 'poverty_cluster')"
   ]
  },
  {
   "cell_type": "markdown",
   "metadata": {},
   "source": [
    "#### Get Centroids"
   ]
  },
  {
   "cell_type": "code",
   "execution_count": 13,
   "metadata": {},
   "outputs": [],
   "source": [
    "centroids = explore.get_centroids(cluster_vars, cluster_col_name='poverty_cluster', kmeans= kmeans)"
   ]
  },
  {
   "cell_type": "code",
   "execution_count": 14,
   "metadata": {},
   "outputs": [
    {
     "data": {
      "text/plain": [
       "((246, 25), (62, 25), (246, 29))"
      ]
     },
     "execution_count": 14,
     "metadata": {},
     "output_type": "execute_result"
    }
   ],
   "source": [
    "X_train_scaled.shape, X_test_scaled.shape, train_exp.shape"
   ]
  },
  {
   "cell_type": "markdown",
   "metadata": {},
   "source": [
    "#### Append Cluster and Join Centroids"
   ]
  },
  {
   "cell_type": "code",
   "execution_count": 15,
   "metadata": {},
   "outputs": [],
   "source": [
    "train_exp = explore.add_to_train(train_clusters, centroids, train_exp, cluster_col_name = 'poverty_cluster')\n",
    "X_train_scaled = explore.add_to_train(train_clusters, centroids, X_train_scaled, cluster_col_name = 'poverty_cluster')\n",
    "X_test_scaled = explore.add_to_train(test_clusters, centroids, X_test_scaled, cluster_col_name = 'poverty_cluster')"
   ]
  },
  {
   "cell_type": "code",
   "execution_count": 16,
   "metadata": {},
   "outputs": [
    {
     "data": {
      "text/plain": [
       "((246, 29), (62, 29), (246, 33))"
      ]
     },
     "execution_count": 16,
     "metadata": {},
     "output_type": "execute_result"
    }
   ],
   "source": [
    "X_train_scaled.shape, X_test_scaled.shape, train_exp.shape"
   ]
  },
  {
   "cell_type": "code",
   "execution_count": 17,
   "metadata": {},
   "outputs": [
    {
     "data": {
      "text/html": [
       "<div>\n",
       "<style scoped>\n",
       "    .dataframe tbody tr th:only-of-type {\n",
       "        vertical-align: middle;\n",
       "    }\n",
       "\n",
       "    .dataframe tbody tr th {\n",
       "        vertical-align: top;\n",
       "    }\n",
       "\n",
       "    .dataframe thead th {\n",
       "        text-align: right;\n",
       "    }\n",
       "</style>\n",
       "<table border=\"1\" class=\"dataframe\">\n",
       "  <thead>\n",
       "    <tr style=\"text-align: right;\">\n",
       "      <th></th>\n",
       "      <th>raw_svi</th>\n",
       "      <th>f_pov_soci</th>\n",
       "      <th>f_unemp_soci</th>\n",
       "      <th>f_pci_soci</th>\n",
       "      <th>f_nohsdp_soci</th>\n",
       "      <th>f_age65_comp</th>\n",
       "      <th>f_age17_comp</th>\n",
       "      <th>f_disabl_comp</th>\n",
       "      <th>f_sngpnt_comp</th>\n",
       "      <th>f_minrty_status</th>\n",
       "      <th>...</th>\n",
       "      <th>f_trans_total_scaled</th>\n",
       "      <th>all_flags_total_scaled</th>\n",
       "      <th>rank_svi_scaled</th>\n",
       "      <th>spl_theme1_scaled</th>\n",
       "      <th>ep_pov_scaled</th>\n",
       "      <th>e_pov_scaled</th>\n",
       "      <th>poverty_cluster</th>\n",
       "      <th>centroid_spl_theme1_scaled</th>\n",
       "      <th>centroid_ep_pov_scaled</th>\n",
       "      <th>centroid_e_pov_scaled</th>\n",
       "    </tr>\n",
       "  </thead>\n",
       "  <tbody>\n",
       "    <tr>\n",
       "      <th>236</th>\n",
       "      <td>0.0891</td>\n",
       "      <td>0</td>\n",
       "      <td>0</td>\n",
       "      <td>0</td>\n",
       "      <td>0</td>\n",
       "      <td>0</td>\n",
       "      <td>0</td>\n",
       "      <td>0</td>\n",
       "      <td>0</td>\n",
       "      <td>0</td>\n",
       "      <td>...</td>\n",
       "      <td>0.25</td>\n",
       "      <td>0.1</td>\n",
       "      <td>1.000000</td>\n",
       "      <td>0.166715</td>\n",
       "      <td>0.133212</td>\n",
       "      <td>0.145334</td>\n",
       "      <td>0</td>\n",
       "      <td>0.099795</td>\n",
       "      <td>0.085008</td>\n",
       "      <td>0.048500</td>\n",
       "    </tr>\n",
       "    <tr>\n",
       "      <th>77</th>\n",
       "      <td>0.8041</td>\n",
       "      <td>0</td>\n",
       "      <td>0</td>\n",
       "      <td>0</td>\n",
       "      <td>1</td>\n",
       "      <td>0</td>\n",
       "      <td>0</td>\n",
       "      <td>0</td>\n",
       "      <td>0</td>\n",
       "      <td>0</td>\n",
       "      <td>...</td>\n",
       "      <td>0.25</td>\n",
       "      <td>0.3</td>\n",
       "      <td>0.000000</td>\n",
       "      <td>0.790449</td>\n",
       "      <td>0.490876</td>\n",
       "      <td>0.415084</td>\n",
       "      <td>3</td>\n",
       "      <td>0.727022</td>\n",
       "      <td>0.406888</td>\n",
       "      <td>0.266358</td>\n",
       "    </tr>\n",
       "    <tr>\n",
       "      <th>193</th>\n",
       "      <td>0.8900</td>\n",
       "      <td>0</td>\n",
       "      <td>0</td>\n",
       "      <td>1</td>\n",
       "      <td>1</td>\n",
       "      <td>0</td>\n",
       "      <td>1</td>\n",
       "      <td>0</td>\n",
       "      <td>1</td>\n",
       "      <td>1</td>\n",
       "      <td>...</td>\n",
       "      <td>0.00</td>\n",
       "      <td>0.6</td>\n",
       "      <td>0.000000</td>\n",
       "      <td>0.790896</td>\n",
       "      <td>0.441606</td>\n",
       "      <td>0.541151</td>\n",
       "      <td>1</td>\n",
       "      <td>0.839377</td>\n",
       "      <td>0.635655</td>\n",
       "      <td>0.530122</td>\n",
       "    </tr>\n",
       "    <tr>\n",
       "      <th>177</th>\n",
       "      <td>0.6402</td>\n",
       "      <td>0</td>\n",
       "      <td>0</td>\n",
       "      <td>0</td>\n",
       "      <td>0</td>\n",
       "      <td>0</td>\n",
       "      <td>0</td>\n",
       "      <td>0</td>\n",
       "      <td>0</td>\n",
       "      <td>0</td>\n",
       "      <td>...</td>\n",
       "      <td>0.00</td>\n",
       "      <td>0.0</td>\n",
       "      <td>0.333333</td>\n",
       "      <td>0.508302</td>\n",
       "      <td>0.489051</td>\n",
       "      <td>0.561244</td>\n",
       "      <td>1</td>\n",
       "      <td>0.839377</td>\n",
       "      <td>0.635655</td>\n",
       "      <td>0.530122</td>\n",
       "    </tr>\n",
       "    <tr>\n",
       "      <th>7</th>\n",
       "      <td>0.4159</td>\n",
       "      <td>0</td>\n",
       "      <td>0</td>\n",
       "      <td>0</td>\n",
       "      <td>0</td>\n",
       "      <td>0</td>\n",
       "      <td>0</td>\n",
       "      <td>0</td>\n",
       "      <td>0</td>\n",
       "      <td>0</td>\n",
       "      <td>...</td>\n",
       "      <td>0.50</td>\n",
       "      <td>0.3</td>\n",
       "      <td>0.666667</td>\n",
       "      <td>0.586212</td>\n",
       "      <td>0.282847</td>\n",
       "      <td>0.374622</td>\n",
       "      <td>3</td>\n",
       "      <td>0.727022</td>\n",
       "      <td>0.406888</td>\n",
       "      <td>0.266358</td>\n",
       "    </tr>\n",
       "  </tbody>\n",
       "</table>\n",
       "<p>5 rows × 29 columns</p>\n",
       "</div>"
      ],
      "text/plain": [
       "     raw_svi  f_pov_soci  f_unemp_soci  f_pci_soci  f_nohsdp_soci  \\\n",
       "236   0.0891           0             0           0              0   \n",
       "77    0.8041           0             0           0              1   \n",
       "193   0.8900           0             0           1              1   \n",
       "177   0.6402           0             0           0              0   \n",
       "7     0.4159           0             0           0              0   \n",
       "\n",
       "     f_age65_comp  f_age17_comp  f_disabl_comp  f_sngpnt_comp  \\\n",
       "236             0             0              0              0   \n",
       "77              0             0              0              0   \n",
       "193             0             1              0              1   \n",
       "177             0             0              0              0   \n",
       "7               0             0              0              0   \n",
       "\n",
       "     f_minrty_status  ...  f_trans_total_scaled  all_flags_total_scaled  \\\n",
       "236                0  ...                  0.25                     0.1   \n",
       "77                 0  ...                  0.25                     0.3   \n",
       "193                1  ...                  0.00                     0.6   \n",
       "177                0  ...                  0.00                     0.0   \n",
       "7                  0  ...                  0.50                     0.3   \n",
       "\n",
       "     rank_svi_scaled  spl_theme1_scaled  ep_pov_scaled  e_pov_scaled  \\\n",
       "236         1.000000           0.166715       0.133212      0.145334   \n",
       "77          0.000000           0.790449       0.490876      0.415084   \n",
       "193         0.000000           0.790896       0.441606      0.541151   \n",
       "177         0.333333           0.508302       0.489051      0.561244   \n",
       "7           0.666667           0.586212       0.282847      0.374622   \n",
       "\n",
       "     poverty_cluster  centroid_spl_theme1_scaled  centroid_ep_pov_scaled  \\\n",
       "236                0                    0.099795                0.085008   \n",
       "77                 3                    0.727022                0.406888   \n",
       "193                1                    0.839377                0.635655   \n",
       "177                1                    0.839377                0.635655   \n",
       "7                  3                    0.727022                0.406888   \n",
       "\n",
       "     centroid_e_pov_scaled  \n",
       "236               0.048500  \n",
       "77                0.266358  \n",
       "193               0.530122  \n",
       "177               0.530122  \n",
       "7                 0.266358  \n",
       "\n",
       "[5 rows x 29 columns]"
      ]
     },
     "execution_count": 17,
     "metadata": {},
     "output_type": "execute_result"
    }
   ],
   "source": [
    "X_train_scaled.head()"
   ]
  },
  {
   "cell_type": "code",
   "execution_count": 18,
   "metadata": {},
   "outputs": [],
   "source": [
    "X_train_scaled, X_test_scaled = wrangle.scale_data_centroid(X_train_scaled, X_test_scaled)"
   ]
  },
  {
   "cell_type": "code",
   "execution_count": 19,
   "metadata": {},
   "outputs": [
    {
     "data": {
      "text/html": [
       "<div>\n",
       "<style scoped>\n",
       "    .dataframe tbody tr th:only-of-type {\n",
       "        vertical-align: middle;\n",
       "    }\n",
       "\n",
       "    .dataframe tbody tr th {\n",
       "        vertical-align: top;\n",
       "    }\n",
       "\n",
       "    .dataframe thead th {\n",
       "        text-align: right;\n",
       "    }\n",
       "</style>\n",
       "<table border=\"1\" class=\"dataframe\">\n",
       "  <thead>\n",
       "    <tr style=\"text-align: right;\">\n",
       "      <th></th>\n",
       "      <th>raw_svi</th>\n",
       "      <th>f_pov_soci</th>\n",
       "      <th>f_unemp_soci</th>\n",
       "      <th>f_pci_soci</th>\n",
       "      <th>f_nohsdp_soci</th>\n",
       "      <th>f_age65_comp</th>\n",
       "      <th>f_age17_comp</th>\n",
       "      <th>f_disabl_comp</th>\n",
       "      <th>f_sngpnt_comp</th>\n",
       "      <th>f_minrty_status</th>\n",
       "      <th>...</th>\n",
       "      <th>all_flags_total_scaled</th>\n",
       "      <th>rank_svi_scaled</th>\n",
       "      <th>spl_theme1_scaled</th>\n",
       "      <th>ep_pov_scaled</th>\n",
       "      <th>e_pov_scaled</th>\n",
       "      <th>poverty_cluster</th>\n",
       "      <th>centroid_spl_theme1_scaled</th>\n",
       "      <th>centroid_ep_pov_scaled</th>\n",
       "      <th>centroid_e_pov_scaled</th>\n",
       "      <th>poverty_cluster_scaled</th>\n",
       "    </tr>\n",
       "  </thead>\n",
       "  <tbody>\n",
       "    <tr>\n",
       "      <th>203</th>\n",
       "      <td>0.9437</td>\n",
       "      <td>0</td>\n",
       "      <td>0</td>\n",
       "      <td>0</td>\n",
       "      <td>0</td>\n",
       "      <td>0</td>\n",
       "      <td>1</td>\n",
       "      <td>0</td>\n",
       "      <td>1</td>\n",
       "      <td>0</td>\n",
       "      <td>...</td>\n",
       "      <td>0.3</td>\n",
       "      <td>0.000000</td>\n",
       "      <td>0.774924</td>\n",
       "      <td>0.598540</td>\n",
       "      <td>0.796587</td>\n",
       "      <td>1</td>\n",
       "      <td>0.839377</td>\n",
       "      <td>0.635655</td>\n",
       "      <td>0.530122</td>\n",
       "      <td>0.333333</td>\n",
       "    </tr>\n",
       "    <tr>\n",
       "      <th>465</th>\n",
       "      <td>0.8212</td>\n",
       "      <td>0</td>\n",
       "      <td>0</td>\n",
       "      <td>0</td>\n",
       "      <td>0</td>\n",
       "      <td>0</td>\n",
       "      <td>0</td>\n",
       "      <td>0</td>\n",
       "      <td>0</td>\n",
       "      <td>0</td>\n",
       "      <td>...</td>\n",
       "      <td>0.3</td>\n",
       "      <td>0.000000</td>\n",
       "      <td>0.782529</td>\n",
       "      <td>0.503650</td>\n",
       "      <td>0.295073</td>\n",
       "      <td>3</td>\n",
       "      <td>0.727022</td>\n",
       "      <td>0.406888</td>\n",
       "      <td>0.266358</td>\n",
       "      <td>1.000000</td>\n",
       "    </tr>\n",
       "    <tr>\n",
       "      <th>212</th>\n",
       "      <td>0.0630</td>\n",
       "      <td>0</td>\n",
       "      <td>0</td>\n",
       "      <td>0</td>\n",
       "      <td>0</td>\n",
       "      <td>0</td>\n",
       "      <td>0</td>\n",
       "      <td>0</td>\n",
       "      <td>0</td>\n",
       "      <td>0</td>\n",
       "      <td>...</td>\n",
       "      <td>0.0</td>\n",
       "      <td>1.000000</td>\n",
       "      <td>0.114853</td>\n",
       "      <td>0.151460</td>\n",
       "      <td>0.105147</td>\n",
       "      <td>0</td>\n",
       "      <td>0.099795</td>\n",
       "      <td>0.085008</td>\n",
       "      <td>0.048500</td>\n",
       "      <td>0.000000</td>\n",
       "    </tr>\n",
       "    <tr>\n",
       "      <th>167</th>\n",
       "      <td>0.8070</td>\n",
       "      <td>0</td>\n",
       "      <td>0</td>\n",
       "      <td>0</td>\n",
       "      <td>1</td>\n",
       "      <td>0</td>\n",
       "      <td>1</td>\n",
       "      <td>0</td>\n",
       "      <td>0</td>\n",
       "      <td>0</td>\n",
       "      <td>...</td>\n",
       "      <td>0.5</td>\n",
       "      <td>0.000000</td>\n",
       "      <td>0.722852</td>\n",
       "      <td>0.543796</td>\n",
       "      <td>0.456097</td>\n",
       "      <td>1</td>\n",
       "      <td>0.839377</td>\n",
       "      <td>0.635655</td>\n",
       "      <td>0.530122</td>\n",
       "      <td>0.333333</td>\n",
       "    </tr>\n",
       "    <tr>\n",
       "      <th>178</th>\n",
       "      <td>0.7410</td>\n",
       "      <td>0</td>\n",
       "      <td>0</td>\n",
       "      <td>0</td>\n",
       "      <td>0</td>\n",
       "      <td>0</td>\n",
       "      <td>0</td>\n",
       "      <td>1</td>\n",
       "      <td>0</td>\n",
       "      <td>1</td>\n",
       "      <td>...</td>\n",
       "      <td>0.2</td>\n",
       "      <td>0.333333</td>\n",
       "      <td>0.699540</td>\n",
       "      <td>0.520073</td>\n",
       "      <td>0.289568</td>\n",
       "      <td>3</td>\n",
       "      <td>0.727022</td>\n",
       "      <td>0.406888</td>\n",
       "      <td>0.266358</td>\n",
       "      <td>1.000000</td>\n",
       "    </tr>\n",
       "  </tbody>\n",
       "</table>\n",
       "<p>5 rows × 30 columns</p>\n",
       "</div>"
      ],
      "text/plain": [
       "     raw_svi  f_pov_soci  f_unemp_soci  f_pci_soci  f_nohsdp_soci  \\\n",
       "203   0.9437           0             0           0              0   \n",
       "465   0.8212           0             0           0              0   \n",
       "212   0.0630           0             0           0              0   \n",
       "167   0.8070           0             0           0              1   \n",
       "178   0.7410           0             0           0              0   \n",
       "\n",
       "     f_age65_comp  f_age17_comp  f_disabl_comp  f_sngpnt_comp  \\\n",
       "203             0             1              0              1   \n",
       "465             0             0              0              0   \n",
       "212             0             0              0              0   \n",
       "167             0             1              0              0   \n",
       "178             0             0              1              0   \n",
       "\n",
       "     f_minrty_status  ...  all_flags_total_scaled  rank_svi_scaled  \\\n",
       "203                0  ...                     0.3         0.000000   \n",
       "465                0  ...                     0.3         0.000000   \n",
       "212                0  ...                     0.0         1.000000   \n",
       "167                0  ...                     0.5         0.000000   \n",
       "178                1  ...                     0.2         0.333333   \n",
       "\n",
       "     spl_theme1_scaled  ep_pov_scaled  e_pov_scaled  poverty_cluster  \\\n",
       "203           0.774924       0.598540      0.796587                1   \n",
       "465           0.782529       0.503650      0.295073                3   \n",
       "212           0.114853       0.151460      0.105147                0   \n",
       "167           0.722852       0.543796      0.456097                1   \n",
       "178           0.699540       0.520073      0.289568                3   \n",
       "\n",
       "     centroid_spl_theme1_scaled  centroid_ep_pov_scaled  \\\n",
       "203                    0.839377                0.635655   \n",
       "465                    0.727022                0.406888   \n",
       "212                    0.099795                0.085008   \n",
       "167                    0.839377                0.635655   \n",
       "178                    0.727022                0.406888   \n",
       "\n",
       "     centroid_e_pov_scaled  poverty_cluster_scaled  \n",
       "203               0.530122                0.333333  \n",
       "465               0.266358                1.000000  \n",
       "212               0.048500                0.000000  \n",
       "167               0.530122                0.333333  \n",
       "178               0.266358                1.000000  \n",
       "\n",
       "[5 rows x 30 columns]"
      ]
     },
     "execution_count": 19,
     "metadata": {},
     "output_type": "execute_result"
    }
   ],
   "source": [
    "X_test_scaled.head()"
   ]
  },
  {
   "cell_type": "code",
   "execution_count": 24,
   "metadata": {},
   "outputs": [
    {
     "ename": "AttributeError",
     "evalue": "'MinMaxScaler' object has no attribute 'poverty_cluster'",
     "output_type": "error",
     "traceback": [
      "\u001b[0;31m---------------------------------------------------------------------------\u001b[0m",
      "\u001b[0;31mAttributeError\u001b[0m                            Traceback (most recent call last)",
      "\u001b[0;32m<ipython-input-24-fdf625909b65>\u001b[0m in \u001b[0;36m<module>\u001b[0;34m\u001b[0m\n\u001b[1;32m      2\u001b[0m \u001b[0mscaler\u001b[0m \u001b[0;34m=\u001b[0m \u001b[0mMinMaxScaler\u001b[0m\u001b[0;34m(\u001b[0m\u001b[0;34m)\u001b[0m\u001b[0;34m\u001b[0m\u001b[0;34m\u001b[0m\u001b[0m\n\u001b[1;32m      3\u001b[0m \u001b[0;34m\u001b[0m\u001b[0m\n\u001b[0;32m----> 4\u001b[0;31m \u001b[0mX_train_scaled\u001b[0m \u001b[0;34m=\u001b[0m \u001b[0mMinMaxScaler\u001b[0m\u001b[0;34m(\u001b[0m\u001b[0mX_train_scaled\u001b[0m\u001b[0;34m.\u001b[0m\u001b[0mpoverty_cluster\u001b[0m\u001b[0;34m)\u001b[0m\u001b[0;34m\u001b[0m\u001b[0;34m\u001b[0m\u001b[0m\n\u001b[0m\u001b[1;32m      5\u001b[0m \u001b[0;34m\u001b[0m\u001b[0m\n\u001b[1;32m      6\u001b[0m \u001b[0mX_train_scaled\u001b[0m\u001b[0;34m\u001b[0m\u001b[0;34m\u001b[0m\u001b[0m\n",
      "\u001b[0;31mAttributeError\u001b[0m: 'MinMaxScaler' object has no attribute 'poverty_cluster'"
     ]
    }
   ],
   "source": [
    "from sklearn.preprocessing import MinMaxScaler\n",
    "scaler = MinMaxScaler()\n",
    "\n",
    "X_train_scaled = MinMaxScaler(X_train_scaled.poverty_cluster)\n",
    "\n",
    "X_train_scaled"
   ]
  },
  {
   "cell_type": "code",
   "execution_count": null,
   "metadata": {},
   "outputs": [],
   "source": []
  },
  {
   "cell_type": "code",
   "execution_count": null,
   "metadata": {},
   "outputs": [],
   "source": [
    "X_train_scaled.info()"
   ]
  },
  {
   "cell_type": "code",
   "execution_count": null,
   "metadata": {},
   "outputs": [],
   "source": []
  }
 ],
 "metadata": {
  "kernelspec": {
   "display_name": "Python 3",
   "language": "python",
   "name": "python3"
  },
  "language_info": {
   "codemirror_mode": {
    "name": "ipython",
    "version": 3
   },
   "file_extension": ".py",
   "mimetype": "text/x-python",
   "name": "python",
   "nbconvert_exporter": "python",
   "pygments_lexer": "ipython3",
   "version": "3.8.5"
  }
 },
 "nbformat": 4,
 "nbformat_minor": 4
}
