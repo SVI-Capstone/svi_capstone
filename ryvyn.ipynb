{
 "cells": [
  {
   "cell_type": "code",
   "execution_count": 1,
   "metadata": {},
   "outputs": [],
   "source": [
    "import pandas as pd\n",
    "import acquire"
   ]
  },
  {
   "cell_type": "code",
   "execution_count": 2,
   "metadata": {},
   "outputs": [
    {
     "name": "stdout",
     "output_type": "stream",
     "text": [
      "Acquire: compiling raw data files...\n",
      "Acquire: Completed!\n"
     ]
    }
   ],
   "source": [
    "# full acquire test\n",
    "df = acquire.run()"
   ]
  },
  {
   "cell_type": "code",
   "execution_count": null,
   "metadata": {},
   "outputs": [],
   "source": [
    "# test acquire import Bexar data\n",
    "bexar = acquire.get_san_antonio_data()\n",
    "bexar.head()"
   ]
  },
  {
   "cell_type": "code",
   "execution_count": null,
   "metadata": {},
   "outputs": [],
   "source": [
    "# test acquire import svi data\n",
    "svi = acquire.get_svi_data()\n",
    "svi.head()"
   ]
  },
  {
   "cell_type": "code",
   "execution_count": null,
   "metadata": {},
   "outputs": [],
   "source": [
    "# test acquire get HUD merge df\n",
    "merge_HUD = acquire.get_HUD(bexar)"
   ]
  },
  {
   "cell_type": "code",
   "execution_count": null,
   "metadata": {},
   "outputs": [],
   "source": [
    "merge_HUD.head()"
   ]
  },
  {
   "cell_type": "code",
   "execution_count": null,
   "metadata": {},
   "outputs": [],
   "source": []
  },
  {
   "cell_type": "code",
   "execution_count": null,
   "metadata": {},
   "outputs": [],
   "source": []
  },
  {
   "cell_type": "code",
   "execution_count": null,
   "metadata": {},
   "outputs": [],
   "source": [
    "# import Bexar cases dataframe\n",
    "bexar_cases = pd.read_csv('Bexar_County_COVID-19_Data_by_Zip_Code.csv', index_col=0)\n",
    "bexar_cases.columns = bexar_cases.columns.str.lower()\n",
    "bexar_cases.head()"
   ]
  },
  {
   "cell_type": "code",
   "execution_count": null,
   "metadata": {},
   "outputs": [],
   "source": [
    "bexar_cases.info()"
   ]
  },
  {
   "cell_type": "code",
   "execution_count": null,
   "metadata": {},
   "outputs": [],
   "source": [
    "# how many unique zip codes are in the cases df?\n",
    "bexar_cases.nunique()"
   ]
  },
  {
   "cell_type": "code",
   "execution_count": null,
   "metadata": {},
   "outputs": [],
   "source": [
    "# import san antonio svi index dataframe\n",
    "svidf = pd.read_csv('san_antonio_2018_tract.csv')\n",
    "svidf.columns = svidf.columns.str.lower()\n",
    "svidf = svidf.rename(columns={'fips': 'tract'})\n",
    "svidf.head()"
   ]
  },
  {
   "cell_type": "code",
   "execution_count": null,
   "metadata": {},
   "outputs": [],
   "source": [
    "# how many unique FIPS ids are in the svi df?\n",
    "svidf.tract.value_counts()"
   ]
  },
  {
   "cell_type": "code",
   "execution_count": null,
   "metadata": {},
   "outputs": [],
   "source": [
    "# get list of unique zip codes in the bexar cases df\n",
    "bexar_zip = bexar_cases.zip_code.tolist()"
   ]
  },
  {
   "cell_type": "code",
   "execution_count": null,
   "metadata": {},
   "outputs": [],
   "source": [
    "# import track to zip dataframe\n",
    "zips = pd.read_csv('TRACT_ZIP_122018_78s_only.csv')\n",
    "# filter the zips df to only those in the bexar zip list\n",
    "zips = zips[zips.zip.isin(bexar_zip)]\n",
    "zips"
   ]
  },
  {
   "cell_type": "code",
   "execution_count": null,
   "metadata": {},
   "outputs": [],
   "source": [
    "# view zips sorted by tract and total ratio\n",
    "zips.sort_values(by=['tract', 'tot_ratio'], ascending=[True, False]).head()"
   ]
  },
  {
   "cell_type": "code",
   "execution_count": null,
   "metadata": {},
   "outputs": [],
   "source": [
    "# verify that .08 is highest for tract 48493000201\n",
    "zips[zips.tract == 48493000201]"
   ]
  },
  {
   "cell_type": "code",
   "execution_count": null,
   "metadata": {},
   "outputs": [],
   "source": [
    "# aggregate the data frame to get the zip code with the max ratio by tract\n",
    "zipsdf = zips.groupby(['tract'])['tot_ratio', 'zip'].agg({'tot_ratio':['max'], 'zip':['first']})\n",
    "zipsdf.columns = [' '.join(col).strip() for col in zipsdf.columns.values]\n",
    "zipsdf = zipsdf.reset_index()"
   ]
  },
  {
   "cell_type": "code",
   "execution_count": null,
   "metadata": {},
   "outputs": [],
   "source": [
    "zipsdf.head()"
   ]
  },
  {
   "cell_type": "code",
   "execution_count": null,
   "metadata": {},
   "outputs": [],
   "source": [
    "# the svi only has 366 rows, hopefully they are all in this list\n",
    "len(zipsdf)"
   ]
  },
  {
   "cell_type": "code",
   "execution_count": null,
   "metadata": {},
   "outputs": [],
   "source": [
    "# create merge df to test merging\n",
    "merge_zip3 = zipsdf[['tract', 'zip first']]"
   ]
  },
  {
   "cell_type": "code",
   "execution_count": null,
   "metadata": {},
   "outputs": [],
   "source": [
    "merge_zip3 = merge_zip3.rename(columns={'zip first':'zip'})"
   ]
  },
  {
   "cell_type": "code",
   "execution_count": null,
   "metadata": {},
   "outputs": [],
   "source": [
    "merge_zip3"
   ]
  },
  {
   "cell_type": "code",
   "execution_count": null,
   "metadata": {},
   "outputs": [],
   "source": [
    "# create new df merging svi and 2nd merge zip file on tract\n",
    "svi_zip2 = pd.merge(svidf, merge_zip3, on='tract', how='left')\n",
    "svi_zip2.shape"
   ]
  },
  {
   "cell_type": "code",
   "execution_count": null,
   "metadata": {},
   "outputs": [],
   "source": [
    "# check for nulls\n",
    "svi_zip2.isna().sum()"
   ]
  },
  {
   "cell_type": "code",
   "execution_count": null,
   "metadata": {},
   "outputs": [],
   "source": [
    "# create dataframe to merge with svi\n",
    "merge_bexar = bexar[['zip', 'population', 'positive', 'casesp100000']]\n",
    "merge_bexar.head()"
   ]
  },
  {
   "cell_type": "code",
   "execution_count": null,
   "metadata": {},
   "outputs": [],
   "source": [
    "# merge svi_zip with merge_bexar\n",
    "full = pd.merge(svi_zip2, merge_bexar, on='zip', how='left')\n",
    "full.head()"
   ]
  },
  {
   "cell_type": "code",
   "execution_count": null,
   "metadata": {},
   "outputs": [],
   "source": []
  },
  {
   "cell_type": "code",
   "execution_count": null,
   "metadata": {},
   "outputs": [],
   "source": [
    "max_ratio = zips.groupby('tract')[['tot_ratio']].max()"
   ]
  },
  {
   "cell_type": "code",
   "execution_count": null,
   "metadata": {},
   "outputs": [],
   "source": [
    "max_ratio = max_ratio.reset_index()"
   ]
  },
  {
   "cell_type": "code",
   "execution_count": null,
   "metadata": {},
   "outputs": [],
   "source": [
    "max_ratio.head()"
   ]
  },
  {
   "cell_type": "code",
   "execution_count": null,
   "metadata": {},
   "outputs": [],
   "source": [
    "max_ratio.nunique()"
   ]
  },
  {
   "cell_type": "code",
   "execution_count": null,
   "metadata": {},
   "outputs": [],
   "source": [
    "zips[zips.zip == 78219]"
   ]
  },
  {
   "cell_type": "code",
   "execution_count": null,
   "metadata": {},
   "outputs": [],
   "source": [
    "# requiring the total ratio to be 54% or higher per track gives the closest to 366 without going over\n",
    "# there will be 4 zip codes not represented and 2 census tracks not represented\n",
    "# when merged we should get null values for these\n",
    "zip_54 = zips[zips.tot_ratio >= .54]\n",
    "zip_54.nunique()"
   ]
  },
  {
   "cell_type": "code",
   "execution_count": null,
   "metadata": {},
   "outputs": [],
   "source": [
    "# create df with only values to merge\n",
    "merge_zip = zip_54[['tract', 'zip']]\n",
    "merge_zip"
   ]
  },
  {
   "cell_type": "code",
   "execution_count": null,
   "metadata": {},
   "outputs": [],
   "source": [
    "# create new df merging svi and merge zip on tract\n",
    "fulldf = pd.merge(svidf, merge_zip, on='tract', how='left')\n",
    "fulldf.shape"
   ]
  },
  {
   "cell_type": "code",
   "execution_count": null,
   "metadata": {},
   "outputs": [],
   "source": [
    "# will need to convert zip to int\n",
    "type(fulldf.zip[0])"
   ]
  },
  {
   "cell_type": "code",
   "execution_count": null,
   "metadata": {},
   "outputs": [],
   "source": [
    "# there are 21 tract ids that do not have a zip code\n",
    "fulldf.isna().sum()"
   ]
  },
  {
   "cell_type": "code",
   "execution_count": null,
   "metadata": {},
   "outputs": [],
   "source": [
    "# create a df of just the row with a null zip code\n",
    "missing_zip = fulldf[fulldf.zip.isna()]"
   ]
  },
  {
   "cell_type": "code",
   "execution_count": null,
   "metadata": {},
   "outputs": [],
   "source": [
    "missing_zip"
   ]
  },
  {
   "cell_type": "code",
   "execution_count": null,
   "metadata": {},
   "outputs": [],
   "source": [
    "# here is a list of the tracts missing zip codes\n",
    "missing_zip.tract.value_counts()"
   ]
  },
  {
   "cell_type": "code",
   "execution_count": null,
   "metadata": {},
   "outputs": [],
   "source": [
    "# find value for 48029131802\n",
    "zips[zips.tract == 48029131802]\n",
    "# assign 78101 to this track = highest % addresses"
   ]
  },
  {
   "cell_type": "code",
   "execution_count": null,
   "metadata": {},
   "outputs": [],
   "source": [
    "# find value for 48029182103\n",
    "zips[zips.tract == 48029182103]\n",
    "# assign 78023 to this track = highest % addresses"
   ]
  },
  {
   "cell_type": "code",
   "execution_count": null,
   "metadata": {},
   "outputs": [],
   "source": [
    "# find value for 48029980004\n",
    "zips[zips.tract == 48029980004]\n",
    "# assign 78216 to this track = highest % addresses"
   ]
  },
  {
   "cell_type": "code",
   "execution_count": null,
   "metadata": {},
   "outputs": [],
   "source": [
    "# find value for 48029130402\n",
    "zips[zips.tract == 48029130402]\n",
    "# assign 78210 to this track = highest % addresses"
   ]
  },
  {
   "cell_type": "code",
   "execution_count": null,
   "metadata": {},
   "outputs": [],
   "source": [
    "# find value for 48029141900\n",
    "zips[zips.tract == 48029141900]\n",
    "# assign 78263 to this track = highest % addresses"
   ]
  },
  {
   "cell_type": "code",
   "execution_count": null,
   "metadata": {},
   "outputs": [],
   "source": [
    "# find value for 48029191503\n",
    "zips[zips.tract == 48029191503]\n",
    "# assign 78249 to this track = highest % addresses"
   ]
  },
  {
   "cell_type": "code",
   "execution_count": null,
   "metadata": {},
   "outputs": [],
   "source": [
    "# find value for 48029181704\n",
    "zips[zips.tract == 48029181704]\n",
    "# assign 78238 to this track = highest % addresses"
   ]
  },
  {
   "cell_type": "code",
   "execution_count": null,
   "metadata": {},
   "outputs": [],
   "source": [
    "# find value for 48029131700\n",
    "zips[zips.tract == 48029131700]\n",
    "# assign 78148 to this track = highest % addresses"
   ]
  },
  {
   "cell_type": "code",
   "execution_count": null,
   "metadata": {},
   "outputs": [],
   "source": [
    "# find value for 48029121205\n",
    "zips[zips.tract == 48029121205]\n",
    "# assign 78233 to this track = highest % addresses"
   ]
  },
  {
   "cell_type": "code",
   "execution_count": null,
   "metadata": {},
   "outputs": [],
   "source": [
    "# find value for 48029110100\n",
    "zips[zips.tract == 48029110100]\n",
    "# assign 78205 to this track = highest % addresses"
   ]
  },
  {
   "cell_type": "code",
   "execution_count": null,
   "metadata": {},
   "outputs": [],
   "source": [
    "# find value for 48029182102\n",
    "zips[zips.tract == 48029182102]\n",
    "# assign 78255 to this track = highest % addresses"
   ]
  },
  {
   "cell_type": "code",
   "execution_count": null,
   "metadata": {},
   "outputs": [],
   "source": [
    "# find value for 48029192100\n",
    "zips[zips.tract == 48029192100]\n",
    "# assign 78204 to this track = highest % addresses"
   ]
  },
  {
   "cell_type": "code",
   "execution_count": null,
   "metadata": {},
   "outputs": [],
   "source": [
    "# find value for 48029121905\n",
    "zips[zips.tract == 48029121905]\n",
    "# assign 78259 to this track = highest % addresses"
   ]
  },
  {
   "cell_type": "code",
   "execution_count": null,
   "metadata": {},
   "outputs": [],
   "source": [
    "# find value for 48029130800\n",
    "zips[zips.tract == 48029130800]\n",
    "# assign 78219 to this track = highest % addresses"
   ]
  },
  {
   "cell_type": "code",
   "execution_count": null,
   "metadata": {},
   "outputs": [],
   "source": [
    "# find value for 48029121203\n",
    "zips[zips.tract == 48029121203]\n",
    "# assign 78233 to this track = highest % addresses"
   ]
  },
  {
   "cell_type": "code",
   "execution_count": null,
   "metadata": {},
   "outputs": [],
   "source": [
    "# find value for 48029171602\n",
    "zips[zips.tract == 48029171602]\n",
    "# assign 78227 to this track = highest % addresses"
   ]
  },
  {
   "cell_type": "code",
   "execution_count": null,
   "metadata": {},
   "outputs": [],
   "source": [
    "# find value for 48029181725\n",
    "zips[zips.tract == 48029181725]\n",
    "# assign 78251 to this track = highest % addresses"
   ]
  },
  {
   "cell_type": "code",
   "execution_count": null,
   "metadata": {},
   "outputs": [],
   "source": [
    "# find value for 48029150300\n",
    "zips[zips.tract == 48029150300]\n",
    "# assign 78214 to this track = highest % addresses"
   ]
  },
  {
   "cell_type": "code",
   "execution_count": null,
   "metadata": {},
   "outputs": [],
   "source": [
    "# find value for 48029191504\n",
    "zips[zips.tract == 48029191504]\n",
    "# assign 78231 to this track = highest % addresses"
   ]
  },
  {
   "cell_type": "code",
   "execution_count": null,
   "metadata": {},
   "outputs": [],
   "source": [
    "# find value for 48029191004\n",
    "zips[zips.tract == 48029191004]\n",
    "# assign 78216 to this track = highest % addresses"
   ]
  },
  {
   "cell_type": "code",
   "execution_count": null,
   "metadata": {},
   "outputs": [],
   "source": [
    "# find value for 48029130500\n",
    "zips[zips.tract == 48029130500]\n",
    "# assign 78202 to this track = highest % addresses"
   ]
  },
  {
   "cell_type": "code",
   "execution_count": null,
   "metadata": {},
   "outputs": [],
   "source": [
    "tracts_list = missing_zip.tract.tolist()"
   ]
  },
  {
   "cell_type": "code",
   "execution_count": null,
   "metadata": {},
   "outputs": [],
   "source": [
    "assign_zip_list = [78101, 78023, 78216, 78210, 78263, 78249, 78238, 78148, 78233, 78205, 78255, 78204, 78259,\n",
    "                   78219, 78233, 78227, 78251, 78214, 78231, 78216, 78202]"
   ]
  },
  {
   "cell_type": "code",
   "execution_count": null,
   "metadata": {},
   "outputs": [],
   "source": [
    "len(tracts_list)"
   ]
  },
  {
   "cell_type": "code",
   "execution_count": null,
   "metadata": {},
   "outputs": [],
   "source": [
    "len(assign_zip_list)"
   ]
  },
  {
   "cell_type": "code",
   "execution_count": null,
   "metadata": {},
   "outputs": [],
   "source": [
    "# verified lists are same length, now zip lists together into df to merge back to fulldf\n",
    "# https://cmdlinetips.com/2018/01/how-to-create-pandas-dataframe-from-multiple-lists/#:~:text=Create%20pandas%20dataframe%20from%20lists%20using%20zip%20Second,it%20to%20produce%20one%20item%20at%20a%20time.\n",
    "data_to_add = pd.DataFrame()\n",
    "data_to_add['tract'] = tracts_list\n",
    "data_to_add['zip'] = assign_zip_list\n",
    "data_to_add"
   ]
  },
  {
   "cell_type": "code",
   "execution_count": null,
   "metadata": {},
   "outputs": [],
   "source": [
    "# add these values to the merge zip df\n",
    "merge_zip2 = merge_zip.append(data_to_add)"
   ]
  },
  {
   "cell_type": "code",
   "execution_count": null,
   "metadata": {},
   "outputs": [],
   "source": [
    "len(merge_zip2)"
   ]
  },
  {
   "cell_type": "code",
   "execution_count": null,
   "metadata": {},
   "outputs": [],
   "source": [
    "# create new df merging svi and 2nd merge zip file on tract\n",
    "svi_zip = pd.merge(svidf, merge_zip2, on='tract', how='left')\n",
    "svi_zip.shape"
   ]
  },
  {
   "cell_type": "code",
   "execution_count": null,
   "metadata": {},
   "outputs": [],
   "source": [
    "# check for nulls\n",
    "svi_zip.isna().sum()"
   ]
  },
  {
   "cell_type": "code",
   "execution_count": null,
   "metadata": {},
   "outputs": [],
   "source": [
    "svi_zip.head()"
   ]
  },
  {
   "cell_type": "code",
   "execution_count": null,
   "metadata": {},
   "outputs": [],
   "source": [
    "bexar_cases.head()"
   ]
  },
  {
   "cell_type": "code",
   "execution_count": null,
   "metadata": {},
   "outputs": [],
   "source": [
    "# rename the zip code column to merge on\n",
    "bexar_cases = bexar_cases.rename(columns={'zip_code': 'zip', 'populationtotals_totpop_cy': 'population'})"
   ]
  },
  {
   "cell_type": "code",
   "execution_count": null,
   "metadata": {},
   "outputs": [],
   "source": [
    "bexar_cases"
   ]
  },
  {
   "cell_type": "code",
   "execution_count": null,
   "metadata": {},
   "outputs": [],
   "source": [
    "# create dataframe to merge with svi\n",
    "merge_bexar = bexar_cases[['zip', 'population', 'positive', 'casesp100000']]\n",
    "merge_bexar.head()"
   ]
  },
  {
   "cell_type": "code",
   "execution_count": null,
   "metadata": {},
   "outputs": [],
   "source": [
    "# merge svi_zip with merge_bexar\n",
    "svi_zip_cases = pd.merge(svi_zip, merge_bexar, on='zip', how='left')\n",
    "svi_zip_cases.head()"
   ]
  },
  {
   "cell_type": "code",
   "execution_count": null,
   "metadata": {},
   "outputs": [],
   "source": [
    "# check for nulls\n",
    "svi_zip_cases.isna().sum()"
   ]
  },
  {
   "cell_type": "code",
   "execution_count": null,
   "metadata": {},
   "outputs": [],
   "source": [
    "# write final compliation to csv\n",
    "#svi_zip_cases.to_csv('full_san_antonio.csv')"
   ]
  },
  {
   "cell_type": "code",
   "execution_count": null,
   "metadata": {},
   "outputs": [],
   "source": []
  }
 ],
 "metadata": {
  "kernelspec": {
   "display_name": "Python 3",
   "language": "python",
   "name": "python3"
  },
  "language_info": {
   "codemirror_mode": {
    "name": "ipython",
    "version": 3
   },
   "file_extension": ".py",
   "mimetype": "text/x-python",
   "name": "python",
   "nbconvert_exporter": "python",
   "pygments_lexer": "ipython3",
   "version": "3.7.9"
  },
  "toc": {
   "base_numbering": 1,
   "nav_menu": {},
   "number_sections": true,
   "sideBar": true,
   "skip_h1_title": false,
   "title_cell": "Table of Contents",
   "title_sidebar": "Contents",
   "toc_cell": false,
   "toc_position": {},
   "toc_section_display": true,
   "toc_window_display": false
  }
 },
 "nbformat": 4,
 "nbformat_minor": 4
}
