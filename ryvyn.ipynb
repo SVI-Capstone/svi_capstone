{
 "cells": [
  {
   "cell_type": "code",
   "execution_count": 1,
   "metadata": {},
   "outputs": [],
   "source": [
    "import pandas as pd\n",
    "import numpy as np\n",
    "from scripts_python import acquire, prepare, wrangle\n"
   ]
  },
  {
   "cell_type": "code",
   "execution_count": 3,
   "metadata": {},
   "outputs": [],
   "source": [
    "# read in history file\n",
    "svi = pd.read_csv('data_csv_files/SVI_history.csv', index_col=0)"
   ]
  },
  {
   "cell_type": "code",
   "execution_count": 4,
   "metadata": {},
   "outputs": [
    {
     "data": {
      "text/html": [
       "<div>\n",
       "<style scoped>\n",
       "    .dataframe tbody tr th:only-of-type {\n",
       "        vertical-align: middle;\n",
       "    }\n",
       "\n",
       "    .dataframe tbody tr th {\n",
       "        vertical-align: top;\n",
       "    }\n",
       "\n",
       "    .dataframe thead th {\n",
       "        text-align: right;\n",
       "    }\n",
       "</style>\n",
       "<table border=\"1\" class=\"dataframe\">\n",
       "  <thead>\n",
       "    <tr style=\"text-align: right;\">\n",
       "      <th></th>\n",
       "      <th>county</th>\n",
       "      <th>tract</th>\n",
       "      <th>raw_svi2018</th>\n",
       "      <th>raw_svi2016</th>\n",
       "      <th>raw_svi2014</th>\n",
       "      <th>r_soci_total2018</th>\n",
       "      <th>r_comp_total2018</th>\n",
       "      <th>r_status_total2018</th>\n",
       "      <th>r_trans_total2018</th>\n",
       "      <th>r_soci_total2016</th>\n",
       "      <th>r_comp_total2016</th>\n",
       "      <th>r_status_total2016</th>\n",
       "      <th>r_trans_total2016</th>\n",
       "      <th>r_soci_total2014</th>\n",
       "      <th>r_comp_total2014</th>\n",
       "      <th>r_status_total2014</th>\n",
       "      <th>r_trans_total2014</th>\n",
       "      <th>est_population2018</th>\n",
       "      <th>est_population2016</th>\n",
       "      <th>est_population2014</th>\n",
       "    </tr>\n",
       "  </thead>\n",
       "  <tbody>\n",
       "    <tr>\n",
       "      <th>40</th>\n",
       "      <td>Anderson</td>\n",
       "      <td>48001950500</td>\n",
       "      <td>0.9336</td>\n",
       "      <td>0.7724</td>\n",
       "      <td>0.8507</td>\n",
       "      <td>0.7946</td>\n",
       "      <td>0.8089</td>\n",
       "      <td>0.8392</td>\n",
       "      <td>0.9363</td>\n",
       "      <td>0.7477</td>\n",
       "      <td>0.7710</td>\n",
       "      <td>0.6158</td>\n",
       "      <td>0.7594</td>\n",
       "      <td>0.7497</td>\n",
       "      <td>0.9437</td>\n",
       "      <td>0.5644</td>\n",
       "      <td>0.8635</td>\n",
       "      <td>4569</td>\n",
       "      <td>4680.0</td>\n",
       "      <td>4666.0</td>\n",
       "    </tr>\n",
       "    <tr>\n",
       "      <th>41</th>\n",
       "      <td>Anderson</td>\n",
       "      <td>48001950600</td>\n",
       "      <td>0.6993</td>\n",
       "      <td>0.5937</td>\n",
       "      <td>0.6330</td>\n",
       "      <td>0.6486</td>\n",
       "      <td>0.5543</td>\n",
       "      <td>0.5934</td>\n",
       "      <td>0.7354</td>\n",
       "      <td>0.4270</td>\n",
       "      <td>0.5256</td>\n",
       "      <td>0.4870</td>\n",
       "      <td>0.8486</td>\n",
       "      <td>0.4403</td>\n",
       "      <td>0.8119</td>\n",
       "      <td>0.4816</td>\n",
       "      <td>0.7999</td>\n",
       "      <td>5570</td>\n",
       "      <td>6524.0</td>\n",
       "      <td>6480.0</td>\n",
       "    </tr>\n",
       "    <tr>\n",
       "      <th>42</th>\n",
       "      <td>Anderson</td>\n",
       "      <td>48001950800</td>\n",
       "      <td>0.6501</td>\n",
       "      <td>0.4758</td>\n",
       "      <td>0.4552</td>\n",
       "      <td>0.5890</td>\n",
       "      <td>0.7410</td>\n",
       "      <td>0.6780</td>\n",
       "      <td>0.4751</td>\n",
       "      <td>0.3497</td>\n",
       "      <td>0.3918</td>\n",
       "      <td>0.3069</td>\n",
       "      <td>0.8152</td>\n",
       "      <td>0.2755</td>\n",
       "      <td>0.4677</td>\n",
       "      <td>0.2284</td>\n",
       "      <td>0.8515</td>\n",
       "      <td>5584</td>\n",
       "      <td>5014.0</td>\n",
       "      <td>4937.0</td>\n",
       "    </tr>\n",
       "    <tr>\n",
       "      <th>43</th>\n",
       "      <td>Andrews</td>\n",
       "      <td>48003950100</td>\n",
       "      <td>0.3216</td>\n",
       "      <td>0.1359</td>\n",
       "      <td>0.1986</td>\n",
       "      <td>0.4012</td>\n",
       "      <td>0.2134</td>\n",
       "      <td>0.7844</td>\n",
       "      <td>0.1515</td>\n",
       "      <td>0.1101</td>\n",
       "      <td>0.2792</td>\n",
       "      <td>0.2453</td>\n",
       "      <td>0.1677</td>\n",
       "      <td>0.1385</td>\n",
       "      <td>0.4161</td>\n",
       "      <td>0.3034</td>\n",
       "      <td>0.2233</td>\n",
       "      <td>2254</td>\n",
       "      <td>2162.0</td>\n",
       "      <td>1994.0</td>\n",
       "    </tr>\n",
       "    <tr>\n",
       "      <th>44</th>\n",
       "      <td>Andrews</td>\n",
       "      <td>48003950200</td>\n",
       "      <td>0.6865</td>\n",
       "      <td>0.5578</td>\n",
       "      <td>0.3609</td>\n",
       "      <td>0.6386</td>\n",
       "      <td>0.1974</td>\n",
       "      <td>0.8127</td>\n",
       "      <td>0.7749</td>\n",
       "      <td>0.5233</td>\n",
       "      <td>0.2156</td>\n",
       "      <td>0.6035</td>\n",
       "      <td>0.7498</td>\n",
       "      <td>0.3266</td>\n",
       "      <td>0.2903</td>\n",
       "      <td>0.5014</td>\n",
       "      <td>0.4356</td>\n",
       "      <td>7281</td>\n",
       "      <td>7121.0</td>\n",
       "      <td>6877.0</td>\n",
       "    </tr>\n",
       "  </tbody>\n",
       "</table>\n",
       "</div>"
      ],
      "text/plain": [
       "      county        tract  raw_svi2018  raw_svi2016  raw_svi2014  \\\n",
       "40  Anderson  48001950500       0.9336       0.7724       0.8507   \n",
       "41  Anderson  48001950600       0.6993       0.5937       0.6330   \n",
       "42  Anderson  48001950800       0.6501       0.4758       0.4552   \n",
       "43   Andrews  48003950100       0.3216       0.1359       0.1986   \n",
       "44   Andrews  48003950200       0.6865       0.5578       0.3609   \n",
       "\n",
       "    r_soci_total2018  r_comp_total2018  r_status_total2018  r_trans_total2018  \\\n",
       "40            0.7946            0.8089              0.8392             0.9363   \n",
       "41            0.6486            0.5543              0.5934             0.7354   \n",
       "42            0.5890            0.7410              0.6780             0.4751   \n",
       "43            0.4012            0.2134              0.7844             0.1515   \n",
       "44            0.6386            0.1974              0.8127             0.7749   \n",
       "\n",
       "    r_soci_total2016  r_comp_total2016  r_status_total2016  r_trans_total2016  \\\n",
       "40            0.7477            0.7710              0.6158             0.7594   \n",
       "41            0.4270            0.5256              0.4870             0.8486   \n",
       "42            0.3497            0.3918              0.3069             0.8152   \n",
       "43            0.1101            0.2792              0.2453             0.1677   \n",
       "44            0.5233            0.2156              0.6035             0.7498   \n",
       "\n",
       "    r_soci_total2014  r_comp_total2014  r_status_total2014  r_trans_total2014  \\\n",
       "40            0.7497            0.9437              0.5644             0.8635   \n",
       "41            0.4403            0.8119              0.4816             0.7999   \n",
       "42            0.2755            0.4677              0.2284             0.8515   \n",
       "43            0.1385            0.4161              0.3034             0.2233   \n",
       "44            0.3266            0.2903              0.5014             0.4356   \n",
       "\n",
       "    est_population2018  est_population2016  est_population2014  \n",
       "40                4569              4680.0              4666.0  \n",
       "41                5570              6524.0              6480.0  \n",
       "42                5584              5014.0              4937.0  \n",
       "43                2254              2162.0              1994.0  \n",
       "44                7281              7121.0              6877.0  "
      ]
     },
     "execution_count": 4,
     "metadata": {},
     "output_type": "execute_result"
    }
   ],
   "source": [
    "svi.head()"
   ]
  },
  {
   "cell_type": "markdown",
   "metadata": {},
   "source": [
    "**adding calculated columns**"
   ]
  },
  {
   "cell_type": "code",
   "execution_count": 5,
   "metadata": {},
   "outputs": [],
   "source": [
    "svi['rising'] = np.where(((svi.raw_svi2016 > svi.raw_svi2014) & (svi.raw_svi2018 > svi.raw_svi2016)), 1, 0)"
   ]
  },
  {
   "cell_type": "code",
   "execution_count": 6,
   "metadata": {},
   "outputs": [],
   "source": [
    "svi['falling'] = np.where(((svi.raw_svi2016 < svi.raw_svi2014) & (svi.raw_svi2018 < svi.raw_svi2016)), 1, 0)"
   ]
  },
  {
   "cell_type": "code",
   "execution_count": 7,
   "metadata": {},
   "outputs": [],
   "source": [
    "svi['delta'] = svi.raw_svi2018 - svi.raw_svi2014"
   ]
  },
  {
   "cell_type": "code",
   "execution_count": 8,
   "metadata": {},
   "outputs": [],
   "source": [
    "svi['avg3yr'] = (svi.raw_svi2018 + svi.raw_svi2016 + svi.raw_svi2014)/3"
   ]
  },
  {
   "cell_type": "code",
   "execution_count": 9,
   "metadata": {},
   "outputs": [],
   "source": [
    "svi['r_soci_rise'] = np.where(((svi.r_soci_total2016 > svi.r_soci_total2014) & (svi.r_soci_total2018 > svi.r_soci_total2016)), 1, 0)"
   ]
  },
  {
   "cell_type": "code",
   "execution_count": 10,
   "metadata": {},
   "outputs": [],
   "source": [
    "svi['r_comp_rise'] = np.where(((svi.r_comp_total2016 > svi.r_comp_total2014) & (svi.r_comp_total2018 > svi.r_comp_total2016)), 1, 0)"
   ]
  },
  {
   "cell_type": "code",
   "execution_count": 11,
   "metadata": {},
   "outputs": [],
   "source": [
    "svi['r_status_rise'] = np.where(((svi.r_status_total2016 > svi.r_status_total2014) & (svi.r_status_total2018 > svi.r_status_total2016)), 1, 0)"
   ]
  },
  {
   "cell_type": "code",
   "execution_count": 12,
   "metadata": {},
   "outputs": [],
   "source": [
    "svi['r_trans_rise'] = np.where(((svi.r_trans_total2016 > svi.r_trans_total2014) & (svi.r_trans_total2018 > svi.r_trans_total2016)), 1, 0)"
   ]
  },
  {
   "cell_type": "code",
   "execution_count": 13,
   "metadata": {},
   "outputs": [],
   "source": [
    "svi['r_soci_fall'] = np.where(((svi.r_soci_total2016 < svi.r_soci_total2014) & (svi.r_soci_total2018 < svi.r_soci_total2016)), 1, 0)"
   ]
  },
  {
   "cell_type": "code",
   "execution_count": 14,
   "metadata": {},
   "outputs": [],
   "source": [
    "svi['r_comp_fall'] = np.where(((svi.r_comp_total2016 < svi.r_comp_total2014) & (svi.r_comp_total2018 < svi.r_comp_total2016)), 1, 0)"
   ]
  },
  {
   "cell_type": "code",
   "execution_count": 15,
   "metadata": {},
   "outputs": [],
   "source": [
    "svi['r_status_fall'] = np.where(((svi.r_status_total2016 < svi.r_status_total2014) & (svi.r_status_total2018 < svi.r_status_total2016)), 1, 0)"
   ]
  },
  {
   "cell_type": "code",
   "execution_count": 16,
   "metadata": {},
   "outputs": [],
   "source": [
    "svi['r_trans_fall'] = np.where(((svi.r_trans_total2016 < svi.r_trans_total2014) & (svi.r_trans_total2018 < svi.r_trans_total2016)), 1, 0)"
   ]
  },
  {
   "cell_type": "code",
   "execution_count": 17,
   "metadata": {},
   "outputs": [
    {
     "data": {
      "text/html": [
       "<div>\n",
       "<style scoped>\n",
       "    .dataframe tbody tr th:only-of-type {\n",
       "        vertical-align: middle;\n",
       "    }\n",
       "\n",
       "    .dataframe tbody tr th {\n",
       "        vertical-align: top;\n",
       "    }\n",
       "\n",
       "    .dataframe thead th {\n",
       "        text-align: right;\n",
       "    }\n",
       "</style>\n",
       "<table border=\"1\" class=\"dataframe\">\n",
       "  <thead>\n",
       "    <tr style=\"text-align: right;\">\n",
       "      <th></th>\n",
       "      <th>county</th>\n",
       "      <th>tract</th>\n",
       "      <th>raw_svi2018</th>\n",
       "      <th>raw_svi2016</th>\n",
       "      <th>raw_svi2014</th>\n",
       "      <th>r_soci_total2018</th>\n",
       "      <th>r_comp_total2018</th>\n",
       "      <th>r_status_total2018</th>\n",
       "      <th>r_trans_total2018</th>\n",
       "      <th>r_soci_total2016</th>\n",
       "      <th>...</th>\n",
       "      <th>delta</th>\n",
       "      <th>avg3yr</th>\n",
       "      <th>r_soci_rise</th>\n",
       "      <th>r_comp_rise</th>\n",
       "      <th>r_status_rise</th>\n",
       "      <th>r_trans_rise</th>\n",
       "      <th>r_soci_fall</th>\n",
       "      <th>r_comp_fall</th>\n",
       "      <th>r_status_fall</th>\n",
       "      <th>r_trans_fall</th>\n",
       "    </tr>\n",
       "  </thead>\n",
       "  <tbody>\n",
       "    <tr>\n",
       "      <th>40</th>\n",
       "      <td>Anderson</td>\n",
       "      <td>48001950500</td>\n",
       "      <td>0.9336</td>\n",
       "      <td>0.7724</td>\n",
       "      <td>0.8507</td>\n",
       "      <td>0.7946</td>\n",
       "      <td>0.8089</td>\n",
       "      <td>0.8392</td>\n",
       "      <td>0.9363</td>\n",
       "      <td>0.7477</td>\n",
       "      <td>...</td>\n",
       "      <td>0.0829</td>\n",
       "      <td>0.852233</td>\n",
       "      <td>0</td>\n",
       "      <td>0</td>\n",
       "      <td>1</td>\n",
       "      <td>0</td>\n",
       "      <td>0</td>\n",
       "      <td>0</td>\n",
       "      <td>0</td>\n",
       "      <td>0</td>\n",
       "    </tr>\n",
       "    <tr>\n",
       "      <th>41</th>\n",
       "      <td>Anderson</td>\n",
       "      <td>48001950600</td>\n",
       "      <td>0.6993</td>\n",
       "      <td>0.5937</td>\n",
       "      <td>0.6330</td>\n",
       "      <td>0.6486</td>\n",
       "      <td>0.5543</td>\n",
       "      <td>0.5934</td>\n",
       "      <td>0.7354</td>\n",
       "      <td>0.4270</td>\n",
       "      <td>...</td>\n",
       "      <td>0.0663</td>\n",
       "      <td>0.642000</td>\n",
       "      <td>0</td>\n",
       "      <td>0</td>\n",
       "      <td>1</td>\n",
       "      <td>0</td>\n",
       "      <td>0</td>\n",
       "      <td>0</td>\n",
       "      <td>0</td>\n",
       "      <td>0</td>\n",
       "    </tr>\n",
       "    <tr>\n",
       "      <th>42</th>\n",
       "      <td>Anderson</td>\n",
       "      <td>48001950800</td>\n",
       "      <td>0.6501</td>\n",
       "      <td>0.4758</td>\n",
       "      <td>0.4552</td>\n",
       "      <td>0.5890</td>\n",
       "      <td>0.7410</td>\n",
       "      <td>0.6780</td>\n",
       "      <td>0.4751</td>\n",
       "      <td>0.3497</td>\n",
       "      <td>...</td>\n",
       "      <td>0.1949</td>\n",
       "      <td>0.527033</td>\n",
       "      <td>1</td>\n",
       "      <td>0</td>\n",
       "      <td>1</td>\n",
       "      <td>0</td>\n",
       "      <td>0</td>\n",
       "      <td>0</td>\n",
       "      <td>0</td>\n",
       "      <td>1</td>\n",
       "    </tr>\n",
       "    <tr>\n",
       "      <th>43</th>\n",
       "      <td>Andrews</td>\n",
       "      <td>48003950100</td>\n",
       "      <td>0.3216</td>\n",
       "      <td>0.1359</td>\n",
       "      <td>0.1986</td>\n",
       "      <td>0.4012</td>\n",
       "      <td>0.2134</td>\n",
       "      <td>0.7844</td>\n",
       "      <td>0.1515</td>\n",
       "      <td>0.1101</td>\n",
       "      <td>...</td>\n",
       "      <td>0.1230</td>\n",
       "      <td>0.218700</td>\n",
       "      <td>0</td>\n",
       "      <td>0</td>\n",
       "      <td>0</td>\n",
       "      <td>0</td>\n",
       "      <td>0</td>\n",
       "      <td>1</td>\n",
       "      <td>0</td>\n",
       "      <td>1</td>\n",
       "    </tr>\n",
       "    <tr>\n",
       "      <th>44</th>\n",
       "      <td>Andrews</td>\n",
       "      <td>48003950200</td>\n",
       "      <td>0.6865</td>\n",
       "      <td>0.5578</td>\n",
       "      <td>0.3609</td>\n",
       "      <td>0.6386</td>\n",
       "      <td>0.1974</td>\n",
       "      <td>0.8127</td>\n",
       "      <td>0.7749</td>\n",
       "      <td>0.5233</td>\n",
       "      <td>...</td>\n",
       "      <td>0.3256</td>\n",
       "      <td>0.535067</td>\n",
       "      <td>1</td>\n",
       "      <td>0</td>\n",
       "      <td>1</td>\n",
       "      <td>1</td>\n",
       "      <td>0</td>\n",
       "      <td>1</td>\n",
       "      <td>0</td>\n",
       "      <td>0</td>\n",
       "    </tr>\n",
       "  </tbody>\n",
       "</table>\n",
       "<p>5 rows × 32 columns</p>\n",
       "</div>"
      ],
      "text/plain": [
       "      county        tract  raw_svi2018  raw_svi2016  raw_svi2014  \\\n",
       "40  Anderson  48001950500       0.9336       0.7724       0.8507   \n",
       "41  Anderson  48001950600       0.6993       0.5937       0.6330   \n",
       "42  Anderson  48001950800       0.6501       0.4758       0.4552   \n",
       "43   Andrews  48003950100       0.3216       0.1359       0.1986   \n",
       "44   Andrews  48003950200       0.6865       0.5578       0.3609   \n",
       "\n",
       "    r_soci_total2018  r_comp_total2018  r_status_total2018  r_trans_total2018  \\\n",
       "40            0.7946            0.8089              0.8392             0.9363   \n",
       "41            0.6486            0.5543              0.5934             0.7354   \n",
       "42            0.5890            0.7410              0.6780             0.4751   \n",
       "43            0.4012            0.2134              0.7844             0.1515   \n",
       "44            0.6386            0.1974              0.8127             0.7749   \n",
       "\n",
       "    r_soci_total2016  ...   delta    avg3yr  r_soci_rise  r_comp_rise  \\\n",
       "40            0.7477  ...  0.0829  0.852233            0            0   \n",
       "41            0.4270  ...  0.0663  0.642000            0            0   \n",
       "42            0.3497  ...  0.1949  0.527033            1            0   \n",
       "43            0.1101  ...  0.1230  0.218700            0            0   \n",
       "44            0.5233  ...  0.3256  0.535067            1            0   \n",
       "\n",
       "    r_status_rise  r_trans_rise  r_soci_fall  r_comp_fall  r_status_fall  \\\n",
       "40              1             0            0            0              0   \n",
       "41              1             0            0            0              0   \n",
       "42              1             0            0            0              0   \n",
       "43              0             0            0            1              0   \n",
       "44              1             1            0            1              0   \n",
       "\n",
       "    r_trans_fall  \n",
       "40             0  \n",
       "41             0  \n",
       "42             1  \n",
       "43             1  \n",
       "44             0  \n",
       "\n",
       "[5 rows x 32 columns]"
      ]
     },
     "execution_count": 17,
     "metadata": {},
     "output_type": "execute_result"
    }
   ],
   "source": [
    "svi.head()"
   ]
  },
  {
   "cell_type": "code",
   "execution_count": 18,
   "metadata": {},
   "outputs": [
    {
     "data": {
      "text/html": [
       "<div>\n",
       "<style scoped>\n",
       "    .dataframe tbody tr th:only-of-type {\n",
       "        vertical-align: middle;\n",
       "    }\n",
       "\n",
       "    .dataframe tbody tr th {\n",
       "        vertical-align: top;\n",
       "    }\n",
       "\n",
       "    .dataframe thead th {\n",
       "        text-align: right;\n",
       "    }\n",
       "</style>\n",
       "<table border=\"1\" class=\"dataframe\">\n",
       "  <thead>\n",
       "    <tr style=\"text-align: right;\">\n",
       "      <th></th>\n",
       "      <th>county</th>\n",
       "      <th>tract</th>\n",
       "      <th>raw_svi2018</th>\n",
       "      <th>raw_svi2016</th>\n",
       "      <th>raw_svi2014</th>\n",
       "      <th>r_soci_total2018</th>\n",
       "      <th>r_comp_total2018</th>\n",
       "      <th>r_status_total2018</th>\n",
       "      <th>r_trans_total2018</th>\n",
       "      <th>r_soci_total2016</th>\n",
       "      <th>...</th>\n",
       "      <th>delta</th>\n",
       "      <th>avg3yr</th>\n",
       "      <th>r_soci_rise</th>\n",
       "      <th>r_comp_rise</th>\n",
       "      <th>r_status_rise</th>\n",
       "      <th>r_trans_rise</th>\n",
       "      <th>r_soci_fall</th>\n",
       "      <th>r_comp_fall</th>\n",
       "      <th>r_status_fall</th>\n",
       "      <th>r_trans_fall</th>\n",
       "    </tr>\n",
       "  </thead>\n",
       "  <tbody>\n",
       "    <tr>\n",
       "      <th>662</th>\n",
       "      <td>Dallas</td>\n",
       "      <td>48113000100</td>\n",
       "      <td>0.0457</td>\n",
       "      <td>0.0568</td>\n",
       "      <td>0.0595</td>\n",
       "      <td>0.0644</td>\n",
       "      <td>0.0395</td>\n",
       "      <td>0.3967</td>\n",
       "      <td>0.1709</td>\n",
       "      <td>0.0844</td>\n",
       "      <td>...</td>\n",
       "      <td>-0.0138</td>\n",
       "      <td>0.054000</td>\n",
       "      <td>0</td>\n",
       "      <td>0</td>\n",
       "      <td>0</td>\n",
       "      <td>0</td>\n",
       "      <td>0</td>\n",
       "      <td>0</td>\n",
       "      <td>0</td>\n",
       "      <td>0</td>\n",
       "    </tr>\n",
       "    <tr>\n",
       "      <th>663</th>\n",
       "      <td>Dallas</td>\n",
       "      <td>48113000201</td>\n",
       "      <td>0.0059</td>\n",
       "      <td>0.0113</td>\n",
       "      <td>0.0237</td>\n",
       "      <td>0.0052</td>\n",
       "      <td>0.0416</td>\n",
       "      <td>0.3835</td>\n",
       "      <td>0.0396</td>\n",
       "      <td>0.0071</td>\n",
       "      <td>...</td>\n",
       "      <td>-0.0178</td>\n",
       "      <td>0.013633</td>\n",
       "      <td>0</td>\n",
       "      <td>0</td>\n",
       "      <td>1</td>\n",
       "      <td>0</td>\n",
       "      <td>1</td>\n",
       "      <td>1</td>\n",
       "      <td>0</td>\n",
       "      <td>0</td>\n",
       "    </tr>\n",
       "    <tr>\n",
       "      <th>664</th>\n",
       "      <td>Dallas</td>\n",
       "      <td>48113000202</td>\n",
       "      <td>0.1401</td>\n",
       "      <td>0.0877</td>\n",
       "      <td>0.0545</td>\n",
       "      <td>0.0187</td>\n",
       "      <td>0.0845</td>\n",
       "      <td>0.4722</td>\n",
       "      <td>0.4951</td>\n",
       "      <td>0.0650</td>\n",
       "      <td>...</td>\n",
       "      <td>0.0856</td>\n",
       "      <td>0.094100</td>\n",
       "      <td>0</td>\n",
       "      <td>1</td>\n",
       "      <td>1</td>\n",
       "      <td>1</td>\n",
       "      <td>0</td>\n",
       "      <td>0</td>\n",
       "      <td>0</td>\n",
       "      <td>0</td>\n",
       "    </tr>\n",
       "    <tr>\n",
       "      <th>665</th>\n",
       "      <td>Dallas</td>\n",
       "      <td>48113000300</td>\n",
       "      <td>0.0334</td>\n",
       "      <td>0.0058</td>\n",
       "      <td>0.0065</td>\n",
       "      <td>0.1064</td>\n",
       "      <td>0.0351</td>\n",
       "      <td>0.5250</td>\n",
       "      <td>0.0633</td>\n",
       "      <td>0.0207</td>\n",
       "      <td>...</td>\n",
       "      <td>0.0269</td>\n",
       "      <td>0.015233</td>\n",
       "      <td>0</td>\n",
       "      <td>1</td>\n",
       "      <td>1</td>\n",
       "      <td>0</td>\n",
       "      <td>0</td>\n",
       "      <td>0</td>\n",
       "      <td>0</td>\n",
       "      <td>1</td>\n",
       "    </tr>\n",
       "    <tr>\n",
       "      <th>666</th>\n",
       "      <td>Dallas</td>\n",
       "      <td>48113001001</td>\n",
       "      <td>0.0479</td>\n",
       "      <td>0.0382</td>\n",
       "      <td>0.1217</td>\n",
       "      <td>0.0746</td>\n",
       "      <td>0.0634</td>\n",
       "      <td>0.4762</td>\n",
       "      <td>0.0935</td>\n",
       "      <td>0.0345</td>\n",
       "      <td>...</td>\n",
       "      <td>-0.0738</td>\n",
       "      <td>0.069267</td>\n",
       "      <td>0</td>\n",
       "      <td>0</td>\n",
       "      <td>1</td>\n",
       "      <td>0</td>\n",
       "      <td>0</td>\n",
       "      <td>0</td>\n",
       "      <td>0</td>\n",
       "      <td>1</td>\n",
       "    </tr>\n",
       "    <tr>\n",
       "      <th>...</th>\n",
       "      <td>...</td>\n",
       "      <td>...</td>\n",
       "      <td>...</td>\n",
       "      <td>...</td>\n",
       "      <td>...</td>\n",
       "      <td>...</td>\n",
       "      <td>...</td>\n",
       "      <td>...</td>\n",
       "      <td>...</td>\n",
       "      <td>...</td>\n",
       "      <td>...</td>\n",
       "      <td>...</td>\n",
       "      <td>...</td>\n",
       "      <td>...</td>\n",
       "      <td>...</td>\n",
       "      <td>...</td>\n",
       "      <td>...</td>\n",
       "      <td>...</td>\n",
       "      <td>...</td>\n",
       "      <td>...</td>\n",
       "      <td>...</td>\n",
       "    </tr>\n",
       "    <tr>\n",
       "      <th>5219</th>\n",
       "      <td>Dallas</td>\n",
       "      <td>48113012208</td>\n",
       "      <td>0.9648</td>\n",
       "      <td>0.9678</td>\n",
       "      <td>0.9885</td>\n",
       "      <td>0.9857</td>\n",
       "      <td>0.8112</td>\n",
       "      <td>0.9731</td>\n",
       "      <td>0.7344</td>\n",
       "      <td>0.9944</td>\n",
       "      <td>...</td>\n",
       "      <td>-0.0237</td>\n",
       "      <td>0.973700</td>\n",
       "      <td>0</td>\n",
       "      <td>0</td>\n",
       "      <td>1</td>\n",
       "      <td>0</td>\n",
       "      <td>1</td>\n",
       "      <td>1</td>\n",
       "      <td>0</td>\n",
       "      <td>1</td>\n",
       "    </tr>\n",
       "    <tr>\n",
       "      <th>5220</th>\n",
       "      <td>Dallas</td>\n",
       "      <td>48113013713</td>\n",
       "      <td>0.9529</td>\n",
       "      <td>0.9065</td>\n",
       "      <td>0.9277</td>\n",
       "      <td>0.9150</td>\n",
       "      <td>0.6002</td>\n",
       "      <td>0.9804</td>\n",
       "      <td>0.8957</td>\n",
       "      <td>0.8143</td>\n",
       "      <td>...</td>\n",
       "      <td>0.0252</td>\n",
       "      <td>0.929033</td>\n",
       "      <td>0</td>\n",
       "      <td>1</td>\n",
       "      <td>0</td>\n",
       "      <td>0</td>\n",
       "      <td>0</td>\n",
       "      <td>0</td>\n",
       "      <td>0</td>\n",
       "      <td>1</td>\n",
       "    </tr>\n",
       "    <tr>\n",
       "      <th>5221</th>\n",
       "      <td>Dallas</td>\n",
       "      <td>48113017001</td>\n",
       "      <td>0.9266</td>\n",
       "      <td>0.8084</td>\n",
       "      <td>0.6713</td>\n",
       "      <td>0.7051</td>\n",
       "      <td>0.8204</td>\n",
       "      <td>0.8645</td>\n",
       "      <td>0.9627</td>\n",
       "      <td>0.6511</td>\n",
       "      <td>...</td>\n",
       "      <td>0.2553</td>\n",
       "      <td>0.802100</td>\n",
       "      <td>1</td>\n",
       "      <td>1</td>\n",
       "      <td>1</td>\n",
       "      <td>1</td>\n",
       "      <td>0</td>\n",
       "      <td>0</td>\n",
       "      <td>0</td>\n",
       "      <td>0</td>\n",
       "    </tr>\n",
       "    <tr>\n",
       "      <th>5222</th>\n",
       "      <td>Dallas</td>\n",
       "      <td>48113019013</td>\n",
       "      <td>0.9764</td>\n",
       "      <td>0.9964</td>\n",
       "      <td>0.9981</td>\n",
       "      <td>0.9477</td>\n",
       "      <td>0.5694</td>\n",
       "      <td>0.9886</td>\n",
       "      <td>0.9598</td>\n",
       "      <td>0.9893</td>\n",
       "      <td>...</td>\n",
       "      <td>-0.0217</td>\n",
       "      <td>0.990300</td>\n",
       "      <td>0</td>\n",
       "      <td>0</td>\n",
       "      <td>1</td>\n",
       "      <td>0</td>\n",
       "      <td>1</td>\n",
       "      <td>1</td>\n",
       "      <td>0</td>\n",
       "      <td>1</td>\n",
       "    </tr>\n",
       "    <tr>\n",
       "      <th>5223</th>\n",
       "      <td>Dallas</td>\n",
       "      <td>48113019213</td>\n",
       "      <td>0.9527</td>\n",
       "      <td>0.9589</td>\n",
       "      <td>0.9816</td>\n",
       "      <td>0.9235</td>\n",
       "      <td>0.8690</td>\n",
       "      <td>0.9691</td>\n",
       "      <td>0.7299</td>\n",
       "      <td>0.9440</td>\n",
       "      <td>...</td>\n",
       "      <td>-0.0289</td>\n",
       "      <td>0.964400</td>\n",
       "      <td>0</td>\n",
       "      <td>0</td>\n",
       "      <td>0</td>\n",
       "      <td>0</td>\n",
       "      <td>1</td>\n",
       "      <td>0</td>\n",
       "      <td>0</td>\n",
       "      <td>0</td>\n",
       "    </tr>\n",
       "  </tbody>\n",
       "</table>\n",
       "<p>527 rows × 32 columns</p>\n",
       "</div>"
      ],
      "text/plain": [
       "      county        tract  raw_svi2018  raw_svi2016  raw_svi2014  \\\n",
       "662   Dallas  48113000100       0.0457       0.0568       0.0595   \n",
       "663   Dallas  48113000201       0.0059       0.0113       0.0237   \n",
       "664   Dallas  48113000202       0.1401       0.0877       0.0545   \n",
       "665   Dallas  48113000300       0.0334       0.0058       0.0065   \n",
       "666   Dallas  48113001001       0.0479       0.0382       0.1217   \n",
       "...      ...          ...          ...          ...          ...   \n",
       "5219  Dallas  48113012208       0.9648       0.9678       0.9885   \n",
       "5220  Dallas  48113013713       0.9529       0.9065       0.9277   \n",
       "5221  Dallas  48113017001       0.9266       0.8084       0.6713   \n",
       "5222  Dallas  48113019013       0.9764       0.9964       0.9981   \n",
       "5223  Dallas  48113019213       0.9527       0.9589       0.9816   \n",
       "\n",
       "      r_soci_total2018  r_comp_total2018  r_status_total2018  \\\n",
       "662             0.0644            0.0395              0.3967   \n",
       "663             0.0052            0.0416              0.3835   \n",
       "664             0.0187            0.0845              0.4722   \n",
       "665             0.1064            0.0351              0.5250   \n",
       "666             0.0746            0.0634              0.4762   \n",
       "...                ...               ...                 ...   \n",
       "5219            0.9857            0.8112              0.9731   \n",
       "5220            0.9150            0.6002              0.9804   \n",
       "5221            0.7051            0.8204              0.8645   \n",
       "5222            0.9477            0.5694              0.9886   \n",
       "5223            0.9235            0.8690              0.9691   \n",
       "\n",
       "      r_trans_total2018  r_soci_total2016  ...   delta    avg3yr  r_soci_rise  \\\n",
       "662              0.1709            0.0844  ... -0.0138  0.054000            0   \n",
       "663              0.0396            0.0071  ... -0.0178  0.013633            0   \n",
       "664              0.4951            0.0650  ...  0.0856  0.094100            0   \n",
       "665              0.0633            0.0207  ...  0.0269  0.015233            0   \n",
       "666              0.0935            0.0345  ... -0.0738  0.069267            0   \n",
       "...                 ...               ...  ...     ...       ...          ...   \n",
       "5219             0.7344            0.9944  ... -0.0237  0.973700            0   \n",
       "5220             0.8957            0.8143  ...  0.0252  0.929033            0   \n",
       "5221             0.9627            0.6511  ...  0.2553  0.802100            1   \n",
       "5222             0.9598            0.9893  ... -0.0217  0.990300            0   \n",
       "5223             0.7299            0.9440  ... -0.0289  0.964400            0   \n",
       "\n",
       "      r_comp_rise  r_status_rise  r_trans_rise  r_soci_fall  r_comp_fall  \\\n",
       "662             0              0             0            0            0   \n",
       "663             0              1             0            1            1   \n",
       "664             1              1             1            0            0   \n",
       "665             1              1             0            0            0   \n",
       "666             0              1             0            0            0   \n",
       "...           ...            ...           ...          ...          ...   \n",
       "5219            0              1             0            1            1   \n",
       "5220            1              0             0            0            0   \n",
       "5221            1              1             1            0            0   \n",
       "5222            0              1             0            1            1   \n",
       "5223            0              0             0            1            0   \n",
       "\n",
       "      r_status_fall  r_trans_fall  \n",
       "662               0             0  \n",
       "663               0             0  \n",
       "664               0             0  \n",
       "665               0             1  \n",
       "666               0             1  \n",
       "...             ...           ...  \n",
       "5219              0             1  \n",
       "5220              0             1  \n",
       "5221              0             0  \n",
       "5222              0             1  \n",
       "5223              0             0  \n",
       "\n",
       "[527 rows x 32 columns]"
      ]
     },
     "execution_count": 18,
     "metadata": {},
     "output_type": "execute_result"
    }
   ],
   "source": [
    "# filter to Bexar and Dallas counties\n",
    "dsvi = svi[svi.county == 'Dallas']\n",
    "dsvi"
   ]
  },
  {
   "cell_type": "code",
   "execution_count": 19,
   "metadata": {},
   "outputs": [
    {
     "data": {
      "text/html": [
       "<div>\n",
       "<style scoped>\n",
       "    .dataframe tbody tr th:only-of-type {\n",
       "        vertical-align: middle;\n",
       "    }\n",
       "\n",
       "    .dataframe tbody tr th {\n",
       "        vertical-align: top;\n",
       "    }\n",
       "\n",
       "    .dataframe thead th {\n",
       "        text-align: right;\n",
       "    }\n",
       "</style>\n",
       "<table border=\"1\" class=\"dataframe\">\n",
       "  <thead>\n",
       "    <tr style=\"text-align: right;\">\n",
       "      <th></th>\n",
       "      <th>county</th>\n",
       "      <th>tract</th>\n",
       "      <th>raw_svi2018</th>\n",
       "      <th>raw_svi2016</th>\n",
       "      <th>raw_svi2014</th>\n",
       "      <th>r_soci_total2018</th>\n",
       "      <th>r_comp_total2018</th>\n",
       "      <th>r_status_total2018</th>\n",
       "      <th>r_trans_total2018</th>\n",
       "      <th>r_soci_total2016</th>\n",
       "      <th>...</th>\n",
       "      <th>delta</th>\n",
       "      <th>avg3yr</th>\n",
       "      <th>r_soci_rise</th>\n",
       "      <th>r_comp_rise</th>\n",
       "      <th>r_status_rise</th>\n",
       "      <th>r_trans_rise</th>\n",
       "      <th>r_soci_fall</th>\n",
       "      <th>r_comp_fall</th>\n",
       "      <th>r_status_fall</th>\n",
       "      <th>r_trans_fall</th>\n",
       "    </tr>\n",
       "  </thead>\n",
       "  <tbody>\n",
       "    <tr>\n",
       "      <th>116</th>\n",
       "      <td>Bexar</td>\n",
       "      <td>48029120300</td>\n",
       "      <td>0.2925</td>\n",
       "      <td>0.2695</td>\n",
       "      <td>0.1751</td>\n",
       "      <td>0.0710</td>\n",
       "      <td>0.6114</td>\n",
       "      <td>0.3725</td>\n",
       "      <td>0.5166</td>\n",
       "      <td>0.1026</td>\n",
       "      <td>...</td>\n",
       "      <td>0.1174</td>\n",
       "      <td>0.245700</td>\n",
       "      <td>0</td>\n",
       "      <td>0</td>\n",
       "      <td>0</td>\n",
       "      <td>1</td>\n",
       "      <td>1</td>\n",
       "      <td>0</td>\n",
       "      <td>0</td>\n",
       "      <td>0</td>\n",
       "    </tr>\n",
       "    <tr>\n",
       "      <th>117</th>\n",
       "      <td>Bexar</td>\n",
       "      <td>48029120400</td>\n",
       "      <td>0.1349</td>\n",
       "      <td>0.0958</td>\n",
       "      <td>0.1364</td>\n",
       "      <td>0.0021</td>\n",
       "      <td>0.5817</td>\n",
       "      <td>0.3154</td>\n",
       "      <td>0.2741</td>\n",
       "      <td>0.0040</td>\n",
       "      <td>...</td>\n",
       "      <td>-0.0015</td>\n",
       "      <td>0.122367</td>\n",
       "      <td>0</td>\n",
       "      <td>0</td>\n",
       "      <td>0</td>\n",
       "      <td>0</td>\n",
       "      <td>1</td>\n",
       "      <td>0</td>\n",
       "      <td>0</td>\n",
       "      <td>0</td>\n",
       "    </tr>\n",
       "    <tr>\n",
       "      <th>118</th>\n",
       "      <td>Bexar</td>\n",
       "      <td>48029120501</td>\n",
       "      <td>0.8986</td>\n",
       "      <td>0.8159</td>\n",
       "      <td>0.8462</td>\n",
       "      <td>0.7404</td>\n",
       "      <td>0.9239</td>\n",
       "      <td>0.8831</td>\n",
       "      <td>0.7674</td>\n",
       "      <td>0.5126</td>\n",
       "      <td>...</td>\n",
       "      <td>0.0524</td>\n",
       "      <td>0.853567</td>\n",
       "      <td>0</td>\n",
       "      <td>0</td>\n",
       "      <td>1</td>\n",
       "      <td>0</td>\n",
       "      <td>0</td>\n",
       "      <td>1</td>\n",
       "      <td>0</td>\n",
       "      <td>0</td>\n",
       "    </tr>\n",
       "    <tr>\n",
       "      <th>119</th>\n",
       "      <td>Bexar</td>\n",
       "      <td>48029120600</td>\n",
       "      <td>0.4639</td>\n",
       "      <td>0.5052</td>\n",
       "      <td>0.4093</td>\n",
       "      <td>0.4852</td>\n",
       "      <td>0.2332</td>\n",
       "      <td>0.6490</td>\n",
       "      <td>0.4650</td>\n",
       "      <td>0.4638</td>\n",
       "      <td>...</td>\n",
       "      <td>0.0546</td>\n",
       "      <td>0.459467</td>\n",
       "      <td>1</td>\n",
       "      <td>0</td>\n",
       "      <td>1</td>\n",
       "      <td>0</td>\n",
       "      <td>0</td>\n",
       "      <td>0</td>\n",
       "      <td>0</td>\n",
       "      <td>0</td>\n",
       "    </tr>\n",
       "    <tr>\n",
       "      <th>120</th>\n",
       "      <td>Bexar</td>\n",
       "      <td>48029120800</td>\n",
       "      <td>0.1433</td>\n",
       "      <td>0.1246</td>\n",
       "      <td>0.1713</td>\n",
       "      <td>0.0290</td>\n",
       "      <td>0.5434</td>\n",
       "      <td>0.2772</td>\n",
       "      <td>0.2570</td>\n",
       "      <td>0.0848</td>\n",
       "      <td>...</td>\n",
       "      <td>-0.0280</td>\n",
       "      <td>0.146400</td>\n",
       "      <td>0</td>\n",
       "      <td>0</td>\n",
       "      <td>0</td>\n",
       "      <td>0</td>\n",
       "      <td>0</td>\n",
       "      <td>0</td>\n",
       "      <td>0</td>\n",
       "      <td>0</td>\n",
       "    </tr>\n",
       "    <tr>\n",
       "      <th>...</th>\n",
       "      <td>...</td>\n",
       "      <td>...</td>\n",
       "      <td>...</td>\n",
       "      <td>...</td>\n",
       "      <td>...</td>\n",
       "      <td>...</td>\n",
       "      <td>...</td>\n",
       "      <td>...</td>\n",
       "      <td>...</td>\n",
       "      <td>...</td>\n",
       "      <td>...</td>\n",
       "      <td>...</td>\n",
       "      <td>...</td>\n",
       "      <td>...</td>\n",
       "      <td>...</td>\n",
       "      <td>...</td>\n",
       "      <td>...</td>\n",
       "      <td>...</td>\n",
       "      <td>...</td>\n",
       "      <td>...</td>\n",
       "      <td>...</td>\n",
       "    </tr>\n",
       "    <tr>\n",
       "      <th>4777</th>\n",
       "      <td>Bexar</td>\n",
       "      <td>48029190100</td>\n",
       "      <td>0.9457</td>\n",
       "      <td>0.8649</td>\n",
       "      <td>0.8932</td>\n",
       "      <td>0.8606</td>\n",
       "      <td>0.5934</td>\n",
       "      <td>0.9177</td>\n",
       "      <td>0.9549</td>\n",
       "      <td>0.7988</td>\n",
       "      <td>...</td>\n",
       "      <td>0.0525</td>\n",
       "      <td>0.901267</td>\n",
       "      <td>0</td>\n",
       "      <td>0</td>\n",
       "      <td>0</td>\n",
       "      <td>0</td>\n",
       "      <td>0</td>\n",
       "      <td>1</td>\n",
       "      <td>0</td>\n",
       "      <td>0</td>\n",
       "    </tr>\n",
       "    <tr>\n",
       "      <th>4778</th>\n",
       "      <td>Bexar</td>\n",
       "      <td>48029191410</td>\n",
       "      <td>0.4986</td>\n",
       "      <td>0.2868</td>\n",
       "      <td>0.3111</td>\n",
       "      <td>0.4502</td>\n",
       "      <td>0.0850</td>\n",
       "      <td>0.8452</td>\n",
       "      <td>0.6147</td>\n",
       "      <td>0.2887</td>\n",
       "      <td>...</td>\n",
       "      <td>0.1875</td>\n",
       "      <td>0.365500</td>\n",
       "      <td>0</td>\n",
       "      <td>0</td>\n",
       "      <td>0</td>\n",
       "      <td>1</td>\n",
       "      <td>0</td>\n",
       "      <td>0</td>\n",
       "      <td>0</td>\n",
       "      <td>0</td>\n",
       "    </tr>\n",
       "    <tr>\n",
       "      <th>4779</th>\n",
       "      <td>Bexar</td>\n",
       "      <td>48029980100</td>\n",
       "      <td>0.2563</td>\n",
       "      <td>0.2136</td>\n",
       "      <td>0.1699</td>\n",
       "      <td>0.3631</td>\n",
       "      <td>0.2539</td>\n",
       "      <td>0.2632</td>\n",
       "      <td>0.3275</td>\n",
       "      <td>0.2269</td>\n",
       "      <td>...</td>\n",
       "      <td>0.0864</td>\n",
       "      <td>0.213267</td>\n",
       "      <td>1</td>\n",
       "      <td>1</td>\n",
       "      <td>0</td>\n",
       "      <td>0</td>\n",
       "      <td>0</td>\n",
       "      <td>0</td>\n",
       "      <td>1</td>\n",
       "      <td>0</td>\n",
       "    </tr>\n",
       "    <tr>\n",
       "      <th>5204</th>\n",
       "      <td>Bexar</td>\n",
       "      <td>48029110100</td>\n",
       "      <td>0.7508</td>\n",
       "      <td>0.7069</td>\n",
       "      <td>0.6745</td>\n",
       "      <td>0.5569</td>\n",
       "      <td>0.2086</td>\n",
       "      <td>0.8646</td>\n",
       "      <td>0.9475</td>\n",
       "      <td>0.4612</td>\n",
       "      <td>...</td>\n",
       "      <td>0.0763</td>\n",
       "      <td>0.710733</td>\n",
       "      <td>1</td>\n",
       "      <td>0</td>\n",
       "      <td>1</td>\n",
       "      <td>0</td>\n",
       "      <td>0</td>\n",
       "      <td>1</td>\n",
       "      <td>0</td>\n",
       "      <td>0</td>\n",
       "    </tr>\n",
       "    <tr>\n",
       "      <th>5205</th>\n",
       "      <td>Bexar</td>\n",
       "      <td>48029110600</td>\n",
       "      <td>0.9953</td>\n",
       "      <td>0.9833</td>\n",
       "      <td>0.9690</td>\n",
       "      <td>0.9911</td>\n",
       "      <td>0.7017</td>\n",
       "      <td>0.9232</td>\n",
       "      <td>0.9940</td>\n",
       "      <td>0.9923</td>\n",
       "      <td>...</td>\n",
       "      <td>0.0263</td>\n",
       "      <td>0.982533</td>\n",
       "      <td>0</td>\n",
       "      <td>0</td>\n",
       "      <td>0</td>\n",
       "      <td>1</td>\n",
       "      <td>1</td>\n",
       "      <td>0</td>\n",
       "      <td>0</td>\n",
       "      <td>0</td>\n",
       "    </tr>\n",
       "  </tbody>\n",
       "</table>\n",
       "<p>362 rows × 32 columns</p>\n",
       "</div>"
      ],
      "text/plain": [
       "     county        tract  raw_svi2018  raw_svi2016  raw_svi2014  \\\n",
       "116   Bexar  48029120300       0.2925       0.2695       0.1751   \n",
       "117   Bexar  48029120400       0.1349       0.0958       0.1364   \n",
       "118   Bexar  48029120501       0.8986       0.8159       0.8462   \n",
       "119   Bexar  48029120600       0.4639       0.5052       0.4093   \n",
       "120   Bexar  48029120800       0.1433       0.1246       0.1713   \n",
       "...     ...          ...          ...          ...          ...   \n",
       "4777  Bexar  48029190100       0.9457       0.8649       0.8932   \n",
       "4778  Bexar  48029191410       0.4986       0.2868       0.3111   \n",
       "4779  Bexar  48029980100       0.2563       0.2136       0.1699   \n",
       "5204  Bexar  48029110100       0.7508       0.7069       0.6745   \n",
       "5205  Bexar  48029110600       0.9953       0.9833       0.9690   \n",
       "\n",
       "      r_soci_total2018  r_comp_total2018  r_status_total2018  \\\n",
       "116             0.0710            0.6114              0.3725   \n",
       "117             0.0021            0.5817              0.3154   \n",
       "118             0.7404            0.9239              0.8831   \n",
       "119             0.4852            0.2332              0.6490   \n",
       "120             0.0290            0.5434              0.2772   \n",
       "...                ...               ...                 ...   \n",
       "4777            0.8606            0.5934              0.9177   \n",
       "4778            0.4502            0.0850              0.8452   \n",
       "4779            0.3631            0.2539              0.2632   \n",
       "5204            0.5569            0.2086              0.8646   \n",
       "5205            0.9911            0.7017              0.9232   \n",
       "\n",
       "      r_trans_total2018  r_soci_total2016  ...   delta    avg3yr  r_soci_rise  \\\n",
       "116              0.5166            0.1026  ...  0.1174  0.245700            0   \n",
       "117              0.2741            0.0040  ... -0.0015  0.122367            0   \n",
       "118              0.7674            0.5126  ...  0.0524  0.853567            0   \n",
       "119              0.4650            0.4638  ...  0.0546  0.459467            1   \n",
       "120              0.2570            0.0848  ... -0.0280  0.146400            0   \n",
       "...                 ...               ...  ...     ...       ...          ...   \n",
       "4777             0.9549            0.7988  ...  0.0525  0.901267            0   \n",
       "4778             0.6147            0.2887  ...  0.1875  0.365500            0   \n",
       "4779             0.3275            0.2269  ...  0.0864  0.213267            1   \n",
       "5204             0.9475            0.4612  ...  0.0763  0.710733            1   \n",
       "5205             0.9940            0.9923  ...  0.0263  0.982533            0   \n",
       "\n",
       "      r_comp_rise  r_status_rise  r_trans_rise  r_soci_fall  r_comp_fall  \\\n",
       "116             0              0             1            1            0   \n",
       "117             0              0             0            1            0   \n",
       "118             0              1             0            0            1   \n",
       "119             0              1             0            0            0   \n",
       "120             0              0             0            0            0   \n",
       "...           ...            ...           ...          ...          ...   \n",
       "4777            0              0             0            0            1   \n",
       "4778            0              0             1            0            0   \n",
       "4779            1              0             0            0            0   \n",
       "5204            0              1             0            0            1   \n",
       "5205            0              0             1            1            0   \n",
       "\n",
       "      r_status_fall  r_trans_fall  \n",
       "116               0             0  \n",
       "117               0             0  \n",
       "118               0             0  \n",
       "119               0             0  \n",
       "120               0             0  \n",
       "...             ...           ...  \n",
       "4777              0             0  \n",
       "4778              0             0  \n",
       "4779              1             0  \n",
       "5204              0             0  \n",
       "5205              0             0  \n",
       "\n",
       "[362 rows x 32 columns]"
      ]
     },
     "execution_count": 19,
     "metadata": {},
     "output_type": "execute_result"
    }
   ],
   "source": [
    "sasvi = svi[svi.county =='Bexar']\n",
    "sasvi"
   ]
  },
  {
   "cell_type": "markdown",
   "metadata": {},
   "source": [
    "# Questions\n",
    "- overall county mean for both counties by year? total?\n",
    "- overall is county rising? falling? neither?\n",
    "- delta for both counties?\n",
    "- average scores for all raw and r columns for each county?\n",
    "- how many tracks risiing? falling? neither? by county?\n",
    "- other patterns?"
   ]
  },
  {
   "cell_type": "code",
   "execution_count": 20,
   "metadata": {},
   "outputs": [
    {
     "data": {
      "text/plain": [
       "Index(['county', 'tract', 'raw_svi2018', 'raw_svi2016', 'raw_svi2014',\n",
       "       'r_soci_total2018', 'r_comp_total2018', 'r_status_total2018',\n",
       "       'r_trans_total2018', 'r_soci_total2016', 'r_comp_total2016',\n",
       "       'r_status_total2016', 'r_trans_total2016', 'r_soci_total2014',\n",
       "       'r_comp_total2014', 'r_status_total2014', 'r_trans_total2014',\n",
       "       'est_population2018', 'est_population2016', 'est_population2014',\n",
       "       'rising', 'falling', 'delta', 'avg3yr', 'r_soci_rise', 'r_comp_rise',\n",
       "       'r_status_rise', 'r_trans_rise', 'r_soci_fall', 'r_comp_fall',\n",
       "       'r_status_fall', 'r_trans_fall'],\n",
       "      dtype='object')"
      ]
     },
     "execution_count": 20,
     "metadata": {},
     "output_type": "execute_result"
    }
   ],
   "source": [
    "svi.columns"
   ]
  },
  {
   "cell_type": "code",
   "execution_count": 21,
   "metadata": {},
   "outputs": [],
   "source": [
    "# aggregate columns by county\n",
    "raw_compdf = svi.groupby(['county'])['raw_svi2018', 'raw_svi2016', 'raw_svi2014', 'delta', 'avg3yr', \n",
    "       'r_soci_total2018', 'r_comp_total2018', 'r_status_total2018',\n",
    "       'r_trans_total2018', 'r_soci_total2016', 'r_comp_total2016',\n",
    "       'r_status_total2016', 'r_trans_total2016', 'r_soci_total2014',\n",
    "       'r_comp_total2014', 'r_status_total2014', 'r_trans_total2014'].agg({'raw_svi2018':['min', 'max','mean'], \n",
    "                                             'raw_svi2016':['min', 'max','mean'], \n",
    "                                            'raw_svi2014':['min', 'max','mean'], 'delta':['min', 'max','mean'], \n",
    "                                             'avg3yr':['min', 'max','mean'],\n",
    "                                             'r_soci_total2018':['mean'],\n",
    "                                             'r_comp_total2018':['mean'], \n",
    "                                             'r_status_total2018':['mean'],\n",
    "                                             'r_trans_total2018':['mean'], \n",
    "                                             'r_soci_total2016':['mean'], \n",
    "                                             'r_comp_total2016':['mean'], \n",
    "                                             'r_status_total2016':['mean'], \n",
    "                                             'r_trans_total2016':['mean'], \n",
    "                                             'r_soci_total2014':['mean'], \n",
    "                                             'r_comp_total2014':['mean'], \n",
    "                                             'r_status_total2014':['mean'], \n",
    "                                             'r_trans_total2014':['mean']})"
   ]
  },
  {
   "cell_type": "code",
   "execution_count": 22,
   "metadata": {},
   "outputs": [],
   "source": [
    "# aggregate columns by sum\n",
    "sum_compdf = svi.groupby(['county'])['rising', 'falling', 'r_soci_rise', 'r_comp_rise',\n",
    "       'r_status_rise', 'r_trans_rise', 'r_soci_fall', 'r_comp_fall',\n",
    "       'r_status_fall', 'r_trans_fall'].agg({'rising':['sum'], 'falling':['sum'],  'r_soci_rise':['sum'], \n",
    "                                             'r_comp_rise':['sum'], 'r_status_rise':['sum'], \n",
    "                                             'r_trans_rise':['sum'], 'r_soci_fall':['sum'], 'r_comp_fall':['sum'], \n",
    "                                             'r_status_fall':['sum'], 'r_trans_fall':['sum']})"
   ]
  },
  {
   "cell_type": "code",
   "execution_count": 23,
   "metadata": {},
   "outputs": [],
   "source": [
    "# flatten column headers\n",
    "raw_compdf.columns = [' '.join(col).strip() for col in raw_compdf.columns.values]\n",
    "raw_compdf = raw_compdf.reset_index()"
   ]
  },
  {
   "cell_type": "code",
   "execution_count": 24,
   "metadata": {},
   "outputs": [],
   "source": [
    "# flatten column headers\n",
    "sum_compdf.columns = [' '.join(col).strip() for col in sum_compdf.columns.values]\n",
    "sum_compdf = sum_compdf.reset_index()"
   ]
  },
  {
   "cell_type": "code",
   "execution_count": 25,
   "metadata": {},
   "outputs": [],
   "source": [
    "# filter for only Dallas \n",
    "rd_comp = raw_compdf[raw_compdf.county == 'Dallas']\n",
    "sd_comp = sum_compdf[sum_compdf.county == 'Dallas']\n"
   ]
  },
  {
   "cell_type": "code",
   "execution_count": 26,
   "metadata": {},
   "outputs": [],
   "source": [
    "# filter for only  Bexar\n",
    "rs_comp = raw_compdf[raw_compdf.county == 'Bexar']\n",
    "ss_comp = sum_compdf[sum_compdf.county == 'Bexar']"
   ]
  },
  {
   "cell_type": "code",
   "execution_count": 27,
   "metadata": {},
   "outputs": [
    {
     "data": {
      "text/html": [
       "<div>\n",
       "<style scoped>\n",
       "    .dataframe tbody tr th:only-of-type {\n",
       "        vertical-align: middle;\n",
       "    }\n",
       "\n",
       "    .dataframe tbody tr th {\n",
       "        vertical-align: top;\n",
       "    }\n",
       "\n",
       "    .dataframe thead th {\n",
       "        text-align: right;\n",
       "    }\n",
       "</style>\n",
       "<table border=\"1\" class=\"dataframe\">\n",
       "  <thead>\n",
       "    <tr style=\"text-align: right;\">\n",
       "      <th></th>\n",
       "      <th>county</th>\n",
       "      <th>raw_svi2018 min</th>\n",
       "      <th>raw_svi2018 max</th>\n",
       "      <th>raw_svi2018 mean</th>\n",
       "      <th>raw_svi2016 min</th>\n",
       "      <th>raw_svi2016 max</th>\n",
       "      <th>raw_svi2016 mean</th>\n",
       "      <th>raw_svi2014 min</th>\n",
       "      <th>raw_svi2014 max</th>\n",
       "      <th>raw_svi2014 mean</th>\n",
       "      <th>...</th>\n",
       "      <th>r_status_total2018 mean</th>\n",
       "      <th>r_trans_total2018 mean</th>\n",
       "      <th>r_soci_total2016 mean</th>\n",
       "      <th>r_comp_total2016 mean</th>\n",
       "      <th>r_status_total2016 mean</th>\n",
       "      <th>r_trans_total2016 mean</th>\n",
       "      <th>r_soci_total2014 mean</th>\n",
       "      <th>r_comp_total2014 mean</th>\n",
       "      <th>r_status_total2014 mean</th>\n",
       "      <th>r_trans_total2014 mean</th>\n",
       "    </tr>\n",
       "  </thead>\n",
       "  <tbody>\n",
       "    <tr>\n",
       "      <th>14</th>\n",
       "      <td>Bexar</td>\n",
       "      <td>0.0099</td>\n",
       "      <td>0.9999</td>\n",
       "      <td>0.616627</td>\n",
       "      <td>0.0081</td>\n",
       "      <td>0.9994</td>\n",
       "      <td>0.535879</td>\n",
       "      <td>0.0033</td>\n",
       "      <td>0.9983</td>\n",
       "      <td>0.53262</td>\n",
       "      <td>...</td>\n",
       "      <td>0.788722</td>\n",
       "      <td>0.489729</td>\n",
       "      <td>0.516386</td>\n",
       "      <td>0.560888</td>\n",
       "      <td>0.597012</td>\n",
       "      <td>0.482740</td>\n",
       "      <td>0.512910</td>\n",
       "      <td>0.552460</td>\n",
       "      <td>0.596702</td>\n",
       "      <td>0.485589</td>\n",
       "    </tr>\n",
       "    <tr>\n",
       "      <th>56</th>\n",
       "      <td>Dallas</td>\n",
       "      <td>0.0002</td>\n",
       "      <td>0.9998</td>\n",
       "      <td>0.579433</td>\n",
       "      <td>0.0004</td>\n",
       "      <td>0.9969</td>\n",
       "      <td>0.516690</td>\n",
       "      <td>0.0008</td>\n",
       "      <td>0.9981</td>\n",
       "      <td>0.51752</td>\n",
       "      <td>...</td>\n",
       "      <td>0.791684</td>\n",
       "      <td>0.479128</td>\n",
       "      <td>0.528207</td>\n",
       "      <td>0.420364</td>\n",
       "      <td>0.626319</td>\n",
       "      <td>0.476382</td>\n",
       "      <td>0.534591</td>\n",
       "      <td>0.424619</td>\n",
       "      <td>0.619259</td>\n",
       "      <td>0.478478</td>\n",
       "    </tr>\n",
       "  </tbody>\n",
       "</table>\n",
       "<p>2 rows × 28 columns</p>\n",
       "</div>"
      ],
      "text/plain": [
       "    county  raw_svi2018 min  raw_svi2018 max  raw_svi2018 mean  \\\n",
       "14   Bexar           0.0099           0.9999          0.616627   \n",
       "56  Dallas           0.0002           0.9998          0.579433   \n",
       "\n",
       "    raw_svi2016 min  raw_svi2016 max  raw_svi2016 mean  raw_svi2014 min  \\\n",
       "14           0.0081           0.9994          0.535879           0.0033   \n",
       "56           0.0004           0.9969          0.516690           0.0008   \n",
       "\n",
       "    raw_svi2014 max  raw_svi2014 mean  ...  r_status_total2018 mean  \\\n",
       "14           0.9983           0.53262  ...                 0.788722   \n",
       "56           0.9981           0.51752  ...                 0.791684   \n",
       "\n",
       "    r_trans_total2018 mean  r_soci_total2016 mean  r_comp_total2016 mean  \\\n",
       "14                0.489729               0.516386               0.560888   \n",
       "56                0.479128               0.528207               0.420364   \n",
       "\n",
       "    r_status_total2016 mean  r_trans_total2016 mean  r_soci_total2014 mean  \\\n",
       "14                 0.597012                0.482740               0.512910   \n",
       "56                 0.626319                0.476382               0.534591   \n",
       "\n",
       "    r_comp_total2014 mean  r_status_total2014 mean  r_trans_total2014 mean  \n",
       "14               0.552460                 0.596702                0.485589  \n",
       "56               0.424619                 0.619259                0.478478  \n",
       "\n",
       "[2 rows x 28 columns]"
      ]
     },
     "execution_count": 27,
     "metadata": {},
     "output_type": "execute_result"
    }
   ],
   "source": [
    "# better idea, single filter for to get both counties\n",
    "rbdcomp = raw_compdf[(raw_compdf.county == 'Dallas') | (raw_compdf.county == 'Bexar')]\n",
    "rbdcomp"
   ]
  },
  {
   "cell_type": "code",
   "execution_count": 28,
   "metadata": {},
   "outputs": [
    {
     "data": {
      "text/html": [
       "<div>\n",
       "<style scoped>\n",
       "    .dataframe tbody tr th:only-of-type {\n",
       "        vertical-align: middle;\n",
       "    }\n",
       "\n",
       "    .dataframe tbody tr th {\n",
       "        vertical-align: top;\n",
       "    }\n",
       "\n",
       "    .dataframe thead th {\n",
       "        text-align: right;\n",
       "    }\n",
       "</style>\n",
       "<table border=\"1\" class=\"dataframe\">\n",
       "  <thead>\n",
       "    <tr style=\"text-align: right;\">\n",
       "      <th></th>\n",
       "      <th>county</th>\n",
       "      <th>rising sum</th>\n",
       "      <th>falling sum</th>\n",
       "      <th>r_soci_rise sum</th>\n",
       "      <th>r_comp_rise sum</th>\n",
       "      <th>r_status_rise sum</th>\n",
       "      <th>r_trans_rise sum</th>\n",
       "      <th>r_soci_fall sum</th>\n",
       "      <th>r_comp_fall sum</th>\n",
       "      <th>r_status_fall sum</th>\n",
       "      <th>r_trans_fall sum</th>\n",
       "    </tr>\n",
       "  </thead>\n",
       "  <tbody>\n",
       "    <tr>\n",
       "      <th>14</th>\n",
       "      <td>Bexar</td>\n",
       "      <td>164</td>\n",
       "      <td>29</td>\n",
       "      <td>138</td>\n",
       "      <td>107</td>\n",
       "      <td>188</td>\n",
       "      <td>92</td>\n",
       "      <td>47</td>\n",
       "      <td>83</td>\n",
       "      <td>3</td>\n",
       "      <td>73</td>\n",
       "    </tr>\n",
       "    <tr>\n",
       "      <th>56</th>\n",
       "      <td>Dallas</td>\n",
       "      <td>204</td>\n",
       "      <td>70</td>\n",
       "      <td>157</td>\n",
       "      <td>133</td>\n",
       "      <td>282</td>\n",
       "      <td>128</td>\n",
       "      <td>102</td>\n",
       "      <td>146</td>\n",
       "      <td>2</td>\n",
       "      <td>121</td>\n",
       "    </tr>\n",
       "  </tbody>\n",
       "</table>\n",
       "</div>"
      ],
      "text/plain": [
       "    county  rising sum  falling sum  r_soci_rise sum  r_comp_rise sum  \\\n",
       "14   Bexar         164           29              138              107   \n",
       "56  Dallas         204           70              157              133   \n",
       "\n",
       "    r_status_rise sum  r_trans_rise sum  r_soci_fall sum  r_comp_fall sum  \\\n",
       "14                188                92               47               83   \n",
       "56                282               128              102              146   \n",
       "\n",
       "    r_status_fall sum  r_trans_fall sum  \n",
       "14                  3                73  \n",
       "56                  2               121  "
      ]
     },
     "execution_count": 28,
     "metadata": {},
     "output_type": "execute_result"
    }
   ],
   "source": [
    "# better idea, single filter for to get both counties\n",
    "sbdcomp = sum_compdf[(sum_compdf.county == 'Dallas') | (sum_compdf.county == 'Bexar')]\n",
    "sbdcomp"
   ]
  },
  {
   "cell_type": "markdown",
   "metadata": {},
   "source": [
    "**resetting index to county**"
   ]
  },
  {
   "cell_type": "code",
   "execution_count": 29,
   "metadata": {},
   "outputs": [],
   "source": [
    "rbdcomp = rbdcomp.set_index('county')"
   ]
  },
  {
   "cell_type": "code",
   "execution_count": 30,
   "metadata": {},
   "outputs": [],
   "source": [
    "sbdcomp = sbdcomp.set_index('county')"
   ]
  },
  {
   "cell_type": "code",
   "execution_count": 31,
   "metadata": {},
   "outputs": [
    {
     "data": {
      "text/html": [
       "<div>\n",
       "<style scoped>\n",
       "    .dataframe tbody tr th:only-of-type {\n",
       "        vertical-align: middle;\n",
       "    }\n",
       "\n",
       "    .dataframe tbody tr th {\n",
       "        vertical-align: top;\n",
       "    }\n",
       "\n",
       "    .dataframe thead th {\n",
       "        text-align: right;\n",
       "    }\n",
       "</style>\n",
       "<table border=\"1\" class=\"dataframe\">\n",
       "  <thead>\n",
       "    <tr style=\"text-align: right;\">\n",
       "      <th></th>\n",
       "      <th>raw_svi2018 min</th>\n",
       "      <th>raw_svi2018 max</th>\n",
       "      <th>raw_svi2018 mean</th>\n",
       "      <th>raw_svi2016 min</th>\n",
       "      <th>raw_svi2016 max</th>\n",
       "      <th>raw_svi2016 mean</th>\n",
       "      <th>raw_svi2014 min</th>\n",
       "      <th>raw_svi2014 max</th>\n",
       "      <th>raw_svi2014 mean</th>\n",
       "      <th>delta min</th>\n",
       "      <th>...</th>\n",
       "      <th>r_status_total2018 mean</th>\n",
       "      <th>r_trans_total2018 mean</th>\n",
       "      <th>r_soci_total2016 mean</th>\n",
       "      <th>r_comp_total2016 mean</th>\n",
       "      <th>r_status_total2016 mean</th>\n",
       "      <th>r_trans_total2016 mean</th>\n",
       "      <th>r_soci_total2014 mean</th>\n",
       "      <th>r_comp_total2014 mean</th>\n",
       "      <th>r_status_total2014 mean</th>\n",
       "      <th>r_trans_total2014 mean</th>\n",
       "    </tr>\n",
       "    <tr>\n",
       "      <th>county</th>\n",
       "      <th></th>\n",
       "      <th></th>\n",
       "      <th></th>\n",
       "      <th></th>\n",
       "      <th></th>\n",
       "      <th></th>\n",
       "      <th></th>\n",
       "      <th></th>\n",
       "      <th></th>\n",
       "      <th></th>\n",
       "      <th></th>\n",
       "      <th></th>\n",
       "      <th></th>\n",
       "      <th></th>\n",
       "      <th></th>\n",
       "      <th></th>\n",
       "      <th></th>\n",
       "      <th></th>\n",
       "      <th></th>\n",
       "      <th></th>\n",
       "      <th></th>\n",
       "    </tr>\n",
       "  </thead>\n",
       "  <tbody>\n",
       "    <tr>\n",
       "      <th>Bexar</th>\n",
       "      <td>0.0099</td>\n",
       "      <td>0.9999</td>\n",
       "      <td>0.616627</td>\n",
       "      <td>0.0081</td>\n",
       "      <td>0.9994</td>\n",
       "      <td>0.535879</td>\n",
       "      <td>0.0033</td>\n",
       "      <td>0.9983</td>\n",
       "      <td>0.53262</td>\n",
       "      <td>-0.2903</td>\n",
       "      <td>...</td>\n",
       "      <td>0.788722</td>\n",
       "      <td>0.489729</td>\n",
       "      <td>0.516386</td>\n",
       "      <td>0.560888</td>\n",
       "      <td>0.597012</td>\n",
       "      <td>0.482740</td>\n",
       "      <td>0.512910</td>\n",
       "      <td>0.552460</td>\n",
       "      <td>0.596702</td>\n",
       "      <td>0.485589</td>\n",
       "    </tr>\n",
       "    <tr>\n",
       "      <th>Dallas</th>\n",
       "      <td>0.0002</td>\n",
       "      <td>0.9998</td>\n",
       "      <td>0.579433</td>\n",
       "      <td>0.0004</td>\n",
       "      <td>0.9969</td>\n",
       "      <td>0.516690</td>\n",
       "      <td>0.0008</td>\n",
       "      <td>0.9981</td>\n",
       "      <td>0.51752</td>\n",
       "      <td>-0.2808</td>\n",
       "      <td>...</td>\n",
       "      <td>0.791684</td>\n",
       "      <td>0.479128</td>\n",
       "      <td>0.528207</td>\n",
       "      <td>0.420364</td>\n",
       "      <td>0.626319</td>\n",
       "      <td>0.476382</td>\n",
       "      <td>0.534591</td>\n",
       "      <td>0.424619</td>\n",
       "      <td>0.619259</td>\n",
       "      <td>0.478478</td>\n",
       "    </tr>\n",
       "  </tbody>\n",
       "</table>\n",
       "<p>2 rows × 27 columns</p>\n",
       "</div>"
      ],
      "text/plain": [
       "        raw_svi2018 min  raw_svi2018 max  raw_svi2018 mean  raw_svi2016 min  \\\n",
       "county                                                                        \n",
       "Bexar            0.0099           0.9999          0.616627           0.0081   \n",
       "Dallas           0.0002           0.9998          0.579433           0.0004   \n",
       "\n",
       "        raw_svi2016 max  raw_svi2016 mean  raw_svi2014 min  raw_svi2014 max  \\\n",
       "county                                                                        \n",
       "Bexar            0.9994          0.535879           0.0033           0.9983   \n",
       "Dallas           0.9969          0.516690           0.0008           0.9981   \n",
       "\n",
       "        raw_svi2014 mean  delta min  ...  r_status_total2018 mean  \\\n",
       "county                               ...                            \n",
       "Bexar            0.53262    -0.2903  ...                 0.788722   \n",
       "Dallas           0.51752    -0.2808  ...                 0.791684   \n",
       "\n",
       "        r_trans_total2018 mean  r_soci_total2016 mean  r_comp_total2016 mean  \\\n",
       "county                                                                         \n",
       "Bexar                 0.489729               0.516386               0.560888   \n",
       "Dallas                0.479128               0.528207               0.420364   \n",
       "\n",
       "        r_status_total2016 mean  r_trans_total2016 mean  \\\n",
       "county                                                    \n",
       "Bexar                  0.597012                0.482740   \n",
       "Dallas                 0.626319                0.476382   \n",
       "\n",
       "        r_soci_total2014 mean  r_comp_total2014 mean  r_status_total2014 mean  \\\n",
       "county                                                                          \n",
       "Bexar                0.512910               0.552460                 0.596702   \n",
       "Dallas               0.534591               0.424619                 0.619259   \n",
       "\n",
       "        r_trans_total2014 mean  \n",
       "county                          \n",
       "Bexar                 0.485589  \n",
       "Dallas                0.478478  \n",
       "\n",
       "[2 rows x 27 columns]"
      ]
     },
     "execution_count": 31,
     "metadata": {},
     "output_type": "execute_result"
    }
   ],
   "source": [
    "rbdcomp"
   ]
  },
  {
   "cell_type": "code",
   "execution_count": 32,
   "metadata": {},
   "outputs": [],
   "source": [
    "# add summary calculations\n",
    "rbdcomp['raw_svi_mean_change18-14'] = rbdcomp['raw_svi2018 mean'] - rbdcomp['raw_svi2014 mean']\n",
    "rbdcomp['r_soci_mean_change18-14'] = rbdcomp['r_soci_total2018 mean'] - rbdcomp['r_soci_total2014 mean']\n",
    "rbdcomp['r_comp_mean_change18-14'] = rbdcomp['r_comp_total2018 mean'] - rbdcomp['r_comp_total2014 mean']\n",
    "rbdcomp['r_status_mean_change18-14'] = rbdcomp['r_status_total2018 mean'] - rbdcomp['r_status_total2014 mean']\n",
    "rbdcomp['r_trans_mean_change18-14'] = rbdcomp['r_trans_total2018 mean'] - rbdcomp['r_trans_total2014 mean']"
   ]
  },
  {
   "cell_type": "code",
   "execution_count": 33,
   "metadata": {},
   "outputs": [],
   "source": [
    "# transpose to make it easier to review side by side\n",
    "Trbdcomp = rbdcomp.T"
   ]
  },
  {
   "cell_type": "code",
   "execution_count": 34,
   "metadata": {},
   "outputs": [
    {
     "data": {
      "text/html": [
       "<div>\n",
       "<style scoped>\n",
       "    .dataframe tbody tr th:only-of-type {\n",
       "        vertical-align: middle;\n",
       "    }\n",
       "\n",
       "    .dataframe tbody tr th {\n",
       "        vertical-align: top;\n",
       "    }\n",
       "\n",
       "    .dataframe thead th {\n",
       "        text-align: right;\n",
       "    }\n",
       "</style>\n",
       "<table border=\"1\" class=\"dataframe\">\n",
       "  <thead>\n",
       "    <tr style=\"text-align: right;\">\n",
       "      <th>county</th>\n",
       "      <th>Bexar</th>\n",
       "      <th>Dallas</th>\n",
       "    </tr>\n",
       "  </thead>\n",
       "  <tbody>\n",
       "    <tr>\n",
       "      <th>raw_svi2018 min</th>\n",
       "      <td>0.009900</td>\n",
       "      <td>0.000200</td>\n",
       "    </tr>\n",
       "    <tr>\n",
       "      <th>raw_svi2018 max</th>\n",
       "      <td>0.999900</td>\n",
       "      <td>0.999800</td>\n",
       "    </tr>\n",
       "    <tr>\n",
       "      <th>raw_svi2018 mean</th>\n",
       "      <td>0.616627</td>\n",
       "      <td>0.579433</td>\n",
       "    </tr>\n",
       "    <tr>\n",
       "      <th>raw_svi2016 min</th>\n",
       "      <td>0.008100</td>\n",
       "      <td>0.000400</td>\n",
       "    </tr>\n",
       "    <tr>\n",
       "      <th>raw_svi2016 max</th>\n",
       "      <td>0.999400</td>\n",
       "      <td>0.996900</td>\n",
       "    </tr>\n",
       "    <tr>\n",
       "      <th>raw_svi2016 mean</th>\n",
       "      <td>0.535879</td>\n",
       "      <td>0.516690</td>\n",
       "    </tr>\n",
       "    <tr>\n",
       "      <th>raw_svi2014 min</th>\n",
       "      <td>0.003300</td>\n",
       "      <td>0.000800</td>\n",
       "    </tr>\n",
       "    <tr>\n",
       "      <th>raw_svi2014 max</th>\n",
       "      <td>0.998300</td>\n",
       "      <td>0.998100</td>\n",
       "    </tr>\n",
       "    <tr>\n",
       "      <th>raw_svi2014 mean</th>\n",
       "      <td>0.532620</td>\n",
       "      <td>0.517520</td>\n",
       "    </tr>\n",
       "    <tr>\n",
       "      <th>delta min</th>\n",
       "      <td>-0.290300</td>\n",
       "      <td>-0.280800</td>\n",
       "    </tr>\n",
       "    <tr>\n",
       "      <th>delta max</th>\n",
       "      <td>0.455800</td>\n",
       "      <td>0.400800</td>\n",
       "    </tr>\n",
       "    <tr>\n",
       "      <th>delta mean</th>\n",
       "      <td>0.084008</td>\n",
       "      <td>0.061913</td>\n",
       "    </tr>\n",
       "    <tr>\n",
       "      <th>avg3yr min</th>\n",
       "      <td>0.008100</td>\n",
       "      <td>0.001133</td>\n",
       "    </tr>\n",
       "    <tr>\n",
       "      <th>avg3yr max</th>\n",
       "      <td>0.999200</td>\n",
       "      <td>0.995700</td>\n",
       "    </tr>\n",
       "    <tr>\n",
       "      <th>avg3yr mean</th>\n",
       "      <td>0.561709</td>\n",
       "      <td>0.537881</td>\n",
       "    </tr>\n",
       "    <tr>\n",
       "      <th>r_soci_total2018 mean</th>\n",
       "      <td>0.576409</td>\n",
       "      <td>0.563427</td>\n",
       "    </tr>\n",
       "    <tr>\n",
       "      <th>r_comp_total2018 mean</th>\n",
       "      <td>0.580194</td>\n",
       "      <td>0.428070</td>\n",
       "    </tr>\n",
       "    <tr>\n",
       "      <th>r_status_total2018 mean</th>\n",
       "      <td>0.788722</td>\n",
       "      <td>0.791684</td>\n",
       "    </tr>\n",
       "    <tr>\n",
       "      <th>r_trans_total2018 mean</th>\n",
       "      <td>0.489729</td>\n",
       "      <td>0.479128</td>\n",
       "    </tr>\n",
       "    <tr>\n",
       "      <th>r_soci_total2016 mean</th>\n",
       "      <td>0.516386</td>\n",
       "      <td>0.528207</td>\n",
       "    </tr>\n",
       "    <tr>\n",
       "      <th>r_comp_total2016 mean</th>\n",
       "      <td>0.560888</td>\n",
       "      <td>0.420364</td>\n",
       "    </tr>\n",
       "    <tr>\n",
       "      <th>r_status_total2016 mean</th>\n",
       "      <td>0.597012</td>\n",
       "      <td>0.626319</td>\n",
       "    </tr>\n",
       "    <tr>\n",
       "      <th>r_trans_total2016 mean</th>\n",
       "      <td>0.482740</td>\n",
       "      <td>0.476382</td>\n",
       "    </tr>\n",
       "    <tr>\n",
       "      <th>r_soci_total2014 mean</th>\n",
       "      <td>0.512910</td>\n",
       "      <td>0.534591</td>\n",
       "    </tr>\n",
       "    <tr>\n",
       "      <th>r_comp_total2014 mean</th>\n",
       "      <td>0.552460</td>\n",
       "      <td>0.424619</td>\n",
       "    </tr>\n",
       "    <tr>\n",
       "      <th>r_status_total2014 mean</th>\n",
       "      <td>0.596702</td>\n",
       "      <td>0.619259</td>\n",
       "    </tr>\n",
       "    <tr>\n",
       "      <th>r_trans_total2014 mean</th>\n",
       "      <td>0.485589</td>\n",
       "      <td>0.478478</td>\n",
       "    </tr>\n",
       "    <tr>\n",
       "      <th>raw_svi_mean_change18-14</th>\n",
       "      <td>0.084008</td>\n",
       "      <td>0.061913</td>\n",
       "    </tr>\n",
       "    <tr>\n",
       "      <th>r_soci_mean_change18-14</th>\n",
       "      <td>0.063499</td>\n",
       "      <td>0.028836</td>\n",
       "    </tr>\n",
       "    <tr>\n",
       "      <th>r_comp_mean_change18-14</th>\n",
       "      <td>0.027733</td>\n",
       "      <td>0.003451</td>\n",
       "    </tr>\n",
       "    <tr>\n",
       "      <th>r_status_mean_change18-14</th>\n",
       "      <td>0.192020</td>\n",
       "      <td>0.172426</td>\n",
       "    </tr>\n",
       "    <tr>\n",
       "      <th>r_trans_mean_change18-14</th>\n",
       "      <td>0.004140</td>\n",
       "      <td>0.000650</td>\n",
       "    </tr>\n",
       "  </tbody>\n",
       "</table>\n",
       "</div>"
      ],
      "text/plain": [
       "county                        Bexar    Dallas\n",
       "raw_svi2018 min            0.009900  0.000200\n",
       "raw_svi2018 max            0.999900  0.999800\n",
       "raw_svi2018 mean           0.616627  0.579433\n",
       "raw_svi2016 min            0.008100  0.000400\n",
       "raw_svi2016 max            0.999400  0.996900\n",
       "raw_svi2016 mean           0.535879  0.516690\n",
       "raw_svi2014 min            0.003300  0.000800\n",
       "raw_svi2014 max            0.998300  0.998100\n",
       "raw_svi2014 mean           0.532620  0.517520\n",
       "delta min                 -0.290300 -0.280800\n",
       "delta max                  0.455800  0.400800\n",
       "delta mean                 0.084008  0.061913\n",
       "avg3yr min                 0.008100  0.001133\n",
       "avg3yr max                 0.999200  0.995700\n",
       "avg3yr mean                0.561709  0.537881\n",
       "r_soci_total2018 mean      0.576409  0.563427\n",
       "r_comp_total2018 mean      0.580194  0.428070\n",
       "r_status_total2018 mean    0.788722  0.791684\n",
       "r_trans_total2018 mean     0.489729  0.479128\n",
       "r_soci_total2016 mean      0.516386  0.528207\n",
       "r_comp_total2016 mean      0.560888  0.420364\n",
       "r_status_total2016 mean    0.597012  0.626319\n",
       "r_trans_total2016 mean     0.482740  0.476382\n",
       "r_soci_total2014 mean      0.512910  0.534591\n",
       "r_comp_total2014 mean      0.552460  0.424619\n",
       "r_status_total2014 mean    0.596702  0.619259\n",
       "r_trans_total2014 mean     0.485589  0.478478\n",
       "raw_svi_mean_change18-14   0.084008  0.061913\n",
       "r_soci_mean_change18-14    0.063499  0.028836\n",
       "r_comp_mean_change18-14    0.027733  0.003451\n",
       "r_status_mean_change18-14  0.192020  0.172426\n",
       "r_trans_mean_change18-14   0.004140  0.000650"
      ]
     },
     "execution_count": 34,
     "metadata": {},
     "output_type": "execute_result"
    }
   ],
   "source": [
    "Trbdcomp"
   ]
  },
  {
   "cell_type": "code",
   "execution_count": 35,
   "metadata": {},
   "outputs": [],
   "source": [
    "# read to .csv\n",
    "Trbdcomp.to_csv('SVI_history_summary_rank.csv')"
   ]
  },
  {
   "cell_type": "markdown",
   "metadata": {},
   "source": [
    "**Takeaways**\n",
    "\n",
    "- nothing really jumps out here\n",
    "- everything seems to be within tenths or hundredths"
   ]
  },
  {
   "cell_type": "code",
   "execution_count": 36,
   "metadata": {},
   "outputs": [
    {
     "data": {
      "text/html": [
       "<div>\n",
       "<style scoped>\n",
       "    .dataframe tbody tr th:only-of-type {\n",
       "        vertical-align: middle;\n",
       "    }\n",
       "\n",
       "    .dataframe tbody tr th {\n",
       "        vertical-align: top;\n",
       "    }\n",
       "\n",
       "    .dataframe thead th {\n",
       "        text-align: right;\n",
       "    }\n",
       "</style>\n",
       "<table border=\"1\" class=\"dataframe\">\n",
       "  <thead>\n",
       "    <tr style=\"text-align: right;\">\n",
       "      <th></th>\n",
       "      <th>rising sum</th>\n",
       "      <th>falling sum</th>\n",
       "      <th>r_soci_rise sum</th>\n",
       "      <th>r_comp_rise sum</th>\n",
       "      <th>r_status_rise sum</th>\n",
       "      <th>r_trans_rise sum</th>\n",
       "      <th>r_soci_fall sum</th>\n",
       "      <th>r_comp_fall sum</th>\n",
       "      <th>r_status_fall sum</th>\n",
       "      <th>r_trans_fall sum</th>\n",
       "    </tr>\n",
       "    <tr>\n",
       "      <th>county</th>\n",
       "      <th></th>\n",
       "      <th></th>\n",
       "      <th></th>\n",
       "      <th></th>\n",
       "      <th></th>\n",
       "      <th></th>\n",
       "      <th></th>\n",
       "      <th></th>\n",
       "      <th></th>\n",
       "      <th></th>\n",
       "    </tr>\n",
       "  </thead>\n",
       "  <tbody>\n",
       "    <tr>\n",
       "      <th>Bexar</th>\n",
       "      <td>164</td>\n",
       "      <td>29</td>\n",
       "      <td>138</td>\n",
       "      <td>107</td>\n",
       "      <td>188</td>\n",
       "      <td>92</td>\n",
       "      <td>47</td>\n",
       "      <td>83</td>\n",
       "      <td>3</td>\n",
       "      <td>73</td>\n",
       "    </tr>\n",
       "    <tr>\n",
       "      <th>Dallas</th>\n",
       "      <td>204</td>\n",
       "      <td>70</td>\n",
       "      <td>157</td>\n",
       "      <td>133</td>\n",
       "      <td>282</td>\n",
       "      <td>128</td>\n",
       "      <td>102</td>\n",
       "      <td>146</td>\n",
       "      <td>2</td>\n",
       "      <td>121</td>\n",
       "    </tr>\n",
       "  </tbody>\n",
       "</table>\n",
       "</div>"
      ],
      "text/plain": [
       "        rising sum  falling sum  r_soci_rise sum  r_comp_rise sum  \\\n",
       "county                                                              \n",
       "Bexar          164           29              138              107   \n",
       "Dallas         204           70              157              133   \n",
       "\n",
       "        r_status_rise sum  r_trans_rise sum  r_soci_fall sum  r_comp_fall sum  \\\n",
       "county                                                                          \n",
       "Bexar                 188                92               47               83   \n",
       "Dallas                282               128              102              146   \n",
       "\n",
       "        r_status_fall sum  r_trans_fall sum  \n",
       "county                                       \n",
       "Bexar                   3                73  \n",
       "Dallas                  2               121  "
      ]
     },
     "execution_count": 36,
     "metadata": {},
     "output_type": "execute_result"
    }
   ],
   "source": [
    "sbdcomp"
   ]
  },
  {
   "cell_type": "markdown",
   "metadata": {},
   "source": [
    "**add summary calculations**"
   ]
  },
  {
   "cell_type": "code",
   "execution_count": 37,
   "metadata": {},
   "outputs": [],
   "source": [
    "sbdcomp['num_tracts'] = [362, 527]"
   ]
  },
  {
   "cell_type": "code",
   "execution_count": 38,
   "metadata": {},
   "outputs": [],
   "source": [
    "sbdcomp['rising_pct'] = sbdcomp['rising sum']/sbdcomp['num_tracts']\n",
    "sbdcomp['falling_pct'] = sbdcomp['falling sum']/sbdcomp['num_tracts']\n",
    "sbdcomp['r_soci_rise_pct'] = sbdcomp['r_soci_rise sum']/sbdcomp['num_tracts']\n",
    "sbdcomp['r_comp_rise_pct'] = sbdcomp['r_comp_rise sum']/sbdcomp['num_tracts']\n",
    "sbdcomp['r_status_rise_pct'] = sbdcomp['r_status_rise sum']/sbdcomp['num_tracts']\n",
    "sbdcomp['r_trans_rise_pct'] = sbdcomp['r_trans_rise sum']/sbdcomp['num_tracts']\n",
    "sbdcomp['r_soci_fall_pct'] = sbdcomp['r_soci_fall sum']/sbdcomp['num_tracts']\n",
    "sbdcomp['r_comp_fall_pct'] = sbdcomp['r_comp_fall sum']/sbdcomp['num_tracts']\n",
    "sbdcomp['r_status_fall_pct'] = sbdcomp['r_status_fall sum']/sbdcomp['num_tracts']\n",
    "sbdcomp['r_trans_fall_pct'] = sbdcomp['r_trans_fall sum']/sbdcomp['num_tracts']"
   ]
  },
  {
   "cell_type": "code",
   "execution_count": 39,
   "metadata": {},
   "outputs": [
    {
     "data": {
      "text/html": [
       "<div>\n",
       "<style scoped>\n",
       "    .dataframe tbody tr th:only-of-type {\n",
       "        vertical-align: middle;\n",
       "    }\n",
       "\n",
       "    .dataframe tbody tr th {\n",
       "        vertical-align: top;\n",
       "    }\n",
       "\n",
       "    .dataframe thead th {\n",
       "        text-align: right;\n",
       "    }\n",
       "</style>\n",
       "<table border=\"1\" class=\"dataframe\">\n",
       "  <thead>\n",
       "    <tr style=\"text-align: right;\">\n",
       "      <th></th>\n",
       "      <th>rising sum</th>\n",
       "      <th>falling sum</th>\n",
       "      <th>r_soci_rise sum</th>\n",
       "      <th>r_comp_rise sum</th>\n",
       "      <th>r_status_rise sum</th>\n",
       "      <th>r_trans_rise sum</th>\n",
       "      <th>r_soci_fall sum</th>\n",
       "      <th>r_comp_fall sum</th>\n",
       "      <th>r_status_fall sum</th>\n",
       "      <th>r_trans_fall sum</th>\n",
       "      <th>...</th>\n",
       "      <th>rising_pct</th>\n",
       "      <th>falling_pct</th>\n",
       "      <th>r_soci_rise_pct</th>\n",
       "      <th>r_comp_rise_pct</th>\n",
       "      <th>r_status_rise_pct</th>\n",
       "      <th>r_trans_rise_pct</th>\n",
       "      <th>r_soci_fall_pct</th>\n",
       "      <th>r_comp_fall_pct</th>\n",
       "      <th>r_status_fall_pct</th>\n",
       "      <th>r_trans_fall_pct</th>\n",
       "    </tr>\n",
       "    <tr>\n",
       "      <th>county</th>\n",
       "      <th></th>\n",
       "      <th></th>\n",
       "      <th></th>\n",
       "      <th></th>\n",
       "      <th></th>\n",
       "      <th></th>\n",
       "      <th></th>\n",
       "      <th></th>\n",
       "      <th></th>\n",
       "      <th></th>\n",
       "      <th></th>\n",
       "      <th></th>\n",
       "      <th></th>\n",
       "      <th></th>\n",
       "      <th></th>\n",
       "      <th></th>\n",
       "      <th></th>\n",
       "      <th></th>\n",
       "      <th></th>\n",
       "      <th></th>\n",
       "      <th></th>\n",
       "    </tr>\n",
       "  </thead>\n",
       "  <tbody>\n",
       "    <tr>\n",
       "      <th>Bexar</th>\n",
       "      <td>164</td>\n",
       "      <td>29</td>\n",
       "      <td>138</td>\n",
       "      <td>107</td>\n",
       "      <td>188</td>\n",
       "      <td>92</td>\n",
       "      <td>47</td>\n",
       "      <td>83</td>\n",
       "      <td>3</td>\n",
       "      <td>73</td>\n",
       "      <td>...</td>\n",
       "      <td>0.453039</td>\n",
       "      <td>0.080110</td>\n",
       "      <td>0.381215</td>\n",
       "      <td>0.295580</td>\n",
       "      <td>0.519337</td>\n",
       "      <td>0.254144</td>\n",
       "      <td>0.129834</td>\n",
       "      <td>0.229282</td>\n",
       "      <td>0.008287</td>\n",
       "      <td>0.201657</td>\n",
       "    </tr>\n",
       "    <tr>\n",
       "      <th>Dallas</th>\n",
       "      <td>204</td>\n",
       "      <td>70</td>\n",
       "      <td>157</td>\n",
       "      <td>133</td>\n",
       "      <td>282</td>\n",
       "      <td>128</td>\n",
       "      <td>102</td>\n",
       "      <td>146</td>\n",
       "      <td>2</td>\n",
       "      <td>121</td>\n",
       "      <td>...</td>\n",
       "      <td>0.387097</td>\n",
       "      <td>0.132827</td>\n",
       "      <td>0.297913</td>\n",
       "      <td>0.252372</td>\n",
       "      <td>0.535104</td>\n",
       "      <td>0.242884</td>\n",
       "      <td>0.193548</td>\n",
       "      <td>0.277040</td>\n",
       "      <td>0.003795</td>\n",
       "      <td>0.229602</td>\n",
       "    </tr>\n",
       "  </tbody>\n",
       "</table>\n",
       "<p>2 rows × 21 columns</p>\n",
       "</div>"
      ],
      "text/plain": [
       "        rising sum  falling sum  r_soci_rise sum  r_comp_rise sum  \\\n",
       "county                                                              \n",
       "Bexar          164           29              138              107   \n",
       "Dallas         204           70              157              133   \n",
       "\n",
       "        r_status_rise sum  r_trans_rise sum  r_soci_fall sum  r_comp_fall sum  \\\n",
       "county                                                                          \n",
       "Bexar                 188                92               47               83   \n",
       "Dallas                282               128              102              146   \n",
       "\n",
       "        r_status_fall sum  r_trans_fall sum  ...  rising_pct  falling_pct  \\\n",
       "county                                       ...                            \n",
       "Bexar                   3                73  ...    0.453039     0.080110   \n",
       "Dallas                  2               121  ...    0.387097     0.132827   \n",
       "\n",
       "        r_soci_rise_pct  r_comp_rise_pct  r_status_rise_pct  r_trans_rise_pct  \\\n",
       "county                                                                          \n",
       "Bexar          0.381215         0.295580           0.519337          0.254144   \n",
       "Dallas         0.297913         0.252372           0.535104          0.242884   \n",
       "\n",
       "        r_soci_fall_pct  r_comp_fall_pct  r_status_fall_pct  r_trans_fall_pct  \n",
       "county                                                                         \n",
       "Bexar          0.129834         0.229282           0.008287          0.201657  \n",
       "Dallas         0.193548         0.277040           0.003795          0.229602  \n",
       "\n",
       "[2 rows x 21 columns]"
      ]
     },
     "execution_count": 39,
     "metadata": {},
     "output_type": "execute_result"
    }
   ],
   "source": [
    "sbdcomp"
   ]
  },
  {
   "cell_type": "code",
   "execution_count": 40,
   "metadata": {},
   "outputs": [],
   "source": [
    "# transpose to make it easier to review side by side\n",
    "Tsbdcomp = sbdcomp.T"
   ]
  },
  {
   "cell_type": "code",
   "execution_count": 41,
   "metadata": {},
   "outputs": [
    {
     "data": {
      "text/html": [
       "<div>\n",
       "<style scoped>\n",
       "    .dataframe tbody tr th:only-of-type {\n",
       "        vertical-align: middle;\n",
       "    }\n",
       "\n",
       "    .dataframe tbody tr th {\n",
       "        vertical-align: top;\n",
       "    }\n",
       "\n",
       "    .dataframe thead th {\n",
       "        text-align: right;\n",
       "    }\n",
       "</style>\n",
       "<table border=\"1\" class=\"dataframe\">\n",
       "  <thead>\n",
       "    <tr style=\"text-align: right;\">\n",
       "      <th>county</th>\n",
       "      <th>Bexar</th>\n",
       "      <th>Dallas</th>\n",
       "    </tr>\n",
       "  </thead>\n",
       "  <tbody>\n",
       "    <tr>\n",
       "      <th>rising sum</th>\n",
       "      <td>164.000000</td>\n",
       "      <td>204.000000</td>\n",
       "    </tr>\n",
       "    <tr>\n",
       "      <th>falling sum</th>\n",
       "      <td>29.000000</td>\n",
       "      <td>70.000000</td>\n",
       "    </tr>\n",
       "    <tr>\n",
       "      <th>r_soci_rise sum</th>\n",
       "      <td>138.000000</td>\n",
       "      <td>157.000000</td>\n",
       "    </tr>\n",
       "    <tr>\n",
       "      <th>r_comp_rise sum</th>\n",
       "      <td>107.000000</td>\n",
       "      <td>133.000000</td>\n",
       "    </tr>\n",
       "    <tr>\n",
       "      <th>r_status_rise sum</th>\n",
       "      <td>188.000000</td>\n",
       "      <td>282.000000</td>\n",
       "    </tr>\n",
       "    <tr>\n",
       "      <th>r_trans_rise sum</th>\n",
       "      <td>92.000000</td>\n",
       "      <td>128.000000</td>\n",
       "    </tr>\n",
       "    <tr>\n",
       "      <th>r_soci_fall sum</th>\n",
       "      <td>47.000000</td>\n",
       "      <td>102.000000</td>\n",
       "    </tr>\n",
       "    <tr>\n",
       "      <th>r_comp_fall sum</th>\n",
       "      <td>83.000000</td>\n",
       "      <td>146.000000</td>\n",
       "    </tr>\n",
       "    <tr>\n",
       "      <th>r_status_fall sum</th>\n",
       "      <td>3.000000</td>\n",
       "      <td>2.000000</td>\n",
       "    </tr>\n",
       "    <tr>\n",
       "      <th>r_trans_fall sum</th>\n",
       "      <td>73.000000</td>\n",
       "      <td>121.000000</td>\n",
       "    </tr>\n",
       "    <tr>\n",
       "      <th>num_tracts</th>\n",
       "      <td>362.000000</td>\n",
       "      <td>527.000000</td>\n",
       "    </tr>\n",
       "    <tr>\n",
       "      <th>rising_pct</th>\n",
       "      <td>0.453039</td>\n",
       "      <td>0.387097</td>\n",
       "    </tr>\n",
       "    <tr>\n",
       "      <th>falling_pct</th>\n",
       "      <td>0.080110</td>\n",
       "      <td>0.132827</td>\n",
       "    </tr>\n",
       "    <tr>\n",
       "      <th>r_soci_rise_pct</th>\n",
       "      <td>0.381215</td>\n",
       "      <td>0.297913</td>\n",
       "    </tr>\n",
       "    <tr>\n",
       "      <th>r_comp_rise_pct</th>\n",
       "      <td>0.295580</td>\n",
       "      <td>0.252372</td>\n",
       "    </tr>\n",
       "    <tr>\n",
       "      <th>r_status_rise_pct</th>\n",
       "      <td>0.519337</td>\n",
       "      <td>0.535104</td>\n",
       "    </tr>\n",
       "    <tr>\n",
       "      <th>r_trans_rise_pct</th>\n",
       "      <td>0.254144</td>\n",
       "      <td>0.242884</td>\n",
       "    </tr>\n",
       "    <tr>\n",
       "      <th>r_soci_fall_pct</th>\n",
       "      <td>0.129834</td>\n",
       "      <td>0.193548</td>\n",
       "    </tr>\n",
       "    <tr>\n",
       "      <th>r_comp_fall_pct</th>\n",
       "      <td>0.229282</td>\n",
       "      <td>0.277040</td>\n",
       "    </tr>\n",
       "    <tr>\n",
       "      <th>r_status_fall_pct</th>\n",
       "      <td>0.008287</td>\n",
       "      <td>0.003795</td>\n",
       "    </tr>\n",
       "    <tr>\n",
       "      <th>r_trans_fall_pct</th>\n",
       "      <td>0.201657</td>\n",
       "      <td>0.229602</td>\n",
       "    </tr>\n",
       "  </tbody>\n",
       "</table>\n",
       "</div>"
      ],
      "text/plain": [
       "county                  Bexar      Dallas\n",
       "rising sum         164.000000  204.000000\n",
       "falling sum         29.000000   70.000000\n",
       "r_soci_rise sum    138.000000  157.000000\n",
       "r_comp_rise sum    107.000000  133.000000\n",
       "r_status_rise sum  188.000000  282.000000\n",
       "r_trans_rise sum    92.000000  128.000000\n",
       "r_soci_fall sum     47.000000  102.000000\n",
       "r_comp_fall sum     83.000000  146.000000\n",
       "r_status_fall sum    3.000000    2.000000\n",
       "r_trans_fall sum    73.000000  121.000000\n",
       "num_tracts         362.000000  527.000000\n",
       "rising_pct           0.453039    0.387097\n",
       "falling_pct          0.080110    0.132827\n",
       "r_soci_rise_pct      0.381215    0.297913\n",
       "r_comp_rise_pct      0.295580    0.252372\n",
       "r_status_rise_pct    0.519337    0.535104\n",
       "r_trans_rise_pct     0.254144    0.242884\n",
       "r_soci_fall_pct      0.129834    0.193548\n",
       "r_comp_fall_pct      0.229282    0.277040\n",
       "r_status_fall_pct    0.008287    0.003795\n",
       "r_trans_fall_pct     0.201657    0.229602"
      ]
     },
     "execution_count": 41,
     "metadata": {},
     "output_type": "execute_result"
    }
   ],
   "source": [
    "Tsbdcomp"
   ]
  },
  {
   "cell_type": "code",
   "execution_count": 42,
   "metadata": {},
   "outputs": [],
   "source": [
    "# read to .csv\n",
    "Tsbdcomp.to_csv('SVI_history_summary_sum.csv')"
   ]
  },
  {
   "cell_type": "markdown",
   "metadata": {},
   "source": [
    "**Takeaways**     \n",
    "- remember, rising is bad, this means tracts are scoring higher than previous year and that means things are worse than they were before\n",
    "- falling scores are good, these are areas where the community is getting LESS vulnerable over time\n",
    "- 45% of the communities (tracts) in San Antonio are getting worse scores year over year from 2014 to 2018\n",
    "    - vs. 39% of the communities in Dallas\n",
    "- only 8% of the areas in San Antonio are seeing a year over year improvement in score\n",
    "    - vs. 13% of communities in Dallas\n",
    "- key grouping in San Antonio that is getting worse year over year is socioeconomic subgroup\n",
    "    - San Antonio 38% getting worse vs. 30% in Dallas\n",
    "    - San Antonio only 13% of areas are improving vs 19% in Dallas\n",
    "- another key group difference household composition\n",
    "    - San Antonio 30% getting worse vs. 25% in Dallas\n",
    "    - San Antonio 23% getting better vs. 28% getting better in Dallas\n",
    "    \n",
    "    \n",
    "**Things that might be impacting this**      \n",
    "- Dallas might have programs in place that San Antonio does not to assist these at risk areas\n",
    "- Redlining history and continued impact in San Antonio may be disproportionately effecting or stagnating improvements in areas in San Antonio"
   ]
  },
  {
   "cell_type": "code",
   "execution_count": null,
   "metadata": {},
   "outputs": [],
   "source": [
    "# create .csv for Tableau mapping"
   ]
  },
  {
   "cell_type": "code",
   "execution_count": 1,
   "metadata": {},
   "outputs": [],
   "source": [
    "\n",
    "import pandas as pd\n",
    "import seaborn as sns\n",
    "\n",
    "from scripts_python import wrangle\n",
    "from scripts_python import explore\n",
    "from scripts_python import model_MAE, model_classification\n",
    "\n",
    "import matplotlib.pyplot as plt\n",
    "import numpy as np\n",
    "\n",
    "\n",
    "from math import sqrt\n",
    "from scipy import stats"
   ]
  },
  {
   "cell_type": "code",
   "execution_count": 2,
   "metadata": {},
   "outputs": [
    {
     "name": "stdout",
     "output_type": "stream",
     "text": [
      "Acquire: compiling raw data files...\n",
      "Acquire: Completed!\n",
      "Prepare: preparing data files...\n",
      "Prepare: Completed!\n",
      "(289, 40) (73, 40)\n"
     ]
    }
   ],
   "source": [
    "df, train_exp, X_train_scaled, y_train, X_test_scaled, y_test = wrangle.wrangle_data()"
   ]
  },
  {
   "cell_type": "code",
   "execution_count": 4,
   "metadata": {},
   "outputs": [
    {
     "name": "stdout",
     "output_type": "stream",
     "text": [
      "   k        sse\n",
      "0  1  35.748849\n",
      "1  2  13.654208\n",
      "2  3   8.691464\n",
      "3  4   6.753261\n",
      "4  5   5.755925\n",
      "5  6   5.055744\n",
      "6  7   4.493498\n",
      "7  8   3.979258\n",
      "8  9   3.569686\n"
     ]
    },
    {
     "data": {
      "image/png": "[encoded data removed]",
      "text/plain": [
       "<Figure size 864x576 with 1 Axes>"
      ]
     },
     "metadata": {
      "needs_background": "light"
     },
     "output_type": "display_data"
    }
   ],
   "source": [
    "cluster_vars = ['spl_theme1_scaled', 'ep_pov_scaled', 'e_pov_scaled']\n",
    "explore.elbow_plot(X_train_scaled, cluster_vars)"
   ]
  },
  {
   "cell_type": "code",
   "execution_count": 5,
   "metadata": {},
   "outputs": [],
   "source": [
    "train_clusters, kmeans = explore.run_kmeans(train_exp, X_train_scaled, k=3, cluster_vars=cluster_vars, cluster_col_name = 'poverty_cluster')\n",
    "test_clusters = explore.kmeans_transform(X_test_scaled, kmeans, cluster_vars, cluster_col_name = 'poverty_cluster')"
   ]
  },
  {
   "cell_type": "code",
   "execution_count": 7,
   "metadata": {},
   "outputs": [],
   "source": [
    "\n",
    "train_clusters, kmeans = explore.run_kmeans(train_exp, X_train_scaled, k=3, cluster_vars=cluster_vars, cluster_col_name = 'poverty_cluster')\n",
    "test_clusters = explore.kmeans_transform(X_test_scaled, kmeans, cluster_vars, cluster_col_name = 'poverty_cluster')"
   ]
  },
  {
   "cell_type": "code",
   "execution_count": 8,
   "metadata": {},
   "outputs": [],
   "source": [
    "\n",
    "centroids = explore.get_centroids(cluster_vars, cluster_col_name='poverty_cluster', kmeans= kmeans)"
   ]
  },
  {
   "cell_type": "code",
   "execution_count": 9,
   "metadata": {},
   "outputs": [],
   "source": [
    "\n",
    "train_exp = explore.add_to_train(train_clusters, centroids, train_exp, cluster_col_name = 'poverty_cluster')"
   ]
  },
  {
   "cell_type": "code",
   "execution_count": 10,
   "metadata": {},
   "outputs": [],
   "source": [
    "# export train_exp for Tableau\n",
    "#train_exp.to_csv('train_exp_mapping.csv')"
   ]
  },
  {
   "cell_type": "code",
   "execution_count": 14,
   "metadata": {},
   "outputs": [
    {
     "data": {
      "text/html": [
       "<div>\n",
       "<style scoped>\n",
       "    .dataframe tbody tr th:only-of-type {\n",
       "        vertical-align: middle;\n",
       "    }\n",
       "\n",
       "    .dataframe tbody tr th {\n",
       "        vertical-align: top;\n",
       "    }\n",
       "\n",
       "    .dataframe thead th {\n",
       "        text-align: right;\n",
       "    }\n",
       "</style>\n",
       "<table border=\"1\" class=\"dataframe\">\n",
       "  <thead>\n",
       "    <tr style=\"text-align: right;\">\n",
       "      <th></th>\n",
       "      <th>tract</th>\n",
       "      <th>e_pov</th>\n",
       "      <th>ep_pov</th>\n",
       "      <th>spl_theme1</th>\n",
       "      <th>raw_svi</th>\n",
       "      <th>f_pov_soci</th>\n",
       "      <th>f_unemp_soci</th>\n",
       "      <th>f_pci_soci</th>\n",
       "      <th>f_nohsdp_soci</th>\n",
       "      <th>f_soci_total</th>\n",
       "      <th>...</th>\n",
       "      <th>r_status_rise</th>\n",
       "      <th>r_trans_rise</th>\n",
       "      <th>r_soci_fall</th>\n",
       "      <th>r_comp_fall</th>\n",
       "      <th>r_status_fall</th>\n",
       "      <th>r_trans_fall</th>\n",
       "      <th>poverty_cluster</th>\n",
       "      <th>centroid_spl_theme1_scaled</th>\n",
       "      <th>centroid_ep_pov_scaled</th>\n",
       "      <th>centroid_e_pov_scaled</th>\n",
       "    </tr>\n",
       "  </thead>\n",
       "  <tbody>\n",
       "    <tr>\n",
       "      <th>289</th>\n",
       "      <td>48029181821</td>\n",
       "      <td>328</td>\n",
       "      <td>8.8</td>\n",
       "      <td>1.3480</td>\n",
       "      <td>0.4879</td>\n",
       "      <td>0</td>\n",
       "      <td>0</td>\n",
       "      <td>0</td>\n",
       "      <td>0</td>\n",
       "      <td>0</td>\n",
       "      <td>...</td>\n",
       "      <td>0</td>\n",
       "      <td>0</td>\n",
       "      <td>0</td>\n",
       "      <td>0</td>\n",
       "      <td>0</td>\n",
       "      <td>0</td>\n",
       "      <td>0</td>\n",
       "      <td>0.243449</td>\n",
       "      <td>0.095138</td>\n",
       "      <td>0.096143</td>\n",
       "    </tr>\n",
       "    <tr>\n",
       "      <th>200</th>\n",
       "      <td>48029171902</td>\n",
       "      <td>3712</td>\n",
       "      <td>25.5</td>\n",
       "      <td>2.9506</td>\n",
       "      <td>0.6394</td>\n",
       "      <td>0</td>\n",
       "      <td>0</td>\n",
       "      <td>0</td>\n",
       "      <td>0</td>\n",
       "      <td>0</td>\n",
       "      <td>...</td>\n",
       "      <td>0</td>\n",
       "      <td>0</td>\n",
       "      <td>0</td>\n",
       "      <td>1</td>\n",
       "      <td>0</td>\n",
       "      <td>0</td>\n",
       "      <td>2</td>\n",
       "      <td>0.815684</td>\n",
       "      <td>0.485412</td>\n",
       "      <td>0.435892</td>\n",
       "    </tr>\n",
       "    <tr>\n",
       "      <th>69</th>\n",
       "      <td>48029130200</td>\n",
       "      <td>340</td>\n",
       "      <td>19.2</td>\n",
       "      <td>3.0120</td>\n",
       "      <td>0.6523</td>\n",
       "      <td>0</td>\n",
       "      <td>0</td>\n",
       "      <td>0</td>\n",
       "      <td>0</td>\n",
       "      <td>0</td>\n",
       "      <td>...</td>\n",
       "      <td>0</td>\n",
       "      <td>0</td>\n",
       "      <td>0</td>\n",
       "      <td>0</td>\n",
       "      <td>1</td>\n",
       "      <td>0</td>\n",
       "      <td>1</td>\n",
       "      <td>0.560423</td>\n",
       "      <td>0.254288</td>\n",
       "      <td>0.211310</td>\n",
       "    </tr>\n",
       "    <tr>\n",
       "      <th>29</th>\n",
       "      <td>48029121120</td>\n",
       "      <td>143</td>\n",
       "      <td>2.7</td>\n",
       "      <td>0.8444</td>\n",
       "      <td>0.0872</td>\n",
       "      <td>0</td>\n",
       "      <td>0</td>\n",
       "      <td>0</td>\n",
       "      <td>0</td>\n",
       "      <td>0</td>\n",
       "      <td>...</td>\n",
       "      <td>1</td>\n",
       "      <td>0</td>\n",
       "      <td>1</td>\n",
       "      <td>0</td>\n",
       "      <td>0</td>\n",
       "      <td>0</td>\n",
       "      <td>0</td>\n",
       "      <td>0.243449</td>\n",
       "      <td>0.095138</td>\n",
       "      <td>0.096143</td>\n",
       "    </tr>\n",
       "    <tr>\n",
       "      <th>12</th>\n",
       "      <td>48029120502</td>\n",
       "      <td>1766</td>\n",
       "      <td>31.8</td>\n",
       "      <td>3.4352</td>\n",
       "      <td>0.9531</td>\n",
       "      <td>0</td>\n",
       "      <td>0</td>\n",
       "      <td>0</td>\n",
       "      <td>0</td>\n",
       "      <td>0</td>\n",
       "      <td>...</td>\n",
       "      <td>1</td>\n",
       "      <td>1</td>\n",
       "      <td>0</td>\n",
       "      <td>0</td>\n",
       "      <td>0</td>\n",
       "      <td>0</td>\n",
       "      <td>2</td>\n",
       "      <td>0.815684</td>\n",
       "      <td>0.485412</td>\n",
       "      <td>0.435892</td>\n",
       "    </tr>\n",
       "  </tbody>\n",
       "</table>\n",
       "<p>5 rows × 45 columns</p>\n",
       "</div>"
      ],
      "text/plain": [
       "           tract  e_pov  ep_pov  spl_theme1  raw_svi  f_pov_soci  \\\n",
       "289  48029181821    328     8.8      1.3480   0.4879           0   \n",
       "200  48029171902   3712    25.5      2.9506   0.6394           0   \n",
       "69   48029130200    340    19.2      3.0120   0.6523           0   \n",
       "29   48029121120    143     2.7      0.8444   0.0872           0   \n",
       "12   48029120502   1766    31.8      3.4352   0.9531           0   \n",
       "\n",
       "     f_unemp_soci  f_pci_soci  f_nohsdp_soci  f_soci_total  ...  \\\n",
       "289             0           0              0             0  ...   \n",
       "200             0           0              0             0  ...   \n",
       "69              0           0              0             0  ...   \n",
       "29              0           0              0             0  ...   \n",
       "12              0           0              0             0  ...   \n",
       "\n",
       "     r_status_rise  r_trans_rise  r_soci_fall  r_comp_fall  r_status_fall  \\\n",
       "289              0             0            0            0              0   \n",
       "200              0             0            0            1              0   \n",
       "69               0             0            0            0              1   \n",
       "29               1             0            1            0              0   \n",
       "12               1             1            0            0              0   \n",
       "\n",
       "     r_trans_fall  poverty_cluster  centroid_spl_theme1_scaled  \\\n",
       "289             0                0                    0.243449   \n",
       "200             0                2                    0.815684   \n",
       "69              0                1                    0.560423   \n",
       "29              0                0                    0.243449   \n",
       "12              0                2                    0.815684   \n",
       "\n",
       "     centroid_ep_pov_scaled  centroid_e_pov_scaled  \n",
       "289                0.095138               0.096143  \n",
       "200                0.485412               0.435892  \n",
       "69                 0.254288               0.211310  \n",
       "29                 0.095138               0.096143  \n",
       "12                 0.485412               0.435892  \n",
       "\n",
       "[5 rows x 45 columns]"
      ]
     },
     "execution_count": 14,
     "metadata": {},
     "output_type": "execute_result"
    }
   ],
   "source": [
    "train_exp.head()"
   ]
  },
  {
   "cell_type": "code",
   "execution_count": 11,
   "metadata": {},
   "outputs": [],
   "source": [
    "long_lat = pd.read_csv('FIPS_long_lat.csv')"
   ]
  },
  {
   "cell_type": "code",
   "execution_count": 12,
   "metadata": {},
   "outputs": [
    {
     "data": {
      "text/html": [
       "<div>\n",
       "<style scoped>\n",
       "    .dataframe tbody tr th:only-of-type {\n",
       "        vertical-align: middle;\n",
       "    }\n",
       "\n",
       "    .dataframe tbody tr th {\n",
       "        vertical-align: top;\n",
       "    }\n",
       "\n",
       "    .dataframe thead th {\n",
       "        text-align: right;\n",
       "    }\n",
       "</style>\n",
       "<table border=\"1\" class=\"dataframe\">\n",
       "  <thead>\n",
       "    <tr style=\"text-align: right;\">\n",
       "      <th></th>\n",
       "      <th>USPS</th>\n",
       "      <th>GEOID</th>\n",
       "      <th>INTPTLAT</th>\n",
       "      <th>INTPTLONG</th>\n",
       "    </tr>\n",
       "  </thead>\n",
       "  <tbody>\n",
       "    <tr>\n",
       "      <th>0</th>\n",
       "      <td>TX</td>\n",
       "      <td>48001950100</td>\n",
       "      <td>31.971468</td>\n",
       "      <td>-95.552444</td>\n",
       "    </tr>\n",
       "    <tr>\n",
       "      <th>1</th>\n",
       "      <td>TX</td>\n",
       "      <td>48001950401</td>\n",
       "      <td>31.734637</td>\n",
       "      <td>-95.815710</td>\n",
       "    </tr>\n",
       "    <tr>\n",
       "      <th>2</th>\n",
       "      <td>TX</td>\n",
       "      <td>48001950402</td>\n",
       "      <td>31.800052</td>\n",
       "      <td>-95.913110</td>\n",
       "    </tr>\n",
       "    <tr>\n",
       "      <th>3</th>\n",
       "      <td>TX</td>\n",
       "      <td>48001950500</td>\n",
       "      <td>31.787885</td>\n",
       "      <td>-95.640537</td>\n",
       "    </tr>\n",
       "    <tr>\n",
       "      <th>4</th>\n",
       "      <td>TX</td>\n",
       "      <td>48001950600</td>\n",
       "      <td>31.750205</td>\n",
       "      <td>-95.669209</td>\n",
       "    </tr>\n",
       "    <tr>\n",
       "      <th>...</th>\n",
       "      <td>...</td>\n",
       "      <td>...</td>\n",
       "      <td>...</td>\n",
       "      <td>...</td>\n",
       "    </tr>\n",
       "    <tr>\n",
       "      <th>5260</th>\n",
       "      <td>TX</td>\n",
       "      <td>48505950400</td>\n",
       "      <td>26.996981</td>\n",
       "      <td>-99.182603</td>\n",
       "    </tr>\n",
       "    <tr>\n",
       "      <th>5261</th>\n",
       "      <td>TX</td>\n",
       "      <td>48507950100</td>\n",
       "      <td>28.957194</td>\n",
       "      <td>-99.612423</td>\n",
       "    </tr>\n",
       "    <tr>\n",
       "      <th>5262</th>\n",
       "      <td>TX</td>\n",
       "      <td>48507950200</td>\n",
       "      <td>28.980591</td>\n",
       "      <td>-99.952092</td>\n",
       "    </tr>\n",
       "    <tr>\n",
       "      <th>5263</th>\n",
       "      <td>TX</td>\n",
       "      <td>48507950301</td>\n",
       "      <td>28.761956</td>\n",
       "      <td>-99.790649</td>\n",
       "    </tr>\n",
       "    <tr>\n",
       "      <th>5264</th>\n",
       "      <td>TX</td>\n",
       "      <td>48507950302</td>\n",
       "      <td>28.669231</td>\n",
       "      <td>-99.821321</td>\n",
       "    </tr>\n",
       "  </tbody>\n",
       "</table>\n",
       "<p>5265 rows × 4 columns</p>\n",
       "</div>"
      ],
      "text/plain": [
       "     USPS        GEOID   INTPTLAT  \\\n",
       "0      TX  48001950100  31.971468   \n",
       "1      TX  48001950401  31.734637   \n",
       "2      TX  48001950402  31.800052   \n",
       "3      TX  48001950500  31.787885   \n",
       "4      TX  48001950600  31.750205   \n",
       "...   ...          ...        ...   \n",
       "5260   TX  48505950400  26.996981   \n",
       "5261   TX  48507950100  28.957194   \n",
       "5262   TX  48507950200  28.980591   \n",
       "5263   TX  48507950301  28.761956   \n",
       "5264   TX  48507950302  28.669231   \n",
       "\n",
       "      INTPTLONG                                                                                                                               \n",
       "0                                            -95.552444                                                                                       \n",
       "1                                            -95.815710                                                                                       \n",
       "2                                            -95.913110                                                                                       \n",
       "3                                            -95.640537                                                                                       \n",
       "4                                            -95.669209                                                                                       \n",
       "...                                                 ...                                                                                       \n",
       "5260                                         -99.182603                                                                                       \n",
       "5261                                         -99.612423                                                                                       \n",
       "5262                                         -99.952092                                                                                       \n",
       "5263                                         -99.790649                                                                                       \n",
       "5264                                         -99.821321                                                                                       \n",
       "\n",
       "[5265 rows x 4 columns]"
      ]
     },
     "execution_count": 12,
     "metadata": {},
     "output_type": "execute_result"
    }
   ],
   "source": [
    "long_lat"
   ]
  },
  {
   "cell_type": "code",
   "execution_count": 16,
   "metadata": {},
   "outputs": [],
   "source": [
    "merge_ll_train = pd.merge(train_exp, long_lat, left_on='tract', right_on='GEOID', how='left')"
   ]
  },
  {
   "cell_type": "code",
   "execution_count": 17,
   "metadata": {},
   "outputs": [
    {
     "data": {
      "text/html": [
       "<div>\n",
       "<style scoped>\n",
       "    .dataframe tbody tr th:only-of-type {\n",
       "        vertical-align: middle;\n",
       "    }\n",
       "\n",
       "    .dataframe tbody tr th {\n",
       "        vertical-align: top;\n",
       "    }\n",
       "\n",
       "    .dataframe thead th {\n",
       "        text-align: right;\n",
       "    }\n",
       "</style>\n",
       "<table border=\"1\" class=\"dataframe\">\n",
       "  <thead>\n",
       "    <tr style=\"text-align: right;\">\n",
       "      <th></th>\n",
       "      <th>tract</th>\n",
       "      <th>e_pov</th>\n",
       "      <th>ep_pov</th>\n",
       "      <th>spl_theme1</th>\n",
       "      <th>raw_svi</th>\n",
       "      <th>f_pov_soci</th>\n",
       "      <th>f_unemp_soci</th>\n",
       "      <th>f_pci_soci</th>\n",
       "      <th>f_nohsdp_soci</th>\n",
       "      <th>f_soci_total</th>\n",
       "      <th>...</th>\n",
       "      <th>r_status_fall</th>\n",
       "      <th>r_trans_fall</th>\n",
       "      <th>poverty_cluster</th>\n",
       "      <th>centroid_spl_theme1_scaled</th>\n",
       "      <th>centroid_ep_pov_scaled</th>\n",
       "      <th>centroid_e_pov_scaled</th>\n",
       "      <th>USPS</th>\n",
       "      <th>GEOID</th>\n",
       "      <th>INTPTLAT</th>\n",
       "      <th>INTPTLONG</th>\n",
       "    </tr>\n",
       "  </thead>\n",
       "  <tbody>\n",
       "    <tr>\n",
       "      <th>0</th>\n",
       "      <td>48029181821</td>\n",
       "      <td>328</td>\n",
       "      <td>8.8</td>\n",
       "      <td>1.3480</td>\n",
       "      <td>0.4879</td>\n",
       "      <td>0</td>\n",
       "      <td>0</td>\n",
       "      <td>0</td>\n",
       "      <td>0</td>\n",
       "      <td>0</td>\n",
       "      <td>...</td>\n",
       "      <td>0</td>\n",
       "      <td>0</td>\n",
       "      <td>0</td>\n",
       "      <td>0.243449</td>\n",
       "      <td>0.095138</td>\n",
       "      <td>0.096143</td>\n",
       "      <td>TX</td>\n",
       "      <td>48029181821</td>\n",
       "      <td>29.540713</td>\n",
       "      <td>-98.623809</td>\n",
       "    </tr>\n",
       "    <tr>\n",
       "      <th>1</th>\n",
       "      <td>48029171902</td>\n",
       "      <td>3712</td>\n",
       "      <td>25.5</td>\n",
       "      <td>2.9506</td>\n",
       "      <td>0.6394</td>\n",
       "      <td>0</td>\n",
       "      <td>0</td>\n",
       "      <td>0</td>\n",
       "      <td>0</td>\n",
       "      <td>0</td>\n",
       "      <td>...</td>\n",
       "      <td>0</td>\n",
       "      <td>0</td>\n",
       "      <td>2</td>\n",
       "      <td>0.815684</td>\n",
       "      <td>0.485412</td>\n",
       "      <td>0.435892</td>\n",
       "      <td>TX</td>\n",
       "      <td>48029171902</td>\n",
       "      <td>29.434723</td>\n",
       "      <td>-98.657214</td>\n",
       "    </tr>\n",
       "    <tr>\n",
       "      <th>2</th>\n",
       "      <td>48029130200</td>\n",
       "      <td>340</td>\n",
       "      <td>19.2</td>\n",
       "      <td>3.0120</td>\n",
       "      <td>0.6523</td>\n",
       "      <td>0</td>\n",
       "      <td>0</td>\n",
       "      <td>0</td>\n",
       "      <td>0</td>\n",
       "      <td>0</td>\n",
       "      <td>...</td>\n",
       "      <td>1</td>\n",
       "      <td>0</td>\n",
       "      <td>1</td>\n",
       "      <td>0.560423</td>\n",
       "      <td>0.254288</td>\n",
       "      <td>0.211310</td>\n",
       "      <td>TX</td>\n",
       "      <td>48029130200</td>\n",
       "      <td>29.415824</td>\n",
       "      <td>-98.467376</td>\n",
       "    </tr>\n",
       "    <tr>\n",
       "      <th>3</th>\n",
       "      <td>48029121120</td>\n",
       "      <td>143</td>\n",
       "      <td>2.7</td>\n",
       "      <td>0.8444</td>\n",
       "      <td>0.0872</td>\n",
       "      <td>0</td>\n",
       "      <td>0</td>\n",
       "      <td>0</td>\n",
       "      <td>0</td>\n",
       "      <td>0</td>\n",
       "      <td>...</td>\n",
       "      <td>0</td>\n",
       "      <td>0</td>\n",
       "      <td>0</td>\n",
       "      <td>0.243449</td>\n",
       "      <td>0.095138</td>\n",
       "      <td>0.096143</td>\n",
       "      <td>TX</td>\n",
       "      <td>48029121120</td>\n",
       "      <td>29.557548</td>\n",
       "      <td>-98.437245</td>\n",
       "    </tr>\n",
       "    <tr>\n",
       "      <th>4</th>\n",
       "      <td>48029120502</td>\n",
       "      <td>1766</td>\n",
       "      <td>31.8</td>\n",
       "      <td>3.4352</td>\n",
       "      <td>0.9531</td>\n",
       "      <td>0</td>\n",
       "      <td>0</td>\n",
       "      <td>0</td>\n",
       "      <td>0</td>\n",
       "      <td>0</td>\n",
       "      <td>...</td>\n",
       "      <td>0</td>\n",
       "      <td>0</td>\n",
       "      <td>2</td>\n",
       "      <td>0.815684</td>\n",
       "      <td>0.485412</td>\n",
       "      <td>0.435892</td>\n",
       "      <td>TX</td>\n",
       "      <td>48029120502</td>\n",
       "      <td>29.504533</td>\n",
       "      <td>-98.407621</td>\n",
       "    </tr>\n",
       "  </tbody>\n",
       "</table>\n",
       "<p>5 rows × 49 columns</p>\n",
       "</div>"
      ],
      "text/plain": [
       "         tract  e_pov  ep_pov  spl_theme1  raw_svi  f_pov_soci  f_unemp_soci  \\\n",
       "0  48029181821    328     8.8      1.3480   0.4879           0             0   \n",
       "1  48029171902   3712    25.5      2.9506   0.6394           0             0   \n",
       "2  48029130200    340    19.2      3.0120   0.6523           0             0   \n",
       "3  48029121120    143     2.7      0.8444   0.0872           0             0   \n",
       "4  48029120502   1766    31.8      3.4352   0.9531           0             0   \n",
       "\n",
       "   f_pci_soci  f_nohsdp_soci  f_soci_total  ...  r_status_fall  r_trans_fall  \\\n",
       "0           0              0             0  ...              0             0   \n",
       "1           0              0             0  ...              0             0   \n",
       "2           0              0             0  ...              1             0   \n",
       "3           0              0             0  ...              0             0   \n",
       "4           0              0             0  ...              0             0   \n",
       "\n",
       "   poverty_cluster  centroid_spl_theme1_scaled  centroid_ep_pov_scaled  \\\n",
       "0                0                    0.243449                0.095138   \n",
       "1                2                    0.815684                0.485412   \n",
       "2                1                    0.560423                0.254288   \n",
       "3                0                    0.243449                0.095138   \n",
       "4                2                    0.815684                0.485412   \n",
       "\n",
       "   centroid_e_pov_scaled  USPS        GEOID   INTPTLAT  \\\n",
       "0               0.096143    TX  48029181821  29.540713   \n",
       "1               0.435892    TX  48029171902  29.434723   \n",
       "2               0.211310    TX  48029130200  29.415824   \n",
       "3               0.096143    TX  48029121120  29.557548   \n",
       "4               0.435892    TX  48029120502  29.504533   \n",
       "\n",
       "   INTPTLONG                                                                                                                               \n",
       "0                                         -98.623809                                                                                       \n",
       "1                                         -98.657214                                                                                       \n",
       "2                                         -98.467376                                                                                       \n",
       "3                                         -98.437245                                                                                       \n",
       "4                                         -98.407621                                                                                       \n",
       "\n",
       "[5 rows x 49 columns]"
      ]
     },
     "execution_count": 17,
     "metadata": {},
     "output_type": "execute_result"
    }
   ],
   "source": [
    "merge_ll_train.head()"
   ]
  },
  {
   "cell_type": "code",
   "execution_count": 20,
   "metadata": {},
   "outputs": [],
   "source": [
    "# export train_exp for Tableau\n",
    "merge_ll_train.to_csv('train_exp_wll.csv')"
   ]
  },
  {
   "cell_type": "code",
   "execution_count": null,
   "metadata": {},
   "outputs": [],
   "source": []
  },
  {
   "cell_type": "code",
   "execution_count": 43,
   "metadata": {},
   "outputs": [],
   "source": [
    "svi_features = svi[['tract', 'rising', 'falling', 'delta', 'avg3yr', \n",
    "                    'r_soci_rise', 'r_comp_rise', 'r_status_rise', 'r_trans_rise', \n",
    "                   'r_soci_fall', 'r_comp_fall', 'r_status_fall', 'r_trans_fall']]"
   ]
  },
  {
   "cell_type": "code",
   "execution_count": 44,
   "metadata": {},
   "outputs": [
    {
     "data": {
      "text/html": [
       "<div>\n",
       "<style scoped>\n",
       "    .dataframe tbody tr th:only-of-type {\n",
       "        vertical-align: middle;\n",
       "    }\n",
       "\n",
       "    .dataframe tbody tr th {\n",
       "        vertical-align: top;\n",
       "    }\n",
       "\n",
       "    .dataframe thead th {\n",
       "        text-align: right;\n",
       "    }\n",
       "</style>\n",
       "<table border=\"1\" class=\"dataframe\">\n",
       "  <thead>\n",
       "    <tr style=\"text-align: right;\">\n",
       "      <th></th>\n",
       "      <th>tract</th>\n",
       "      <th>rising</th>\n",
       "      <th>falling</th>\n",
       "      <th>delta</th>\n",
       "      <th>avg3yr</th>\n",
       "      <th>r_soci_rise</th>\n",
       "      <th>r_comp_rise</th>\n",
       "      <th>r_status_rise</th>\n",
       "      <th>r_trans_rise</th>\n",
       "      <th>r_soci_fall</th>\n",
       "      <th>r_comp_fall</th>\n",
       "      <th>r_status_fall</th>\n",
       "      <th>r_trans_fall</th>\n",
       "    </tr>\n",
       "  </thead>\n",
       "  <tbody>\n",
       "    <tr>\n",
       "      <th>40</th>\n",
       "      <td>48001950500</td>\n",
       "      <td>0</td>\n",
       "      <td>0</td>\n",
       "      <td>0.0829</td>\n",
       "      <td>0.852233</td>\n",
       "      <td>0</td>\n",
       "      <td>0</td>\n",
       "      <td>1</td>\n",
       "      <td>0</td>\n",
       "      <td>0</td>\n",
       "      <td>0</td>\n",
       "      <td>0</td>\n",
       "      <td>0</td>\n",
       "    </tr>\n",
       "    <tr>\n",
       "      <th>41</th>\n",
       "      <td>48001950600</td>\n",
       "      <td>0</td>\n",
       "      <td>0</td>\n",
       "      <td>0.0663</td>\n",
       "      <td>0.642000</td>\n",
       "      <td>0</td>\n",
       "      <td>0</td>\n",
       "      <td>1</td>\n",
       "      <td>0</td>\n",
       "      <td>0</td>\n",
       "      <td>0</td>\n",
       "      <td>0</td>\n",
       "      <td>0</td>\n",
       "    </tr>\n",
       "    <tr>\n",
       "      <th>42</th>\n",
       "      <td>48001950800</td>\n",
       "      <td>1</td>\n",
       "      <td>0</td>\n",
       "      <td>0.1949</td>\n",
       "      <td>0.527033</td>\n",
       "      <td>1</td>\n",
       "      <td>0</td>\n",
       "      <td>1</td>\n",
       "      <td>0</td>\n",
       "      <td>0</td>\n",
       "      <td>0</td>\n",
       "      <td>0</td>\n",
       "      <td>1</td>\n",
       "    </tr>\n",
       "    <tr>\n",
       "      <th>43</th>\n",
       "      <td>48003950100</td>\n",
       "      <td>0</td>\n",
       "      <td>0</td>\n",
       "      <td>0.1230</td>\n",
       "      <td>0.218700</td>\n",
       "      <td>0</td>\n",
       "      <td>0</td>\n",
       "      <td>0</td>\n",
       "      <td>0</td>\n",
       "      <td>0</td>\n",
       "      <td>1</td>\n",
       "      <td>0</td>\n",
       "      <td>1</td>\n",
       "    </tr>\n",
       "    <tr>\n",
       "      <th>44</th>\n",
       "      <td>48003950200</td>\n",
       "      <td>1</td>\n",
       "      <td>0</td>\n",
       "      <td>0.3256</td>\n",
       "      <td>0.535067</td>\n",
       "      <td>1</td>\n",
       "      <td>0</td>\n",
       "      <td>1</td>\n",
       "      <td>1</td>\n",
       "      <td>0</td>\n",
       "      <td>1</td>\n",
       "      <td>0</td>\n",
       "      <td>0</td>\n",
       "    </tr>\n",
       "  </tbody>\n",
       "</table>\n",
       "</div>"
      ],
      "text/plain": [
       "          tract  rising  falling   delta    avg3yr  r_soci_rise  r_comp_rise  \\\n",
       "40  48001950500       0        0  0.0829  0.852233            0            0   \n",
       "41  48001950600       0        0  0.0663  0.642000            0            0   \n",
       "42  48001950800       1        0  0.1949  0.527033            1            0   \n",
       "43  48003950100       0        0  0.1230  0.218700            0            0   \n",
       "44  48003950200       1        0  0.3256  0.535067            1            0   \n",
       "\n",
       "    r_status_rise  r_trans_rise  r_soci_fall  r_comp_fall  r_status_fall  \\\n",
       "40              1             0            0            0              0   \n",
       "41              1             0            0            0              0   \n",
       "42              1             0            0            0              0   \n",
       "43              0             0            0            1              0   \n",
       "44              1             1            0            1              0   \n",
       "\n",
       "    r_trans_fall  \n",
       "40             0  \n",
       "41             0  \n",
       "42             1  \n",
       "43             1  \n",
       "44             0  "
      ]
     },
     "execution_count": 44,
     "metadata": {},
     "output_type": "execute_result"
    }
   ],
   "source": [
    "svi_features.head()"
   ]
  },
  {
   "cell_type": "code",
   "execution_count": 45,
   "metadata": {},
   "outputs": [],
   "source": [
    "svi_features.to_csv('svi_features.csv')"
   ]
  },
  {
   "cell_type": "code",
   "execution_count": 46,
   "metadata": {},
   "outputs": [
    {
     "ename": "NameError",
     "evalue": "name 'df' is not defined",
     "output_type": "error",
     "traceback": [
      "\u001b[0;31m---------------------------------------------------------------------------\u001b[0m",
      "\u001b[0;31mNameError\u001b[0m                                 Traceback (most recent call last)",
      "\u001b[0;32m<ipython-input-46-440209be35e4>\u001b[0m in \u001b[0;36m<module>\u001b[0;34m\u001b[0m\n\u001b[1;32m      1\u001b[0m \u001b[0;31m# merge svi features to df after prepare, before split and scale\u001b[0m\u001b[0;34m\u001b[0m\u001b[0;34m\u001b[0m\u001b[0;34m\u001b[0m\u001b[0m\n\u001b[0;32m----> 2\u001b[0;31m \u001b[0mdf2split\u001b[0m \u001b[0;34m=\u001b[0m \u001b[0mpd\u001b[0m\u001b[0;34m.\u001b[0m\u001b[0mmerge\u001b[0m\u001b[0;34m(\u001b[0m\u001b[0mdf\u001b[0m\u001b[0;34m,\u001b[0m \u001b[0msvi_features\u001b[0m\u001b[0;34m,\u001b[0m \u001b[0mon\u001b[0m\u001b[0;34m=\u001b[0m\u001b[0;34m'tract'\u001b[0m\u001b[0;34m)\u001b[0m\u001b[0;34m\u001b[0m\u001b[0;34m\u001b[0m\u001b[0m\n\u001b[0m",
      "\u001b[0;31mNameError\u001b[0m: name 'df' is not defined"
     ]
    }
   ],
   "source": [
    "# merge svi features to df after prepare, before split and scale\n",
    "df2split = pd.merge(df, svi_features, on='tract')"
   ]
  },
  {
   "cell_type": "code",
   "execution_count": null,
   "metadata": {},
   "outputs": [],
   "source": [
    "df2split"
   ]
  },
  {
   "cell_type": "code",
   "execution_count": null,
   "metadata": {},
   "outputs": [],
   "source": [
    "svi['rank_svi'] = pd.cut(svi.raw_svi2018, bins = [0, .27, .5, .75, 1], labels = [4, 3, 2, 1])"
   ]
  },
  {
   "cell_type": "code",
   "execution_count": null,
   "metadata": {},
   "outputs": [],
   "source": [
    "stdvev1 = svi[svi.rank_svi == 1].raw_svi2018.std()\n",
    "stdvev1"
   ]
  },
  {
   "cell_type": "code",
   "execution_count": null,
   "metadata": {},
   "outputs": [],
   "source": [
    "stdvev2 = svi[svi.rank_svi == 2].raw_svi2018.std()\n",
    "stdvev2"
   ]
  },
  {
   "cell_type": "code",
   "execution_count": null,
   "metadata": {},
   "outputs": [],
   "source": [
    "stdvev3 = svi[svi.rank_svi == 3].raw_svi2018.std()\n",
    "stdvev3"
   ]
  },
  {
   "cell_type": "code",
   "execution_count": null,
   "metadata": {},
   "outputs": [],
   "source": [
    "stdvev4 = svi[svi.rank_svi == 4].raw_svi2018.std()\n",
    "stdvev4"
   ]
  },
  {
   "cell_type": "code",
   "execution_count": null,
   "metadata": {},
   "outputs": [],
   "source": []
  },
  {
   "cell_type": "markdown",
   "metadata": {},
   "source": [
    "- get 2018, 2016, 2014 historical SVI data .csv\n",
    "    - note: 2010 is not available sorted by state\n",
    "    - need to watch for possible issues with tract/FIPS changes creating null values\n",
    "- get the rank/raw score for each theme and total by census track for each year available\n",
    "- merge these back together on FIPS and watch for nulls\n",
    "- change up or down from previous year\n",
    "- stddev\n",
    "- %/amount change year over year?\n",
    "\n",
    "\n",
    "Groupings/Themes\n",
    "- theme1 = socioeconomic status\n",
    "- theme2 = household composition and disability\n",
    "- theme3 = minority and language status\n",
    "- theme4 = housing type and transportation\n",
    "\n",
    "\n",
    "- NOTE: excluding 2010 because shape and columns in .csv are substantially different, will only got back to 2014"
   ]
  },
  {
   "cell_type": "code",
   "execution_count": null,
   "metadata": {},
   "outputs": [],
   "source": [
    "# get 2018 by census tract\n",
    "SVI2018 = pd.read_csv('SVI2018_US.csv')"
   ]
  },
  {
   "cell_type": "code",
   "execution_count": null,
   "metadata": {},
   "outputs": [],
   "source": [
    "SVI2018.head()"
   ]
  },
  {
   "cell_type": "code",
   "execution_count": null,
   "metadata": {},
   "outputs": [],
   "source": [
    "# filter for just TX\n",
    "SVI2018 = SVI2018[SVI2018.STATE == 'TEXAS']"
   ]
  },
  {
   "cell_type": "code",
   "execution_count": null,
   "metadata": {},
   "outputs": [],
   "source": [
    "SVI2018.head()"
   ]
  },
  {
   "cell_type": "code",
   "execution_count": null,
   "metadata": {},
   "outputs": [],
   "source": [
    "# get list of all raw/rank SVI score columns\n",
    "rpl_list18 = [col for col in SVI2018.columns if col.startswith('R')]"
   ]
  },
  {
   "cell_type": "code",
   "execution_count": null,
   "metadata": {},
   "outputs": [],
   "source": [
    "rpl_list18"
   ]
  },
  {
   "cell_type": "code",
   "execution_count": null,
   "metadata": {},
   "outputs": [],
   "source": [
    "# create dataframe with just the raw/rank score columns\n",
    "df2018 = SVI2018[[c for c in SVI2018.columns if c in rpl_list18]]"
   ]
  },
  {
   "cell_type": "code",
   "execution_count": null,
   "metadata": {},
   "outputs": [],
   "source": [
    "# rename columns\n",
    "df2018.rename(columns = {'RPL_THEMES': 'raw_svi2018', \n",
    "                     \"RPL_THEME1\": \"r_soci_total2018\", \n",
    "                     \"RPL_THEME2\": \"r_comp_total2018\", \n",
    "                     \"RPL_THEME3\": \"r_status_total2018\", \n",
    "                     \"RPL_THEME4\": \"r_trans_total2018\"}, inplace = True)"
   ]
  },
  {
   "cell_type": "code",
   "execution_count": null,
   "metadata": {},
   "outputs": [],
   "source": [
    "# add back county, FIPS, population\n",
    "df2018['county'] = SVI2018.COUNTY\n",
    "df2018['tract'] = SVI2018.FIPS\n",
    "df2018['est_population2018'] = SVI2018.E_TOTPOP"
   ]
  },
  {
   "cell_type": "code",
   "execution_count": null,
   "metadata": {},
   "outputs": [],
   "source": [
    "df2018.head()"
   ]
  },
  {
   "cell_type": "code",
   "execution_count": null,
   "metadata": {},
   "outputs": [],
   "source": [
    "df2018.shape"
   ]
  },
  {
   "cell_type": "code",
   "execution_count": null,
   "metadata": {},
   "outputs": [],
   "source": [
    "# note 2016 is already filtered down to TX only\n",
    "SVI2016 = pd.read_csv('TX_SVI_census2016.csv')"
   ]
  },
  {
   "cell_type": "code",
   "execution_count": null,
   "metadata": {},
   "outputs": [],
   "source": [
    "SVI2016.head()"
   ]
  },
  {
   "cell_type": "code",
   "execution_count": null,
   "metadata": {},
   "outputs": [],
   "source": [
    "rpl_list16 = [col for col in SVI2016.columns if col.startswith('R')]"
   ]
  },
  {
   "cell_type": "code",
   "execution_count": null,
   "metadata": {},
   "outputs": [],
   "source": [
    "rpl_list16"
   ]
  },
  {
   "cell_type": "code",
   "execution_count": null,
   "metadata": {},
   "outputs": [],
   "source": [
    "# create dataframe with just the raw/rank score columns\n",
    "df2016 = SVI2016[[c for c in SVI2016.columns if c in rpl_list16]]"
   ]
  },
  {
   "cell_type": "code",
   "execution_count": null,
   "metadata": {},
   "outputs": [],
   "source": [
    "# rename columns\n",
    "df2016.rename(columns = {'RPL_THEMES': 'raw_svi2016', \n",
    "                     \"RPL_THEME1\": \"r_soci_total2016\", \n",
    "                     \"RPL_THEME2\": \"r_comp_total2016\", \n",
    "                     \"RPL_THEME3\": \"r_status_total2016\", \n",
    "                     \"RPL_THEME4\": \"r_trans_total2016\"}, inplace = True)"
   ]
  },
  {
   "cell_type": "code",
   "execution_count": null,
   "metadata": {},
   "outputs": [],
   "source": [
    "# add back county, FIPS, population\n",
    "#df2016['county2016'] = SVI2016.COUNTY\n",
    "df2016['tract'] = SVI2016.FIPS\n",
    "df2016['est_population2016'] = SVI2016.E_TOTPOP"
   ]
  },
  {
   "cell_type": "code",
   "execution_count": null,
   "metadata": {},
   "outputs": [],
   "source": [
    "df2016.head()\n"
   ]
  },
  {
   "cell_type": "code",
   "execution_count": null,
   "metadata": {},
   "outputs": [],
   "source": [
    "df2016.shape"
   ]
  },
  {
   "cell_type": "code",
   "execution_count": null,
   "metadata": {},
   "outputs": [],
   "source": [
    "# note 2014 is already filtered down to TX only\n",
    "SVI2014 = pd.read_csv('TX_SVI_census2014.csv')"
   ]
  },
  {
   "cell_type": "code",
   "execution_count": null,
   "metadata": {},
   "outputs": [],
   "source": [
    "rpl_list14 = [col for col in SVI2014.columns if col.startswith('R')]\n",
    "rpl_list14"
   ]
  },
  {
   "cell_type": "code",
   "execution_count": null,
   "metadata": {},
   "outputs": [],
   "source": [
    "# create dataframe with just the raw/rank score columns\n",
    "df2014 = SVI2014[[c for c in SVI2014.columns if c in rpl_list14]]"
   ]
  },
  {
   "cell_type": "code",
   "execution_count": null,
   "metadata": {},
   "outputs": [],
   "source": [
    "# rename columns\n",
    "df2014.rename(columns = {'RPL_THEMES': 'raw_svi2014', \n",
    "                     \"RPL_THEME1\": \"r_soci_total2014\", \n",
    "                     \"RPL_THEME2\": \"r_comp_total2014\", \n",
    "                     \"RPL_THEME3\": \"r_status_total2014\", \n",
    "                     \"RPL_THEME4\": \"r_trans_total2014\"}, inplace = True)"
   ]
  },
  {
   "cell_type": "code",
   "execution_count": null,
   "metadata": {},
   "outputs": [],
   "source": [
    "# add back county, FIPS, population\n",
    "#df2014['county2014'] = SVI2014.COUNTY\n",
    "df2014['tract'] = SVI2014.FIPS\n",
    "df2014['est_population2014'] = SVI2014.E_TOTPOP"
   ]
  },
  {
   "cell_type": "code",
   "execution_count": null,
   "metadata": {},
   "outputs": [],
   "source": [
    "df2014.head()\n"
   ]
  },
  {
   "cell_type": "code",
   "execution_count": null,
   "metadata": {},
   "outputs": [],
   "source": [
    "df2014.shape"
   ]
  },
  {
   "cell_type": "code",
   "execution_count": null,
   "metadata": {},
   "outputs": [],
   "source": [
    "# get 2010 by census tract\n",
    "SVI2010 = pd.read_csv('SVI2010_US.csv')"
   ]
  },
  {
   "cell_type": "code",
   "execution_count": null,
   "metadata": {},
   "outputs": [],
   "source": [
    "# DO NOT USE - not worth time to sort\n",
    "SVI2010.head()"
   ]
  },
  {
   "cell_type": "code",
   "execution_count": null,
   "metadata": {},
   "outputs": [],
   "source": [
    "# merge the 2018, 2016, and 2014 dateframes on census_tract\n",
    "# all are same shape = (5254, 8), use left merge just in case so don't lose any 2018 data\n",
    "SVI_hist = pd.merge(df2018, df2016, on='tract', how='left')"
   ]
  },
  {
   "cell_type": "code",
   "execution_count": null,
   "metadata": {},
   "outputs": [],
   "source": [
    "SVI_hist.shape"
   ]
  },
  {
   "cell_type": "code",
   "execution_count": null,
   "metadata": {},
   "outputs": [],
   "source": [
    "SVI_hist.columns"
   ]
  },
  {
   "cell_type": "code",
   "execution_count": null,
   "metadata": {},
   "outputs": [],
   "source": [
    "SVI_hist_full = pd.merge(SVI_hist, df2014, on='tract', how='left')"
   ]
  },
  {
   "cell_type": "code",
   "execution_count": null,
   "metadata": {},
   "outputs": [],
   "source": [
    "SVI_hist_full.shape"
   ]
  },
  {
   "cell_type": "code",
   "execution_count": null,
   "metadata": {},
   "outputs": [],
   "source": [
    "SVI_hist_full.head()"
   ]
  },
  {
   "cell_type": "code",
   "execution_count": null,
   "metadata": {},
   "outputs": [],
   "source": [
    "# now drop any -999.0 observations, per CDC these were removed during ranking\n",
    "SVI_hist_full = SVI_hist_full[SVI_hist_full.raw_svi2018 != -999.0]"
   ]
  },
  {
   "cell_type": "code",
   "execution_count": null,
   "metadata": {},
   "outputs": [],
   "source": [
    "SVI_hist_full.head()"
   ]
  },
  {
   "cell_type": "code",
   "execution_count": null,
   "metadata": {},
   "outputs": [],
   "source": [
    "SVI_hist_full.shape"
   ]
  },
  {
   "cell_type": "code",
   "execution_count": null,
   "metadata": {},
   "outputs": [],
   "source": [
    "SVI_hist_full.columns"
   ]
  },
  {
   "cell_type": "code",
   "execution_count": null,
   "metadata": {},
   "outputs": [],
   "source": [
    "svi_histdf = SVI_hist_full[['county', 'tract', 'raw_svi2018', 'raw_svi2016', 'raw_svi2014', \n",
    "               'r_soci_total2018', 'r_comp_total2018', 'r_status_total2018', 'r_trans_total2018',\n",
    "              'r_soci_total2016', 'r_comp_total2016', 'r_status_total2016', 'r_trans_total2016', \n",
    "              'r_soci_total2014', 'r_comp_total2014', 'r_status_total2014', 'r_trans_total2014',\n",
    "              'est_population2018', 'est_population2016', 'est_population2014']]"
   ]
  },
  {
   "cell_type": "code",
   "execution_count": null,
   "metadata": {},
   "outputs": [],
   "source": [
    "svi_histdf.head()"
   ]
  },
  {
   "cell_type": "code",
   "execution_count": null,
   "metadata": {},
   "outputs": [],
   "source": [
    "# write combined file to csv\n",
    "svi_histdf.to_csv('SVI_history.csv')"
   ]
  },
  {
   "cell_type": "code",
   "execution_count": null,
   "metadata": {},
   "outputs": [],
   "source": []
  },
  {
   "cell_type": "code",
   "execution_count": null,
   "metadata": {},
   "outputs": [],
   "source": []
  },
  {
   "cell_type": "code",
   "execution_count": null,
   "metadata": {},
   "outputs": [],
   "source": []
  },
  {
   "cell_type": "code",
   "execution_count": null,
   "metadata": {},
   "outputs": [],
   "source": [
    "# test wrangle\n",
    "df, train_exp, X_train_scaled, y_train, X_test_scaled, y_test = wrangle.wrangle_data()"
   ]
  },
  {
   "cell_type": "code",
   "execution_count": null,
   "metadata": {},
   "outputs": [],
   "source": []
  },
  {
   "cell_type": "code",
   "execution_count": null,
   "metadata": {},
   "outputs": [],
   "source": []
  },
  {
   "cell_type": "code",
   "execution_count": null,
   "metadata": {},
   "outputs": [],
   "source": []
  },
  {
   "cell_type": "code",
   "execution_count": null,
   "metadata": {},
   "outputs": [],
   "source": [
    "sa = acquire.get_san_antonio_data()"
   ]
  },
  {
   "cell_type": "code",
   "execution_count": null,
   "metadata": {},
   "outputs": [],
   "source": [
    "sa.head()"
   ]
  },
  {
   "cell_type": "code",
   "execution_count": null,
   "metadata": {},
   "outputs": [],
   "source": [
    "sasvi = acquire.get_sa_svi_data()"
   ]
  },
  {
   "cell_type": "code",
   "execution_count": null,
   "metadata": {},
   "outputs": [],
   "source": [
    "sasvi.head()"
   ]
  },
  {
   "cell_type": "code",
   "execution_count": null,
   "metadata": {},
   "outputs": [],
   "source": [
    "huddf = acquire.get_HUD(sasvi)"
   ]
  },
  {
   "cell_type": "code",
   "execution_count": null,
   "metadata": {},
   "outputs": [],
   "source": [
    "huddf.head()"
   ]
  },
  {
   "cell_type": "code",
   "execution_count": null,
   "metadata": {},
   "outputs": [],
   "source": [
    "huddf.shape"
   ]
  },
  {
   "cell_type": "code",
   "execution_count": null,
   "metadata": {},
   "outputs": [],
   "source": [
    "merge_bexar = sa[['zip', 'population', 'positive', 'casesp100000']]"
   ]
  },
  {
   "cell_type": "code",
   "execution_count": null,
   "metadata": {},
   "outputs": [],
   "source": [
    "svi_zip = pd.merge(sasvi, huddf, on='tract', how='left')"
   ]
  },
  {
   "cell_type": "code",
   "execution_count": null,
   "metadata": {},
   "outputs": [],
   "source": [
    "svi_zip.isna().sum()\n"
   ]
  },
  {
   "cell_type": "code",
   "execution_count": null,
   "metadata": {},
   "outputs": [],
   "source": [
    "svi_zip.shape"
   ]
  },
  {
   "cell_type": "code",
   "execution_count": null,
   "metadata": {},
   "outputs": [],
   "source": [
    "svi_zip_cases = pd.merge(svi_zip, merge_bexar, on='zip', how='left')"
   ]
  },
  {
   "cell_type": "code",
   "execution_count": null,
   "metadata": {},
   "outputs": [],
   "source": [
    "svi_zip_cases.head()"
   ]
  },
  {
   "cell_type": "code",
   "execution_count": null,
   "metadata": {},
   "outputs": [],
   "source": [
    "svi_zip_cases.isna().sum()"
   ]
  },
  {
   "cell_type": "code",
   "execution_count": null,
   "metadata": {},
   "outputs": [],
   "source": [
    "svi_zip_cases.shape"
   ]
  },
  {
   "cell_type": "code",
   "execution_count": null,
   "metadata": {},
   "outputs": [],
   "source": [
    "# testing\n",
    "df = acquire.run()\n",
    "df = prepare.prepare_data(df)\n",
    "df.head()"
   ]
  },
  {
   "cell_type": "code",
   "execution_count": null,
   "metadata": {},
   "outputs": [],
   "source": [
    "df.columns"
   ]
  },
  {
   "cell_type": "code",
   "execution_count": null,
   "metadata": {},
   "outputs": [],
   "source": [
    "# full acquire test\n",
    "df = acquire.run()"
   ]
  },
  {
   "cell_type": "code",
   "execution_count": null,
   "metadata": {},
   "outputs": [],
   "source": [
    "# test acquire import Bexar data\n",
    "bexar = acquire.get_san_antonio_data()\n",
    "bexar.head()"
   ]
  },
  {
   "cell_type": "code",
   "execution_count": null,
   "metadata": {},
   "outputs": [],
   "source": [
    "# test acquire import svi data\n",
    "svi = acquire.get_svi_data()\n",
    "svi.head()"
   ]
  },
  {
   "cell_type": "code",
   "execution_count": null,
   "metadata": {},
   "outputs": [],
   "source": [
    "# test acquire get HUD merge df\n",
    "merge_HUD = acquire.get_HUD(bexar)"
   ]
  },
  {
   "cell_type": "code",
   "execution_count": null,
   "metadata": {},
   "outputs": [],
   "source": [
    "merge_HUD.head()"
   ]
  },
  {
   "cell_type": "code",
   "execution_count": null,
   "metadata": {},
   "outputs": [],
   "source": []
  },
  {
   "cell_type": "code",
   "execution_count": null,
   "metadata": {},
   "outputs": [],
   "source": []
  },
  {
   "cell_type": "code",
   "execution_count": null,
   "metadata": {},
   "outputs": [],
   "source": [
    "# import Bexar cases dataframe\n",
    "bexar_cases = pd.read_csv('Bexar_County_COVID-19_Data_by_Zip_Code.csv', index_col=0)\n",
    "bexar_cases.columns = bexar_cases.columns.str.lower()\n",
    "bexar_cases.head()"
   ]
  },
  {
   "cell_type": "code",
   "execution_count": null,
   "metadata": {},
   "outputs": [],
   "source": [
    "bexar_cases.info()"
   ]
  },
  {
   "cell_type": "code",
   "execution_count": null,
   "metadata": {},
   "outputs": [],
   "source": [
    "# how many unique zip codes are in the cases df?\n",
    "bexar_cases.nunique()"
   ]
  },
  {
   "cell_type": "code",
   "execution_count": null,
   "metadata": {},
   "outputs": [],
   "source": [
    "# import san antonio svi index dataframe\n",
    "svidf = pd.read_csv('san_antonio_2018_tract.csv')\n",
    "svidf.columns = svidf.columns.str.lower()\n",
    "svidf = svidf.rename(columns={'fips': 'tract'})\n",
    "svidf.head()"
   ]
  },
  {
   "cell_type": "code",
   "execution_count": null,
   "metadata": {},
   "outputs": [],
   "source": [
    "# how many unique FIPS ids are in the svi df?\n",
    "svidf.tract.value_counts()"
   ]
  },
  {
   "cell_type": "code",
   "execution_count": null,
   "metadata": {},
   "outputs": [],
   "source": [
    "# get list of unique zip codes in the bexar cases df\n",
    "bexar_zip = bexar_cases.zip_code.tolist()"
   ]
  },
  {
   "cell_type": "code",
   "execution_count": null,
   "metadata": {},
   "outputs": [],
   "source": [
    "# import track to zip dataframe\n",
    "zips = pd.read_csv('TRACT_ZIP_122018_78s_only.csv')\n",
    "# filter the zips df to only those in the bexar zip list\n",
    "zips = zips[zips.zip.isin(bexar_zip)]\n",
    "zips"
   ]
  },
  {
   "cell_type": "code",
   "execution_count": null,
   "metadata": {},
   "outputs": [],
   "source": [
    "# view zips sorted by tract and total ratio\n",
    "zips.sort_values(by=['tract', 'tot_ratio'], ascending=[True, False]).head()"
   ]
  },
  {
   "cell_type": "code",
   "execution_count": null,
   "metadata": {},
   "outputs": [],
   "source": [
    "# verify that .08 is highest for tract 48493000201\n",
    "zips[zips.tract == 48493000201]"
   ]
  },
  {
   "cell_type": "code",
   "execution_count": null,
   "metadata": {},
   "outputs": [],
   "source": [
    "# aggregate the data frame to get the zip code with the max ratio by tract\n",
    "zipsdf = zips.groupby(['tract'])['tot_ratio', 'zip'].agg({'tot_ratio':['max'], 'zip':['first']})\n",
    "zipsdf.columns = [' '.join(col).strip() for col in zipsdf.columns.values]\n",
    "zipsdf = zipsdf.reset_index()"
   ]
  },
  {
   "cell_type": "code",
   "execution_count": null,
   "metadata": {},
   "outputs": [],
   "source": [
    "zipsdf.head()"
   ]
  },
  {
   "cell_type": "code",
   "execution_count": null,
   "metadata": {},
   "outputs": [],
   "source": [
    "# the svi only has 366 rows, hopefully they are all in this list\n",
    "len(zipsdf)"
   ]
  },
  {
   "cell_type": "code",
   "execution_count": null,
   "metadata": {},
   "outputs": [],
   "source": [
    "# create merge df to test merging\n",
    "merge_zip3 = zipsdf[['tract', 'zip first']]"
   ]
  },
  {
   "cell_type": "code",
   "execution_count": null,
   "metadata": {},
   "outputs": [],
   "source": [
    "merge_zip3 = merge_zip3.rename(columns={'zip first':'zip'})"
   ]
  },
  {
   "cell_type": "code",
   "execution_count": null,
   "metadata": {},
   "outputs": [],
   "source": [
    "merge_zip3"
   ]
  },
  {
   "cell_type": "code",
   "execution_count": null,
   "metadata": {},
   "outputs": [],
   "source": [
    "# create new df merging svi and 2nd merge zip file on tract\n",
    "svi_zip2 = pd.merge(svidf, merge_zip3, on='tract', how='left')\n",
    "svi_zip2.shape"
   ]
  },
  {
   "cell_type": "code",
   "execution_count": null,
   "metadata": {},
   "outputs": [],
   "source": [
    "# check for nulls\n",
    "svi_zip2.isna().sum()"
   ]
  },
  {
   "cell_type": "code",
   "execution_count": null,
   "metadata": {},
   "outputs": [],
   "source": [
    "# create dataframe to merge with svi\n",
    "merge_bexar = bexar[['zip', 'population', 'positive', 'casesp100000']]\n",
    "merge_bexar.head()"
   ]
  },
  {
   "cell_type": "code",
   "execution_count": null,
   "metadata": {},
   "outputs": [],
   "source": [
    "# merge svi_zip with merge_bexar\n",
    "full = pd.merge(svi_zip2, merge_bexar, on='zip', how='left')\n",
    "full.head()"
   ]
  },
  {
   "cell_type": "code",
   "execution_count": null,
   "metadata": {},
   "outputs": [],
   "source": []
  },
  {
   "cell_type": "code",
   "execution_count": null,
   "metadata": {},
   "outputs": [],
   "source": [
    "max_ratio = zips.groupby('tract')[['tot_ratio']].max()"
   ]
  },
  {
   "cell_type": "code",
   "execution_count": null,
   "metadata": {},
   "outputs": [],
   "source": [
    "max_ratio = max_ratio.reset_index()"
   ]
  },
  {
   "cell_type": "code",
   "execution_count": null,
   "metadata": {},
   "outputs": [],
   "source": [
    "max_ratio.head()"
   ]
  },
  {
   "cell_type": "code",
   "execution_count": null,
   "metadata": {},
   "outputs": [],
   "source": [
    "max_ratio.nunique()"
   ]
  },
  {
   "cell_type": "code",
   "execution_count": null,
   "metadata": {},
   "outputs": [],
   "source": [
    "zips[zips.zip == 78219]"
   ]
  },
  {
   "cell_type": "code",
   "execution_count": null,
   "metadata": {},
   "outputs": [],
   "source": [
    "# requiring the total ratio to be 54% or higher per track gives the closest to 366 without going over\n",
    "# there will be 4 zip codes not represented and 2 census tracks not represented\n",
    "# when merged we should get null values for these\n",
    "zip_54 = zips[zips.tot_ratio >= .54]\n",
    "zip_54.nunique()"
   ]
  },
  {
   "cell_type": "code",
   "execution_count": null,
   "metadata": {},
   "outputs": [],
   "source": [
    "# create df with only values to merge\n",
    "merge_zip = zip_54[['tract', 'zip']]\n",
    "merge_zip"
   ]
  },
  {
   "cell_type": "code",
   "execution_count": null,
   "metadata": {},
   "outputs": [],
   "source": [
    "# create new df merging svi and merge zip on tract\n",
    "fulldf = pd.merge(svidf, merge_zip, on='tract', how='left')\n",
    "fulldf.shape"
   ]
  },
  {
   "cell_type": "code",
   "execution_count": null,
   "metadata": {},
   "outputs": [],
   "source": [
    "# will need to convert zip to int\n",
    "type(fulldf.zip[0])"
   ]
  },
  {
   "cell_type": "code",
   "execution_count": null,
   "metadata": {},
   "outputs": [],
   "source": [
    "# there are 21 tract ids that do not have a zip code\n",
    "fulldf.isna().sum()"
   ]
  },
  {
   "cell_type": "code",
   "execution_count": null,
   "metadata": {},
   "outputs": [],
   "source": [
    "# create a df of just the row with a null zip code\n",
    "missing_zip = fulldf[fulldf.zip.isna()]"
   ]
  },
  {
   "cell_type": "code",
   "execution_count": null,
   "metadata": {},
   "outputs": [],
   "source": [
    "missing_zip"
   ]
  },
  {
   "cell_type": "code",
   "execution_count": null,
   "metadata": {},
   "outputs": [],
   "source": [
    "# here is a list of the tracts missing zip codes\n",
    "missing_zip.tract.value_counts()"
   ]
  },
  {
   "cell_type": "code",
   "execution_count": null,
   "metadata": {},
   "outputs": [],
   "source": [
    "# find value for 48029131802\n",
    "zips[zips.tract == 48029131802]\n",
    "# assign 78101 to this track = highest % addresses"
   ]
  },
  {
   "cell_type": "code",
   "execution_count": null,
   "metadata": {},
   "outputs": [],
   "source": [
    "# find value for 48029182103\n",
    "zips[zips.tract == 48029182103]\n",
    "# assign 78023 to this track = highest % addresses"
   ]
  },
  {
   "cell_type": "code",
   "execution_count": null,
   "metadata": {},
   "outputs": [],
   "source": [
    "# find value for 48029980004\n",
    "zips[zips.tract == 48029980004]\n",
    "# assign 78216 to this track = highest % addresses"
   ]
  },
  {
   "cell_type": "code",
   "execution_count": null,
   "metadata": {},
   "outputs": [],
   "source": [
    "# find value for 48029130402\n",
    "zips[zips.tract == 48029130402]\n",
    "# assign 78210 to this track = highest % addresses"
   ]
  },
  {
   "cell_type": "code",
   "execution_count": null,
   "metadata": {},
   "outputs": [],
   "source": [
    "# find value for 48029141900\n",
    "zips[zips.tract == 48029141900]\n",
    "# assign 78263 to this track = highest % addresses"
   ]
  },
  {
   "cell_type": "code",
   "execution_count": null,
   "metadata": {},
   "outputs": [],
   "source": [
    "# find value for 48029191503\n",
    "zips[zips.tract == 48029191503]\n",
    "# assign 78249 to this track = highest % addresses"
   ]
  },
  {
   "cell_type": "code",
   "execution_count": null,
   "metadata": {},
   "outputs": [],
   "source": [
    "# find value for 48029181704\n",
    "zips[zips.tract == 48029181704]\n",
    "# assign 78238 to this track = highest % addresses"
   ]
  },
  {
   "cell_type": "code",
   "execution_count": null,
   "metadata": {},
   "outputs": [],
   "source": [
    "# find value for 48029131700\n",
    "zips[zips.tract == 48029131700]\n",
    "# assign 78148 to this track = highest % addresses"
   ]
  },
  {
   "cell_type": "code",
   "execution_count": null,
   "metadata": {},
   "outputs": [],
   "source": [
    "# find value for 48029121205\n",
    "zips[zips.tract == 48029121205]\n",
    "# assign 78233 to this track = highest % addresses"
   ]
  },
  {
   "cell_type": "code",
   "execution_count": null,
   "metadata": {},
   "outputs": [],
   "source": [
    "# find value for 48029110100\n",
    "zips[zips.tract == 48029110100]\n",
    "# assign 78205 to this track = highest % addresses"
   ]
  },
  {
   "cell_type": "code",
   "execution_count": null,
   "metadata": {},
   "outputs": [],
   "source": [
    "# find value for 48029182102\n",
    "zips[zips.tract == 48029182102]\n",
    "# assign 78255 to this track = highest % addresses"
   ]
  },
  {
   "cell_type": "code",
   "execution_count": null,
   "metadata": {},
   "outputs": [],
   "source": [
    "# find value for 48029192100\n",
    "zips[zips.tract == 48029192100]\n",
    "# assign 78204 to this track = highest % addresses"
   ]
  },
  {
   "cell_type": "code",
   "execution_count": null,
   "metadata": {},
   "outputs": [],
   "source": [
    "# find value for 48029121905\n",
    "zips[zips.tract == 48029121905]\n",
    "# assign 78259 to this track = highest % addresses"
   ]
  },
  {
   "cell_type": "code",
   "execution_count": null,
   "metadata": {},
   "outputs": [],
   "source": [
    "# find value for 48029130800\n",
    "zips[zips.tract == 48029130800]\n",
    "# assign 78219 to this track = highest % addresses"
   ]
  },
  {
   "cell_type": "code",
   "execution_count": null,
   "metadata": {},
   "outputs": [],
   "source": [
    "# find value for 48029121203\n",
    "zips[zips.tract == 48029121203]\n",
    "# assign 78233 to this track = highest % addresses"
   ]
  },
  {
   "cell_type": "code",
   "execution_count": null,
   "metadata": {},
   "outputs": [],
   "source": [
    "# find value for 48029171602\n",
    "zips[zips.tract == 48029171602]\n",
    "# assign 78227 to this track = highest % addresses"
   ]
  },
  {
   "cell_type": "code",
   "execution_count": null,
   "metadata": {},
   "outputs": [],
   "source": [
    "# find value for 48029181725\n",
    "zips[zips.tract == 48029181725]\n",
    "# assign 78251 to this track = highest % addresses"
   ]
  },
  {
   "cell_type": "code",
   "execution_count": null,
   "metadata": {},
   "outputs": [],
   "source": [
    "# find value for 48029150300\n",
    "zips[zips.tract == 48029150300]\n",
    "# assign 78214 to this track = highest % addresses"
   ]
  },
  {
   "cell_type": "code",
   "execution_count": null,
   "metadata": {},
   "outputs": [],
   "source": [
    "# find value for 48029191504\n",
    "zips[zips.tract == 48029191504]\n",
    "# assign 78231 to this track = highest % addresses"
   ]
  },
  {
   "cell_type": "code",
   "execution_count": null,
   "metadata": {},
   "outputs": [],
   "source": [
    "# find value for 48029191004\n",
    "zips[zips.tract == 48029191004]\n",
    "# assign 78216 to this track = highest % addresses"
   ]
  },
  {
   "cell_type": "code",
   "execution_count": null,
   "metadata": {},
   "outputs": [],
   "source": [
    "# find value for 48029130500\n",
    "zips[zips.tract == 48029130500]\n",
    "# assign 78202 to this track = highest % addresses"
   ]
  },
  {
   "cell_type": "code",
   "execution_count": null,
   "metadata": {},
   "outputs": [],
   "source": [
    "tracts_list = missing_zip.tract.tolist()"
   ]
  },
  {
   "cell_type": "code",
   "execution_count": null,
   "metadata": {},
   "outputs": [],
   "source": [
    "assign_zip_list = [78101, 78023, 78216, 78210, 78263, 78249, 78238, 78148, 78233, 78205, 78255, 78204, 78259,\n",
    "                   78219, 78233, 78227, 78251, 78214, 78231, 78216, 78202]"
   ]
  },
  {
   "cell_type": "code",
   "execution_count": null,
   "metadata": {},
   "outputs": [],
   "source": [
    "len(tracts_list)"
   ]
  },
  {
   "cell_type": "code",
   "execution_count": 47,
   "metadata": {},
   "outputs": [
    {
     "ename": "NameError",
     "evalue": "name 'assign_zip_list' is not defined",
     "output_type": "error",
     "traceback": [
      "\u001b[0;31m---------------------------------------------------------------------------\u001b[0m",
      "\u001b[0;31mNameError\u001b[0m                                 Traceback (most recent call last)",
      "\u001b[0;32m<ipython-input-47-3d666facb090>\u001b[0m in \u001b[0;36m<module>\u001b[0;34m\u001b[0m\n\u001b[0;32m----> 1\u001b[0;31m \u001b[0mlen\u001b[0m\u001b[0;34m(\u001b[0m\u001b[0massign_zip_list\u001b[0m\u001b[0;34m)\u001b[0m\u001b[0;34m\u001b[0m\u001b[0;34m\u001b[0m\u001b[0m\n\u001b[0m",
      "\u001b[0;31mNameError\u001b[0m: name 'assign_zip_list' is not defined"
     ]
    }
   ],
   "source": [
    "len(assign_zip_list)"
   ]
  },
  {
   "cell_type": "code",
   "execution_count": null,
   "metadata": {},
   "outputs": [],
   "source": [
    "# verified lists are same length, now zip lists together into df to merge back to fulldf\n",
    "# https://cmdlinetips.com/2018/01/how-to-create-pandas-dataframe-from-multiple-lists/#:~:text=Create%20pandas%20dataframe%20from%20lists%20using%20zip%20Second,it%20to%20produce%20one%20item%20at%20a%20time.\n",
    "data_to_add = pd.DataFrame()\n",
    "data_to_add['tract'] = tracts_list\n",
    "data_to_add['zip'] = assign_zip_list\n",
    "data_to_add"
   ]
  },
  {
   "cell_type": "code",
   "execution_count": null,
   "metadata": {},
   "outputs": [],
   "source": [
    "# add these values to the merge zip df\n",
    "merge_zip2 = merge_zip.append(data_to_add)"
   ]
  },
  {
   "cell_type": "code",
   "execution_count": null,
   "metadata": {},
   "outputs": [],
   "source": [
    "len(merge_zip2)"
   ]
  },
  {
   "cell_type": "code",
   "execution_count": null,
   "metadata": {},
   "outputs": [],
   "source": [
    "# create new df merging svi and 2nd merge zip file on tract\n",
    "svi_zip = pd.merge(svidf, merge_zip2, on='tract', how='left')\n",
    "svi_zip.shape"
   ]
  },
  {
   "cell_type": "code",
   "execution_count": null,
   "metadata": {},
   "outputs": [],
   "source": [
    "# check for nulls\n",
    "svi_zip.isna().sum()"
   ]
  },
  {
   "cell_type": "code",
   "execution_count": null,
   "metadata": {},
   "outputs": [],
   "source": [
    "svi_zip.head()"
   ]
  },
  {
   "cell_type": "code",
   "execution_count": null,
   "metadata": {},
   "outputs": [],
   "source": [
    "bexar_cases.head()"
   ]
  },
  {
   "cell_type": "code",
   "execution_count": null,
   "metadata": {},
   "outputs": [],
   "source": [
    "# rename the zip code column to merge on\n",
    "bexar_cases = bexar_cases.rename(columns={'zip_code': 'zip', 'populationtotals_totpop_cy': 'population'})"
   ]
  },
  {
   "cell_type": "code",
   "execution_count": null,
   "metadata": {},
   "outputs": [],
   "source": [
    "bexar_cases"
   ]
  },
  {
   "cell_type": "code",
   "execution_count": null,
   "metadata": {},
   "outputs": [],
   "source": [
    "# create dataframe to merge with svi\n",
    "merge_bexar = bexar_cases[['zip', 'population', 'positive', 'casesp100000']]\n",
    "merge_bexar.head()"
   ]
  },
  {
   "cell_type": "code",
   "execution_count": null,
   "metadata": {},
   "outputs": [],
   "source": [
    "# merge svi_zip with merge_bexar\n",
    "svi_zip_cases = pd.merge(svi_zip, merge_bexar, on='zip', how='left')\n",
    "svi_zip_cases.head()"
   ]
  },
  {
   "cell_type": "code",
   "execution_count": null,
   "metadata": {},
   "outputs": [],
   "source": [
    "# check for nulls\n",
    "svi_zip_cases.isna().sum()"
   ]
  },
  {
   "cell_type": "code",
   "execution_count": null,
   "metadata": {},
   "outputs": [],
   "source": [
    "# write final compliation to csv\n",
    "#svi_zip_cases.to_csv('full_san_antonio.csv')"
   ]
  },
  {
   "cell_type": "code",
   "execution_count": null,
   "metadata": {},
   "outputs": [],
   "source": []
  }
 ],
 "metadata": {
  "kernelspec": {
   "display_name": "Python 3",
   "language": "python",
   "name": "python3"
  },
  "language_info": {
   "codemirror_mode": {
    "name": "ipython",
    "version": 3
   },
   "file_extension": ".py",
   "mimetype": "text/x-python",
   "name": "python",
   "nbconvert_exporter": "python",
   "pygments_lexer": "ipython3",
   "version": "3.7.9"
  },
  "toc": {
   "base_numbering": 1,
   "nav_menu": {},
   "number_sections": true,
   "sideBar": true,
   "skip_h1_title": false,
   "title_cell": "Table of Contents",
   "title_sidebar": "Contents",
   "toc_cell": false,
   "toc_position": {},
   "toc_section_display": true,
   "toc_window_display": false
  }
 },
 "nbformat": 4,
 "nbformat_minor": 4
}
