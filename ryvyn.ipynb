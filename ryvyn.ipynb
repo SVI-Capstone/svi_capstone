{
 "cells": [
  {
   "cell_type": "code",
   "execution_count": 1,
   "metadata": {},
   "outputs": [],
   "source": [
    "import pandas as pd\n",
    "import acquire\n",
    "import prepare\n",
    "import wrangle"
   ]
  },
  {
   "cell_type": "code",
   "execution_count": 2,
   "metadata": {},
   "outputs": [
    {
     "name": "stdout",
     "output_type": "stream",
     "text": [
      "Acquire: compiling raw data files...\n",
      "Acquire: Completed!\n",
      "Prepare: preparing data files...\n",
      "Prepare: Completed!\n",
      "(289, 25) (73, 25)\n"
     ]
    }
   ],
   "source": [
    "# test wrangle\n",
    "df, train_exp, X_train_scaled, y_train, X_test_scaled, y_test = wrangle.wrangle_data()"
   ]
  },
  {
   "cell_type": "code",
   "execution_count": 3,
   "metadata": {},
   "outputs": [],
   "source": [
    "sa = acquire.get_san_antonio_data()"
   ]
  },
  {
   "cell_type": "code",
   "execution_count": 4,
   "metadata": {},
   "outputs": [
    {
     "data": {
      "text/html": [
       "<div>\n",
       "<style scoped>\n",
       "    .dataframe tbody tr th:only-of-type {\n",
       "        vertical-align: middle;\n",
       "    }\n",
       "\n",
       "    .dataframe tbody tr th {\n",
       "        vertical-align: top;\n",
       "    }\n",
       "\n",
       "    .dataframe thead th {\n",
       "        text-align: right;\n",
       "    }\n",
       "</style>\n",
       "<table border=\"1\" class=\"dataframe\">\n",
       "  <thead>\n",
       "    <tr style=\"text-align: right;\">\n",
       "      <th></th>\n",
       "      <th>zip</th>\n",
       "      <th>population</th>\n",
       "      <th>positive</th>\n",
       "      <th>casesp100000</th>\n",
       "      <th>zipint</th>\n",
       "      <th>activecases</th>\n",
       "      <th>activecaserate</th>\n",
       "      <th>shape_length</th>\n",
       "      <th>shape_area</th>\n",
       "    </tr>\n",
       "    <tr>\n",
       "      <th>OBJECTID</th>\n",
       "      <th></th>\n",
       "      <th></th>\n",
       "      <th></th>\n",
       "      <th></th>\n",
       "      <th></th>\n",
       "      <th></th>\n",
       "      <th></th>\n",
       "      <th></th>\n",
       "      <th></th>\n",
       "    </tr>\n",
       "  </thead>\n",
       "  <tbody>\n",
       "    <tr>\n",
       "      <th>1</th>\n",
       "      <td>78002</td>\n",
       "      <td>9061</td>\n",
       "      <td>378</td>\n",
       "      <td>4171.724975</td>\n",
       "      <td>78002</td>\n",
       "      <td>24</td>\n",
       "      <td>264.871427</td>\n",
       "      <td>0.427542</td>\n",
       "      <td>0.009546</td>\n",
       "    </tr>\n",
       "    <tr>\n",
       "      <th>2</th>\n",
       "      <td>78006</td>\n",
       "      <td>5243</td>\n",
       "      <td>96</td>\n",
       "      <td>1831.012779</td>\n",
       "      <td>78006</td>\n",
       "      <td>7</td>\n",
       "      <td>133.511348</td>\n",
       "      <td>0.552725</td>\n",
       "      <td>0.005416</td>\n",
       "    </tr>\n",
       "    <tr>\n",
       "      <th>4</th>\n",
       "      <td>78015</td>\n",
       "      <td>12254</td>\n",
       "      <td>192</td>\n",
       "      <td>1566.835319</td>\n",
       "      <td>78015</td>\n",
       "      <td>16</td>\n",
       "      <td>130.569610</td>\n",
       "      <td>0.278955</td>\n",
       "      <td>0.002312</td>\n",
       "    </tr>\n",
       "    <tr>\n",
       "      <th>5</th>\n",
       "      <td>78023</td>\n",
       "      <td>29569</td>\n",
       "      <td>642</td>\n",
       "      <td>2171.192803</td>\n",
       "      <td>78023</td>\n",
       "      <td>49</td>\n",
       "      <td>165.714092</td>\n",
       "      <td>0.886455</td>\n",
       "      <td>0.017922</td>\n",
       "    </tr>\n",
       "    <tr>\n",
       "      <th>7</th>\n",
       "      <td>78052</td>\n",
       "      <td>699</td>\n",
       "      <td>28</td>\n",
       "      <td>4005.722461</td>\n",
       "      <td>78052</td>\n",
       "      <td>1</td>\n",
       "      <td>143.061516</td>\n",
       "      <td>0.260085</td>\n",
       "      <td>0.001147</td>\n",
       "    </tr>\n",
       "  </tbody>\n",
       "</table>\n",
       "</div>"
      ],
      "text/plain": [
       "            zip  population  positive  casesp100000  zipint  activecases  \\\n",
       "OBJECTID                                                                   \n",
       "1         78002        9061       378   4171.724975   78002           24   \n",
       "2         78006        5243        96   1831.012779   78006            7   \n",
       "4         78015       12254       192   1566.835319   78015           16   \n",
       "5         78023       29569       642   2171.192803   78023           49   \n",
       "7         78052         699        28   4005.722461   78052            1   \n",
       "\n",
       "          activecaserate  shape_length  shape_area  \n",
       "OBJECTID                                            \n",
       "1             264.871427      0.427542    0.009546  \n",
       "2             133.511348      0.552725    0.005416  \n",
       "4             130.569610      0.278955    0.002312  \n",
       "5             165.714092      0.886455    0.017922  \n",
       "7             143.061516      0.260085    0.001147  "
      ]
     },
     "execution_count": 4,
     "metadata": {},
     "output_type": "execute_result"
    }
   ],
   "source": [
    "sa.head()"
   ]
  },
  {
   "cell_type": "code",
   "execution_count": 5,
   "metadata": {},
   "outputs": [],
   "source": [
    "sasvi = acquire.get_sa_svi_data()"
   ]
  },
  {
   "cell_type": "code",
   "execution_count": 6,
   "metadata": {},
   "outputs": [
    {
     "data": {
      "text/html": [
       "<div>\n",
       "<style scoped>\n",
       "    .dataframe tbody tr th:only-of-type {\n",
       "        vertical-align: middle;\n",
       "    }\n",
       "\n",
       "    .dataframe tbody tr th {\n",
       "        vertical-align: top;\n",
       "    }\n",
       "\n",
       "    .dataframe thead th {\n",
       "        text-align: right;\n",
       "    }\n",
       "</style>\n",
       "<table border=\"1\" class=\"dataframe\">\n",
       "  <thead>\n",
       "    <tr style=\"text-align: right;\">\n",
       "      <th></th>\n",
       "      <th>st</th>\n",
       "      <th>state</th>\n",
       "      <th>st_abbr</th>\n",
       "      <th>stcnty</th>\n",
       "      <th>county</th>\n",
       "      <th>tract</th>\n",
       "      <th>location</th>\n",
       "      <th>area_sqmi</th>\n",
       "      <th>e_totpop</th>\n",
       "      <th>m_totpop</th>\n",
       "      <th>...</th>\n",
       "      <th>f_crowd</th>\n",
       "      <th>f_noveh</th>\n",
       "      <th>f_groupq</th>\n",
       "      <th>f_theme4</th>\n",
       "      <th>f_total</th>\n",
       "      <th>e_uninsur</th>\n",
       "      <th>m_uninsur</th>\n",
       "      <th>ep_uninsur</th>\n",
       "      <th>mp_uninsur</th>\n",
       "      <th>e_daypop</th>\n",
       "    </tr>\n",
       "  </thead>\n",
       "  <tbody>\n",
       "    <tr>\n",
       "      <th>0</th>\n",
       "      <td>48</td>\n",
       "      <td>TEXAS</td>\n",
       "      <td>TX</td>\n",
       "      <td>48029</td>\n",
       "      <td>Bexar</td>\n",
       "      <td>48029110100</td>\n",
       "      <td>Census Tract 1101, Bexar County, Texas</td>\n",
       "      <td>1.364296</td>\n",
       "      <td>3102</td>\n",
       "      <td>365</td>\n",
       "      <td>...</td>\n",
       "      <td>0</td>\n",
       "      <td>1</td>\n",
       "      <td>1</td>\n",
       "      <td>3</td>\n",
       "      <td>3</td>\n",
       "      <td>272</td>\n",
       "      <td>130</td>\n",
       "      <td>11.3</td>\n",
       "      <td>5.0</td>\n",
       "      <td>38328</td>\n",
       "    </tr>\n",
       "    <tr>\n",
       "      <th>1</th>\n",
       "      <td>48</td>\n",
       "      <td>TEXAS</td>\n",
       "      <td>TX</td>\n",
       "      <td>48029</td>\n",
       "      <td>Bexar</td>\n",
       "      <td>48029110300</td>\n",
       "      <td>Census Tract 1103, Bexar County, Texas</td>\n",
       "      <td>0.598444</td>\n",
       "      <td>3023</td>\n",
       "      <td>309</td>\n",
       "      <td>...</td>\n",
       "      <td>0</td>\n",
       "      <td>1</td>\n",
       "      <td>0</td>\n",
       "      <td>2</td>\n",
       "      <td>4</td>\n",
       "      <td>606</td>\n",
       "      <td>206</td>\n",
       "      <td>20.0</td>\n",
       "      <td>5.7</td>\n",
       "      <td>9202</td>\n",
       "    </tr>\n",
       "    <tr>\n",
       "      <th>2</th>\n",
       "      <td>48</td>\n",
       "      <td>TEXAS</td>\n",
       "      <td>TX</td>\n",
       "      <td>48029</td>\n",
       "      <td>Bexar</td>\n",
       "      <td>48029110500</td>\n",
       "      <td>Census Tract 1105, Bexar County, Texas</td>\n",
       "      <td>0.448810</td>\n",
       "      <td>2388</td>\n",
       "      <td>243</td>\n",
       "      <td>...</td>\n",
       "      <td>0</td>\n",
       "      <td>1</td>\n",
       "      <td>0</td>\n",
       "      <td>1</td>\n",
       "      <td>9</td>\n",
       "      <td>465</td>\n",
       "      <td>125</td>\n",
       "      <td>19.5</td>\n",
       "      <td>4.4</td>\n",
       "      <td>2044</td>\n",
       "    </tr>\n",
       "    <tr>\n",
       "      <th>3</th>\n",
       "      <td>48</td>\n",
       "      <td>TEXAS</td>\n",
       "      <td>TX</td>\n",
       "      <td>48029</td>\n",
       "      <td>Bexar</td>\n",
       "      <td>48029110600</td>\n",
       "      <td>Census Tract 1106, Bexar County, Texas</td>\n",
       "      <td>0.758136</td>\n",
       "      <td>5301</td>\n",
       "      <td>486</td>\n",
       "      <td>...</td>\n",
       "      <td>0</td>\n",
       "      <td>1</td>\n",
       "      <td>1</td>\n",
       "      <td>3</td>\n",
       "      <td>8</td>\n",
       "      <td>690</td>\n",
       "      <td>265</td>\n",
       "      <td>24.5</td>\n",
       "      <td>7.4</td>\n",
       "      <td>6776</td>\n",
       "    </tr>\n",
       "    <tr>\n",
       "      <th>4</th>\n",
       "      <td>48</td>\n",
       "      <td>TEXAS</td>\n",
       "      <td>TX</td>\n",
       "      <td>48029</td>\n",
       "      <td>Bexar</td>\n",
       "      <td>48029110700</td>\n",
       "      <td>Census Tract 1107, Bexar County, Texas</td>\n",
       "      <td>0.379005</td>\n",
       "      <td>1114</td>\n",
       "      <td>208</td>\n",
       "      <td>...</td>\n",
       "      <td>0</td>\n",
       "      <td>1</td>\n",
       "      <td>0</td>\n",
       "      <td>1</td>\n",
       "      <td>3</td>\n",
       "      <td>251</td>\n",
       "      <td>128</td>\n",
       "      <td>22.5</td>\n",
       "      <td>8.8</td>\n",
       "      <td>3716</td>\n",
       "    </tr>\n",
       "  </tbody>\n",
       "</table>\n",
       "<p>5 rows × 124 columns</p>\n",
       "</div>"
      ],
      "text/plain": [
       "   st  state st_abbr  stcnty county        tract  \\\n",
       "0  48  TEXAS      TX   48029  Bexar  48029110100   \n",
       "1  48  TEXAS      TX   48029  Bexar  48029110300   \n",
       "2  48  TEXAS      TX   48029  Bexar  48029110500   \n",
       "3  48  TEXAS      TX   48029  Bexar  48029110600   \n",
       "4  48  TEXAS      TX   48029  Bexar  48029110700   \n",
       "\n",
       "                                 location  area_sqmi  e_totpop  m_totpop  ...  \\\n",
       "0  Census Tract 1101, Bexar County, Texas   1.364296      3102       365  ...   \n",
       "1  Census Tract 1103, Bexar County, Texas   0.598444      3023       309  ...   \n",
       "2  Census Tract 1105, Bexar County, Texas   0.448810      2388       243  ...   \n",
       "3  Census Tract 1106, Bexar County, Texas   0.758136      5301       486  ...   \n",
       "4  Census Tract 1107, Bexar County, Texas   0.379005      1114       208  ...   \n",
       "\n",
       "   f_crowd  f_noveh  f_groupq  f_theme4  f_total  e_uninsur  m_uninsur  \\\n",
       "0        0        1         1         3        3        272        130   \n",
       "1        0        1         0         2        4        606        206   \n",
       "2        0        1         0         1        9        465        125   \n",
       "3        0        1         1         3        8        690        265   \n",
       "4        0        1         0         1        3        251        128   \n",
       "\n",
       "   ep_uninsur  mp_uninsur  e_daypop  \n",
       "0        11.3         5.0     38328  \n",
       "1        20.0         5.7      9202  \n",
       "2        19.5         4.4      2044  \n",
       "3        24.5         7.4      6776  \n",
       "4        22.5         8.8      3716  \n",
       "\n",
       "[5 rows x 124 columns]"
      ]
     },
     "execution_count": 6,
     "metadata": {},
     "output_type": "execute_result"
    }
   ],
   "source": [
    "sasvi.head()"
   ]
  },
  {
   "cell_type": "code",
   "execution_count": 7,
   "metadata": {},
   "outputs": [
    {
     "ename": "AttributeError",
     "evalue": "'DataFrame' object has no attribute 'zip'",
     "output_type": "error",
     "traceback": [
      "\u001b[0;31m---------------------------------------------------------------------------\u001b[0m",
      "\u001b[0;31mAttributeError\u001b[0m                            Traceback (most recent call last)",
      "\u001b[0;32m<ipython-input-7-6f78a8753b4e>\u001b[0m in \u001b[0;36m<module>\u001b[0;34m\u001b[0m\n\u001b[0;32m----> 1\u001b[0;31m \u001b[0mhuddf\u001b[0m \u001b[0;34m=\u001b[0m \u001b[0macquire\u001b[0m\u001b[0;34m.\u001b[0m\u001b[0mget_HUD\u001b[0m\u001b[0;34m(\u001b[0m\u001b[0msasvi\u001b[0m\u001b[0;34m)\u001b[0m\u001b[0;34m\u001b[0m\u001b[0;34m\u001b[0m\u001b[0m\n\u001b[0m",
      "\u001b[0;32m~/codeup-data-science/svi_capstone/acquire.py\u001b[0m in \u001b[0;36mget_HUD\u001b[0;34m(citydf)\u001b[0m\n\u001b[1;32m     49\u001b[0m     '''\n\u001b[1;32m     50\u001b[0m     \u001b[0;31m#create a list of zip codes for the city\u001b[0m\u001b[0;34m\u001b[0m\u001b[0;34m\u001b[0m\u001b[0;34m\u001b[0m\u001b[0m\n\u001b[0;32m---> 51\u001b[0;31m     \u001b[0mcity_zip_list\u001b[0m \u001b[0;34m=\u001b[0m \u001b[0mcitydf\u001b[0m\u001b[0;34m.\u001b[0m\u001b[0mzip\u001b[0m\u001b[0;34m.\u001b[0m\u001b[0mtolist\u001b[0m\u001b[0;34m(\u001b[0m\u001b[0;34m)\u001b[0m\u001b[0;34m\u001b[0m\u001b[0;34m\u001b[0m\u001b[0m\n\u001b[0m\u001b[1;32m     52\u001b[0m \u001b[0;34m\u001b[0m\u001b[0m\n\u001b[1;32m     53\u001b[0m     \u001b[0;31m# # get list of all tracts from svi\u001b[0m\u001b[0;34m\u001b[0m\u001b[0;34m\u001b[0m\u001b[0;34m\u001b[0m\u001b[0m\n",
      "\u001b[0;32m/usr/local/anaconda3/lib/python3.7/site-packages/pandas/core/generic.py\u001b[0m in \u001b[0;36m__getattr__\u001b[0;34m(self, name)\u001b[0m\n\u001b[1;32m   5137\u001b[0m             \u001b[0;32mif\u001b[0m \u001b[0mself\u001b[0m\u001b[0;34m.\u001b[0m\u001b[0m_info_axis\u001b[0m\u001b[0;34m.\u001b[0m\u001b[0m_can_hold_identifiers_and_holds_name\u001b[0m\u001b[0;34m(\u001b[0m\u001b[0mname\u001b[0m\u001b[0;34m)\u001b[0m\u001b[0;34m:\u001b[0m\u001b[0;34m\u001b[0m\u001b[0;34m\u001b[0m\u001b[0m\n\u001b[1;32m   5138\u001b[0m                 \u001b[0;32mreturn\u001b[0m \u001b[0mself\u001b[0m\u001b[0;34m[\u001b[0m\u001b[0mname\u001b[0m\u001b[0;34m]\u001b[0m\u001b[0;34m\u001b[0m\u001b[0;34m\u001b[0m\u001b[0m\n\u001b[0;32m-> 5139\u001b[0;31m             \u001b[0;32mreturn\u001b[0m \u001b[0mobject\u001b[0m\u001b[0;34m.\u001b[0m\u001b[0m__getattribute__\u001b[0m\u001b[0;34m(\u001b[0m\u001b[0mself\u001b[0m\u001b[0;34m,\u001b[0m \u001b[0mname\u001b[0m\u001b[0;34m)\u001b[0m\u001b[0;34m\u001b[0m\u001b[0;34m\u001b[0m\u001b[0m\n\u001b[0m\u001b[1;32m   5140\u001b[0m \u001b[0;34m\u001b[0m\u001b[0m\n\u001b[1;32m   5141\u001b[0m     \u001b[0;32mdef\u001b[0m \u001b[0m__setattr__\u001b[0m\u001b[0;34m(\u001b[0m\u001b[0mself\u001b[0m\u001b[0;34m,\u001b[0m \u001b[0mname\u001b[0m\u001b[0;34m:\u001b[0m \u001b[0mstr\u001b[0m\u001b[0;34m,\u001b[0m \u001b[0mvalue\u001b[0m\u001b[0;34m)\u001b[0m \u001b[0;34m->\u001b[0m \u001b[0;32mNone\u001b[0m\u001b[0;34m:\u001b[0m\u001b[0;34m\u001b[0m\u001b[0;34m\u001b[0m\u001b[0m\n",
      "\u001b[0;31mAttributeError\u001b[0m: 'DataFrame' object has no attribute 'zip'"
     ]
    }
   ],
   "source": [
    "huddf = acquire.get_HUD(sasvi)"
   ]
  },
  {
   "cell_type": "code",
   "execution_count": null,
   "metadata": {},
   "outputs": [],
   "source": [
    "huddf.head()"
   ]
  },
  {
   "cell_type": "code",
   "execution_count": null,
   "metadata": {},
   "outputs": [],
   "source": [
    "huddf.shape"
   ]
  },
  {
   "cell_type": "code",
   "execution_count": null,
   "metadata": {},
   "outputs": [],
   "source": [
    "merge_bexar = sa[['zip', 'population', 'positive', 'casesp100000']]"
   ]
  },
  {
   "cell_type": "code",
   "execution_count": null,
   "metadata": {},
   "outputs": [],
   "source": [
    "svi_zip = pd.merge(sasvi, huddf, on='tract', how='left')"
   ]
  },
  {
   "cell_type": "code",
   "execution_count": null,
   "metadata": {},
   "outputs": [],
   "source": [
    "svi_zip.isna().sum()\n"
   ]
  },
  {
   "cell_type": "code",
   "execution_count": null,
   "metadata": {},
   "outputs": [],
   "source": [
    "svi_zip.shape"
   ]
  },
  {
   "cell_type": "code",
   "execution_count": null,
   "metadata": {},
   "outputs": [],
   "source": [
    "svi_zip_cases = pd.merge(svi_zip, merge_bexar, on='zip', how='left')"
   ]
  },
  {
   "cell_type": "code",
   "execution_count": null,
   "metadata": {},
   "outputs": [],
   "source": [
    "svi_zip_cases.head()"
   ]
  },
  {
   "cell_type": "code",
   "execution_count": null,
   "metadata": {},
   "outputs": [],
   "source": [
    "svi_zip_cases.isna().sum()"
   ]
  },
  {
   "cell_type": "code",
   "execution_count": null,
   "metadata": {},
   "outputs": [],
   "source": [
    "svi_zip_cases.shape"
   ]
  },
  {
   "cell_type": "code",
   "execution_count": null,
   "metadata": {},
   "outputs": [],
   "source": [
    "# testing\n",
    "df = acquire.run()\n",
    "df = prepare.prepare_data(df)\n",
    "df.head()"
   ]
  },
  {
   "cell_type": "code",
   "execution_count": null,
   "metadata": {},
   "outputs": [],
   "source": [
    "df.columns"
   ]
  },
  {
   "cell_type": "code",
   "execution_count": null,
   "metadata": {},
   "outputs": [],
   "source": [
    "# full acquire test\n",
    "df = acquire.run()"
   ]
  },
  {
   "cell_type": "code",
   "execution_count": null,
   "metadata": {},
   "outputs": [],
   "source": [
    "# test acquire import Bexar data\n",
    "bexar = acquire.get_san_antonio_data()\n",
    "bexar.head()"
   ]
  },
  {
   "cell_type": "code",
   "execution_count": null,
   "metadata": {},
   "outputs": [],
   "source": [
    "# test acquire import svi data\n",
    "svi = acquire.get_svi_data()\n",
    "svi.head()"
   ]
  },
  {
   "cell_type": "code",
   "execution_count": null,
   "metadata": {},
   "outputs": [],
   "source": [
    "# test acquire get HUD merge df\n",
    "merge_HUD = acquire.get_HUD(bexar)"
   ]
  },
  {
   "cell_type": "code",
   "execution_count": null,
   "metadata": {},
   "outputs": [],
   "source": [
    "merge_HUD.head()"
   ]
  },
  {
   "cell_type": "code",
   "execution_count": null,
   "metadata": {},
   "outputs": [],
   "source": []
  },
  {
   "cell_type": "code",
   "execution_count": null,
   "metadata": {},
   "outputs": [],
   "source": []
  },
  {
   "cell_type": "code",
   "execution_count": null,
   "metadata": {},
   "outputs": [],
   "source": [
    "# import Bexar cases dataframe\n",
    "bexar_cases = pd.read_csv('Bexar_County_COVID-19_Data_by_Zip_Code.csv', index_col=0)\n",
    "bexar_cases.columns = bexar_cases.columns.str.lower()\n",
    "bexar_cases.head()"
   ]
  },
  {
   "cell_type": "code",
   "execution_count": null,
   "metadata": {},
   "outputs": [],
   "source": [
    "bexar_cases.info()"
   ]
  },
  {
   "cell_type": "code",
   "execution_count": null,
   "metadata": {},
   "outputs": [],
   "source": [
    "# how many unique zip codes are in the cases df?\n",
    "bexar_cases.nunique()"
   ]
  },
  {
   "cell_type": "code",
   "execution_count": null,
   "metadata": {},
   "outputs": [],
   "source": [
    "# import san antonio svi index dataframe\n",
    "svidf = pd.read_csv('san_antonio_2018_tract.csv')\n",
    "svidf.columns = svidf.columns.str.lower()\n",
    "svidf = svidf.rename(columns={'fips': 'tract'})\n",
    "svidf.head()"
   ]
  },
  {
   "cell_type": "code",
   "execution_count": null,
   "metadata": {},
   "outputs": [],
   "source": [
    "# how many unique FIPS ids are in the svi df?\n",
    "svidf.tract.value_counts()"
   ]
  },
  {
   "cell_type": "code",
   "execution_count": null,
   "metadata": {},
   "outputs": [],
   "source": [
    "# get list of unique zip codes in the bexar cases df\n",
    "bexar_zip = bexar_cases.zip_code.tolist()"
   ]
  },
  {
   "cell_type": "code",
   "execution_count": null,
   "metadata": {},
   "outputs": [],
   "source": [
    "# import track to zip dataframe\n",
    "zips = pd.read_csv('TRACT_ZIP_122018_78s_only.csv')\n",
    "# filter the zips df to only those in the bexar zip list\n",
    "zips = zips[zips.zip.isin(bexar_zip)]\n",
    "zips"
   ]
  },
  {
   "cell_type": "code",
   "execution_count": null,
   "metadata": {},
   "outputs": [],
   "source": [
    "# view zips sorted by tract and total ratio\n",
    "zips.sort_values(by=['tract', 'tot_ratio'], ascending=[True, False]).head()"
   ]
  },
  {
   "cell_type": "code",
   "execution_count": null,
   "metadata": {},
   "outputs": [],
   "source": [
    "# verify that .08 is highest for tract 48493000201\n",
    "zips[zips.tract == 48493000201]"
   ]
  },
  {
   "cell_type": "code",
   "execution_count": null,
   "metadata": {},
   "outputs": [],
   "source": [
    "# aggregate the data frame to get the zip code with the max ratio by tract\n",
    "zipsdf = zips.groupby(['tract'])['tot_ratio', 'zip'].agg({'tot_ratio':['max'], 'zip':['first']})\n",
    "zipsdf.columns = [' '.join(col).strip() for col in zipsdf.columns.values]\n",
    "zipsdf = zipsdf.reset_index()"
   ]
  },
  {
   "cell_type": "code",
   "execution_count": null,
   "metadata": {},
   "outputs": [],
   "source": [
    "zipsdf.head()"
   ]
  },
  {
   "cell_type": "code",
   "execution_count": null,
   "metadata": {},
   "outputs": [],
   "source": [
    "# the svi only has 366 rows, hopefully they are all in this list\n",
    "len(zipsdf)"
   ]
  },
  {
   "cell_type": "code",
   "execution_count": null,
   "metadata": {},
   "outputs": [],
   "source": [
    "# create merge df to test merging\n",
    "merge_zip3 = zipsdf[['tract', 'zip first']]"
   ]
  },
  {
   "cell_type": "code",
   "execution_count": null,
   "metadata": {},
   "outputs": [],
   "source": [
    "merge_zip3 = merge_zip3.rename(columns={'zip first':'zip'})"
   ]
  },
  {
   "cell_type": "code",
   "execution_count": null,
   "metadata": {},
   "outputs": [],
   "source": [
    "merge_zip3"
   ]
  },
  {
   "cell_type": "code",
   "execution_count": null,
   "metadata": {},
   "outputs": [],
   "source": [
    "# create new df merging svi and 2nd merge zip file on tract\n",
    "svi_zip2 = pd.merge(svidf, merge_zip3, on='tract', how='left')\n",
    "svi_zip2.shape"
   ]
  },
  {
   "cell_type": "code",
   "execution_count": null,
   "metadata": {},
   "outputs": [],
   "source": [
    "# check for nulls\n",
    "svi_zip2.isna().sum()"
   ]
  },
  {
   "cell_type": "code",
   "execution_count": null,
   "metadata": {},
   "outputs": [],
   "source": [
    "# create dataframe to merge with svi\n",
    "merge_bexar = bexar[['zip', 'population', 'positive', 'casesp100000']]\n",
    "merge_bexar.head()"
   ]
  },
  {
   "cell_type": "code",
   "execution_count": null,
   "metadata": {},
   "outputs": [],
   "source": [
    "# merge svi_zip with merge_bexar\n",
    "full = pd.merge(svi_zip2, merge_bexar, on='zip', how='left')\n",
    "full.head()"
   ]
  },
  {
   "cell_type": "code",
   "execution_count": null,
   "metadata": {},
   "outputs": [],
   "source": []
  },
  {
   "cell_type": "code",
   "execution_count": null,
   "metadata": {},
   "outputs": [],
   "source": [
    "max_ratio = zips.groupby('tract')[['tot_ratio']].max()"
   ]
  },
  {
   "cell_type": "code",
   "execution_count": null,
   "metadata": {},
   "outputs": [],
   "source": [
    "max_ratio = max_ratio.reset_index()"
   ]
  },
  {
   "cell_type": "code",
   "execution_count": null,
   "metadata": {},
   "outputs": [],
   "source": [
    "max_ratio.head()"
   ]
  },
  {
   "cell_type": "code",
   "execution_count": null,
   "metadata": {},
   "outputs": [],
   "source": [
    "max_ratio.nunique()"
   ]
  },
  {
   "cell_type": "code",
   "execution_count": null,
   "metadata": {},
   "outputs": [],
   "source": [
    "zips[zips.zip == 78219]"
   ]
  },
  {
   "cell_type": "code",
   "execution_count": null,
   "metadata": {},
   "outputs": [],
   "source": [
    "# requiring the total ratio to be 54% or higher per track gives the closest to 366 without going over\n",
    "# there will be 4 zip codes not represented and 2 census tracks not represented\n",
    "# when merged we should get null values for these\n",
    "zip_54 = zips[zips.tot_ratio >= .54]\n",
    "zip_54.nunique()"
   ]
  },
  {
   "cell_type": "code",
   "execution_count": null,
   "metadata": {},
   "outputs": [],
   "source": [
    "# create df with only values to merge\n",
    "merge_zip = zip_54[['tract', 'zip']]\n",
    "merge_zip"
   ]
  },
  {
   "cell_type": "code",
   "execution_count": null,
   "metadata": {},
   "outputs": [],
   "source": [
    "# create new df merging svi and merge zip on tract\n",
    "fulldf = pd.merge(svidf, merge_zip, on='tract', how='left')\n",
    "fulldf.shape"
   ]
  },
  {
   "cell_type": "code",
   "execution_count": null,
   "metadata": {},
   "outputs": [],
   "source": [
    "# will need to convert zip to int\n",
    "type(fulldf.zip[0])"
   ]
  },
  {
   "cell_type": "code",
   "execution_count": null,
   "metadata": {},
   "outputs": [],
   "source": [
    "# there are 21 tract ids that do not have a zip code\n",
    "fulldf.isna().sum()"
   ]
  },
  {
   "cell_type": "code",
   "execution_count": null,
   "metadata": {},
   "outputs": [],
   "source": [
    "# create a df of just the row with a null zip code\n",
    "missing_zip = fulldf[fulldf.zip.isna()]"
   ]
  },
  {
   "cell_type": "code",
   "execution_count": null,
   "metadata": {},
   "outputs": [],
   "source": [
    "missing_zip"
   ]
  },
  {
   "cell_type": "code",
   "execution_count": null,
   "metadata": {},
   "outputs": [],
   "source": [
    "# here is a list of the tracts missing zip codes\n",
    "missing_zip.tract.value_counts()"
   ]
  },
  {
   "cell_type": "code",
   "execution_count": null,
   "metadata": {},
   "outputs": [],
   "source": [
    "# find value for 48029131802\n",
    "zips[zips.tract == 48029131802]\n",
    "# assign 78101 to this track = highest % addresses"
   ]
  },
  {
   "cell_type": "code",
   "execution_count": null,
   "metadata": {},
   "outputs": [],
   "source": [
    "# find value for 48029182103\n",
    "zips[zips.tract == 48029182103]\n",
    "# assign 78023 to this track = highest % addresses"
   ]
  },
  {
   "cell_type": "code",
   "execution_count": null,
   "metadata": {},
   "outputs": [],
   "source": [
    "# find value for 48029980004\n",
    "zips[zips.tract == 48029980004]\n",
    "# assign 78216 to this track = highest % addresses"
   ]
  },
  {
   "cell_type": "code",
   "execution_count": null,
   "metadata": {},
   "outputs": [],
   "source": [
    "# find value for 48029130402\n",
    "zips[zips.tract == 48029130402]\n",
    "# assign 78210 to this track = highest % addresses"
   ]
  },
  {
   "cell_type": "code",
   "execution_count": null,
   "metadata": {},
   "outputs": [],
   "source": [
    "# find value for 48029141900\n",
    "zips[zips.tract == 48029141900]\n",
    "# assign 78263 to this track = highest % addresses"
   ]
  },
  {
   "cell_type": "code",
   "execution_count": null,
   "metadata": {},
   "outputs": [],
   "source": [
    "# find value for 48029191503\n",
    "zips[zips.tract == 48029191503]\n",
    "# assign 78249 to this track = highest % addresses"
   ]
  },
  {
   "cell_type": "code",
   "execution_count": null,
   "metadata": {},
   "outputs": [],
   "source": [
    "# find value for 48029181704\n",
    "zips[zips.tract == 48029181704]\n",
    "# assign 78238 to this track = highest % addresses"
   ]
  },
  {
   "cell_type": "code",
   "execution_count": null,
   "metadata": {},
   "outputs": [],
   "source": [
    "# find value for 48029131700\n",
    "zips[zips.tract == 48029131700]\n",
    "# assign 78148 to this track = highest % addresses"
   ]
  },
  {
   "cell_type": "code",
   "execution_count": null,
   "metadata": {},
   "outputs": [],
   "source": [
    "# find value for 48029121205\n",
    "zips[zips.tract == 48029121205]\n",
    "# assign 78233 to this track = highest % addresses"
   ]
  },
  {
   "cell_type": "code",
   "execution_count": null,
   "metadata": {},
   "outputs": [],
   "source": [
    "# find value for 48029110100\n",
    "zips[zips.tract == 48029110100]\n",
    "# assign 78205 to this track = highest % addresses"
   ]
  },
  {
   "cell_type": "code",
   "execution_count": null,
   "metadata": {},
   "outputs": [],
   "source": [
    "# find value for 48029182102\n",
    "zips[zips.tract == 48029182102]\n",
    "# assign 78255 to this track = highest % addresses"
   ]
  },
  {
   "cell_type": "code",
   "execution_count": null,
   "metadata": {},
   "outputs": [],
   "source": [
    "# find value for 48029192100\n",
    "zips[zips.tract == 48029192100]\n",
    "# assign 78204 to this track = highest % addresses"
   ]
  },
  {
   "cell_type": "code",
   "execution_count": null,
   "metadata": {},
   "outputs": [],
   "source": [
    "# find value for 48029121905\n",
    "zips[zips.tract == 48029121905]\n",
    "# assign 78259 to this track = highest % addresses"
   ]
  },
  {
   "cell_type": "code",
   "execution_count": null,
   "metadata": {},
   "outputs": [],
   "source": [
    "# find value for 48029130800\n",
    "zips[zips.tract == 48029130800]\n",
    "# assign 78219 to this track = highest % addresses"
   ]
  },
  {
   "cell_type": "code",
   "execution_count": null,
   "metadata": {},
   "outputs": [],
   "source": [
    "# find value for 48029121203\n",
    "zips[zips.tract == 48029121203]\n",
    "# assign 78233 to this track = highest % addresses"
   ]
  },
  {
   "cell_type": "code",
   "execution_count": null,
   "metadata": {},
   "outputs": [],
   "source": [
    "# find value for 48029171602\n",
    "zips[zips.tract == 48029171602]\n",
    "# assign 78227 to this track = highest % addresses"
   ]
  },
  {
   "cell_type": "code",
   "execution_count": null,
   "metadata": {},
   "outputs": [],
   "source": [
    "# find value for 48029181725\n",
    "zips[zips.tract == 48029181725]\n",
    "# assign 78251 to this track = highest % addresses"
   ]
  },
  {
   "cell_type": "code",
   "execution_count": null,
   "metadata": {},
   "outputs": [],
   "source": [
    "# find value for 48029150300\n",
    "zips[zips.tract == 48029150300]\n",
    "# assign 78214 to this track = highest % addresses"
   ]
  },
  {
   "cell_type": "code",
   "execution_count": null,
   "metadata": {},
   "outputs": [],
   "source": [
    "# find value for 48029191504\n",
    "zips[zips.tract == 48029191504]\n",
    "# assign 78231 to this track = highest % addresses"
   ]
  },
  {
   "cell_type": "code",
   "execution_count": null,
   "metadata": {},
   "outputs": [],
   "source": [
    "# find value for 48029191004\n",
    "zips[zips.tract == 48029191004]\n",
    "# assign 78216 to this track = highest % addresses"
   ]
  },
  {
   "cell_type": "code",
   "execution_count": null,
   "metadata": {},
   "outputs": [],
   "source": [
    "# find value for 48029130500\n",
    "zips[zips.tract == 48029130500]\n",
    "# assign 78202 to this track = highest % addresses"
   ]
  },
  {
   "cell_type": "code",
   "execution_count": null,
   "metadata": {},
   "outputs": [],
   "source": [
    "tracts_list = missing_zip.tract.tolist()"
   ]
  },
  {
   "cell_type": "code",
   "execution_count": null,
   "metadata": {},
   "outputs": [],
   "source": [
    "assign_zip_list = [78101, 78023, 78216, 78210, 78263, 78249, 78238, 78148, 78233, 78205, 78255, 78204, 78259,\n",
    "                   78219, 78233, 78227, 78251, 78214, 78231, 78216, 78202]"
   ]
  },
  {
   "cell_type": "code",
   "execution_count": null,
   "metadata": {},
   "outputs": [],
   "source": [
    "len(tracts_list)"
   ]
  },
  {
   "cell_type": "code",
   "execution_count": null,
   "metadata": {},
   "outputs": [],
   "source": [
    "len(assign_zip_list)"
   ]
  },
  {
   "cell_type": "code",
   "execution_count": null,
   "metadata": {},
   "outputs": [],
   "source": [
    "# verified lists are same length, now zip lists together into df to merge back to fulldf\n",
    "# https://cmdlinetips.com/2018/01/how-to-create-pandas-dataframe-from-multiple-lists/#:~:text=Create%20pandas%20dataframe%20from%20lists%20using%20zip%20Second,it%20to%20produce%20one%20item%20at%20a%20time.\n",
    "data_to_add = pd.DataFrame()\n",
    "data_to_add['tract'] = tracts_list\n",
    "data_to_add['zip'] = assign_zip_list\n",
    "data_to_add"
   ]
  },
  {
   "cell_type": "code",
   "execution_count": null,
   "metadata": {},
   "outputs": [],
   "source": [
    "# add these values to the merge zip df\n",
    "merge_zip2 = merge_zip.append(data_to_add)"
   ]
  },
  {
   "cell_type": "code",
   "execution_count": null,
   "metadata": {},
   "outputs": [],
   "source": [
    "len(merge_zip2)"
   ]
  },
  {
   "cell_type": "code",
   "execution_count": null,
   "metadata": {},
   "outputs": [],
   "source": [
    "# create new df merging svi and 2nd merge zip file on tract\n",
    "svi_zip = pd.merge(svidf, merge_zip2, on='tract', how='left')\n",
    "svi_zip.shape"
   ]
  },
  {
   "cell_type": "code",
   "execution_count": null,
   "metadata": {},
   "outputs": [],
   "source": [
    "# check for nulls\n",
    "svi_zip.isna().sum()"
   ]
  },
  {
   "cell_type": "code",
   "execution_count": null,
   "metadata": {},
   "outputs": [],
   "source": [
    "svi_zip.head()"
   ]
  },
  {
   "cell_type": "code",
   "execution_count": null,
   "metadata": {},
   "outputs": [],
   "source": [
    "bexar_cases.head()"
   ]
  },
  {
   "cell_type": "code",
   "execution_count": null,
   "metadata": {},
   "outputs": [],
   "source": [
    "# rename the zip code column to merge on\n",
    "bexar_cases = bexar_cases.rename(columns={'zip_code': 'zip', 'populationtotals_totpop_cy': 'population'})"
   ]
  },
  {
   "cell_type": "code",
   "execution_count": null,
   "metadata": {},
   "outputs": [],
   "source": [
    "bexar_cases"
   ]
  },
  {
   "cell_type": "code",
   "execution_count": null,
   "metadata": {},
   "outputs": [],
   "source": [
    "# create dataframe to merge with svi\n",
    "merge_bexar = bexar_cases[['zip', 'population', 'positive', 'casesp100000']]\n",
    "merge_bexar.head()"
   ]
  },
  {
   "cell_type": "code",
   "execution_count": null,
   "metadata": {},
   "outputs": [],
   "source": [
    "# merge svi_zip with merge_bexar\n",
    "svi_zip_cases = pd.merge(svi_zip, merge_bexar, on='zip', how='left')\n",
    "svi_zip_cases.head()"
   ]
  },
  {
   "cell_type": "code",
   "execution_count": null,
   "metadata": {},
   "outputs": [],
   "source": [
    "# check for nulls\n",
    "svi_zip_cases.isna().sum()"
   ]
  },
  {
   "cell_type": "code",
   "execution_count": null,
   "metadata": {},
   "outputs": [],
   "source": [
    "# write final compliation to csv\n",
    "#svi_zip_cases.to_csv('full_san_antonio.csv')"
   ]
  },
  {
   "cell_type": "code",
   "execution_count": null,
   "metadata": {},
   "outputs": [],
   "source": []
  }
 ],
 "metadata": {
  "kernelspec": {
   "display_name": "Python 3",
   "language": "python",
   "name": "python3"
  },
  "language_info": {
   "codemirror_mode": {
    "name": "ipython",
    "version": 3
   },
   "file_extension": ".py",
   "mimetype": "text/x-python",
   "name": "python",
   "nbconvert_exporter": "python",
   "pygments_lexer": "ipython3",
   "version": "3.7.9"
  },
  "toc": {
   "base_numbering": 1,
   "nav_menu": {},
   "number_sections": true,
   "sideBar": true,
   "skip_h1_title": false,
   "title_cell": "Table of Contents",
   "title_sidebar": "Contents",
   "toc_cell": false,
   "toc_position": {},
   "toc_section_display": true,
   "toc_window_display": false
  }
 },
 "nbformat": 4,
 "nbformat_minor": 4
}
