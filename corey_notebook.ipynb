{
 "cells": [
  {
   "cell_type": "code",
   "execution_count": 1,
   "metadata": {},
   "outputs": [],
   "source": [
    "import pandas as pd\n",
    "import matplotlib.pyplot as plt\n",
    "import seaborn as sns\n",
    "import numpy as np\n",
    "from scipy import stats\n",
    "from scipy.stats import f_oneway, kruskal\n",
    "from math import sqrt\n",
    "\n",
    "#import prepare\n",
    "#import acquire\n",
    "import wrangle\n",
    "\n",
    "import warnings\n",
    "warnings.simplefilter(action='ignore', category=FutureWarning)\n",
    "pd.options.mode.chained_assignment = None  # default='warn'"
   ]
  },
  {
   "cell_type": "code",
   "execution_count": 2,
   "metadata": {},
   "outputs": [
    {
     "name": "stdout",
     "output_type": "stream",
     "text": [
      "Acquire: compiling raw data files...\n",
      "Acquire: Completed!\n",
      "Prepare: preparing data files...\n",
      "Prepare: Completed!\n",
      "(289, 25) (73, 25)\n"
     ]
    },
    {
     "data": {
      "text/plain": [
       "((362, 26), (289, 26), (289, 22), (289, 1), (73, 22), (73, 1))"
      ]
     },
     "execution_count": 2,
     "metadata": {},
     "output_type": "execute_result"
    }
   ],
   "source": [
    "# import prepare\n",
    "#df = acquire.run()\n",
    "#df = prepare.prepare_data(df)\n",
    "df, train_exp, X_train_scaled, y_train, X_test_scaled, y_test = wrangle.wrangle_data()\n",
    "df.shape, train_exp.shape, X_train_scaled.shape, y_train.shape, X_test_scaled.shape, y_test.shape"
   ]
  },
  {
   "cell_type": "code",
   "execution_count": 3,
   "metadata": {},
   "outputs": [
    {
     "data": {
      "text/plain": [
       "(289, 26)"
      ]
     },
     "execution_count": 3,
     "metadata": {},
     "output_type": "execute_result"
    }
   ],
   "source": [
    "train_exp.shape"
   ]
  },
  {
   "cell_type": "code",
   "execution_count": 4,
   "metadata": {},
   "outputs": [
    {
     "data": {
      "text/plain": [
       "(362, 26)"
      ]
     },
     "execution_count": 4,
     "metadata": {},
     "output_type": "execute_result"
    }
   ],
   "source": [
    "df.shape"
   ]
  },
  {
   "cell_type": "code",
   "execution_count": 5,
   "metadata": {},
   "outputs": [
    {
     "data": {
      "text/html": [
       "<div>\n",
       "<style scoped>\n",
       "    .dataframe tbody tr th:only-of-type {\n",
       "        vertical-align: middle;\n",
       "    }\n",
       "\n",
       "    .dataframe tbody tr th {\n",
       "        vertical-align: top;\n",
       "    }\n",
       "\n",
       "    .dataframe thead th {\n",
       "        text-align: right;\n",
       "    }\n",
       "</style>\n",
       "<table border=\"1\" class=\"dataframe\">\n",
       "  <thead>\n",
       "    <tr style=\"text-align: right;\">\n",
       "      <th></th>\n",
       "      <th>tract</th>\n",
       "      <th>raw_svi</th>\n",
       "      <th>f_pov_soci</th>\n",
       "      <th>f_unemp_soci</th>\n",
       "      <th>f_pci_soci</th>\n",
       "      <th>f_nohsdp_soci</th>\n",
       "      <th>f_soci_total</th>\n",
       "      <th>f_age65_comp</th>\n",
       "      <th>f_age17_comp</th>\n",
       "      <th>f_disabl_comp</th>\n",
       "      <th>...</th>\n",
       "      <th>f_mobile_trans</th>\n",
       "      <th>f_crowd_trans</th>\n",
       "      <th>f_noveh_trans</th>\n",
       "      <th>f_groupq_trans</th>\n",
       "      <th>f_trans_total</th>\n",
       "      <th>all_flags_total</th>\n",
       "      <th>zip</th>\n",
       "      <th>tract_cases_per_100k</th>\n",
       "      <th>bin_svi</th>\n",
       "      <th>rank_svi</th>\n",
       "    </tr>\n",
       "  </thead>\n",
       "  <tbody>\n",
       "    <tr>\n",
       "      <th>289</th>\n",
       "      <td>48029181821</td>\n",
       "      <td>0.4879</td>\n",
       "      <td>0</td>\n",
       "      <td>0</td>\n",
       "      <td>0</td>\n",
       "      <td>0</td>\n",
       "      <td>0</td>\n",
       "      <td>0</td>\n",
       "      <td>0</td>\n",
       "      <td>0</td>\n",
       "      <td>...</td>\n",
       "      <td>0</td>\n",
       "      <td>0</td>\n",
       "      <td>0</td>\n",
       "      <td>0</td>\n",
       "      <td>0</td>\n",
       "      <td>0</td>\n",
       "      <td>78240</td>\n",
       "      <td>2771.002224</td>\n",
       "      <td>low_mod</td>\n",
       "      <td>3</td>\n",
       "    </tr>\n",
       "    <tr>\n",
       "      <th>200</th>\n",
       "      <td>48029171902</td>\n",
       "      <td>0.6394</td>\n",
       "      <td>0</td>\n",
       "      <td>0</td>\n",
       "      <td>0</td>\n",
       "      <td>0</td>\n",
       "      <td>0</td>\n",
       "      <td>0</td>\n",
       "      <td>0</td>\n",
       "      <td>0</td>\n",
       "      <td>...</td>\n",
       "      <td>0</td>\n",
       "      <td>0</td>\n",
       "      <td>0</td>\n",
       "      <td>0</td>\n",
       "      <td>1</td>\n",
       "      <td>1</td>\n",
       "      <td>78245</td>\n",
       "      <td>2924.011251</td>\n",
       "      <td>mod_high</td>\n",
       "      <td>2</td>\n",
       "    </tr>\n",
       "    <tr>\n",
       "      <th>69</th>\n",
       "      <td>48029130200</td>\n",
       "      <td>0.6523</td>\n",
       "      <td>0</td>\n",
       "      <td>0</td>\n",
       "      <td>0</td>\n",
       "      <td>0</td>\n",
       "      <td>0</td>\n",
       "      <td>0</td>\n",
       "      <td>0</td>\n",
       "      <td>0</td>\n",
       "      <td>...</td>\n",
       "      <td>0</td>\n",
       "      <td>0</td>\n",
       "      <td>1</td>\n",
       "      <td>0</td>\n",
       "      <td>1</td>\n",
       "      <td>2</td>\n",
       "      <td>78203</td>\n",
       "      <td>4177.649457</td>\n",
       "      <td>mod_high</td>\n",
       "      <td>2</td>\n",
       "    </tr>\n",
       "    <tr>\n",
       "      <th>29</th>\n",
       "      <td>48029121120</td>\n",
       "      <td>0.0872</td>\n",
       "      <td>0</td>\n",
       "      <td>0</td>\n",
       "      <td>0</td>\n",
       "      <td>0</td>\n",
       "      <td>0</td>\n",
       "      <td>0</td>\n",
       "      <td>0</td>\n",
       "      <td>0</td>\n",
       "      <td>...</td>\n",
       "      <td>0</td>\n",
       "      <td>0</td>\n",
       "      <td>0</td>\n",
       "      <td>0</td>\n",
       "      <td>0</td>\n",
       "      <td>0</td>\n",
       "      <td>78247</td>\n",
       "      <td>2222.089837</td>\n",
       "      <td>low</td>\n",
       "      <td>4</td>\n",
       "    </tr>\n",
       "    <tr>\n",
       "      <th>12</th>\n",
       "      <td>48029120502</td>\n",
       "      <td>0.9531</td>\n",
       "      <td>0</td>\n",
       "      <td>0</td>\n",
       "      <td>0</td>\n",
       "      <td>0</td>\n",
       "      <td>0</td>\n",
       "      <td>0</td>\n",
       "      <td>0</td>\n",
       "      <td>1</td>\n",
       "      <td>...</td>\n",
       "      <td>0</td>\n",
       "      <td>0</td>\n",
       "      <td>0</td>\n",
       "      <td>0</td>\n",
       "      <td>0</td>\n",
       "      <td>1</td>\n",
       "      <td>78218</td>\n",
       "      <td>3235.404493</td>\n",
       "      <td>high</td>\n",
       "      <td>1</td>\n",
       "    </tr>\n",
       "  </tbody>\n",
       "</table>\n",
       "<p>5 rows × 26 columns</p>\n",
       "</div>"
      ],
      "text/plain": [
       "           tract  raw_svi  f_pov_soci  f_unemp_soci  f_pci_soci  \\\n",
       "289  48029181821   0.4879           0             0           0   \n",
       "200  48029171902   0.6394           0             0           0   \n",
       "69   48029130200   0.6523           0             0           0   \n",
       "29   48029121120   0.0872           0             0           0   \n",
       "12   48029120502   0.9531           0             0           0   \n",
       "\n",
       "     f_nohsdp_soci  f_soci_total  f_age65_comp  f_age17_comp  f_disabl_comp  \\\n",
       "289              0             0             0             0              0   \n",
       "200              0             0             0             0              0   \n",
       "69               0             0             0             0              0   \n",
       "29               0             0             0             0              0   \n",
       "12               0             0             0             0              1   \n",
       "\n",
       "     ...  f_mobile_trans  f_crowd_trans  f_noveh_trans  f_groupq_trans  \\\n",
       "289  ...               0              0              0               0   \n",
       "200  ...               0              0              0               0   \n",
       "69   ...               0              0              1               0   \n",
       "29   ...               0              0              0               0   \n",
       "12   ...               0              0              0               0   \n",
       "\n",
       "     f_trans_total  all_flags_total    zip  tract_cases_per_100k   bin_svi  \\\n",
       "289              0                0  78240           2771.002224   low_mod   \n",
       "200              1                1  78245           2924.011251  mod_high   \n",
       "69               1                2  78203           4177.649457  mod_high   \n",
       "29               0                0  78247           2222.089837       low   \n",
       "12               0                1  78218           3235.404493      high   \n",
       "\n",
       "     rank_svi  \n",
       "289         3  \n",
       "200         2  \n",
       "69          2  \n",
       "29          4  \n",
       "12          1  \n",
       "\n",
       "[5 rows x 26 columns]"
      ]
     },
     "execution_count": 5,
     "metadata": {},
     "output_type": "execute_result"
    }
   ],
   "source": [
    "train_exp.head()"
   ]
  },
  {
   "cell_type": "markdown",
   "metadata": {},
   "source": [
    "<div class=\"alert alert-block alert-info\"><b></b></div>"
   ]
  },
  {
   "cell_type": "markdown",
   "metadata": {},
   "source": [
    "## Question One: Is there a correlation between the CDC's Range Category SVI Score and COVID-19 Infection Cases per 100k Individuals?"
   ]
  },
  {
   "cell_type": "code",
   "execution_count": 6,
   "metadata": {},
   "outputs": [],
   "source": [
    "def sns_boxplot(train_exp):\n",
    "    '''create boxplot for exploration'''\n",
    "    #axes1.margins(x=0.05)\n",
    "    plt.figure(figsize=(12,8))\n",
    "    plt.rc('font', size=16)\n",
    "    sns.boxplot(data=train_exp, x='bin_svi', y='tract_cases_per_100k')\n",
    "    plt.title('December 8th COVID-19 Cases per 100K by SVI Range Category')\n",
    "    plt.xlabel(\"CDC's SVI Range Category\",labelpad=20)\n",
    "    plt.ylabel(\"COVID-19 Cases per 100K\",labelpad=20)\n",
    "    plt.tight_layout()\n",
    "    plt.show()"
   ]
  },
  {
   "cell_type": "code",
   "execution_count": 7,
   "metadata": {},
   "outputs": [
    {
     "data": {
      "image/png": "[encoded data removed]",
      "text/plain": [
       "<Figure size 864x576 with 1 Axes>"
      ]
     },
     "metadata": {
      "needs_background": "light"
     },
     "output_type": "display_data"
    }
   ],
   "source": [
    "sns_boxplot(train_exp)"
   ]
  },
  {
   "cell_type": "markdown",
   "metadata": {},
   "source": [
    "### Takeaway:\n",
    "`There appears to be a correlation between COVID-19 Count and SVI Category. Next step is Hypothesis testing between categories to validate statistical significance`"
   ]
  },
  {
   "cell_type": "code",
   "execution_count": 8,
   "metadata": {},
   "outputs": [
    {
     "name": "stdout",
     "output_type": "stream",
     "text": [
      "The average number of cases per 100k for all CDC SVI Range Categories is 3221.15744\n",
      "The average number of cases per 100k for CDC SVI Range Category (low) is 2409.32081\n",
      "The average number of cases per 100k for CDC SVI Range Category (low_mod) is 2689.35826\n",
      "The average number of cases per 100k for CDC SVI Range Category (mod_high) is 3257.328812\n",
      "The average number of cases per 100k for CDC SVI Range Category (high) is 4187.892355\n"
     ]
    }
   ],
   "source": [
    "# Mean COVID-19 Count By CDC's SVI Category\n",
    "All = round(train_exp.tract_cases_per_100k.mean(),5)\n",
    "low = round((train_exp[train_exp.bin_svi == 'low']).tract_cases_per_100k.mean(),5)\n",
    "low_mod = round((train_exp[train_exp.bin_svi == 'low_mod']).tract_cases_per_100k.mean(),6)\n",
    "mod_high = round((train_exp[train_exp.bin_svi == 'mod_high']).tract_cases_per_100k.mean(),6)\n",
    "high = round((train_exp[train_exp.bin_svi== 'high']).tract_cases_per_100k.mean(),6)\n",
    "\n",
    "print(f'The average number of cases per 100k for all CDC SVI Range Categories is {All}') \n",
    "print(f'The average number of cases per 100k for CDC SVI Range Category (low) is {low}')\n",
    "print(f'The average number of cases per 100k for CDC SVI Range Category (low_mod) is {low_mod}')\n",
    "print(f'The average number of cases per 100k for CDC SVI Range Category (mod_high) is {mod_high}')\n",
    "print(f'The average number of cases per 100k for CDC SVI Range Category (high) is {high}')"
   ]
  },
  {
   "cell_type": "markdown",
   "metadata": {},
   "source": [
    "\n",
    "**Is This Difference Statistically Significant? (ANOVA/Kruskal)**\n",
    "\n",
    "*Question - Is there a significant difference in average number of COVID-19 cases per 100k when examined by CDC SVI Range Category ?*\n",
    "\n",
    "null = Average number of COVID-19 cases per 100k is the same across all CDC SVI Range Categories   \n",
    "\n",
    "\n",
    "alternate = Average number of COVID-19 cases per 100k is significantly different counties across all CDC SVI Range Categories   \n",
    "\n",
    "\n",
    "alpha = 0.01 (Let's be 99% certain the result we see aren't due to chance/randomness)   \n"
   ]
  },
  {
   "cell_type": "code",
   "execution_count": 9,
   "metadata": {},
   "outputs": [],
   "source": [
    "# f_oneway is our ANOVA test\n",
    "# See https://docs.scipy.org/doc/scipy/reference/generated/scipy.stats.f_oneway.html for more info\n",
    "\n",
    "low = (train_exp[train_exp.bin_svi == 'low']).tract_cases_per_100k\n",
    "low_mod = (train_exp[train_exp.bin_svi == 'low_mod']).tract_cases_per_100k\n",
    "mod_high = (train_exp[train_exp.bin_svi == 'mod_high']).tract_cases_per_100k\n",
    "high = (train_exp[train_exp.bin_svi== 'high']).tract_cases_per_100k"
   ]
  },
  {
   "cell_type": "markdown",
   "metadata": {},
   "source": [
    "#### Variance Test"
   ]
  },
  {
   "cell_type": "code",
   "execution_count": 10,
   "metadata": {},
   "outputs": [
    {
     "data": {
      "text/plain": [
       "LeveneResult(statistic=10.282211447884569, pvalue=1.9000204700733661e-06)"
      ]
     },
     "execution_count": 10,
     "metadata": {},
     "output_type": "execute_result"
    }
   ],
   "source": [
    "stats.levene(low, low_mod, mod_high, high)"
   ]
  },
  {
   "cell_type": "markdown",
   "metadata": {},
   "source": [
    "#### p-value < 0.05, Non Parametric Version of ANOVA (Kruskal)"
   ]
  },
  {
   "cell_type": "code",
   "execution_count": 26,
   "metadata": {},
   "outputs": [
    {
     "name": "stdout",
     "output_type": "stream",
     "text": [
      "r= 105.3219129304518\n",
      "p= 1.1140455293171267e-22\n",
      "\n",
      "\n",
      "We reject the null that: \n",
      " Average number of COVID-19 cases per 100k is the same across all CDC SVI Range Categories \n",
      "\n",
      "\n",
      "We move forward with the alternative hypothesis that: \n",
      " Average number of COVID-19 cases per 100k is significantly different counties across all CDC SVI Range Categories \n"
     ]
    }
   ],
   "source": [
    "alpha = 0.01\n",
    "null = \"Average number of COVID-19 cases per 100k is the same across all CDC SVI Range Categories \"\n",
    "alternate = \"Average number of COVID-19 cases per 100k is significantly different counties across all CDC SVI Range Categories \"\n",
    "\n",
    "f, p = kruskal(low, low_mod, mod_high, high)\n",
    "print('f=', f)\n",
    "print('p=', p)\n",
    "print('\\n')\n",
    "if p < alpha:\n",
    "    print(\"We reject the null that: \\n\", null)\n",
    "    print('\\n')\n",
    "    print(\"We move forward with the alternative hypothesis that: \\n\", alternate)\n",
    "else:\n",
    "    print(\"We fail to reject the null\")\n",
    "    print(\"Evidence does not support the claim that smoking status and time of day are dependent/related\")"
   ]
  },
  {
   "cell_type": "markdown",
   "metadata": {},
   "source": [
    "**Takeaway**\n",
    "\n",
    "`We can state with 99% certainty that there is a statistically significant difference between all of the CDC SVI Range Categories`"
   ]
  },
  {
   "cell_type": "markdown",
   "metadata": {},
   "source": [
    "<div class=\"alert alert-block alert-info\"><b></b></div>"
   ]
  },
  {
   "cell_type": "markdown",
   "metadata": {},
   "source": [
    "## Question Two: Is there a correlation between raw_svi and cases per 100k?"
   ]
  },
  {
   "cell_type": "markdown",
   "metadata": {},
   "source": [
    "#### Pearsons R"
   ]
  },
  {
   "cell_type": "code",
   "execution_count": 12,
   "metadata": {},
   "outputs": [],
   "source": [
    "# isolate variables to test\n",
    "raw_svi = train_exp.raw_svi\n",
    "cases_per_100k = train_exp.tract_cases_per_100k\n",
    "null = \"There is no statistically significant difference betweeen raw_svi and cases per 100K \"\n",
    "alternate = \"There is a statistically significant difference betweeen raw_svi and cases per 100K\""
   ]
  },
  {
   "cell_type": "code",
   "execution_count": 24,
   "metadata": {},
   "outputs": [],
   "source": [
    "def pearson(continuous_var1, continuous_var2, null, alternate):\n",
    "    '''\n",
    "    runs pearson r test on 2 continuous variables\n",
    "    '''\n",
    "    alpha = .01\n",
    "    r, p = stats.pearsonr(continuous_var1, continuous_var2)\n",
    "    print('r=', r)\n",
    "    print('p=', p)\n",
    "    print('\\n')\n",
    "    if p < alpha:\n",
    "        print(\"We reject the null that: \\n\", null)\n",
    "        print('\\n')\n",
    "        print(\"We move forward with the alternative hypothesis that: \\n\", alternate)\n",
    "    else:\n",
    "        print(\"We fail to reject the null\")\n",
    "        print(\"Evidence does not support the claim that smoking status and time of day are dependent/related\")\n"
   ]
  },
  {
   "cell_type": "code",
   "execution_count": 25,
   "metadata": {},
   "outputs": [
    {
     "name": "stdout",
     "output_type": "stream",
     "text": [
      "r= 0.5516268113519615\n",
      "p= 2.0695040919453683e-24\n",
      "\n",
      "\n",
      "We reject the null that: \n",
      " There is no statistically significant difference betweeen raw_svi and cases per 100K \n",
      "\n",
      "\n",
      "We move forward with the alternative hypothesis that: \n",
      " There is a statistically significant difference betweeen raw_svi and cases per 100K\n"
     ]
    }
   ],
   "source": [
    "pearson(raw_svi,cases_per_100k, null, alternate)"
   ]
  },
  {
   "cell_type": "markdown",
   "metadata": {},
   "source": [
    "## explore.py Function"
   ]
  },
  {
   "cell_type": "code",
   "execution_count": null,
   "metadata": {},
   "outputs": [],
   "source": []
  }
 ],
 "metadata": {
  "kernelspec": {
   "display_name": "Python 3",
   "language": "python",
   "name": "python3"
  },
  "language_info": {
   "codemirror_mode": {
    "name": "ipython",
    "version": 3
   },
   "file_extension": ".py",
   "mimetype": "text/x-python",
   "name": "python",
   "nbconvert_exporter": "python",
   "pygments_lexer": "ipython3",
   "version": "3.8.5"
  }
 },
 "nbformat": 4,
 "nbformat_minor": 4
}
