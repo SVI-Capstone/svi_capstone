{
 "cells": [
  {
   "cell_type": "code",
   "execution_count": 1,
   "metadata": {},
   "outputs": [],
   "source": [
    "import pandas as pd\n",
    "import matplotlib.pyplot as plt\n",
    "import seaborn as sns\n",
    "import numpy as np\n",
    "from scipy import stats\n",
    "\n",
    "import prepare\n",
    "import acquire\n",
    "#import wrangle\n",
    "\n",
    "import warnings\n",
    "warnings.simplefilter(action='ignore', category=FutureWarning)\n",
    "pd.options.mode.chained_assignment = None  # default='warn'"
   ]
  },
  {
   "cell_type": "code",
   "execution_count": 2,
   "metadata": {},
   "outputs": [
    {
     "name": "stdout",
     "output_type": "stream",
     "text": [
      "Acquire: compiling raw data files...\n",
      "Acquire: Completed!\n"
     ]
    }
   ],
   "source": [
    "# import prepare\n",
    "df = acquire.run()\n",
    "df = prepare.prepare_data(df)\n",
    "train_exp, X_train, y_train, X_validate, y_validate, X_test, y_test = prepare.split(df, 'tract_cases_per_100k')"
   ]
  },
  {
   "cell_type": "code",
   "execution_count": 3,
   "metadata": {},
   "outputs": [
    {
     "data": {
      "text/plain": [
       "(216, 26)"
      ]
     },
     "execution_count": 3,
     "metadata": {},
     "output_type": "execute_result"
    }
   ],
   "source": [
    "train_exp.shape"
   ]
  },
  {
   "cell_type": "code",
   "execution_count": 4,
   "metadata": {},
   "outputs": [
    {
     "data": {
      "text/plain": [
       "(362, 26)"
      ]
     },
     "execution_count": 4,
     "metadata": {},
     "output_type": "execute_result"
    }
   ],
   "source": [
    "df.shape"
   ]
  },
  {
   "cell_type": "code",
   "execution_count": 5,
   "metadata": {},
   "outputs": [
    {
     "data": {
      "text/html": [
       "<div>\n",
       "<style scoped>\n",
       "    .dataframe tbody tr th:only-of-type {\n",
       "        vertical-align: middle;\n",
       "    }\n",
       "\n",
       "    .dataframe tbody tr th {\n",
       "        vertical-align: top;\n",
       "    }\n",
       "\n",
       "    .dataframe thead th {\n",
       "        text-align: right;\n",
       "    }\n",
       "</style>\n",
       "<table border=\"1\" class=\"dataframe\">\n",
       "  <thead>\n",
       "    <tr style=\"text-align: right;\">\n",
       "      <th></th>\n",
       "      <th>tract</th>\n",
       "      <th>raw_svi</th>\n",
       "      <th>f_pov_soci</th>\n",
       "      <th>f_unemp_soci</th>\n",
       "      <th>f_pci_soci</th>\n",
       "      <th>f_nohsdp_soci</th>\n",
       "      <th>f_soci_total</th>\n",
       "      <th>f_age65_comp</th>\n",
       "      <th>f_age17_comp</th>\n",
       "      <th>f_disabl_comp</th>\n",
       "      <th>...</th>\n",
       "      <th>f_mobile_trans</th>\n",
       "      <th>f_crowd_trans</th>\n",
       "      <th>f_noveh_trans</th>\n",
       "      <th>f_groupq_trans</th>\n",
       "      <th>f_trans_total</th>\n",
       "      <th>all_flags_total</th>\n",
       "      <th>zip</th>\n",
       "      <th>tract_cases_per_100k</th>\n",
       "      <th>bin_svi</th>\n",
       "      <th>rank_svi</th>\n",
       "    </tr>\n",
       "  </thead>\n",
       "  <tbody>\n",
       "    <tr>\n",
       "      <th>234</th>\n",
       "      <td>48029180701</td>\n",
       "      <td>0.4841</td>\n",
       "      <td>0</td>\n",
       "      <td>0</td>\n",
       "      <td>0</td>\n",
       "      <td>0</td>\n",
       "      <td>0</td>\n",
       "      <td>0</td>\n",
       "      <td>0</td>\n",
       "      <td>0</td>\n",
       "      <td>...</td>\n",
       "      <td>0</td>\n",
       "      <td>0</td>\n",
       "      <td>0</td>\n",
       "      <td>1</td>\n",
       "      <td>2</td>\n",
       "      <td>2</td>\n",
       "      <td>78229</td>\n",
       "      <td>3423.833935</td>\n",
       "      <td>low_mod</td>\n",
       "      <td>3</td>\n",
       "    </tr>\n",
       "    <tr>\n",
       "      <th>3</th>\n",
       "      <td>48029110600</td>\n",
       "      <td>0.9841</td>\n",
       "      <td>1</td>\n",
       "      <td>1</td>\n",
       "      <td>1</td>\n",
       "      <td>1</td>\n",
       "      <td>4</td>\n",
       "      <td>0</td>\n",
       "      <td>0</td>\n",
       "      <td>1</td>\n",
       "      <td>...</td>\n",
       "      <td>0</td>\n",
       "      <td>0</td>\n",
       "      <td>1</td>\n",
       "      <td>1</td>\n",
       "      <td>3</td>\n",
       "      <td>8</td>\n",
       "      <td>78207</td>\n",
       "      <td>5524.052466</td>\n",
       "      <td>high</td>\n",
       "      <td>1</td>\n",
       "    </tr>\n",
       "    <tr>\n",
       "      <th>182</th>\n",
       "      <td>48029170600</td>\n",
       "      <td>0.7993</td>\n",
       "      <td>0</td>\n",
       "      <td>0</td>\n",
       "      <td>0</td>\n",
       "      <td>0</td>\n",
       "      <td>0</td>\n",
       "      <td>0</td>\n",
       "      <td>0</td>\n",
       "      <td>0</td>\n",
       "      <td>...</td>\n",
       "      <td>0</td>\n",
       "      <td>0</td>\n",
       "      <td>1</td>\n",
       "      <td>0</td>\n",
       "      <td>1</td>\n",
       "      <td>2</td>\n",
       "      <td>78228</td>\n",
       "      <td>4515.654482</td>\n",
       "      <td>high</td>\n",
       "      <td>1</td>\n",
       "    </tr>\n",
       "    <tr>\n",
       "      <th>204</th>\n",
       "      <td>48029171914</td>\n",
       "      <td>0.3723</td>\n",
       "      <td>0</td>\n",
       "      <td>0</td>\n",
       "      <td>0</td>\n",
       "      <td>0</td>\n",
       "      <td>0</td>\n",
       "      <td>0</td>\n",
       "      <td>0</td>\n",
       "      <td>0</td>\n",
       "      <td>...</td>\n",
       "      <td>0</td>\n",
       "      <td>0</td>\n",
       "      <td>0</td>\n",
       "      <td>0</td>\n",
       "      <td>0</td>\n",
       "      <td>0</td>\n",
       "      <td>78245</td>\n",
       "      <td>3627.254463</td>\n",
       "      <td>low_mod</td>\n",
       "      <td>3</td>\n",
       "    </tr>\n",
       "    <tr>\n",
       "      <th>277</th>\n",
       "      <td>48029181731</td>\n",
       "      <td>0.3020</td>\n",
       "      <td>0</td>\n",
       "      <td>0</td>\n",
       "      <td>0</td>\n",
       "      <td>0</td>\n",
       "      <td>0</td>\n",
       "      <td>0</td>\n",
       "      <td>0</td>\n",
       "      <td>0</td>\n",
       "      <td>...</td>\n",
       "      <td>0</td>\n",
       "      <td>0</td>\n",
       "      <td>0</td>\n",
       "      <td>0</td>\n",
       "      <td>0</td>\n",
       "      <td>0</td>\n",
       "      <td>78250</td>\n",
       "      <td>2818.961625</td>\n",
       "      <td>low_mod</td>\n",
       "      <td>3</td>\n",
       "    </tr>\n",
       "  </tbody>\n",
       "</table>\n",
       "<p>5 rows × 26 columns</p>\n",
       "</div>"
      ],
      "text/plain": [
       "           tract  raw_svi  f_pov_soci  f_unemp_soci  f_pci_soci  \\\n",
       "234  48029180701   0.4841           0             0           0   \n",
       "3    48029110600   0.9841           1             1           1   \n",
       "182  48029170600   0.7993           0             0           0   \n",
       "204  48029171914   0.3723           0             0           0   \n",
       "277  48029181731   0.3020           0             0           0   \n",
       "\n",
       "     f_nohsdp_soci  f_soci_total  f_age65_comp  f_age17_comp  f_disabl_comp  \\\n",
       "234              0             0             0             0              0   \n",
       "3                1             4             0             0              1   \n",
       "182              0             0             0             0              0   \n",
       "204              0             0             0             0              0   \n",
       "277              0             0             0             0              0   \n",
       "\n",
       "     ...  f_mobile_trans  f_crowd_trans  f_noveh_trans  f_groupq_trans  \\\n",
       "234  ...               0              0              0               1   \n",
       "3    ...               0              0              1               1   \n",
       "182  ...               0              0              1               0   \n",
       "204  ...               0              0              0               0   \n",
       "277  ...               0              0              0               0   \n",
       "\n",
       "     f_trans_total  all_flags_total    zip  tract_cases_per_100k  bin_svi  \\\n",
       "234              2                2  78229           3423.833935  low_mod   \n",
       "3                3                8  78207           5524.052466     high   \n",
       "182              1                2  78228           4515.654482     high   \n",
       "204              0                0  78245           3627.254463  low_mod   \n",
       "277              0                0  78250           2818.961625  low_mod   \n",
       "\n",
       "     rank_svi  \n",
       "234         3  \n",
       "3           1  \n",
       "182         1  \n",
       "204         3  \n",
       "277         3  \n",
       "\n",
       "[5 rows x 26 columns]"
      ]
     },
     "execution_count": 5,
     "metadata": {},
     "output_type": "execute_result"
    }
   ],
   "source": [
    "train_exp.head()"
   ]
  },
  {
   "cell_type": "code",
   "execution_count": 14,
   "metadata": {},
   "outputs": [
    {
     "data": {
      "image/png": "[encoded data removed]",
      "text/plain": [
       "<Figure size 432x288 with 1 Axes>"
      ]
     },
     "metadata": {
      "needs_background": "light"
     },
     "output_type": "display_data"
    }
   ],
   "source": [
    "# create data\n",
    "y= train_exp.tract_cases_per_100k\n",
    "x= train_exp.bin_svi\n",
    " \n",
    "# Change the color and its transparency\n",
    "plt.barh( x, y, color=\"skyblue\", alpha=0.4)\n",
    "plt.show()\n",
    " "
   ]
  },
  {
   "cell_type": "code",
   "execution_count": null,
   "metadata": {},
   "outputs": [],
   "source": []
  }
 ],
 "metadata": {
  "kernelspec": {
   "display_name": "Python 3",
   "language": "python",
   "name": "python3"
  },
  "language_info": {
   "codemirror_mode": {
    "name": "ipython",
    "version": 3
   },
   "file_extension": ".py",
   "mimetype": "text/x-python",
   "name": "python",
   "nbconvert_exporter": "python",
   "pygments_lexer": "ipython3",
   "version": "3.8.5"
  }
 },
 "nbformat": 4,
 "nbformat_minor": 4
}
