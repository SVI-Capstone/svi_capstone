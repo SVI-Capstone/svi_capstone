{
 "cells": [
  {
   "cell_type": "markdown",
   "metadata": {},
   "source": [
    "# SVI & COVID - CONCLUSIONS"
   ]
  },
  {
   "cell_type": "markdown",
   "metadata": {},
   "source": [
    "## About the Project\n",
    "In 2011 The CDC created the social vulnerability index (SVI).  The SVI is a scale that predicts the vulnerability of a population in the event of an emergency or natural disaster. COVID is the first global pandemic since the development of this measure. We evaluated the association between SVI score and COVID case count between San Antonio and Dallas, Texas.  Using modeling, we were able to identify localized community-specific and highly vulnerable subgroups.  It was observed that the most vulnerable subgroups in San Antonio included persons over 25 years of age with no high school diploma, minority status (non-white), institutional group homes, and those who are generally unemployed.  In Dallas, these groups focused on minority populations, those over 25 years of age with no high school diploma, and individuals that are identified as having limited English proficiency (LEP).  While SVI shared a strong correlation (.55) with COVID case count per 100k in San Antonio, this correlation was not observed in Dallas (.19).  This finding suggests that resources would be well allocated in San Antonio using the SVI index, but in Dallas, that correlation does not hold. We hope that our work helps to better inform our local government about specific sub-populations were aid allocation should be prioritized.\n",
    "  \n",
    "### Goals\n",
    "\n",
    "*Goal # 1* - Evaluate the association between SVI score and COVID case count in San Antonio and Dallas, Texas.\n",
    "\n",
    "*Goal # 2* - Evaluate the correlation between raw SVI score and case count per 100k.\n",
    "\n",
    "*Goal # 3* - Compare and contrast the patterns observed between SVI score and COVID case count. \n",
    "\n",
    "*Goal # 4* - Predict local communities most at risk for COVID infection using SVI score.\n",
    "\n",
    "*Goal # 5* - To identify subgroups inside identified communities that need particular attention or focused support."
   ]
  },
  {
   "cell_type": "markdown",
   "metadata": {},
   "source": [
    "### Background\n",
    "The SVI (Social Vulnerability Index) was developed to help city governments and first responders predict areas that are particularly vulnerable in emergencies to prioritize resources to help regions at high risk (CDC's Social Vulnerability Index, 2020). The CDC's Social Vulnerability Index (CDC SVI) uses 15 U.S. census variables to classify census tracts with a composite score between 0 and 1 (lower scores = less vulnerability, higher score = greater vulnerability. This score is calculated by first ranking every census tract, in every country, in every state, in the United States. Those ranked tracks are then broken up into four themes (socioeconomic status, household composition, disability, minority status and language, household type, and transportation) and reclassified.  This overall score is then tallied by summing the themed percentiles and ranked between 0 and 1.  \n",
    "\n",
    "While SVI was designed to help city governments respond to emergencies, the systems' efficacy has never been tested in response to a global pandemic. COVID-19 is a disease caused by a new coronavirus called SARS-CoV-2. WHO first learned of this new virus on 31 December 2019, following a report of a cluster of cases of 'viral pneumonia' in Wuhan, People's Republic of China. (World Health Organization, 2020). As of 9 December 2020, more than 68.4 million cases have been confirmed, with more than 1.56 million deaths attributed to COVID-19. \n",
    "\n",
    "Separated by 274 miles San Antonio and Dallas are two cities that share both comparable population sizes and SVI scores. Cities will be evaluated separately and then together for comparison.  "
   ]
  },
  {
   "cell_type": "markdown",
   "metadata": {},
   "source": [
    "### Initial Thoughts & Hypotheses\n",
    "\n",
    "1. Is the average number of COVID cases per 100k is the same across CDC SVI Range Categories?\n",
    "\n",
    "2. Is there a correlation between raw_svi and the number of cases per 100k?\n",
    "\n",
    "3. Is SVI a useful feature for predicting the number of cases per 100k?\n",
    "\n",
    "4. Are the individual components of SVI better at predicting COVID cases, then the rank score?\n",
    "\n",
    "5. Are the features identified in modeling consistent across communities (similar size and SVI score)?"
   ]
  },
  {
   "cell_type": "markdown",
   "metadata": {},
   "source": [
    "### Work Plan\n",
    "\n",
    "**Data Collection** \n",
    "- What data, if we had it, would solve the problem right away?\n",
    "    - Cases count per 100K by census tract with SVI metrics nationally would be ideal\n",
    "- What data do we have access to?\n",
    "    - Have SVI from CDC by census track\n",
    "    - Have Bexar county case count per 100K by zip code for single date 12/8/20\n",
    "    - Collected median case count by zip code from Dallas dashboard on 12/8/20\n",
    "- What additional data would be good to have?\n",
    "    - be great to have more data by zip code instead of only county level\n",
    "- What data would be impossible to collect?\n",
    "    - due to privacy/panic concerns case data at the census tract level is not being published for open access\n",
    "- What are the best proxies you can find for unavailable or impossible data?\n",
    "    - find a way to translate from census tract to zip code\n",
    "- What are the legal or ethical issues you might run into if you were to try to collect all of the types of data you would like to work with?\n",
    "    - considered web scraping for zip code level data where specific information is not available\n",
    "    - likely better to hard code existing data that is publicly available\n",
    "\n",
    "**Machine Learning Model**\n",
    "- What ML paradigm are you working in? (Classification, Regression, Clustering, etc)\n",
    "    - Regression - target continuous variable cases per 100k\n",
    "    - Classification - redefine target variable into 4 ranks/classes\n",
    "- What models are commonly used in this task?\n",
    "    - Linear Regression, LassoLars, Polynomial Features, Tweedie Regressor, etc.\n",
    "    - Random Forest, Decision Tree, K Nearest Neighbors (KNN), etc.\n",
    "* What other solutions are being tried in this field?\n",
    "    - Did not see other research related to SVI as predictor for pandemic specifically\n",
    "    - Index is used commonly for Hurricanes\n",
    "* What special considerations need to be taken when dealing with these models? (i.e., imbalanced classes, text preprocessing, data leakage, etc)\n",
    "    - possibly imbalanced classes in classification modeling, will need to verify distribution\n",
    "* How will you know that your models work?\n",
    "    - Establish a Baseline for each type of model \n",
    "    - Regression: will predict the mean value and calculate the MAE (Mean Absolute Error)\n",
    "    - Regression: compare MAE of model vs baseline, model works is it has lower MAE than baseline\n",
    "    - Classification: predict the most common rank for all observations and take the percentage that are correct\n",
    "    - Classification: if the model accuracy is better than the Baseline the model works\n"
   ]
  },
  {
   "cell_type": "markdown",
   "metadata": {},
   "source": [
    "### Imports"
   ]
  },
  {
   "cell_type": "code",
   "execution_count": null,
   "metadata": {},
   "outputs": [],
   "source": [
    "import pandas as pd\n",
    "import seaborn as sns\n",
    "import matplotlib.pyplot as plt\n",
    "import numpy as np\n",
    "\n",
    "import wrangle\n",
    "import explore\n",
    "import model_MAE\n"
   ]
  },
  {
   "cell_type": "markdown",
   "metadata": {},
   "source": [
    "![Prepare](https://i.pinimg.com/564x/4b/a8/7f/4ba87f73e9018ba611b1f9b11895eb20.jpg)"
   ]
  },
  {
   "cell_type": "markdown",
   "metadata": {},
   "source": [
    "### Acquire\n",
    "We acquired SVI data from the CDC's website and downloaded COVID data for San Antonio and Dallas from the cities' respective COVID data web portals. We developed programmatic solutions to translate federal FIPS codes into discernible local Zip Codes to merge the data.  Using the HUD crosswalk we found the Zip Code that accounted for the highest percentage of addresses within the tract and assigned that as the tract's sole Zip Code. This allowed us to merge the tables by matching them to a tract. The ratio of addresses for the census tract was then used to calculate cases per 100K measure for each tract.\n",
    "\n",
    "### Wrangle\n",
    "Twenty-nine features were selected and renamed for clarity to prepare the data for exploration. Observations associated with military bases were removed from the data frame. Binning the raw SVI score created a bin_svi column and a rank_svi column. The bin_svi column returns a label (low, low-mod, mod-high, high) in relation to the raw_svi score, while the rank_svi column is a numeric representation of SVI (1 representing a high score, four representing a low score). Prepared data was split into train and test for later modeling with cross-validation.  Numeric columns were scaled using sklearn's MinMaxScaler.  Six data frames were returned at the end of wrangle, including *train_explore* for exploration and individual scaled data frames for modeling  *X_train_scaled, y_train, X_test_scaled, y_test*."
   ]
  },
  {
   "cell_type": "markdown",
   "metadata": {},
   "source": [
    "# Individual City Analysis\n",
    "\n",
    "- Examine Bexar county and Dallas county individually through the Acquire, Prepare, Explore, and Modeling stages\n",
    "- Click on the city skyline to go to the notebook for that city"
   ]
  },
  {
   "cell_type": "markdown",
   "metadata": {},
   "source": [
    "**San Antonio**     \n",
    "[![San_Antonio_skyline](https://st.depositphotos.com/1231639/2885/v/600/depositphotos_28856081-stock-illustration-san-antonio-city-skyline-silhouette.jpg)](https://github.com/SVI-Capstone/svi_capstone/blob/main/mvp-sa.ipynb)"
   ]
  },
  {
   "cell_type": "markdown",
   "metadata": {},
   "source": [
    "**Dallas**     \n",
    "[![Dallas_skyline](https://lh3.googleusercontent.com/proxy/-SPZlwiqCzl4wiU6SCsLHh8FNTuAC0_R_S7wQAWQhD38WlASRZFZni5rUnVroxdNG5XcDloF06XhENCd-TCh8Tpgsz2InUyZUSNChtnhTUYD2ehaKW2ce1dIk1kfhEwNwHm7-CCOIgIFaDqoJVuQ_vJ1IrcgPol-)](https://github.com/SVI-Capstone/svi_capstone/blob/main/mvp-dallas.ipynb)"
   ]
  },
  {
   "cell_type": "markdown",
   "metadata": {},
   "source": [
    "# Explore Comparisons and Conclusions\n",
    "\n",
    "Exploration focused on answering questions regarding the relationship between the CDC's range category SVI score and cases of COVID-19 per 100k.\n",
    "\n",
    "**Hypothesis Testing**     \n",
    "Question One: Is there a correlation between the CDC's Range Category SVI Score and COVID-19 Infection Cases per 100k Individuals?\n",
    "We first visualized this relationship then conducted statistical testing to validate this observation. Due to the difference in variance in the data we performed a non-parametric ANOVA test (Kruskal). The confidence interval was set at 99% and returned a p-value less than alpha, requiring us to reject the null hypothesis and accept the alternate hypothesis that the average number of COVID-19 cases per 100k is significantly different across all CDC SVI range categories.\n",
    "\n",
    "Question Two: Is there a correlation between raw_svi and cases per 100k?\n",
    "This testing was performed using Pearson's correlation coefficient test at a confidence interval of 99%, and returned an r-value (correlation coefficient) of .55 for San Antonio and .29 for Dallas. This test also returned a p-value less than alpha, allowing us to reject the null hypothesis and accept the alternate hypothesis that there * a statistically significant difference* between raw_svi and cases per 100K.\n",
    "\n",
    "We then visualized the distribution of cases and SVI scores. When viewed with hue = svi_cat distinct boundaries were observed separating range categories. Dispersed clustering within categories was observed, with the most significant variation occurring in the 'low' SVI vulnerability category. Several observations within this category were located outside the IQR and identified as outliers. We decided to keep these outliers in the dataset for further investigation time permitting.\n",
    "\n",
    "The relationships between the distribution of cases and the number of specific SVI flags were examined. In San Antonio, a wide distribution of flags under the 'high' vulnerability category was observed. This suggested the need to identify subgroups inside identified communities where more focused assistance or support may be needed. \n",
    "\n",
    "Similar trends were observed in the Dallas dataset. The most significant difference is that flags' specific distribution under the 'high' vulnerability category change.  This unique distribution of flags per city suggests that while cities may use SVI to identify vulnerable communities, they may need alternate tools to key in on particularly vulnerable subgroups. \n",
    "\n",
    "After it was identified that unique flags might be used to better identify groupings within the data, an exploratory clustering analysis was performed. We hoped to use clustering to generate a new feature that could then be fed into a regression model.  Raw SVI data were examined, and three columns were identified as closely related to the prediction of COVID counts per 100k.  These features were e_pov (the estimate of persons below poverty), ep_pov (the percentage of persons below poverty), and spl_theme1 (the sum of features associated with socioeconomic themes).  These features were combined into a new feature identified as poverty_cluster.  This feature, along with centroids, were added to the data frame for modeling. "
   ]
  },
  {
   "cell_type": "markdown",
   "metadata": {},
   "source": [
    "## Hypothesis Testing\n",
    "\n",
    "### Question One: Is there a correlation between the CDC's Range Category SVI Score and COVID-19 Infection Cases per 100k Individuals?"
   ]
  },
  {
   "cell_type": "markdown",
   "metadata": {},
   "source": [
    "### Question Two: Is there a correlation between raw_svi and cases per 100k?"
   ]
  },
  {
   "cell_type": "code",
   "execution_count": 3,
   "metadata": {},
   "outputs": [
    {
     "data": {
      "image/png": "[encoded data removed]",
      "text/plain": [
       "<Figure size 864x576 with 1 Axes>"
      ]
     },
     "metadata": {
      "needs_background": "light"
     },
     "output_type": "display_data"
    }
   ],
   "source": [
    "# leave this here but have side by side plots?\n",
    "explore.sns_boxplot(train_exp)"
   ]
  },
  {
   "cell_type": "markdown",
   "metadata": {},
   "source": [
    "**Takeaway:**\n",
    "\n",
    "\n",
    "Summary of Hypothesis testing results here\n",
    "\n",
    "`We can state with 99% certainty that there is a statistically significant difference between all of the CDC SVI Range Categories`\n",
    "\n",
    "`We can state with 99% certainty that there is a statistically significant difference between raw_svi score and cases per 100K`"
   ]
  },
  {
   "cell_type": "markdown",
   "metadata": {},
   "source": [
    "## Distribution Exploration"
   ]
  },
  {
   "cell_type": "code",
   "execution_count": 7,
   "metadata": {},
   "outputs": [
    {
     "data": {
      "image/png": "[encoded data removed]",
      "text/plain": [
       "<Figure size 720x720 with 3 Axes>"
      ]
     },
     "metadata": {
      "needs_background": "light"
     },
     "output_type": "display_data"
    }
   ],
   "source": [
    "# replace with side by side\n",
    "explore.joint_plot_index('raw_svi','tract_cases_per_100k', train_exp, 'bin_svi')"
   ]
  },
  {
   "cell_type": "code",
   "execution_count": 9,
   "metadata": {},
   "outputs": [
    {
     "data": {
      "image/png": "[encoded data removed]",
      "text/plain": [
       "<Figure size 864x576 with 1 Axes>"
      ]
     },
     "metadata": {
      "needs_background": "light"
     },
     "output_type": "display_data"
    }
   ],
   "source": [
    "# replace with side by side\n",
    "explore.hist_case(train_exp.tract_cases_per_100k)"
   ]
  },
  {
   "cell_type": "code",
   "execution_count": null,
   "metadata": {},
   "outputs": [],
   "source": [
    "# skittles plots of key sub groups"
   ]
  },
  {
   "cell_type": "code",
   "execution_count": null,
   "metadata": {},
   "outputs": [],
   "source": []
  },
  {
   "cell_type": "markdown",
   "metadata": {},
   "source": [
    "# Preprocessing\n",
    "\n",
    "**Recursive Feature Elimination (RFE)**     \n",
    "RFE was used to evaluate the features and rank them prior to modeling. This list of key features determined some of the combinations of features to model on. When this alone did not produce a very accurate model further Exploration, use of KMeans clustering, and analysis of trends in the SVI found additional features to model on.\n",
    "\n",
    "**KMeans Clustering**     \n",
    "Visualization of unique flags indicated that these might better identify groupings within the data. Raw SVI data showed three flags as closely related to the prediction of COVID counts per 100k. These features were the estimate of persons below poverty (e_pov), the percentage of persons below poverty (ep_pov), and the sum of features associated with socioeconomic themes (spl_theme1). Using KMeans clustering these features were combined into a new feature identified as poverty_cluster.\n",
    "\n",
    "**SVI Trend Feature Engineering**      \n",
    "\n"
   ]
  },
  {
   "cell_type": "markdown",
   "metadata": {},
   "source": [
    "# Model Comparisons and Conclusions\n",
    "\n",
    "Two rounds of modeling were performed during this investigation. First, a regression model that assessed SVI's impact on the prediction of COVID cases per 100k, and second a classification model that assessed SVI's impact on case rank (defined as low cases, low_mod cases, mod_high cases, or high cases)."
   ]
  },
  {
   "cell_type": "markdown",
   "metadata": {},
   "source": [
    "## Regression Model\n",
    "\n",
    "The mean value for COVID cases per 100k was identified as the baseline for modeling. We used cross-validation instead of a three-way split into train, validate, and test datasets due to the dataset's limited size. The size of the dataset is limited by the number of census tracts in each city. Linear Regression and LassoLars algorithms were used to evaluate multiple combinations of feature selection. Of these, the LassoLars had the least MAE (mean absolute error) when using all of the possible features and was run on the out of sample (test) data. The MAE of a model is the mean of the individual prediction errors' absolute values over all instances in the test set. We chose to assess model performance in terms of MAE due to its ease of interpretation. San Antonio's top-performing model was a TweedieRegressor, using Top 4 features as identified by RFE. The model demonstrated a 21% improvement over baseline. Dallas' top-performing model was also a TweedieRegressor, using Top 4 features as determined by RFE. The model showed a 2% improvement over baseline.\n",
    "\n",
    "Classification Model\n",
    "\n",
    "For the classification model, we ran a series of classification models using the Random Forest and KNN algorithms, which sought to use SVI components as features in the models to predict the severity of COVID cases based on our constructed rankings of point counts: Low, Low-Moderate, Moderate-High, and High bins. The mean value of the most common ranked bin was identified as the baseline for modeling. We found that our classification models' most useful features were also similar to the features we found as applicable in regression modeling. Using the Random Forest algorithm and using the top 4 RFE features, our best model yielded an accuracy result of 55%, which is an improvement over the baseline of 7% (or an increase in accuracy of 14.5%)."
   ]
  },
  {
   "cell_type": "markdown",
   "metadata": {},
   "source": [
    "# Model the Data\n",
    "\n",
    "- Baseline for modeling determined by plotting the histogram distribution of COVID-19 cases per 100k.\n",
    "- The skew observed in the distribution led us to use the median for this value instead of the mean??\n",
    "- Used cross validation due to limited size of dataset. Size of dataset limited by San Antonio number of census tracts.\n",
    "- Three of the 4 models used all of the features in the dataset, one model used only the top4 features identified by RFE.\n",
    "- Linear Regression, LassoLars, and 2 degree polynomial features used all features and a 2nd version of 2 degree polynomial was run with just the top4 features.\n",
    "- Of these the LassoLars had the least MAE (mean absolute error) and was run on out of sample data (test).\n",
    "- This model had nearly identical MAE when run on out of sample data, only a 0.7 difference in MAE.\n",
    "- Overall this is a 25% improvement from mean baseline MAE."
   ]
  },
  {
   "cell_type": "markdown",
   "metadata": {},
   "source": [
    "## Create Baseline"
   ]
  },
  {
   "cell_type": "code",
   "execution_count": 11,
   "metadata": {},
   "outputs": [
    {
     "data": {
      "text/plain": [
       "(3201.968351790576, 2903.7827641596423)"
      ]
     },
     "execution_count": 11,
     "metadata": {},
     "output_type": "execute_result"
    }
   ],
   "source": [
    "# What is the mean vs median of the target variable?\n",
    "y_train.tract_cases_per_100k.mean(), y_train.tract_cases_per_100k.median()"
   ]
  },
  {
   "cell_type": "code",
   "execution_count": 12,
   "metadata": {},
   "outputs": [
    {
     "name": "stdout",
     "output_type": "stream",
     "text": [
      "Baseline MAE: 973.0351509141836\n"
     ]
    }
   ],
   "source": [
    "# calculate the mean absolute error (MAE) of the baseline using mean\n",
    "mean_baseMAE, basepred1 = model_MAE.get_baseline_mean(y_train)"
   ]
  },
  {
   "cell_type": "code",
   "execution_count": 13,
   "metadata": {},
   "outputs": [
    {
     "name": "stdout",
     "output_type": "stream",
     "text": [
      "Baseline MAE: 950.9798103241462\n"
     ]
    }
   ],
   "source": [
    "# calculate the mean absolute error (MAE) of the baseline using median\n",
    "median_baseMAE, basepred2 = model_MAE.get_baseline_median(y_train)"
   ]
  },
  {
   "cell_type": "markdown",
   "metadata": {},
   "source": [
    "## Feature Ranking\n",
    "\n",
    "- Use recursive feature elimination to evaluate features for modeling"
   ]
  },
  {
   "cell_type": "code",
   "execution_count": 14,
   "metadata": {},
   "outputs": [
    {
     "data": {
      "text/html": [
       "<div>\n",
       "<style scoped>\n",
       "    .dataframe tbody tr th:only-of-type {\n",
       "        vertical-align: middle;\n",
       "    }\n",
       "\n",
       "    .dataframe tbody tr th {\n",
       "        vertical-align: top;\n",
       "    }\n",
       "\n",
       "    .dataframe thead th {\n",
       "        text-align: right;\n",
       "    }\n",
       "</style>\n",
       "<table border=\"1\" class=\"dataframe\">\n",
       "  <thead>\n",
       "    <tr style=\"text-align: right;\">\n",
       "      <th></th>\n",
       "      <th>features</th>\n",
       "    </tr>\n",
       "    <tr>\n",
       "      <th>rank</th>\n",
       "      <th></th>\n",
       "    </tr>\n",
       "  </thead>\n",
       "  <tbody>\n",
       "    <tr>\n",
       "      <th>1</th>\n",
       "      <td>rank_svi_scaled</td>\n",
       "    </tr>\n",
       "    <tr>\n",
       "      <th>2</th>\n",
       "      <td>f_soci_total_scaled</td>\n",
       "    </tr>\n",
       "    <tr>\n",
       "      <th>3</th>\n",
       "      <td>f_pov_soci</td>\n",
       "    </tr>\n",
       "    <tr>\n",
       "      <th>4</th>\n",
       "      <td>f_minrty_status</td>\n",
       "    </tr>\n",
       "    <tr>\n",
       "      <th>5</th>\n",
       "      <td>all_flags_total_scaled</td>\n",
       "    </tr>\n",
       "    <tr>\n",
       "      <th>6</th>\n",
       "      <td>f_groupq_trans</td>\n",
       "    </tr>\n",
       "    <tr>\n",
       "      <th>7</th>\n",
       "      <td>f_age17_comp</td>\n",
       "    </tr>\n",
       "    <tr>\n",
       "      <th>8</th>\n",
       "      <td>f_comp_total_scaled</td>\n",
       "    </tr>\n",
       "    <tr>\n",
       "      <th>9</th>\n",
       "      <td>f_munit_trans</td>\n",
       "    </tr>\n",
       "    <tr>\n",
       "      <th>10</th>\n",
       "      <td>f_age65_comp</td>\n",
       "    </tr>\n",
       "    <tr>\n",
       "      <th>11</th>\n",
       "      <td>f_unemp_soci</td>\n",
       "    </tr>\n",
       "    <tr>\n",
       "      <th>12</th>\n",
       "      <td>f_pci_soci</td>\n",
       "    </tr>\n",
       "    <tr>\n",
       "      <th>13</th>\n",
       "      <td>f_noveh_trans</td>\n",
       "    </tr>\n",
       "    <tr>\n",
       "      <th>14</th>\n",
       "      <td>f_nohsdp_soci</td>\n",
       "    </tr>\n",
       "    <tr>\n",
       "      <th>15</th>\n",
       "      <td>f_disabl_comp</td>\n",
       "    </tr>\n",
       "    <tr>\n",
       "      <th>16</th>\n",
       "      <td>f_status_total_scaled</td>\n",
       "    </tr>\n",
       "    <tr>\n",
       "      <th>17</th>\n",
       "      <td>raw_svi</td>\n",
       "    </tr>\n",
       "    <tr>\n",
       "      <th>18</th>\n",
       "      <td>f_limeng_status</td>\n",
       "    </tr>\n",
       "    <tr>\n",
       "      <th>19</th>\n",
       "      <td>f_mobile_trans</td>\n",
       "    </tr>\n",
       "    <tr>\n",
       "      <th>20</th>\n",
       "      <td>f_crowd_trans</td>\n",
       "    </tr>\n",
       "    <tr>\n",
       "      <th>21</th>\n",
       "      <td>f_trans_total_scaled</td>\n",
       "    </tr>\n",
       "    <tr>\n",
       "      <th>22</th>\n",
       "      <td>f_sngpnt_comp</td>\n",
       "    </tr>\n",
       "  </tbody>\n",
       "</table>\n",
       "</div>"
      ],
      "text/plain": [
       "                    features\n",
       "rank                        \n",
       "1            rank_svi_scaled\n",
       "2        f_soci_total_scaled\n",
       "3                 f_pov_soci\n",
       "4            f_minrty_status\n",
       "5     all_flags_total_scaled\n",
       "6             f_groupq_trans\n",
       "7               f_age17_comp\n",
       "8        f_comp_total_scaled\n",
       "9              f_munit_trans\n",
       "10              f_age65_comp\n",
       "11              f_unemp_soci\n",
       "12                f_pci_soci\n",
       "13             f_noveh_trans\n",
       "14             f_nohsdp_soci\n",
       "15             f_disabl_comp\n",
       "16     f_status_total_scaled\n",
       "17                   raw_svi\n",
       "18           f_limeng_status\n",
       "19            f_mobile_trans\n",
       "20             f_crowd_trans\n",
       "21      f_trans_total_scaled\n",
       "22             f_sngpnt_comp"
      ]
     },
     "execution_count": 14,
     "metadata": {},
     "output_type": "execute_result"
    }
   ],
   "source": [
    "rankdf = model_MAE.feature_ranking(X_train_scaled, y_train)\n",
    "rankdf"
   ]
  },
  {
   "cell_type": "markdown",
   "metadata": {},
   "source": [
    "## Feature Selection"
   ]
  },
  {
   "cell_type": "code",
   "execution_count": 15,
   "metadata": {},
   "outputs": [],
   "source": [
    "# only raw svi score\n",
    "X_raw_svi = X_train_scaled[['raw_svi']]\n",
    "# binned svi score by CDC range category = 1st ranked\n",
    "X_rank_svi_only = X_train_scaled[['rank_svi_scaled']]\n",
    "# top 4 ranked features\n",
    "X_top4 = X_train_scaled[['rank_svi_scaled', 'f_nohsdp_soci', 'f_minrty_status', 'f_groupq_trans']]\n",
    "# only the summary of the flags = 19th ranked\n",
    "X_all_flags_only = X_train_scaled[['all_flags_total_scaled']]\n",
    "# only summary flags, should be the same as all flags total? = 5th, 12th, 15th, 21st\n",
    "X_summary_flags = X_train_scaled[['f_comp_total_scaled', 'f_soci_total_scaled', 'f_status_total_scaled', 'f_trans_total_scaled']]\n",
    "# all individual flags\n",
    "X_not_summary_flags = X_train_scaled[['f_nohsdp_soci', 'f_minrty_status', 'f_groupq_trans', 'f_unemp_soci', \n",
    "                                     'f_disabl_comp', 'f_noveh_trans', 'f_mobile_trans', 'f_age65_comp', \n",
    "                                     'f_age17_comp', 'f_pov_soci', 'f_limeng_status', 'f_crowd_trans', \n",
    "                                      'f_pci_soci', 'f_sngpnt_comp', 'f_munit_trans']]"
   ]
  },
  {
   "cell_type": "markdown",
   "metadata": {},
   "source": [
    "## Build and Train Model\n",
    "\n",
    "- Linear Regression, Polynomial Features, and Tweedie Regressor will be run with various combinations of features\n",
    "- LassoLars will be run only with all of the features because feature evaluation is a component of the model"
   ]
  },
  {
   "cell_type": "code",
   "execution_count": 16,
   "metadata": {},
   "outputs": [],
   "source": [
    "# create variables for loop\n",
    "df2test = [X_rank_svi_only, X_top4, X_all_flags_only, X_summary_flags, X_not_summary_flags, X_train_scaled, X_raw_svi]\n",
    "target = y_train\n",
    "\n",
    "# Linear Regression Models\n",
    "lm_MAE_list = []\n",
    "for df in df2test:\n",
    "    lm_MAE = model_MAE.linear_reg_train(df, target)\n",
    "    lm_MAE_list.append(lm_MAE)\n",
    "\n",
    "# Polynomial Features 2 degree\n",
    "pf2_MAE_list = []\n",
    "for df in df2test:\n",
    "    pf2_MAE = model_MAE.polynomial2(df, target)\n",
    "    pf2_MAE_list.append(pf2_MAE)\n",
    "\n",
    "# Tweedie power=0, alpha=.5\n",
    "tweedie05 = []\n",
    "for df in df2test:\n",
    "    tw_MAE = model_MAE.tweedie05(df, target)\n",
    "    tweedie05.append(tw_MAE)\n"
   ]
  },
  {
   "cell_type": "code",
   "execution_count": 17,
   "metadata": {},
   "outputs": [],
   "source": [
    "# LassoLars Models\n",
    "lars_MAE = model_MAE.lasso_lars(X_train_scaled, target)"
   ]
  },
  {
   "cell_type": "markdown",
   "metadata": {},
   "source": [
    "## Interpret the Model"
   ]
  },
  {
   "cell_type": "markdown",
   "metadata": {},
   "source": [
    "https://i.pinimg.com/564x/be/39/dc/be39dcb169c9dac1f8bf2e5516d22112.jpg"
   ]
  },
  {
   "cell_type": "code",
   "execution_count": 18,
   "metadata": {},
   "outputs": [
    {
     "data": {
      "text/html": [
       "<div>\n",
       "<style scoped>\n",
       "    .dataframe tbody tr th:only-of-type {\n",
       "        vertical-align: middle;\n",
       "    }\n",
       "\n",
       "    .dataframe tbody tr th {\n",
       "        vertical-align: top;\n",
       "    }\n",
       "\n",
       "    .dataframe thead th {\n",
       "        text-align: right;\n",
       "    }\n",
       "</style>\n",
       "<table border=\"1\" class=\"dataframe\">\n",
       "  <thead>\n",
       "    <tr style=\"text-align: right;\">\n",
       "      <th></th>\n",
       "      <th>Features</th>\n",
       "      <th>LinearRegression_MAE</th>\n",
       "      <th>Tweedie05_MAE</th>\n",
       "      <th>PolynomialFeatures2_MAE</th>\n",
       "      <th>LassoLars_MAE</th>\n",
       "      <th>Base_mean_MAE</th>\n",
       "      <th>Base_median_MAE</th>\n",
       "    </tr>\n",
       "  </thead>\n",
       "  <tbody>\n",
       "    <tr>\n",
       "      <th>5</th>\n",
       "      <td>all_features</td>\n",
       "      <td>694.319979</td>\n",
       "      <td>821.826107</td>\n",
       "      <td>416.712011</td>\n",
       "      <td>697.418073</td>\n",
       "      <td>973.035151</td>\n",
       "      <td>950.97981</td>\n",
       "    </tr>\n",
       "    <tr>\n",
       "      <th>4</th>\n",
       "      <td>not_summary_flags</td>\n",
       "      <td>768.309031</td>\n",
       "      <td>890.061139</td>\n",
       "      <td>523.157408</td>\n",
       "      <td>697.418073</td>\n",
       "      <td>973.035151</td>\n",
       "      <td>950.97981</td>\n",
       "    </tr>\n",
       "    <tr>\n",
       "      <th>1</th>\n",
       "      <td>top4</td>\n",
       "      <td>733.964872</td>\n",
       "      <td>872.729805</td>\n",
       "      <td>715.532379</td>\n",
       "      <td>697.418073</td>\n",
       "      <td>973.035151</td>\n",
       "      <td>950.97981</td>\n",
       "    </tr>\n",
       "    <tr>\n",
       "      <th>6</th>\n",
       "      <td>raw_svi_only</td>\n",
       "      <td>776.969617</td>\n",
       "      <td>924.491852</td>\n",
       "      <td>767.016031</td>\n",
       "      <td>697.418073</td>\n",
       "      <td>973.035151</td>\n",
       "      <td>950.97981</td>\n",
       "    </tr>\n",
       "    <tr>\n",
       "      <th>0</th>\n",
       "      <td>rank_svi_only</td>\n",
       "      <td>775.678114</td>\n",
       "      <td>900.500732</td>\n",
       "      <td>772.144027</td>\n",
       "      <td>697.418073</td>\n",
       "      <td>973.035151</td>\n",
       "      <td>950.97981</td>\n",
       "    </tr>\n",
       "    <tr>\n",
       "      <th>3</th>\n",
       "      <td>summary_flags</td>\n",
       "      <td>830.585295</td>\n",
       "      <td>944.466544</td>\n",
       "      <td>780.583376</td>\n",
       "      <td>697.418073</td>\n",
       "      <td>973.035151</td>\n",
       "      <td>950.97981</td>\n",
       "    </tr>\n",
       "    <tr>\n",
       "      <th>2</th>\n",
       "      <td>total_all_flags_only</td>\n",
       "      <td>865.391283</td>\n",
       "      <td>958.467458</td>\n",
       "      <td>850.094118</td>\n",
       "      <td>697.418073</td>\n",
       "      <td>973.035151</td>\n",
       "      <td>950.97981</td>\n",
       "    </tr>\n",
       "  </tbody>\n",
       "</table>\n",
       "</div>"
      ],
      "text/plain": [
       "               Features  LinearRegression_MAE  Tweedie05_MAE  \\\n",
       "5          all_features            694.319979     821.826107   \n",
       "4     not_summary_flags            768.309031     890.061139   \n",
       "1                  top4            733.964872     872.729805   \n",
       "6          raw_svi_only            776.969617     924.491852   \n",
       "0         rank_svi_only            775.678114     900.500732   \n",
       "3         summary_flags            830.585295     944.466544   \n",
       "2  total_all_flags_only            865.391283     958.467458   \n",
       "\n",
       "   PolynomialFeatures2_MAE  LassoLars_MAE  Base_mean_MAE  Base_median_MAE  \n",
       "5               416.712011     697.418073     973.035151        950.97981  \n",
       "4               523.157408     697.418073     973.035151        950.97981  \n",
       "1               715.532379     697.418073     973.035151        950.97981  \n",
       "6               767.016031     697.418073     973.035151        950.97981  \n",
       "0               772.144027     697.418073     973.035151        950.97981  \n",
       "3               780.583376     697.418073     973.035151        950.97981  \n",
       "2               850.094118     697.418073     973.035151        950.97981  "
      ]
     },
     "execution_count": 18,
     "metadata": {},
     "output_type": "execute_result"
    }
   ],
   "source": [
    "# create dataframe for results of all train models\n",
    "df_list = ['rank_svi_only', 'top4', 'total_all_flags_only', 'summary_flags', 'not_summary_flags', 'all_features', 'raw_svi_only']\n",
    "\n",
    "results = pd.DataFrame(df_list, columns=['Features'])\n",
    "results['LinearRegression_MAE'] = lm_MAE_list\n",
    "results['Tweedie05_MAE'] = tweedie05\n",
    "results['PolynomialFeatures2_MAE'] = pf2_MAE_list\n",
    "results['LassoLars_MAE'] = lars_MAE\n",
    "results['Base_mean_MAE'] = mean_baseMAE\n",
    "results['Base_median_MAE'] = median_baseMAE\n",
    "results.sort_values('PolynomialFeatures2_MAE')"
   ]
  },
  {
   "cell_type": "markdown",
   "metadata": {},
   "source": [
    "## Cross Validation Modeling\n",
    "\n",
    "- performed on top 4 models from initial modeling\n",
    "- normally would start with this step as it encompasses both Train and Validate stages\n",
    "    - LassoLars\n",
    "    - LR all feature\n",
    "    - PF2 all features\n",
    "    - PF2 top5"
   ]
  },
  {
   "cell_type": "code",
   "execution_count": 19,
   "metadata": {},
   "outputs": [],
   "source": [
    "from numpy import mean\n",
    "from numpy import std, absolute\n",
    "from sklearn.datasets import make_blobs\n",
    "from sklearn.model_selection import LeaveOneOut\n",
    "from sklearn.model_selection import cross_val_score\n",
    "from sklearn.ensemble import RandomForestClassifier\n",
    "from sklearn.metrics import mean_squared_error, r2_score, explained_variance_score, mean_absolute_error"
   ]
  },
  {
   "cell_type": "code",
   "execution_count": 20,
   "metadata": {},
   "outputs": [
    {
     "name": "stdout",
     "output_type": "stream",
     "text": [
      "MAE: 745.523 (707.596)\n"
     ]
    }
   ],
   "source": [
    "# LassoLars\n",
    "# create loocv procedure\n",
    "cvLL = LeaveOneOut()\n",
    "# create model\n",
    "modelLL = LassoLars(alpha=1)\n",
    "# evaluate model\n",
    "scoresLL = cross_val_score(modelLL, X_train_scaled, y_train, scoring='neg_mean_absolute_error', cv=cvLL, n_jobs=-1)\n",
    "# force positive\n",
    "scoresLL = absolute(scoresLL)\n",
    "# report performance\n",
    "print('MAE: %.3f (%.3f)' % (mean(scoresLL), std(scoresLL)))"
   ]
  },
  {
   "cell_type": "code",
   "execution_count": 21,
   "metadata": {},
   "outputs": [
    {
     "name": "stdout",
     "output_type": "stream",
     "text": [
      "MAE: 753.715 (722.317)\n"
     ]
    }
   ],
   "source": [
    "# Linear Regression - all features\n",
    "# create loocv procedure\n",
    "cvLR = LeaveOneOut()\n",
    "# create model\n",
    "modelLR = LinearRegression()\n",
    "# evaluate model\n",
    "scoresLR = cross_val_score(modelLR, X_train_scaled, y_train, scoring='neg_mean_absolute_error', cv=cvLR, n_jobs=-1)\n",
    "# force positive\n",
    "scoresLR = absolute(scoresLR)\n",
    "# report performance\n",
    "print('MAE: %.3f (%.3f)' % (mean(scoresLR), std(scoresLR)))"
   ]
  },
  {
   "cell_type": "code",
   "execution_count": 22,
   "metadata": {},
   "outputs": [
    {
     "name": "stdout",
     "output_type": "stream",
     "text": [
      "MAE: 644168580363410.125 (3241353656002645.500)\n"
     ]
    }
   ],
   "source": [
    "# Polynomial Features 2 degrees - all features\n",
    "# create loocv procedure\n",
    "cvPF1 = LeaveOneOut()\n",
    "\n",
    "# create PF object\n",
    "pf1 = PolynomialFeatures(degree=2)\n",
    "# Fit and Transform model to get a new set of features...which are the original features squared\n",
    "X_train_squared1 = pf1.fit_transform(X_train_scaled)\n",
    "\n",
    "# create model\n",
    "modelPF1 = LinearRegression(normalize=True)\n",
    "# evaluate model\n",
    "scoresPF1 = cross_val_score(modelPF1, X_train_squared1, y_train, scoring='neg_mean_absolute_error', cv=cvPF1, n_jobs=-1)\n",
    "# force positive\n",
    "scoresPF1 = absolute(scoresPF1)\n",
    "# report performance\n",
    "print('MAE: %.3f (%.3f)' % (mean(scoresPF1), std(scoresPF1)))"
   ]
  },
  {
   "cell_type": "code",
   "execution_count": 23,
   "metadata": {},
   "outputs": [
    {
     "name": "stdout",
     "output_type": "stream",
     "text": [
      "MAE: 763.343 (638.873)\n"
     ]
    }
   ],
   "source": [
    "# Polynomial Features 2 degrees - top 5\n",
    "# create loocv procedure\n",
    "cvPF2 = LeaveOneOut()\n",
    "\n",
    "# create PF object\n",
    "pf2 = PolynomialFeatures(degree=2)\n",
    "# Fit and Transform model to get a new set of features...which are the original features squared\n",
    "X_train_squared2 = pf2.fit_transform(X_top4)\n",
    "\n",
    "# create model\n",
    "modelPF2 = LinearRegression(normalize=True)\n",
    "# evaluate model\n",
    "scoresPF2 = cross_val_score(modelPF2, X_train_squared2, y_train, scoring='neg_mean_absolute_error', cv=cvPF2, n_jobs=-1)\n",
    "# force positive\n",
    "scoresPF2 = absolute(scoresPF2)\n",
    "# report performance\n",
    "print('MAE: %.3f (%.3f)' % (mean(scoresPF2), std(scoresPF2)))"
   ]
  },
  {
   "cell_type": "markdown",
   "metadata": {},
   "source": [
    "## Test Stage"
   ]
  },
  {
   "cell_type": "code",
   "execution_count": 24,
   "metadata": {},
   "outputs": [
    {
     "name": "stdout",
     "output_type": "stream",
     "text": [
      "MAE: 853.068\n"
     ]
    }
   ],
   "source": [
    "# fit model from cross validation to train dataset\n",
    "modelLL.fit(X_train_scaled, y_train)\n",
    "# use the trained dataset to predict on test\n",
    "lars_test_pred = modelLL.predict(X_test_scaled)\n",
    "# get the MAE of test\n",
    "lars_MAE = mean_absolute_error(y_test, lars_test_pred)\n",
    "print('MAE: %.3f' % lars_MAE)"
   ]
  },
  {
   "cell_type": "markdown",
   "metadata": {},
   "source": [
    "#### Report Metrics in Context\n",
    "How did the model perform on the key metrics you chose to demonstrate its usefulness? What counts as good or bad performance? How well do humans perform on this task? How well would you expect to do with random dice rolls? What are the costs associated with missed predictions?"
   ]
  },
  {
   "cell_type": "code",
   "execution_count": 25,
   "metadata": {},
   "outputs": [],
   "source": [
    "# 2-3 sentances about what LASSOLARS does (how it works)\n",
    "# If we can get a viz on lassolars visual coeficients (use placeholder).\n",
    "# Coef rankings (dataframe)\n",
    "# Text clarifying all the coeficents, simple definitions of what each flag means (add those def strings to dataframe)\n",
    "# Run the dallas data thru the same MVP process, and discover what the top 5 features are, and on they different than SAs?"
   ]
  },
  {
   "cell_type": "code",
   "execution_count": 26,
   "metadata": {},
   "outputs": [
    {
     "data": {
      "text/html": [
       "<div>\n",
       "<style scoped>\n",
       "    .dataframe tbody tr th:only-of-type {\n",
       "        vertical-align: middle;\n",
       "    }\n",
       "\n",
       "    .dataframe tbody tr th {\n",
       "        vertical-align: top;\n",
       "    }\n",
       "\n",
       "    .dataframe thead th {\n",
       "        text-align: right;\n",
       "    }\n",
       "</style>\n",
       "<table border=\"1\" class=\"dataframe\">\n",
       "  <thead>\n",
       "    <tr style=\"text-align: right;\">\n",
       "      <th></th>\n",
       "      <th>features</th>\n",
       "      <th>coefs</th>\n",
       "      <th>abs_coefs</th>\n",
       "    </tr>\n",
       "  </thead>\n",
       "  <tbody>\n",
       "    <tr>\n",
       "      <th>21</th>\n",
       "      <td>rank_svi_scaled</td>\n",
       "      <td>-1219.808155</td>\n",
       "      <td>1219.808155</td>\n",
       "    </tr>\n",
       "    <tr>\n",
       "      <th>9</th>\n",
       "      <td>f_minrty_status</td>\n",
       "      <td>771.683306</td>\n",
       "      <td>771.683306</td>\n",
       "    </tr>\n",
       "    <tr>\n",
       "      <th>2</th>\n",
       "      <td>f_unemp_soci</td>\n",
       "      <td>642.560628</td>\n",
       "      <td>642.560628</td>\n",
       "    </tr>\n",
       "    <tr>\n",
       "      <th>6</th>\n",
       "      <td>f_age17_comp</td>\n",
       "      <td>-600.677938</td>\n",
       "      <td>600.677938</td>\n",
       "    </tr>\n",
       "    <tr>\n",
       "      <th>15</th>\n",
       "      <td>f_groupq_trans</td>\n",
       "      <td>535.613870</td>\n",
       "      <td>535.613870</td>\n",
       "    </tr>\n",
       "    <tr>\n",
       "      <th>3</th>\n",
       "      <td>f_pci_soci</td>\n",
       "      <td>463.691305</td>\n",
       "      <td>463.691305</td>\n",
       "    </tr>\n",
       "    <tr>\n",
       "      <th>14</th>\n",
       "      <td>f_noveh_trans</td>\n",
       "      <td>-349.351340</td>\n",
       "      <td>349.351340</td>\n",
       "    </tr>\n",
       "    <tr>\n",
       "      <th>1</th>\n",
       "      <td>f_pov_soci</td>\n",
       "      <td>-266.441669</td>\n",
       "      <td>266.441669</td>\n",
       "    </tr>\n",
       "    <tr>\n",
       "      <th>5</th>\n",
       "      <td>f_age65_comp</td>\n",
       "      <td>-242.493153</td>\n",
       "      <td>242.493153</td>\n",
       "    </tr>\n",
       "    <tr>\n",
       "      <th>4</th>\n",
       "      <td>f_nohsdp_soci</td>\n",
       "      <td>219.578178</td>\n",
       "      <td>219.578178</td>\n",
       "    </tr>\n",
       "    <tr>\n",
       "      <th>7</th>\n",
       "      <td>f_disabl_comp</td>\n",
       "      <td>163.261302</td>\n",
       "      <td>163.261302</td>\n",
       "    </tr>\n",
       "    <tr>\n",
       "      <th>11</th>\n",
       "      <td>f_munit_trans</td>\n",
       "      <td>156.423956</td>\n",
       "      <td>156.423956</td>\n",
       "    </tr>\n",
       "    <tr>\n",
       "      <th>12</th>\n",
       "      <td>f_mobile_trans</td>\n",
       "      <td>-91.040335</td>\n",
       "      <td>91.040335</td>\n",
       "    </tr>\n",
       "    <tr>\n",
       "      <th>13</th>\n",
       "      <td>f_crowd_trans</td>\n",
       "      <td>0.000000</td>\n",
       "      <td>0.000000</td>\n",
       "    </tr>\n",
       "    <tr>\n",
       "      <th>10</th>\n",
       "      <td>f_limeng_status</td>\n",
       "      <td>0.000000</td>\n",
       "      <td>0.000000</td>\n",
       "    </tr>\n",
       "    <tr>\n",
       "      <th>8</th>\n",
       "      <td>f_sngpnt_comp</td>\n",
       "      <td>0.000000</td>\n",
       "      <td>0.000000</td>\n",
       "    </tr>\n",
       "    <tr>\n",
       "      <th>16</th>\n",
       "      <td>f_soci_total_scaled</td>\n",
       "      <td>0.000000</td>\n",
       "      <td>0.000000</td>\n",
       "    </tr>\n",
       "    <tr>\n",
       "      <th>17</th>\n",
       "      <td>f_comp_total_scaled</td>\n",
       "      <td>0.000000</td>\n",
       "      <td>0.000000</td>\n",
       "    </tr>\n",
       "    <tr>\n",
       "      <th>18</th>\n",
       "      <td>f_status_total_scaled</td>\n",
       "      <td>0.000000</td>\n",
       "      <td>0.000000</td>\n",
       "    </tr>\n",
       "    <tr>\n",
       "      <th>19</th>\n",
       "      <td>f_trans_total_scaled</td>\n",
       "      <td>0.000000</td>\n",
       "      <td>0.000000</td>\n",
       "    </tr>\n",
       "    <tr>\n",
       "      <th>20</th>\n",
       "      <td>all_flags_total_scaled</td>\n",
       "      <td>0.000000</td>\n",
       "      <td>0.000000</td>\n",
       "    </tr>\n",
       "    <tr>\n",
       "      <th>0</th>\n",
       "      <td>raw_svi</td>\n",
       "      <td>0.000000</td>\n",
       "      <td>0.000000</td>\n",
       "    </tr>\n",
       "  </tbody>\n",
       "</table>\n",
       "</div>"
      ],
      "text/plain": [
       "                  features        coefs    abs_coefs\n",
       "21         rank_svi_scaled -1219.808155  1219.808155\n",
       "9          f_minrty_status   771.683306   771.683306\n",
       "2             f_unemp_soci   642.560628   642.560628\n",
       "6             f_age17_comp  -600.677938   600.677938\n",
       "15          f_groupq_trans   535.613870   535.613870\n",
       "3               f_pci_soci   463.691305   463.691305\n",
       "14           f_noveh_trans  -349.351340   349.351340\n",
       "1               f_pov_soci  -266.441669   266.441669\n",
       "5             f_age65_comp  -242.493153   242.493153\n",
       "4            f_nohsdp_soci   219.578178   219.578178\n",
       "7            f_disabl_comp   163.261302   163.261302\n",
       "11           f_munit_trans   156.423956   156.423956\n",
       "12          f_mobile_trans   -91.040335    91.040335\n",
       "13           f_crowd_trans     0.000000     0.000000\n",
       "10         f_limeng_status     0.000000     0.000000\n",
       "8            f_sngpnt_comp     0.000000     0.000000\n",
       "16     f_soci_total_scaled     0.000000     0.000000\n",
       "17     f_comp_total_scaled     0.000000     0.000000\n",
       "18   f_status_total_scaled     0.000000     0.000000\n",
       "19    f_trans_total_scaled     0.000000     0.000000\n",
       "20  all_flags_total_scaled     0.000000     0.000000\n",
       "0                  raw_svi     0.000000     0.000000"
      ]
     },
     "execution_count": 26,
     "metadata": {},
     "output_type": "execute_result"
    }
   ],
   "source": [
    "# LASSOLARS Results table:\n",
    "# import pandas as pd\n",
    "\n",
    "ll_result = pd.DataFrame()\n",
    "x_train_columns = X_train_scaled.columns.tolist()\n",
    "ll_result['features'] = x_train_columns\n",
    "ll_result['coefs'] = modelLL.coef_\n",
    "ll_result['abs_coefs'] = abs(modelLL.coef_)\n",
    "ll_result.sort_values(by = 'abs_coefs', ascending = False)"
   ]
  },
  {
   "cell_type": "markdown",
   "metadata": {},
   "source": [
    "#### LASSO+LARS Results:"
   ]
  },
  {
   "cell_type": "code",
   "execution_count": 27,
   "metadata": {},
   "outputs": [
    {
     "data": {
      "text/plain": [
       "rank_svi_scaled          -1219.808155\n",
       "f_age17_comp              -600.677938\n",
       "f_noveh_trans             -349.351340\n",
       "f_pov_soci                -266.441669\n",
       "f_age65_comp              -242.493153\n",
       "f_mobile_trans             -91.040335\n",
       "f_trans_total_scaled         0.000000\n",
       "f_status_total_scaled        0.000000\n",
       "f_comp_total_scaled          0.000000\n",
       "f_soci_total_scaled          0.000000\n",
       "f_crowd_trans                0.000000\n",
       "raw_svi                      0.000000\n",
       "all_flags_total_scaled       0.000000\n",
       "f_sngpnt_comp                0.000000\n",
       "f_limeng_status              0.000000\n",
       "f_munit_trans              156.423956\n",
       "f_disabl_comp              163.261302\n",
       "f_nohsdp_soci              219.578178\n",
       "f_pci_soci                 463.691305\n",
       "f_groupq_trans             535.613870\n",
       "f_unemp_soci               642.560628\n",
       "f_minrty_status            771.683306\n",
       "dtype: float64"
      ]
     },
     "execution_count": 27,
     "metadata": {},
     "output_type": "execute_result"
    }
   ],
   "source": [
    "# Table of top features:\n",
    "\n",
    "ll_results_tbl = pd.Series(dict(zip(X_train_scaled.columns, modelLL.coef_.ravel()))).sort_values()\n",
    "ll_results_tbl"
   ]
  },
  {
   "cell_type": "code",
   "execution_count": 29,
   "metadata": {},
   "outputs": [
    {
     "data": {
      "text/plain": [
       "(-1.6051837159435585, -0.0)"
      ]
     },
     "execution_count": 29,
     "metadata": {},
     "output_type": "execute_result"
    },
    {
     "data": {
      "image/png": "[encoded data removed]",
      "text/plain": [
       "<Figure size 432x288 with 1 Axes>"
      ]
     },
     "metadata": {
      "needs_background": "light"
     },
     "output_type": "display_data"
    }
   ],
   "source": [
    "# import matplotlib.pyplot as plt\n",
    "# import numpy as np\n",
    "# %matplotlib inline\n",
    "\n",
    "ax = plt.gca()\n",
    "\n",
    "m_log_alphas = -np.log10(modelLL.alphas_) # alpha contains the values of alpha through the model selection process.\n",
    "plt.plot(m_log_alphas, modelLL.coef_path_.T) # change in regression coefficient\n",
    "np.shape(modelLL.coef_path_), np.shape(m_log_alphas)\n",
    "\n",
    "# plt.axvline(-np.log10(modelLL.alphas_), linestyle='--', color='k',\n",
    "#             label='alpha CV')\n",
    "\n",
    "plt.ylabel('Regression Coefficients')\n",
    "plt.xlabel('-log(alpha)')\n",
    "plt.title('Regression Coefficients Progression for Lasso Paths')\n",
    "# Add legend\n",
    "\n",
    "ax.set_xlim(m_log_alphas.min(), m_log_alphas.max())"
   ]
  },
  {
   "cell_type": "markdown",
   "metadata": {},
   "source": [
    "#### Strengths and Weaknesses\n",
    "\n",
    "Once you've gone through your iteration cycles and are finished with this version of the model, or this particular project, provide an assessment of what types of observations are handled well by your model, and what circumstances seem to give it trouble. This will point you and others towards more questions for future projects."
   ]
  },
  {
   "cell_type": "code",
   "execution_count": null,
   "metadata": {},
   "outputs": [],
   "source": []
  },
  {
   "cell_type": "markdown",
   "metadata": {},
   "source": [
    "#### Inspect Errors\n",
    "\n",
    "Look at some of the observations with missed predictions. (Do this in your validation set, never look at individual records in your test set!) Are there common patterns among the observations with bad results? Do you have data that you can include in your model that will capture these patterns or is this a task that will need another research project to solve?\n",
    "\n",
    "This is your last step in the iteration cycle; if you can't find anything else you can work on here with your present data, project scope, and deadlines, then it's time to wrap things up."
   ]
  },
  {
   "cell_type": "code",
   "execution_count": null,
   "metadata": {},
   "outputs": [],
   "source": []
  },
  {
   "cell_type": "markdown",
   "metadata": {},
   "source": [
    "# Next Steps: What Can We Do Now?\n",
    "\n",
    "Reporting a model's results is good, and is the main objective of any data science project. But a project is one thing, a career is another. A question is one thing, but science is another. If you've carried out your research with a mindset of curiosity and creativity, then by now you should have plenty more, and much better informed, questions about this topic than what you started with.\n",
    "\n",
    "So in addition to reporting on the question you investigated and the answers you found, think of the needs of your team, your users, and your peers in the industry, and make some recommendations that answer these two questions:\n",
    "\n",
    "What are some unanswered questions in my project where more information (additional data sources, deeper understanding, other models or tools) might help improve these results?\n",
    "What are other needs or problems where my model or my approach may be useful?"
   ]
  },
  {
   "cell_type": "markdown",
   "metadata": {},
   "source": [
    " ## additional models to try\n",
    "- random forest regressor\n",
    "- decission tree regressor\n",
    "- support vector regressor\n",
    "- multiple linear regressor\n",
    "\n",
    "https://github.com/CSolitaire/machine-learning-course/tree/master/Machine%20Learning%20Toolkit/Regression%20Templates"
   ]
  },
  {
   "cell_type": "markdown",
   "metadata": {},
   "source": [
    "## Is San Antonio different from other cities?\n",
    "\n",
    "- Dallas?\n",
    "- Pittsburgh?\n",
    "- Phoenix?\n",
    "- ??\n",
    "- ??"
   ]
  },
  {
   "cell_type": "markdown",
   "metadata": {},
   "source": [
    "## Feature Engineering\n",
    "\n",
    "- SVI trend for the county\n",
    "    - is rising? is declining? \n",
    "    - delta of SVI change year over year?\n",
    "    - std dev of SVI?\n"
   ]
  },
  {
   "cell_type": "code",
   "execution_count": null,
   "metadata": {},
   "outputs": [],
   "source": []
  }
 ],
 "metadata": {
  "kernelspec": {
   "display_name": "Python 3",
   "language": "python",
   "name": "python3"
  },
  "language_info": {
   "codemirror_mode": {
    "name": "ipython",
    "version": 3
   },
   "file_extension": ".py",
   "mimetype": "text/x-python",
   "name": "python",
   "nbconvert_exporter": "python",
   "pygments_lexer": "ipython3",
   "version": "3.7.9"
  },
  "toc": {
   "base_numbering": 1,
   "nav_menu": {},
   "number_sections": true,
   "sideBar": true,
   "skip_h1_title": false,
   "title_cell": "Table of Contents",
   "title_sidebar": "Contents",
   "toc_cell": false,
   "toc_position": {},
   "toc_section_display": true,
   "toc_window_display": false
  }
 },
 "nbformat": 4,
 "nbformat_minor": 4
}
