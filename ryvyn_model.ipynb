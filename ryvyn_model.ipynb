{
 "cells": [
  {
   "cell_type": "code",
   "execution_count": 1,
   "metadata": {},
   "outputs": [],
   "source": [
    "import pandas as pd\n",
    "import wrangle\n",
    "import model\n",
    "\n",
    "from sklearn.metrics import mean_squared_error\n",
    "from sklearn.linear_model import LinearRegression\n",
    "from statsmodels.formula.api import ols\n",
    "from sklearn.metrics import mean_squared_error, r2_score, explained_variance_score\n",
    "from sklearn.feature_selection import f_regression, SelectKBest, RFE \n",
    "from sklearn.linear_model import LinearRegression, LassoLars, TweedieRegressor\n",
    "from sklearn.preprocessing import PolynomialFeatures\n",
    "from math import sqrt\n",
    "from scipy import stats"
   ]
  },
  {
   "cell_type": "code",
   "execution_count": 2,
   "metadata": {},
   "outputs": [
    {
     "name": "stdout",
     "output_type": "stream",
     "text": [
      "Acquire: compiling raw data files...\n",
      "Acquire: Completed!\n",
      "Prepare: preparing data files...\n",
      "Prepare: Completed!\n",
      "(289, 25) (73, 25)\n"
     ]
    }
   ],
   "source": [
    "df, train_exp, X_train_scaled, y_train, X_test_scaled, y_test = wrangle.wrangle_data()"
   ]
  },
  {
   "cell_type": "markdown",
   "metadata": {},
   "source": [
    "# Create Baseline"
   ]
  },
  {
   "cell_type": "code",
   "execution_count": 3,
   "metadata": {},
   "outputs": [
    {
     "data": {
      "text/plain": [
       "(3221.15743847494, 2911.864043317428)"
      ]
     },
     "execution_count": 3,
     "metadata": {},
     "output_type": "execute_result"
    }
   ],
   "source": [
    "y_train.tract_cases_per_100k.mean(), y_train.tract_cases_per_100k.median()"
   ]
  },
  {
   "cell_type": "code",
   "execution_count": 15,
   "metadata": {},
   "outputs": [
    {
     "name": "stdout",
     "output_type": "stream",
     "text": [
      "Baseline RMSE: 1286.801141497012\n"
     ]
    }
   ],
   "source": [
    "# using mean\n",
    "mean_baseRMSE, basepred = model.get_baseline_mean(y_train)"
   ]
  },
  {
   "cell_type": "code",
   "execution_count": 16,
   "metadata": {},
   "outputs": [
    {
     "name": "stdout",
     "output_type": "stream",
     "text": [
      "Baseline RMSE: 1323.4498789323586\n"
     ]
    }
   ],
   "source": [
    "# using median\n",
    "median_baseRMSE, basepred = model.get_baseline_median(y_train)"
   ]
  },
  {
   "cell_type": "markdown",
   "metadata": {},
   "source": [
    "# Feature Ranking"
   ]
  },
  {
   "cell_type": "code",
   "execution_count": 6,
   "metadata": {},
   "outputs": [
    {
     "data": {
      "text/html": [
       "<div>\n",
       "<style scoped>\n",
       "    .dataframe tbody tr th:only-of-type {\n",
       "        vertical-align: middle;\n",
       "    }\n",
       "\n",
       "    .dataframe tbody tr th {\n",
       "        vertical-align: top;\n",
       "    }\n",
       "\n",
       "    .dataframe thead th {\n",
       "        text-align: right;\n",
       "    }\n",
       "</style>\n",
       "<table border=\"1\" class=\"dataframe\">\n",
       "  <thead>\n",
       "    <tr style=\"text-align: right;\">\n",
       "      <th></th>\n",
       "      <th>features</th>\n",
       "    </tr>\n",
       "    <tr>\n",
       "      <th>rank</th>\n",
       "      <th></th>\n",
       "    </tr>\n",
       "  </thead>\n",
       "  <tbody>\n",
       "    <tr>\n",
       "      <th>1</th>\n",
       "      <td>rank_svi_scaled</td>\n",
       "    </tr>\n",
       "    <tr>\n",
       "      <th>2</th>\n",
       "      <td>f_nohsdp_soci</td>\n",
       "    </tr>\n",
       "    <tr>\n",
       "      <th>3</th>\n",
       "      <td>f_minrty_status</td>\n",
       "    </tr>\n",
       "    <tr>\n",
       "      <th>4</th>\n",
       "      <td>f_groupq_trans</td>\n",
       "    </tr>\n",
       "    <tr>\n",
       "      <th>5</th>\n",
       "      <td>f_comp_total_scaled</td>\n",
       "    </tr>\n",
       "    <tr>\n",
       "      <th>6</th>\n",
       "      <td>f_unemp_soci</td>\n",
       "    </tr>\n",
       "    <tr>\n",
       "      <th>7</th>\n",
       "      <td>f_disabl_comp</td>\n",
       "    </tr>\n",
       "    <tr>\n",
       "      <th>8</th>\n",
       "      <td>f_noveh_trans</td>\n",
       "    </tr>\n",
       "    <tr>\n",
       "      <th>9</th>\n",
       "      <td>f_mobile_trans</td>\n",
       "    </tr>\n",
       "    <tr>\n",
       "      <th>10</th>\n",
       "      <td>f_age65_comp</td>\n",
       "    </tr>\n",
       "    <tr>\n",
       "      <th>11</th>\n",
       "      <td>f_age17_comp</td>\n",
       "    </tr>\n",
       "    <tr>\n",
       "      <th>12</th>\n",
       "      <td>f_soci_total_scaled</td>\n",
       "    </tr>\n",
       "    <tr>\n",
       "      <th>13</th>\n",
       "      <td>f_pov_soci</td>\n",
       "    </tr>\n",
       "    <tr>\n",
       "      <th>14</th>\n",
       "      <td>raw_svi</td>\n",
       "    </tr>\n",
       "    <tr>\n",
       "      <th>15</th>\n",
       "      <td>f_status_total_scaled</td>\n",
       "    </tr>\n",
       "    <tr>\n",
       "      <th>16</th>\n",
       "      <td>f_limeng_status</td>\n",
       "    </tr>\n",
       "    <tr>\n",
       "      <th>17</th>\n",
       "      <td>f_crowd_trans</td>\n",
       "    </tr>\n",
       "    <tr>\n",
       "      <th>18</th>\n",
       "      <td>f_pci_soci</td>\n",
       "    </tr>\n",
       "    <tr>\n",
       "      <th>19</th>\n",
       "      <td>all_flags_total_scaled</td>\n",
       "    </tr>\n",
       "    <tr>\n",
       "      <th>20</th>\n",
       "      <td>f_sngpnt_comp</td>\n",
       "    </tr>\n",
       "    <tr>\n",
       "      <th>21</th>\n",
       "      <td>f_trans_total_scaled</td>\n",
       "    </tr>\n",
       "    <tr>\n",
       "      <th>22</th>\n",
       "      <td>f_munit_trans</td>\n",
       "    </tr>\n",
       "  </tbody>\n",
       "</table>\n",
       "</div>"
      ],
      "text/plain": [
       "                    features\n",
       "rank                        \n",
       "1            rank_svi_scaled\n",
       "2              f_nohsdp_soci\n",
       "3            f_minrty_status\n",
       "4             f_groupq_trans\n",
       "5        f_comp_total_scaled\n",
       "6               f_unemp_soci\n",
       "7              f_disabl_comp\n",
       "8              f_noveh_trans\n",
       "9             f_mobile_trans\n",
       "10              f_age65_comp\n",
       "11              f_age17_comp\n",
       "12       f_soci_total_scaled\n",
       "13                f_pov_soci\n",
       "14                   raw_svi\n",
       "15     f_status_total_scaled\n",
       "16           f_limeng_status\n",
       "17             f_crowd_trans\n",
       "18                f_pci_soci\n",
       "19    all_flags_total_scaled\n",
       "20             f_sngpnt_comp\n",
       "21      f_trans_total_scaled\n",
       "22             f_munit_trans"
      ]
     },
     "execution_count": 6,
     "metadata": {},
     "output_type": "execute_result"
    }
   ],
   "source": [
    "# possible feature ranking?\n",
    "rankdf = model.feature_ranking(X_train_scaled, y_train)\n",
    "rankdf"
   ]
  },
  {
   "cell_type": "markdown",
   "metadata": {},
   "source": [
    "# Create X_train_scaled df with selected features to test"
   ]
  },
  {
   "cell_type": "markdown",
   "metadata": {},
   "source": [
    "## Feature groups to use for OLS, PF, and Tweedie models"
   ]
  },
  {
   "cell_type": "code",
   "execution_count": 7,
   "metadata": {},
   "outputs": [],
   "source": [
    "# binned svi score by CDC range category = 1st ranked\n",
    "X_rank_svi_only = X_train_scaled[['rank_svi_scaled']]\n",
    "# top 4 ranked features\n",
    "X_top5 = X_train_scaled[['rank_svi_scaled', 'f_nohsdp_soci', 'f_minrty_status', 'f_groupq_trans']]\n",
    "# only the summary of the flags = 19th ranked\n",
    "X_all_flags_only = X_train_scaled[['all_flags_total_scaled']]\n",
    "# only summary flags, should be the same as all flags total? = 5th, 12th, 15th, 21st\n",
    "X_summary_flags = X_train_scaled[['f_comp_total_scaled', 'f_soci_total_scaled', 'f_status_total_scaled', 'f_trans_total_scaled']]\n",
    "# all individual flags\n",
    "X_not_summary_flags = X_train_scaled[['f_nohsdp_soci', 'f_minrty_status', 'f_groupq_trans', 'f_unemp_soci', \n",
    "                                     'f_disabl_comp', 'f_noveh_trans', 'f_mobile_trans', 'f_age65_comp', \n",
    "                                     'f_age17_comp', 'f_pov_soci', 'f_limeng_status', 'f_crowd_trans', \n",
    "                                      'f_pci_soci', 'f_sngpnt_comp', 'f_munit_trans']]"
   ]
  },
  {
   "cell_type": "markdown",
   "metadata": {},
   "source": [
    "## LassoLars\n",
    "- includes feature selection as part of model so will use all features on this model"
   ]
  },
  {
   "cell_type": "markdown",
   "metadata": {},
   "source": [
    "## Run all features on other models as well? -- RETURN HERE"
   ]
  },
  {
   "cell_type": "markdown",
   "metadata": {},
   "source": [
    "## Drilling in features to test\n",
    "\n",
    "- what is the score using only 1 summary flag at a time?\n",
    "    - if one summary group is better might be worth investigating for which features within group have greatest impact?"
   ]
  },
  {
   "cell_type": "code",
   "execution_count": null,
   "metadata": {},
   "outputs": [],
   "source": []
  },
  {
   "cell_type": "markdown",
   "metadata": {},
   "source": [
    "# Run df through regression algorithms"
   ]
  },
  {
   "cell_type": "code",
   "execution_count": 8,
   "metadata": {},
   "outputs": [],
   "source": [
    "# create variables for loop\n",
    "df2test = [X_rank_svi_only, X_top5, X_all_flags_only, X_summary_flags, X_not_summary_flags, X_train_scaled]\n",
    "target = y_train\n",
    "\n",
    "# Linear Regression Models\n",
    "lm_RMSE_list = []\n",
    "for df in df2test:\n",
    "    lm_RMSE = model.linear_reg_train(df, target)\n",
    "    lm_RMSE_list.append(lm_RMSE)\n",
    "\n",
    "# Polynomial Features 2 degree\n",
    "pf2_RMSE_list = []\n",
    "for df in df2test:\n",
    "    pf2_RMSE = model.polynomial2(df, target)\n",
    "    pf2_RMSE_list.append(pf2_RMSE)\n",
    "\n",
    "# Tweedie power=0, alpha=.5\n",
    "tweedie05 = []\n",
    "for df in df2test:\n",
    "    tw_RMSE = model.tweedie05(df, target)\n",
    "    tweedie05.append(tw_RMSE)\n",
    "\n",
    "# adjusted the hyperparameter of alpha from .1 to 1 with worse result\n",
    "# adjusted again to alpha = .001 for these better results"
   ]
  },
  {
   "cell_type": "code",
   "execution_count": 9,
   "metadata": {},
   "outputs": [],
   "source": [
    "# LassoLars Models\n",
    "lars_RMSE = model.lasso_lars(X_train_scaled, target)"
   ]
  },
  {
   "cell_type": "code",
   "execution_count": null,
   "metadata": {},
   "outputs": [],
   "source": []
  },
  {
   "cell_type": "markdown",
   "metadata": {},
   "source": [
    "# Summarize in results df"
   ]
  },
  {
   "cell_type": "code",
   "execution_count": 18,
   "metadata": {},
   "outputs": [
    {
     "data": {
      "text/html": [
       "<div>\n",
       "<style scoped>\n",
       "    .dataframe tbody tr th:only-of-type {\n",
       "        vertical-align: middle;\n",
       "    }\n",
       "\n",
       "    .dataframe tbody tr th {\n",
       "        vertical-align: top;\n",
       "    }\n",
       "\n",
       "    .dataframe thead th {\n",
       "        text-align: right;\n",
       "    }\n",
       "</style>\n",
       "<table border=\"1\" class=\"dataframe\">\n",
       "  <thead>\n",
       "    <tr style=\"text-align: right;\">\n",
       "      <th></th>\n",
       "      <th>Features</th>\n",
       "      <th>LinearRegression_RMSE</th>\n",
       "      <th>Tweedie05_RMSE</th>\n",
       "      <th>PolynomialFeatures2_RMSE</th>\n",
       "      <th>LassoLars_RMSE</th>\n",
       "      <th>Base_mean_RMSE</th>\n",
       "      <th>Base_median_RMSE</th>\n",
       "    </tr>\n",
       "  </thead>\n",
       "  <tbody>\n",
       "    <tr>\n",
       "      <th>5</th>\n",
       "      <td>all_features</td>\n",
       "      <td>966.672482</td>\n",
       "      <td>1101.718371</td>\n",
       "      <td>659.460849</td>\n",
       "      <td>969.625809</td>\n",
       "      <td>1286.801141</td>\n",
       "      <td>1323.449879</td>\n",
       "    </tr>\n",
       "    <tr>\n",
       "      <th>4</th>\n",
       "      <td>not_summary_flags</td>\n",
       "      <td>1046.886544</td>\n",
       "      <td>1170.546282</td>\n",
       "      <td>782.878320</td>\n",
       "      <td>969.625809</td>\n",
       "      <td>1286.801141</td>\n",
       "      <td>1323.449879</td>\n",
       "    </tr>\n",
       "    <tr>\n",
       "      <th>1</th>\n",
       "      <td>top5</td>\n",
       "      <td>1013.311000</td>\n",
       "      <td>1157.782046</td>\n",
       "      <td>940.957308</td>\n",
       "      <td>969.625809</td>\n",
       "      <td>1286.801141</td>\n",
       "      <td>1323.449879</td>\n",
       "    </tr>\n",
       "    <tr>\n",
       "      <th>3</th>\n",
       "      <td>summary_flags</td>\n",
       "      <td>1121.696402</td>\n",
       "      <td>1246.761135</td>\n",
       "      <td>1054.411214</td>\n",
       "      <td>969.625809</td>\n",
       "      <td>1286.801141</td>\n",
       "      <td>1323.449879</td>\n",
       "    </tr>\n",
       "    <tr>\n",
       "      <th>0</th>\n",
       "      <td>rank_svi_only</td>\n",
       "      <td>1079.110092</td>\n",
       "      <td>1205.668551</td>\n",
       "      <td>1066.971168</td>\n",
       "      <td>969.625809</td>\n",
       "      <td>1286.801141</td>\n",
       "      <td>1323.449879</td>\n",
       "    </tr>\n",
       "    <tr>\n",
       "      <th>2</th>\n",
       "      <td>total_all_flags_only</td>\n",
       "      <td>1162.133618</td>\n",
       "      <td>1267.462807</td>\n",
       "      <td>1146.589076</td>\n",
       "      <td>969.625809</td>\n",
       "      <td>1286.801141</td>\n",
       "      <td>1323.449879</td>\n",
       "    </tr>\n",
       "  </tbody>\n",
       "</table>\n",
       "</div>"
      ],
      "text/plain": [
       "               Features  LinearRegression_RMSE  Tweedie05_RMSE  \\\n",
       "5          all_features             966.672482     1101.718371   \n",
       "4     not_summary_flags            1046.886544     1170.546282   \n",
       "1                  top5            1013.311000     1157.782046   \n",
       "3         summary_flags            1121.696402     1246.761135   \n",
       "0         rank_svi_only            1079.110092     1205.668551   \n",
       "2  total_all_flags_only            1162.133618     1267.462807   \n",
       "\n",
       "   PolynomialFeatures2_RMSE  LassoLars_RMSE  Base_mean_RMSE  Base_median_RMSE  \n",
       "5                659.460849      969.625809     1286.801141       1323.449879  \n",
       "4                782.878320      969.625809     1286.801141       1323.449879  \n",
       "1                940.957308      969.625809     1286.801141       1323.449879  \n",
       "3               1054.411214      969.625809     1286.801141       1323.449879  \n",
       "0               1066.971168      969.625809     1286.801141       1323.449879  \n",
       "2               1146.589076      969.625809     1286.801141       1323.449879  "
      ]
     },
     "execution_count": 18,
     "metadata": {},
     "output_type": "execute_result"
    }
   ],
   "source": [
    "# create dataframe for results of all train models\n",
    "df_list = ['rank_svi_only', 'top5', 'total_all_flags_only', 'summary_flags', 'not_summary_flags', 'all_features']\n",
    "\n",
    "results = pd.DataFrame(df_list, columns=['Features'])\n",
    "results['LinearRegression_RMSE'] = lm_RMSE_list\n",
    "results['Tweedie05_RMSE'] = tweedie05\n",
    "results['PolynomialFeatures2_RMSE'] = pf2_RMSE_list\n",
    "results['LassoLars_RMSE'] = lars_RMSE\n",
    "results['Base_mean_RMSE'] = mean_baseRMSE\n",
    "results['Base_median_RMSE'] = median_baseRMSE\n",
    "results.sort_values('PolynomialFeatures2_RMSE')"
   ]
  },
  {
   "cell_type": "code",
   "execution_count": null,
   "metadata": {},
   "outputs": [],
   "source": []
  },
  {
   "cell_type": "code",
   "execution_count": null,
   "metadata": {},
   "outputs": [],
   "source": []
  },
  {
   "cell_type": "code",
   "execution_count": null,
   "metadata": {},
   "outputs": [],
   "source": []
  }
 ],
 "metadata": {
  "kernelspec": {
   "display_name": "Python 3",
   "language": "python",
   "name": "python3"
  },
  "language_info": {
   "codemirror_mode": {
    "name": "ipython",
    "version": 3
   },
   "file_extension": ".py",
   "mimetype": "text/x-python",
   "name": "python",
   "nbconvert_exporter": "python",
   "pygments_lexer": "ipython3",
   "version": "3.7.9"
  },
  "toc": {
   "base_numbering": 1,
   "nav_menu": {},
   "number_sections": true,
   "sideBar": true,
   "skip_h1_title": false,
   "title_cell": "Table of Contents",
   "title_sidebar": "Contents",
   "toc_cell": false,
   "toc_position": {},
   "toc_section_display": true,
   "toc_window_display": false
  }
 },
 "nbformat": 4,
 "nbformat_minor": 4
}
