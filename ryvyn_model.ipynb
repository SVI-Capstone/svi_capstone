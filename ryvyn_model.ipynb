{
 "cells": [
  {
   "cell_type": "code",
   "execution_count": 25,
   "metadata": {},
   "outputs": [],
   "source": [
    "import pandas as pd\n",
    "import wrangle\n",
    "import model\n",
    "import model_MAE\n",
    "\n",
    "from sklearn.metrics import mean_squared_error\n",
    "from sklearn.linear_model import LinearRegression\n",
    "from statsmodels.formula.api import ols\n",
    "from sklearn.metrics import mean_squared_error, r2_score, explained_variance_score\n",
    "from sklearn.feature_selection import f_regression, SelectKBest, RFE \n",
    "from sklearn.linear_model import LinearRegression, LassoLars, TweedieRegressor\n",
    "from sklearn.preprocessing import PolynomialFeatures\n",
    "from math import sqrt\n",
    "from scipy import stats"
   ]
  },
  {
   "cell_type": "code",
   "execution_count": 26,
   "metadata": {},
   "outputs": [
    {
     "name": "stdout",
     "output_type": "stream",
     "text": [
      "Acquire: compiling raw data files...\n",
      "Acquire: Completed!\n",
      "Prepare: preparing data files...\n",
      "Prepare: Completed!\n",
      "(289, 25) (73, 25)\n"
     ]
    }
   ],
   "source": [
    "df, train_exp, X_train_scaled, y_train, X_test_scaled, y_test = wrangle.wrangle_data()"
   ]
  },
  {
   "cell_type": "code",
   "execution_count": 27,
   "metadata": {},
   "outputs": [
    {
     "data": {
      "text/plain": [
       "Index(['raw_svi', 'f_pov_soci', 'f_unemp_soci', 'f_pci_soci', 'f_nohsdp_soci',\n",
       "       'f_age65_comp', 'f_age17_comp', 'f_disabl_comp', 'f_sngpnt_comp',\n",
       "       'f_minrty_status', 'f_limeng_status', 'f_munit_trans', 'f_mobile_trans',\n",
       "       'f_crowd_trans', 'f_noveh_trans', 'f_groupq_trans',\n",
       "       'f_soci_total_scaled', 'f_comp_total_scaled', 'f_status_total_scaled',\n",
       "       'f_trans_total_scaled', 'all_flags_total_scaled', 'rank_svi_scaled'],\n",
       "      dtype='object')"
      ]
     },
     "execution_count": 27,
     "metadata": {},
     "output_type": "execute_result"
    }
   ],
   "source": [
    "X_train_scaled.columns"
   ]
  },
  {
   "cell_type": "markdown",
   "metadata": {},
   "source": [
    "# Create Baseline"
   ]
  },
  {
   "cell_type": "code",
   "execution_count": 28,
   "metadata": {},
   "outputs": [
    {
     "data": {
      "text/plain": [
       "(3221.15743847494, 2911.864043317428)"
      ]
     },
     "execution_count": 28,
     "metadata": {},
     "output_type": "execute_result"
    }
   ],
   "source": [
    "y_train.tract_cases_per_100k.mean(), y_train.tract_cases_per_100k.median()"
   ]
  },
  {
   "cell_type": "code",
   "execution_count": 29,
   "metadata": {},
   "outputs": [
    {
     "name": "stdout",
     "output_type": "stream",
     "text": [
      "Baseline MAE: 991.6409213845292\n"
     ]
    }
   ],
   "source": [
    "# MAE\n",
    "mean_baseMAE, basepred1 = model_MAE.get_baseline_mean(y_train)"
   ]
  },
  {
   "cell_type": "code",
   "execution_count": 30,
   "metadata": {},
   "outputs": [
    {
     "name": "stdout",
     "output_type": "stream",
     "text": [
      "Baseline RMSE: 1286.801141497012\n"
     ]
    }
   ],
   "source": [
    "# using mean\n",
    "mean_baseRMSE, basepred = model.get_baseline_mean(y_train)"
   ]
  },
  {
   "cell_type": "code",
   "execution_count": 31,
   "metadata": {},
   "outputs": [
    {
     "name": "stdout",
     "output_type": "stream",
     "text": [
      "Baseline MAE: 972.441941022456\n"
     ]
    }
   ],
   "source": [
    "# using median\n",
    "median_baseMAE, basepred2 = model_MAE.get_baseline_median(y_train)"
   ]
  },
  {
   "cell_type": "code",
   "execution_count": 32,
   "metadata": {},
   "outputs": [
    {
     "name": "stdout",
     "output_type": "stream",
     "text": [
      "Baseline RMSE: 1323.4498789323586\n"
     ]
    }
   ],
   "source": [
    "# using median\n",
    "median_baseRMSE, basepred = model.get_baseline_median(y_train)"
   ]
  },
  {
   "cell_type": "markdown",
   "metadata": {},
   "source": [
    "# Feature Ranking"
   ]
  },
  {
   "cell_type": "code",
   "execution_count": 33,
   "metadata": {},
   "outputs": [
    {
     "data": {
      "text/html": [
       "<div>\n",
       "<style scoped>\n",
       "    .dataframe tbody tr th:only-of-type {\n",
       "        vertical-align: middle;\n",
       "    }\n",
       "\n",
       "    .dataframe tbody tr th {\n",
       "        vertical-align: top;\n",
       "    }\n",
       "\n",
       "    .dataframe thead th {\n",
       "        text-align: right;\n",
       "    }\n",
       "</style>\n",
       "<table border=\"1\" class=\"dataframe\">\n",
       "  <thead>\n",
       "    <tr style=\"text-align: right;\">\n",
       "      <th></th>\n",
       "      <th>features</th>\n",
       "    </tr>\n",
       "    <tr>\n",
       "      <th>rank</th>\n",
       "      <th></th>\n",
       "    </tr>\n",
       "  </thead>\n",
       "  <tbody>\n",
       "    <tr>\n",
       "      <th>1</th>\n",
       "      <td>rank_svi_scaled</td>\n",
       "    </tr>\n",
       "    <tr>\n",
       "      <th>2</th>\n",
       "      <td>f_nohsdp_soci</td>\n",
       "    </tr>\n",
       "    <tr>\n",
       "      <th>3</th>\n",
       "      <td>f_minrty_status</td>\n",
       "    </tr>\n",
       "    <tr>\n",
       "      <th>4</th>\n",
       "      <td>f_groupq_trans</td>\n",
       "    </tr>\n",
       "    <tr>\n",
       "      <th>5</th>\n",
       "      <td>f_comp_total_scaled</td>\n",
       "    </tr>\n",
       "    <tr>\n",
       "      <th>6</th>\n",
       "      <td>f_unemp_soci</td>\n",
       "    </tr>\n",
       "    <tr>\n",
       "      <th>7</th>\n",
       "      <td>f_disabl_comp</td>\n",
       "    </tr>\n",
       "    <tr>\n",
       "      <th>8</th>\n",
       "      <td>f_noveh_trans</td>\n",
       "    </tr>\n",
       "    <tr>\n",
       "      <th>9</th>\n",
       "      <td>f_mobile_trans</td>\n",
       "    </tr>\n",
       "    <tr>\n",
       "      <th>10</th>\n",
       "      <td>f_age65_comp</td>\n",
       "    </tr>\n",
       "    <tr>\n",
       "      <th>11</th>\n",
       "      <td>f_age17_comp</td>\n",
       "    </tr>\n",
       "    <tr>\n",
       "      <th>12</th>\n",
       "      <td>f_soci_total_scaled</td>\n",
       "    </tr>\n",
       "    <tr>\n",
       "      <th>13</th>\n",
       "      <td>f_pov_soci</td>\n",
       "    </tr>\n",
       "    <tr>\n",
       "      <th>14</th>\n",
       "      <td>raw_svi</td>\n",
       "    </tr>\n",
       "    <tr>\n",
       "      <th>15</th>\n",
       "      <td>f_status_total_scaled</td>\n",
       "    </tr>\n",
       "    <tr>\n",
       "      <th>16</th>\n",
       "      <td>f_limeng_status</td>\n",
       "    </tr>\n",
       "    <tr>\n",
       "      <th>17</th>\n",
       "      <td>f_crowd_trans</td>\n",
       "    </tr>\n",
       "    <tr>\n",
       "      <th>18</th>\n",
       "      <td>f_pci_soci</td>\n",
       "    </tr>\n",
       "    <tr>\n",
       "      <th>19</th>\n",
       "      <td>all_flags_total_scaled</td>\n",
       "    </tr>\n",
       "    <tr>\n",
       "      <th>20</th>\n",
       "      <td>f_sngpnt_comp</td>\n",
       "    </tr>\n",
       "    <tr>\n",
       "      <th>21</th>\n",
       "      <td>f_trans_total_scaled</td>\n",
       "    </tr>\n",
       "    <tr>\n",
       "      <th>22</th>\n",
       "      <td>f_munit_trans</td>\n",
       "    </tr>\n",
       "  </tbody>\n",
       "</table>\n",
       "</div>"
      ],
      "text/plain": [
       "                    features\n",
       "rank                        \n",
       "1            rank_svi_scaled\n",
       "2              f_nohsdp_soci\n",
       "3            f_minrty_status\n",
       "4             f_groupq_trans\n",
       "5        f_comp_total_scaled\n",
       "6               f_unemp_soci\n",
       "7              f_disabl_comp\n",
       "8              f_noveh_trans\n",
       "9             f_mobile_trans\n",
       "10              f_age65_comp\n",
       "11              f_age17_comp\n",
       "12       f_soci_total_scaled\n",
       "13                f_pov_soci\n",
       "14                   raw_svi\n",
       "15     f_status_total_scaled\n",
       "16           f_limeng_status\n",
       "17             f_crowd_trans\n",
       "18                f_pci_soci\n",
       "19    all_flags_total_scaled\n",
       "20             f_sngpnt_comp\n",
       "21      f_trans_total_scaled\n",
       "22             f_munit_trans"
      ]
     },
     "execution_count": 33,
     "metadata": {},
     "output_type": "execute_result"
    }
   ],
   "source": [
    "# possible feature ranking?\n",
    "rankdf = model.feature_ranking(X_train_scaled, y_train)\n",
    "rankdf"
   ]
  },
  {
   "cell_type": "markdown",
   "metadata": {},
   "source": [
    "# Create X_train_scaled df with selected features to test"
   ]
  },
  {
   "cell_type": "markdown",
   "metadata": {},
   "source": [
    "## Feature groups to use for OLS, PF, and Tweedie models"
   ]
  },
  {
   "cell_type": "code",
   "execution_count": 34,
   "metadata": {},
   "outputs": [],
   "source": [
    "# only raw svi score\n",
    "X_raw_svi = X_train_scaled[['raw_svi']]\n",
    "# binned svi score by CDC range category = 1st ranked\n",
    "X_rank_svi_only = X_train_scaled[['rank_svi_scaled']]\n",
    "# top 4 ranked features\n",
    "X_top4 = X_train_scaled[['rank_svi_scaled', 'f_nohsdp_soci', 'f_minrty_status', 'f_groupq_trans']]\n",
    "# only the summary of the flags = 19th ranked\n",
    "X_all_flags_only = X_train_scaled[['all_flags_total_scaled']]\n",
    "# only summary flags, should be the same as all flags total? = 5th, 12th, 15th, 21st\n",
    "X_summary_flags = X_train_scaled[['f_comp_total_scaled', 'f_soci_total_scaled', 'f_status_total_scaled', 'f_trans_total_scaled']]\n",
    "# all individual flags\n",
    "X_not_summary_flags = X_train_scaled[['f_nohsdp_soci', 'f_minrty_status', 'f_groupq_trans', 'f_unemp_soci', \n",
    "                                     'f_disabl_comp', 'f_noveh_trans', 'f_mobile_trans', 'f_age65_comp', \n",
    "                                     'f_age17_comp', 'f_pov_soci', 'f_limeng_status', 'f_crowd_trans', \n",
    "                                      'f_pci_soci', 'f_sngpnt_comp', 'f_munit_trans']]"
   ]
  },
  {
   "cell_type": "markdown",
   "metadata": {},
   "source": [
    "## LassoLars\n",
    "- includes feature selection as part of model so will use all features on this model"
   ]
  },
  {
   "cell_type": "markdown",
   "metadata": {},
   "source": [
    "## Drilling in features to test -- RETURN HERE\n",
    "\n",
    "- what is the score using only 1 summary flag at a time?\n",
    "    - if one summary group is better might be worth investigating for which features within group have greatest impact?"
   ]
  },
  {
   "cell_type": "code",
   "execution_count": null,
   "metadata": {},
   "outputs": [],
   "source": []
  },
  {
   "cell_type": "markdown",
   "metadata": {},
   "source": [
    "# Run df through regression algorithms"
   ]
  },
  {
   "cell_type": "code",
   "execution_count": 35,
   "metadata": {},
   "outputs": [],
   "source": [
    "# create variables for loop\n",
    "df2test = [X_rank_svi_only, X_top4, X_all_flags_only, X_summary_flags, X_not_summary_flags, X_train_scaled, X_raw_svi]\n",
    "target = y_train\n",
    "\n",
    "# Linear Regression Models\n",
    "lm_MAE_list = []\n",
    "for df in df2test:\n",
    "    lm_MAE = model_MAE.linear_reg_train(df, target)\n",
    "    lm_MAE_list.append(lm_MAE)\n",
    "\n",
    "# Polynomial Features 2 degree\n",
    "pf2_MAE_list = []\n",
    "for df in df2test:\n",
    "    pf2_MAE = model_MAE.polynomial2(df, target)\n",
    "    pf2_MAE_list.append(pf2_MAE)\n",
    "\n",
    "# Tweedie power=0, alpha=.5\n",
    "tweedie05 = []\n",
    "for df in df2test:\n",
    "    tw_MAE = model_MAE.tweedie05(df, target)\n",
    "    tweedie05.append(tw_MAE)\n"
   ]
  },
  {
   "cell_type": "code",
   "execution_count": 36,
   "metadata": {},
   "outputs": [],
   "source": [
    "# # create variables for loop\n",
    "# df2test = [X_rank_svi_only, X_top5, X_all_flags_only, X_summary_flags, X_not_summary_flags, X_train_scaled]\n",
    "# target = y_train\n",
    "\n",
    "# # Linear Regression Models\n",
    "# lm_RMSE_list = []\n",
    "# for df in df2test:\n",
    "#     lm_RMSE = model.linear_reg_train(df, target)\n",
    "#     lm_RMSE_list.append(lm_RMSE)\n",
    "\n",
    "# # Polynomial Features 2 degree\n",
    "# pf2_RMSE_list = []\n",
    "# for df in df2test:\n",
    "#     pf2_RMSE = model.polynomial2(df, target)\n",
    "#     pf2_RMSE_list.append(pf2_RMSE)\n",
    "\n",
    "# # Tweedie power=0, alpha=.5\n",
    "# tweedie05 = []\n",
    "# for df in df2test:\n",
    "#     tw_RMSE = model.tweedie05(df, target)\n",
    "#     tweedie05.append(tw_RMSE)\n"
   ]
  },
  {
   "cell_type": "code",
   "execution_count": 37,
   "metadata": {},
   "outputs": [],
   "source": [
    "# LassoLars Models\n",
    "lars_MAE = model_MAE.lasso_lars(X_train_scaled, target)"
   ]
  },
  {
   "cell_type": "code",
   "execution_count": 38,
   "metadata": {},
   "outputs": [],
   "source": [
    "# LassoLars Models\n",
    "lars_RMSE = model.lasso_lars(X_train_scaled, target)"
   ]
  },
  {
   "cell_type": "markdown",
   "metadata": {},
   "source": [
    "# Summarize in results df"
   ]
  },
  {
   "cell_type": "code",
   "execution_count": 47,
   "metadata": {},
   "outputs": [
    {
     "data": {
      "text/html": [
       "<div>\n",
       "<style scoped>\n",
       "    .dataframe tbody tr th:only-of-type {\n",
       "        vertical-align: middle;\n",
       "    }\n",
       "\n",
       "    .dataframe tbody tr th {\n",
       "        vertical-align: top;\n",
       "    }\n",
       "\n",
       "    .dataframe thead th {\n",
       "        text-align: right;\n",
       "    }\n",
       "</style>\n",
       "<table border=\"1\" class=\"dataframe\">\n",
       "  <thead>\n",
       "    <tr style=\"text-align: right;\">\n",
       "      <th></th>\n",
       "      <th>Features</th>\n",
       "      <th>LinearRegression_MAE</th>\n",
       "      <th>Tweedie05_MAE</th>\n",
       "      <th>PolynomialFeatures2_MAE</th>\n",
       "      <th>LassoLars_MAE</th>\n",
       "      <th>Base_mean_MAE</th>\n",
       "      <th>Base_median_MAE</th>\n",
       "    </tr>\n",
       "  </thead>\n",
       "  <tbody>\n",
       "    <tr>\n",
       "      <th>5</th>\n",
       "      <td>all_features</td>\n",
       "      <td>694.465209</td>\n",
       "      <td>827.637470</td>\n",
       "      <td>488.669323</td>\n",
       "      <td>743.214111</td>\n",
       "      <td>991.640921</td>\n",
       "      <td>972.441941</td>\n",
       "    </tr>\n",
       "    <tr>\n",
       "      <th>4</th>\n",
       "      <td>not_summary_flags</td>\n",
       "      <td>786.881614</td>\n",
       "      <td>900.810270</td>\n",
       "      <td>528.357985</td>\n",
       "      <td>743.214111</td>\n",
       "      <td>991.640921</td>\n",
       "      <td>972.441941</td>\n",
       "    </tr>\n",
       "    <tr>\n",
       "      <th>1</th>\n",
       "      <td>top4</td>\n",
       "      <td>716.161912</td>\n",
       "      <td>885.014499</td>\n",
       "      <td>710.919196</td>\n",
       "      <td>743.214111</td>\n",
       "      <td>991.640921</td>\n",
       "      <td>972.441941</td>\n",
       "    </tr>\n",
       "    <tr>\n",
       "      <th>6</th>\n",
       "      <td>raw_svi_only</td>\n",
       "      <td>781.751090</td>\n",
       "      <td>942.005025</td>\n",
       "      <td>772.131633</td>\n",
       "      <td>743.214111</td>\n",
       "      <td>991.640921</td>\n",
       "      <td>972.441941</td>\n",
       "    </tr>\n",
       "    <tr>\n",
       "      <th>0</th>\n",
       "      <td>rank_svi_only</td>\n",
       "      <td>783.145392</td>\n",
       "      <td>917.511392</td>\n",
       "      <td>781.326882</td>\n",
       "      <td>743.214111</td>\n",
       "      <td>991.640921</td>\n",
       "      <td>972.441941</td>\n",
       "    </tr>\n",
       "    <tr>\n",
       "      <th>3</th>\n",
       "      <td>summary_flags</td>\n",
       "      <td>823.656119</td>\n",
       "      <td>962.109229</td>\n",
       "      <td>785.635693</td>\n",
       "      <td>743.214111</td>\n",
       "      <td>991.640921</td>\n",
       "      <td>972.441941</td>\n",
       "    </tr>\n",
       "    <tr>\n",
       "      <th>2</th>\n",
       "      <td>total_all_flags_only</td>\n",
       "      <td>857.440941</td>\n",
       "      <td>976.431400</td>\n",
       "      <td>857.232422</td>\n",
       "      <td>743.214111</td>\n",
       "      <td>991.640921</td>\n",
       "      <td>972.441941</td>\n",
       "    </tr>\n",
       "  </tbody>\n",
       "</table>\n",
       "</div>"
      ],
      "text/plain": [
       "               Features  LinearRegression_MAE  Tweedie05_MAE  \\\n",
       "5          all_features            694.465209     827.637470   \n",
       "4     not_summary_flags            786.881614     900.810270   \n",
       "1                  top4            716.161912     885.014499   \n",
       "6          raw_svi_only            781.751090     942.005025   \n",
       "0         rank_svi_only            783.145392     917.511392   \n",
       "3         summary_flags            823.656119     962.109229   \n",
       "2  total_all_flags_only            857.440941     976.431400   \n",
       "\n",
       "   PolynomialFeatures2_MAE  LassoLars_MAE  Base_mean_MAE  Base_median_MAE  \n",
       "5               488.669323     743.214111     991.640921       972.441941  \n",
       "4               528.357985     743.214111     991.640921       972.441941  \n",
       "1               710.919196     743.214111     991.640921       972.441941  \n",
       "6               772.131633     743.214111     991.640921       972.441941  \n",
       "0               781.326882     743.214111     991.640921       972.441941  \n",
       "3               785.635693     743.214111     991.640921       972.441941  \n",
       "2               857.232422     743.214111     991.640921       972.441941  "
      ]
     },
     "execution_count": 47,
     "metadata": {},
     "output_type": "execute_result"
    }
   ],
   "source": [
    "# create dataframe for results of all train models\n",
    "df_list = ['rank_svi_only', 'top4', 'total_all_flags_only', 'summary_flags', 'not_summary_flags', 'all_features', 'raw_svi_only']\n",
    "\n",
    "results = pd.DataFrame(df_list, columns=['Features'])\n",
    "results['LinearRegression_MAE'] = lm_MAE_list\n",
    "results['Tweedie05_MAE'] = tweedie05\n",
    "results['PolynomialFeatures2_MAE'] = pf2_MAE_list\n",
    "results['LassoLars_MAE'] = lars_MAE\n",
    "results['Base_mean_MAE'] = mean_baseMAE\n",
    "results['Base_median_MAE'] = median_baseMAE\n",
    "results.sort_values('PolynomialFeatures2_MAE')"
   ]
  },
  {
   "cell_type": "code",
   "execution_count": 40,
   "metadata": {},
   "outputs": [],
   "source": [
    "# # create dataframe for results of all train models\n",
    "# df_list = ['rank_svi_only', 'top5', 'total_all_flags_only', 'summary_flags', 'not_summary_flags', 'all_features', 'raw_svi_only']\n",
    "\n",
    "# results = pd.DataFrame(df_list, columns=['Features'])\n",
    "# results['LinearRegression_RMSE'] = lm_RMSE_list\n",
    "# results['Tweedie05_RMSE'] = tweedie05\n",
    "# results['PolynomialFeatures2_RMSE'] = pf2_RMSE_list\n",
    "# results['LassoLars_RMSE'] = lars_RMSE\n",
    "# results['Base_mean_RMSE'] = mean_baseRMSE\n",
    "# results['Base_median_RMSE'] = median_baseRMSE\n",
    "# results.sort_values('PolynomialFeatures2_RMSE')"
   ]
  },
  {
   "cell_type": "markdown",
   "metadata": {},
   "source": [
    "# Validate Stage\n",
    "\n",
    "## pick models to validate\n",
    "- LassoLars\n",
    "- LR all feature\n",
    "- PF2 all features\n",
    "- PF2 top5\n"
   ]
  },
  {
   "cell_type": "code",
   "execution_count": 41,
   "metadata": {},
   "outputs": [],
   "source": [
    "from numpy import mean\n",
    "from numpy import std, absolute\n",
    "from sklearn.datasets import make_blobs\n",
    "from sklearn.model_selection import LeaveOneOut\n",
    "from sklearn.model_selection import cross_val_score\n",
    "from sklearn.ensemble import RandomForestClassifier\n",
    "from sklearn.metrics import mean_squared_error, r2_score, explained_variance_score, mean_absolute_error"
   ]
  },
  {
   "cell_type": "code",
   "execution_count": 42,
   "metadata": {},
   "outputs": [
    {
     "name": "stdout",
     "output_type": "stream",
     "text": [
      "MAE: 743.953 (739.219)\n"
     ]
    }
   ],
   "source": [
    "# LassoLars\n",
    "# create loocv procedure\n",
    "cvLL = LeaveOneOut()\n",
    "# create model\n",
    "modelLL = LassoLars(alpha=1)\n",
    "# evaluate model\n",
    "scoresLL = cross_val_score(modelLL, X_train_scaled, y_train, scoring='neg_mean_absolute_error', cv=cvLL, n_jobs=-1)\n",
    "# force positive\n",
    "scoresLL = absolute(scoresLL)\n",
    "# report performance\n",
    "print('MAE: %.3f (%.3f)' % (mean(scoresLL), std(scoresLL)))"
   ]
  },
  {
   "cell_type": "code",
   "execution_count": 43,
   "metadata": {},
   "outputs": [
    {
     "name": "stdout",
     "output_type": "stream",
     "text": [
      "MAE: 751.477 (743.994)\n"
     ]
    }
   ],
   "source": [
    "# Linear Regression - all features\n",
    "# create loocv procedure\n",
    "cvLR = LeaveOneOut()\n",
    "# create model\n",
    "modelLR = LinearRegression()\n",
    "# evaluate model\n",
    "scoresLR = cross_val_score(modelLR, X_train_scaled, y_train, scoring='neg_mean_absolute_error', cv=cvLR, n_jobs=-1)\n",
    "# force positive\n",
    "scoresLR = absolute(scoresLR)\n",
    "# report performance\n",
    "print('MAE: %.3f (%.3f)' % (mean(scoresLR), std(scoresLR)))"
   ]
  },
  {
   "cell_type": "code",
   "execution_count": 44,
   "metadata": {},
   "outputs": [
    {
     "name": "stdout",
     "output_type": "stream",
     "text": [
      "MAE: 611800868122157.250 (3405146298058511.500)\n"
     ]
    }
   ],
   "source": [
    "# Polynomial Features 2 degrees - all features\n",
    "# create loocv procedure\n",
    "cvPF1 = LeaveOneOut()\n",
    "\n",
    "# create PF object\n",
    "pf1 = PolynomialFeatures(degree=2)\n",
    "# Fit and Transform model to get a new set of features...which are the original features squared\n",
    "X_train_squared1 = pf1.fit_transform(X_train_scaled)\n",
    "\n",
    "# create model\n",
    "modelPF1 = LinearRegression(normalize=True)\n",
    "# evaluate model\n",
    "scoresPF1 = cross_val_score(modelPF1, X_train_squared1, y_train, scoring='neg_mean_absolute_error', cv=cvPF1, n_jobs=-1)\n",
    "# force positive\n",
    "scoresPF1 = absolute(scoresPF1)\n",
    "# report performance\n",
    "print('MAE: %.3f (%.3f)' % (mean(scoresPF1), std(scoresPF1)))"
   ]
  },
  {
   "cell_type": "code",
   "execution_count": 45,
   "metadata": {},
   "outputs": [
    {
     "name": "stdout",
     "output_type": "stream",
     "text": [
      "MAE: 753.841 (672.284)\n"
     ]
    }
   ],
   "source": [
    "# Polynomial Features 2 degrees - top 5\n",
    "# create loocv procedure\n",
    "cvPF2 = LeaveOneOut()\n",
    "\n",
    "# create PF object\n",
    "pf2 = PolynomialFeatures(degree=2)\n",
    "# Fit and Transform model to get a new set of features...which are the original features squared\n",
    "X_train_squared2 = pf2.fit_transform(X_top4)\n",
    "\n",
    "# create model\n",
    "modelPF2 = LinearRegression(normalize=True)\n",
    "# evaluate model\n",
    "scoresPF2 = cross_val_score(modelPF2, X_train_squared2, y_train, scoring='neg_mean_absolute_error', cv=cvPF2, n_jobs=-1)\n",
    "# force positive\n",
    "scoresPF2 = absolute(scoresPF2)\n",
    "# report performance\n",
    "print('MAE: %.3f (%.3f)' % (mean(scoresPF2), std(scoresPF2)))"
   ]
  },
  {
   "cell_type": "markdown",
   "metadata": {},
   "source": [
    "# Test "
   ]
  },
  {
   "cell_type": "code",
   "execution_count": 46,
   "metadata": {},
   "outputs": [
    {
     "name": "stdout",
     "output_type": "stream",
     "text": [
      "MAE: 743.214\n"
     ]
    }
   ],
   "source": [
    "# fit model from cross validation to train dataset\n",
    "modelLL.fit(X_train_scaled, y_train)\n",
    "# use the trained dataset to predict on test\n",
    "lars_test_pred = modelLL.predict(X_test_scaled)\n",
    "# get the MAE of test\n",
    "lars_MAE = mean_absolute_error(y_test, lars_test_pred)\n",
    "print('MAE: %.3f' % lars_MAE)"
   ]
  },
  {
   "cell_type": "code",
   "execution_count": null,
   "metadata": {},
   "outputs": [],
   "source": []
  }
 ],
 "metadata": {
  "kernelspec": {
   "display_name": "Python 3",
   "language": "python",
   "name": "python3"
  },
  "language_info": {
   "codemirror_mode": {
    "name": "ipython",
    "version": 3
   },
   "file_extension": ".py",
   "mimetype": "text/x-python",
   "name": "python",
   "nbconvert_exporter": "python",
   "pygments_lexer": "ipython3",
   "version": "3.7.9"
  },
  "toc": {
   "base_numbering": 1,
   "nav_menu": {},
   "number_sections": true,
   "sideBar": true,
   "skip_h1_title": false,
   "title_cell": "Table of Contents",
   "title_sidebar": "Contents",
   "toc_cell": false,
   "toc_position": {},
   "toc_section_display": true,
   "toc_window_display": false
  }
 },
 "nbformat": 4,
 "nbformat_minor": 4
}
