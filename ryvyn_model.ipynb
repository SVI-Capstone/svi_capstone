{
 "cells": [
  {
   "cell_type": "code",
   "execution_count": 1,
   "metadata": {},
   "outputs": [],
   "source": [
    "import pandas as pd\n",
    "import wrangle\n",
    "import model\n",
    "import model_MAE\n",
    "\n",
    "from sklearn.metrics import mean_squared_error\n",
    "from sklearn.linear_model import LinearRegression\n",
    "from statsmodels.formula.api import ols\n",
    "from sklearn.metrics import mean_squared_error, r2_score, explained_variance_score\n",
    "from sklearn.feature_selection import f_regression, SelectKBest, RFE \n",
    "from sklearn.linear_model import LinearRegression, LassoLars, TweedieRegressor\n",
    "from sklearn.preprocessing import PolynomialFeatures\n",
    "from math import sqrt\n",
    "from scipy import stats"
   ]
  },
  {
   "cell_type": "code",
   "execution_count": 2,
   "metadata": {},
   "outputs": [
    {
     "name": "stdout",
     "output_type": "stream",
     "text": [
      "Acquire: compiling raw data files...\n",
      "Acquire: Completed!\n",
      "Prepare: preparing data files...\n",
      "Prepare: Completed!\n",
      "(289, 25) (73, 25)\n"
     ]
    }
   ],
   "source": [
    "df, train_exp, X_train_scaled, y_train, X_test_scaled, y_test = wrangle.wrangle_data()"
   ]
  },
  {
   "cell_type": "code",
   "execution_count": 3,
   "metadata": {},
   "outputs": [
    {
     "data": {
      "text/plain": [
       "Index(['raw_svi', 'f_pov_soci', 'f_unemp_soci', 'f_pci_soci', 'f_nohsdp_soci',\n",
       "       'f_age65_comp', 'f_age17_comp', 'f_disabl_comp', 'f_sngpnt_comp',\n",
       "       'f_minrty_status', 'f_limeng_status', 'f_munit_trans', 'f_mobile_trans',\n",
       "       'f_crowd_trans', 'f_noveh_trans', 'f_groupq_trans',\n",
       "       'f_soci_total_scaled', 'f_comp_total_scaled', 'f_status_total_scaled',\n",
       "       'f_trans_total_scaled', 'all_flags_total_scaled', 'rank_svi_scaled'],\n",
       "      dtype='object')"
      ]
     },
     "execution_count": 3,
     "metadata": {},
     "output_type": "execute_result"
    }
   ],
   "source": [
    "X_train_scaled.columns"
   ]
  },
  {
   "cell_type": "markdown",
   "metadata": {},
   "source": [
    "# Create Baseline"
   ]
  },
  {
   "cell_type": "code",
   "execution_count": 4,
   "metadata": {},
   "outputs": [
    {
     "data": {
      "text/plain": [
       "(3201.968351790576, 2903.7827641596423)"
      ]
     },
     "execution_count": 4,
     "metadata": {},
     "output_type": "execute_result"
    }
   ],
   "source": [
    "y_train.tract_cases_per_100k.mean(), y_train.tract_cases_per_100k.median()"
   ]
  },
  {
   "cell_type": "code",
   "execution_count": 5,
   "metadata": {},
   "outputs": [
    {
     "name": "stdout",
     "output_type": "stream",
     "text": [
      "Baseline MAE: 973.0351509141836\n"
     ]
    }
   ],
   "source": [
    "# MAE\n",
    "mean_baseMAE, basepred1 = model_MAE.get_baseline_mean(y_train)"
   ]
  },
  {
   "cell_type": "code",
   "execution_count": 6,
   "metadata": {},
   "outputs": [
    {
     "name": "stdout",
     "output_type": "stream",
     "text": [
      "Baseline RMSE: 1257.2466801311145\n"
     ]
    }
   ],
   "source": [
    "# using mean\n",
    "mean_baseRMSE, basepred = model.get_baseline_mean(y_train)"
   ]
  },
  {
   "cell_type": "code",
   "execution_count": 7,
   "metadata": {},
   "outputs": [
    {
     "name": "stdout",
     "output_type": "stream",
     "text": [
      "Baseline MAE: 950.9798103241462\n"
     ]
    }
   ],
   "source": [
    "# using median\n",
    "median_baseMAE, basepred2 = model_MAE.get_baseline_median(y_train)"
   ]
  },
  {
   "cell_type": "code",
   "execution_count": 8,
   "metadata": {},
   "outputs": [
    {
     "name": "stdout",
     "output_type": "stream",
     "text": [
      "Baseline RMSE: 1292.1237786572597\n"
     ]
    }
   ],
   "source": [
    "# using median\n",
    "median_baseRMSE, basepred = model.get_baseline_median(y_train)"
   ]
  },
  {
   "cell_type": "markdown",
   "metadata": {},
   "source": [
    "# Feature Ranking"
   ]
  },
  {
   "cell_type": "code",
   "execution_count": 9,
   "metadata": {},
   "outputs": [
    {
     "data": {
      "text/html": [
       "<div>\n",
       "<style scoped>\n",
       "    .dataframe tbody tr th:only-of-type {\n",
       "        vertical-align: middle;\n",
       "    }\n",
       "\n",
       "    .dataframe tbody tr th {\n",
       "        vertical-align: top;\n",
       "    }\n",
       "\n",
       "    .dataframe thead th {\n",
       "        text-align: right;\n",
       "    }\n",
       "</style>\n",
       "<table border=\"1\" class=\"dataframe\">\n",
       "  <thead>\n",
       "    <tr style=\"text-align: right;\">\n",
       "      <th></th>\n",
       "      <th>features</th>\n",
       "    </tr>\n",
       "    <tr>\n",
       "      <th>rank</th>\n",
       "      <th></th>\n",
       "    </tr>\n",
       "  </thead>\n",
       "  <tbody>\n",
       "    <tr>\n",
       "      <th>1</th>\n",
       "      <td>rank_svi_scaled</td>\n",
       "    </tr>\n",
       "    <tr>\n",
       "      <th>2</th>\n",
       "      <td>f_soci_total_scaled</td>\n",
       "    </tr>\n",
       "    <tr>\n",
       "      <th>3</th>\n",
       "      <td>f_pov_soci</td>\n",
       "    </tr>\n",
       "    <tr>\n",
       "      <th>4</th>\n",
       "      <td>f_minrty_status</td>\n",
       "    </tr>\n",
       "    <tr>\n",
       "      <th>5</th>\n",
       "      <td>all_flags_total_scaled</td>\n",
       "    </tr>\n",
       "    <tr>\n",
       "      <th>6</th>\n",
       "      <td>f_groupq_trans</td>\n",
       "    </tr>\n",
       "    <tr>\n",
       "      <th>7</th>\n",
       "      <td>f_age17_comp</td>\n",
       "    </tr>\n",
       "    <tr>\n",
       "      <th>8</th>\n",
       "      <td>f_comp_total_scaled</td>\n",
       "    </tr>\n",
       "    <tr>\n",
       "      <th>9</th>\n",
       "      <td>f_munit_trans</td>\n",
       "    </tr>\n",
       "    <tr>\n",
       "      <th>10</th>\n",
       "      <td>f_age65_comp</td>\n",
       "    </tr>\n",
       "    <tr>\n",
       "      <th>11</th>\n",
       "      <td>f_unemp_soci</td>\n",
       "    </tr>\n",
       "    <tr>\n",
       "      <th>12</th>\n",
       "      <td>f_pci_soci</td>\n",
       "    </tr>\n",
       "    <tr>\n",
       "      <th>13</th>\n",
       "      <td>f_noveh_trans</td>\n",
       "    </tr>\n",
       "    <tr>\n",
       "      <th>14</th>\n",
       "      <td>f_nohsdp_soci</td>\n",
       "    </tr>\n",
       "    <tr>\n",
       "      <th>15</th>\n",
       "      <td>f_disabl_comp</td>\n",
       "    </tr>\n",
       "    <tr>\n",
       "      <th>16</th>\n",
       "      <td>f_status_total_scaled</td>\n",
       "    </tr>\n",
       "    <tr>\n",
       "      <th>17</th>\n",
       "      <td>raw_svi</td>\n",
       "    </tr>\n",
       "    <tr>\n",
       "      <th>18</th>\n",
       "      <td>f_limeng_status</td>\n",
       "    </tr>\n",
       "    <tr>\n",
       "      <th>19</th>\n",
       "      <td>f_mobile_trans</td>\n",
       "    </tr>\n",
       "    <tr>\n",
       "      <th>20</th>\n",
       "      <td>f_crowd_trans</td>\n",
       "    </tr>\n",
       "    <tr>\n",
       "      <th>21</th>\n",
       "      <td>f_trans_total_scaled</td>\n",
       "    </tr>\n",
       "    <tr>\n",
       "      <th>22</th>\n",
       "      <td>f_sngpnt_comp</td>\n",
       "    </tr>\n",
       "  </tbody>\n",
       "</table>\n",
       "</div>"
      ],
      "text/plain": [
       "                    features\n",
       "rank                        \n",
       "1            rank_svi_scaled\n",
       "2        f_soci_total_scaled\n",
       "3                 f_pov_soci\n",
       "4            f_minrty_status\n",
       "5     all_flags_total_scaled\n",
       "6             f_groupq_trans\n",
       "7               f_age17_comp\n",
       "8        f_comp_total_scaled\n",
       "9              f_munit_trans\n",
       "10              f_age65_comp\n",
       "11              f_unemp_soci\n",
       "12                f_pci_soci\n",
       "13             f_noveh_trans\n",
       "14             f_nohsdp_soci\n",
       "15             f_disabl_comp\n",
       "16     f_status_total_scaled\n",
       "17                   raw_svi\n",
       "18           f_limeng_status\n",
       "19            f_mobile_trans\n",
       "20             f_crowd_trans\n",
       "21      f_trans_total_scaled\n",
       "22             f_sngpnt_comp"
      ]
     },
     "execution_count": 9,
     "metadata": {},
     "output_type": "execute_result"
    }
   ],
   "source": [
    "# possible feature ranking?\n",
    "rankdf = model.feature_ranking(X_train_scaled, y_train)\n",
    "rankdf"
   ]
  },
  {
   "cell_type": "markdown",
   "metadata": {},
   "source": [
    "# Create X_train_scaled df with selected features to test"
   ]
  },
  {
   "cell_type": "markdown",
   "metadata": {},
   "source": [
    "## Feature groups to use for OLS, PF, and Tweedie models"
   ]
  },
  {
   "cell_type": "code",
   "execution_count": 10,
   "metadata": {},
   "outputs": [],
   "source": [
    "# only raw svi score\n",
    "X_raw_svi = X_train_scaled[['raw_svi']]\n",
    "# binned svi score by CDC range category = 1st ranked\n",
    "X_rank_svi_only = X_train_scaled[['rank_svi_scaled']]\n",
    "# top 4 ranked features\n",
    "X_top4 = X_train_scaled[['rank_svi_scaled', 'f_soci_total_scaled', 'f_pov_soci', 'f_minrty_status']]\n",
    "# only the summary of the flags = 19th ranked\n",
    "X_all_flags_only = X_train_scaled[['all_flags_total_scaled']]\n",
    "# only summary flags, should be the same as all flags total? = 5th, 12th, 15th, 21st\n",
    "X_summary_flags = X_train_scaled[['f_comp_total_scaled', 'f_soci_total_scaled', 'f_status_total_scaled', 'f_trans_total_scaled']]\n",
    "# all individual flags\n",
    "X_not_summary_flags = X_train_scaled[['f_nohsdp_soci', 'f_minrty_status', 'f_groupq_trans', 'f_unemp_soci', \n",
    "                                     'f_disabl_comp', 'f_noveh_trans', 'f_mobile_trans', 'f_age65_comp', \n",
    "                                     'f_age17_comp', 'f_pov_soci', 'f_limeng_status', 'f_crowd_trans', \n",
    "                                      'f_pci_soci', 'f_sngpnt_comp', 'f_munit_trans']]"
   ]
  },
  {
   "cell_type": "markdown",
   "metadata": {},
   "source": [
    "## LassoLars\n",
    "- includes feature selection as part of model so will use all features on this model"
   ]
  },
  {
   "cell_type": "markdown",
   "metadata": {},
   "source": [
    "## Drilling in features to test -- RETURN HERE\n",
    "\n",
    "- what is the score using only 1 summary flag at a time?\n",
    "    - if one summary group is better might be worth investigating for which features within group have greatest impact?"
   ]
  },
  {
   "cell_type": "code",
   "execution_count": null,
   "metadata": {},
   "outputs": [],
   "source": []
  },
  {
   "cell_type": "markdown",
   "metadata": {},
   "source": [
    "# Run df through regression algorithms"
   ]
  },
  {
   "cell_type": "code",
   "execution_count": 11,
   "metadata": {},
   "outputs": [],
   "source": [
    "# create variables for loop\n",
    "df2test = [X_rank_svi_only, X_top4, X_all_flags_only, X_summary_flags, X_not_summary_flags, X_train_scaled, X_raw_svi]\n",
    "target = y_train\n",
    "\n",
    "# Linear Regression Models\n",
    "lm_MAE_list = []\n",
    "for df in df2test:\n",
    "    lm_MAE = model_MAE.linear_reg_train(df, target)\n",
    "    lm_MAE_list.append(lm_MAE)\n",
    "\n",
    "# Polynomial Features 2 degree\n",
    "pf2_MAE_list = []\n",
    "for df in df2test:\n",
    "    pf2_MAE = model_MAE.polynomial2(df, target)\n",
    "    pf2_MAE_list.append(pf2_MAE)\n",
    "\n",
    "# Tweedie power=0, alpha=.5\n",
    "tweedie05 = []\n",
    "for df in df2test:\n",
    "    tw_MAE = model_MAE.tweedie05(df, target)\n",
    "    tweedie05.append(tw_MAE)\n"
   ]
  },
  {
   "cell_type": "code",
   "execution_count": 12,
   "metadata": {},
   "outputs": [],
   "source": [
    "# # create variables for loop\n",
    "# df2test = [X_rank_svi_only, X_top5, X_all_flags_only, X_summary_flags, X_not_summary_flags, X_train_scaled]\n",
    "# target = y_train\n",
    "\n",
    "# # Linear Regression Models\n",
    "# lm_RMSE_list = []\n",
    "# for df in df2test:\n",
    "#     lm_RMSE = model.linear_reg_train(df, target)\n",
    "#     lm_RMSE_list.append(lm_RMSE)\n",
    "\n",
    "# # Polynomial Features 2 degree\n",
    "# pf2_RMSE_list = []\n",
    "# for df in df2test:\n",
    "#     pf2_RMSE = model.polynomial2(df, target)\n",
    "#     pf2_RMSE_list.append(pf2_RMSE)\n",
    "\n",
    "# # Tweedie power=0, alpha=.5\n",
    "# tweedie05 = []\n",
    "# for df in df2test:\n",
    "#     tw_RMSE = model.tweedie05(df, target)\n",
    "#     tweedie05.append(tw_RMSE)\n"
   ]
  },
  {
   "cell_type": "code",
   "execution_count": 13,
   "metadata": {},
   "outputs": [],
   "source": [
    "# LassoLars Models\n",
    "lars_MAE = model_MAE.lasso_lars(X_train_scaled, target)"
   ]
  },
  {
   "cell_type": "code",
   "execution_count": 14,
   "metadata": {},
   "outputs": [],
   "source": [
    "# LassoLars Models\n",
    "lars_RMSE = model.lasso_lars(X_train_scaled, target)"
   ]
  },
  {
   "cell_type": "markdown",
   "metadata": {},
   "source": [
    "# Summarize in results df"
   ]
  },
  {
   "cell_type": "code",
   "execution_count": 15,
   "metadata": {},
   "outputs": [
    {
     "data": {
      "text/html": [
       "<div>\n",
       "<style scoped>\n",
       "    .dataframe tbody tr th:only-of-type {\n",
       "        vertical-align: middle;\n",
       "    }\n",
       "\n",
       "    .dataframe tbody tr th {\n",
       "        vertical-align: top;\n",
       "    }\n",
       "\n",
       "    .dataframe thead th {\n",
       "        text-align: right;\n",
       "    }\n",
       "</style>\n",
       "<table border=\"1\" class=\"dataframe\">\n",
       "  <thead>\n",
       "    <tr style=\"text-align: right;\">\n",
       "      <th></th>\n",
       "      <th>Features</th>\n",
       "      <th>LinearRegression_MAE</th>\n",
       "      <th>Tweedie05_MAE</th>\n",
       "      <th>PolynomialFeatures2_MAE</th>\n",
       "      <th>LassoLars_MAE</th>\n",
       "      <th>Base_mean_MAE</th>\n",
       "      <th>Base_median_MAE</th>\n",
       "    </tr>\n",
       "  </thead>\n",
       "  <tbody>\n",
       "    <tr>\n",
       "      <th>5</th>\n",
       "      <td>all_features</td>\n",
       "      <td>694.319979</td>\n",
       "      <td>821.826107</td>\n",
       "      <td>427.190190</td>\n",
       "      <td>697.418073</td>\n",
       "      <td>973.035151</td>\n",
       "      <td>950.97981</td>\n",
       "    </tr>\n",
       "    <tr>\n",
       "      <th>4</th>\n",
       "      <td>not_summary_flags</td>\n",
       "      <td>768.309031</td>\n",
       "      <td>890.061139</td>\n",
       "      <td>519.609825</td>\n",
       "      <td>697.418073</td>\n",
       "      <td>973.035151</td>\n",
       "      <td>950.97981</td>\n",
       "    </tr>\n",
       "    <tr>\n",
       "      <th>1</th>\n",
       "      <td>top4</td>\n",
       "      <td>720.911626</td>\n",
       "      <td>874.632590</td>\n",
       "      <td>708.392594</td>\n",
       "      <td>697.418073</td>\n",
       "      <td>973.035151</td>\n",
       "      <td>950.97981</td>\n",
       "    </tr>\n",
       "    <tr>\n",
       "      <th>6</th>\n",
       "      <td>raw_svi_only</td>\n",
       "      <td>776.969617</td>\n",
       "      <td>924.491852</td>\n",
       "      <td>767.016031</td>\n",
       "      <td>697.418073</td>\n",
       "      <td>973.035151</td>\n",
       "      <td>950.97981</td>\n",
       "    </tr>\n",
       "    <tr>\n",
       "      <th>0</th>\n",
       "      <td>rank_svi_only</td>\n",
       "      <td>775.678114</td>\n",
       "      <td>900.500732</td>\n",
       "      <td>772.144027</td>\n",
       "      <td>697.418073</td>\n",
       "      <td>973.035151</td>\n",
       "      <td>950.97981</td>\n",
       "    </tr>\n",
       "    <tr>\n",
       "      <th>3</th>\n",
       "      <td>summary_flags</td>\n",
       "      <td>830.585295</td>\n",
       "      <td>944.466544</td>\n",
       "      <td>780.583376</td>\n",
       "      <td>697.418073</td>\n",
       "      <td>973.035151</td>\n",
       "      <td>950.97981</td>\n",
       "    </tr>\n",
       "    <tr>\n",
       "      <th>2</th>\n",
       "      <td>total_all_flags_only</td>\n",
       "      <td>865.391283</td>\n",
       "      <td>958.467458</td>\n",
       "      <td>850.094118</td>\n",
       "      <td>697.418073</td>\n",
       "      <td>973.035151</td>\n",
       "      <td>950.97981</td>\n",
       "    </tr>\n",
       "  </tbody>\n",
       "</table>\n",
       "</div>"
      ],
      "text/plain": [
       "               Features  LinearRegression_MAE  Tweedie05_MAE  \\\n",
       "5          all_features            694.319979     821.826107   \n",
       "4     not_summary_flags            768.309031     890.061139   \n",
       "1                  top4            720.911626     874.632590   \n",
       "6          raw_svi_only            776.969617     924.491852   \n",
       "0         rank_svi_only            775.678114     900.500732   \n",
       "3         summary_flags            830.585295     944.466544   \n",
       "2  total_all_flags_only            865.391283     958.467458   \n",
       "\n",
       "   PolynomialFeatures2_MAE  LassoLars_MAE  Base_mean_MAE  Base_median_MAE  \n",
       "5               427.190190     697.418073     973.035151        950.97981  \n",
       "4               519.609825     697.418073     973.035151        950.97981  \n",
       "1               708.392594     697.418073     973.035151        950.97981  \n",
       "6               767.016031     697.418073     973.035151        950.97981  \n",
       "0               772.144027     697.418073     973.035151        950.97981  \n",
       "3               780.583376     697.418073     973.035151        950.97981  \n",
       "2               850.094118     697.418073     973.035151        950.97981  "
      ]
     },
     "execution_count": 15,
     "metadata": {},
     "output_type": "execute_result"
    }
   ],
   "source": [
    "# create dataframe for results of all train models\n",
    "df_list = ['rank_svi_only', 'top4', 'total_all_flags_only', 'summary_flags', 'not_summary_flags', 'all_features', 'raw_svi_only']\n",
    "\n",
    "results = pd.DataFrame(df_list, columns=['Features'])\n",
    "results['LinearRegression_MAE'] = lm_MAE_list\n",
    "results['Tweedie05_MAE'] = tweedie05\n",
    "results['PolynomialFeatures2_MAE'] = pf2_MAE_list\n",
    "results['LassoLars_MAE'] = lars_MAE\n",
    "results['Base_mean_MAE'] = mean_baseMAE\n",
    "results['Base_median_MAE'] = median_baseMAE\n",
    "results.sort_values('PolynomialFeatures2_MAE')"
   ]
  },
  {
   "cell_type": "code",
   "execution_count": 16,
   "metadata": {},
   "outputs": [],
   "source": [
    "# # create dataframe for results of all train models\n",
    "# df_list = ['rank_svi_only', 'top5', 'total_all_flags_only', 'summary_flags', 'not_summary_flags', 'all_features', 'raw_svi_only']\n",
    "\n",
    "# results = pd.DataFrame(df_list, columns=['Features'])\n",
    "# results['LinearRegression_RMSE'] = lm_RMSE_list\n",
    "# results['Tweedie05_RMSE'] = tweedie05\n",
    "# results['PolynomialFeatures2_RMSE'] = pf2_RMSE_list\n",
    "# results['LassoLars_RMSE'] = lars_RMSE\n",
    "# results['Base_mean_RMSE'] = mean_baseRMSE\n",
    "# results['Base_median_RMSE'] = median_baseRMSE\n",
    "# results.sort_values('PolynomialFeatures2_RMSE')"
   ]
  },
  {
   "cell_type": "markdown",
   "metadata": {},
   "source": [
    "# Validate Stage\n",
    "\n",
    "## pick models to validate\n",
    "- LassoLars\n",
    "- LR all feature\n",
    "- PF2 all features\n",
    "- PF2 top5\n"
   ]
  },
  {
   "cell_type": "code",
   "execution_count": 17,
   "metadata": {},
   "outputs": [],
   "source": [
    "from numpy import mean\n",
    "from numpy import std, absolute\n",
    "from sklearn.datasets import make_blobs\n",
    "from sklearn.model_selection import LeaveOneOut\n",
    "from sklearn.model_selection import cross_val_score\n",
    "from sklearn.ensemble import RandomForestClassifier\n",
    "from sklearn.metrics import mean_squared_error, r2_score, explained_variance_score, mean_absolute_error"
   ]
  },
  {
   "cell_type": "code",
   "execution_count": 18,
   "metadata": {},
   "outputs": [
    {
     "name": "stdout",
     "output_type": "stream",
     "text": [
      "MAE: 745.523 (707.596)\n"
     ]
    }
   ],
   "source": [
    "# LassoLars\n",
    "# create loocv procedure\n",
    "cvLL = LeaveOneOut()\n",
    "# create model\n",
    "modelLL = LassoLars(alpha=1)\n",
    "# evaluate model\n",
    "scoresLL = cross_val_score(modelLL, X_train_scaled, y_train, scoring='neg_mean_absolute_error', cv=cvLL, n_jobs=-1)\n",
    "# force positive\n",
    "scoresLL = absolute(scoresLL)\n",
    "# report performance\n",
    "print('MAE: %.3f (%.3f)' % (mean(scoresLL), std(scoresLL)))"
   ]
  },
  {
   "cell_type": "code",
   "execution_count": 19,
   "metadata": {},
   "outputs": [
    {
     "name": "stdout",
     "output_type": "stream",
     "text": [
      "MAE: 753.715 (722.317)\n"
     ]
    }
   ],
   "source": [
    "# Linear Regression - all features\n",
    "# create loocv procedure\n",
    "cvLR = LeaveOneOut()\n",
    "# create model\n",
    "modelLR = LinearRegression()\n",
    "# evaluate model\n",
    "scoresLR = cross_val_score(modelLR, X_train_scaled, y_train, scoring='neg_mean_absolute_error', cv=cvLR, n_jobs=-1)\n",
    "# force positive\n",
    "scoresLR = absolute(scoresLR)\n",
    "# report performance\n",
    "print('MAE: %.3f (%.3f)' % (mean(scoresLR), std(scoresLR)))"
   ]
  },
  {
   "cell_type": "code",
   "execution_count": 20,
   "metadata": {},
   "outputs": [
    {
     "name": "stdout",
     "output_type": "stream",
     "text": [
      "MAE: 447076735235850.938 (1795309707961532.750)\n"
     ]
    }
   ],
   "source": [
    "# Polynomial Features 2 degrees - all features\n",
    "# create loocv procedure\n",
    "cvPF1 = LeaveOneOut()\n",
    "\n",
    "# create PF object\n",
    "pf1 = PolynomialFeatures(degree=2)\n",
    "# Fit and Transform model to get a new set of features...which are the original features squared\n",
    "X_train_squared1 = pf1.fit_transform(X_train_scaled)\n",
    "\n",
    "# create model\n",
    "modelPF1 = LinearRegression(normalize=True)\n",
    "# evaluate model\n",
    "scoresPF1 = cross_val_score(modelPF1, X_train_squared1, y_train, scoring='neg_mean_absolute_error', cv=cvPF1, n_jobs=-1)\n",
    "# force positive\n",
    "scoresPF1 = absolute(scoresPF1)\n",
    "# report performance\n",
    "print('MAE: %.3f (%.3f)' % (mean(scoresPF1), std(scoresPF1)))"
   ]
  },
  {
   "cell_type": "code",
   "execution_count": 21,
   "metadata": {},
   "outputs": [
    {
     "name": "stdout",
     "output_type": "stream",
     "text": [
      "MAE: 752.923 (689.309)\n"
     ]
    }
   ],
   "source": [
    "# Polynomial Features 2 degrees - top 5\n",
    "# create loocv procedure\n",
    "cvPF2 = LeaveOneOut()\n",
    "\n",
    "# create PF object\n",
    "pf2 = PolynomialFeatures(degree=2)\n",
    "# Fit and Transform model to get a new set of features...which are the original features squared\n",
    "X_train_squared2 = pf2.fit_transform(X_top4)\n",
    "\n",
    "# create model\n",
    "modelPF2 = LinearRegression(normalize=True)\n",
    "# evaluate model\n",
    "scoresPF2 = cross_val_score(modelPF2, X_train_squared2, y_train, scoring='neg_mean_absolute_error', cv=cvPF2, n_jobs=-1)\n",
    "# force positive\n",
    "scoresPF2 = absolute(scoresPF2)\n",
    "# report performance\n",
    "print('MAE: %.3f (%.3f)' % (mean(scoresPF2), std(scoresPF2)))"
   ]
  },
  {
   "cell_type": "markdown",
   "metadata": {},
   "source": [
    "# Test "
   ]
  },
  {
   "cell_type": "code",
   "execution_count": 22,
   "metadata": {},
   "outputs": [
    {
     "name": "stdout",
     "output_type": "stream",
     "text": [
      "MAE: 853.068\n"
     ]
    }
   ],
   "source": [
    "# fit model from cross validation to train dataset\n",
    "modelLL.fit(X_train_scaled, y_train)\n",
    "# use the trained dataset to predict on test\n",
    "lars_test_pred = modelLL.predict(X_test_scaled)\n",
    "# get the MAE of test\n",
    "lars_MAE = mean_absolute_error(y_test, lars_test_pred)\n",
    "print('MAE: %.3f' % lars_MAE)"
   ]
  },
  {
   "cell_type": "markdown",
   "metadata": {},
   "source": [
    "# new modeling section"
   ]
  },
  {
   "cell_type": "code",
   "execution_count": 23,
   "metadata": {},
   "outputs": [
    {
     "name": "stdout",
     "output_type": "stream",
     "text": [
      "Baseline MAE: 973.0351509141836\n"
     ]
    }
   ],
   "source": [
    "# decided to use mean and mean absolute error for evaluation - this is now the baseline\n",
    "\n",
    "# MAE\n",
    "mean_baseMAE, basepred1 = model_MAE.get_baseline_mean(y_train)"
   ]
  },
  {
   "cell_type": "markdown",
   "metadata": {},
   "source": [
    "## figure out how to make cross validate function"
   ]
  },
  {
   "cell_type": "code",
   "execution_count": 24,
   "metadata": {},
   "outputs": [
    {
     "name": "stdout",
     "output_type": "stream",
     "text": [
      "MAE: 753.715 (722.317)\n"
     ]
    }
   ],
   "source": [
    "# run one linear regresion\n",
    "LRmeanMAE = model_MAE.cvLinearReg(X_train_scaled, y_train) "
   ]
  },
  {
   "cell_type": "code",
   "execution_count": 25,
   "metadata": {},
   "outputs": [
    {
     "name": "stdout",
     "output_type": "stream",
     "text": [
      "MAE: 781.251 (723.733)\n",
      "MAE: 736.697 (699.657)\n",
      "MAE: 872.290 (741.162)\n",
      "MAE: 848.118 (733.300)\n",
      "MAE: 824.294 (728.993)\n",
      "MAE: 753.715 (722.317)\n",
      "MAE: 782.547 (718.692)\n"
     ]
    }
   ],
   "source": [
    "# Linear Regression\n",
    "# now try running for all feature datasets\n",
    "# create variables for loop\n",
    "df2test = [X_rank_svi_only, X_top4, X_all_flags_only, X_summary_flags, X_not_summary_flags, X_train_scaled, X_raw_svi]\n",
    "target = y_train\n",
    "\n",
    "# Linear Regression Models\n",
    "cvlm_MAE_list = []\n",
    "for df in df2test:\n",
    "    cvlm_MAE = model_MAE.cvLinearReg(df, target) \n",
    "    cvlm_MAE_list.append(cvlm_MAE)"
   ]
  },
  {
   "cell_type": "code",
   "execution_count": 26,
   "metadata": {},
   "outputs": [
    {
     "name": "stdout",
     "output_type": "stream",
     "text": [
      "MAE: 782.183 (722.924)\n",
      "MAE: 739.965 (698.054)\n",
      "MAE: 874.089 (739.091)\n",
      "MAE: 847.785 (727.430)\n",
      "MAE: 819.720 (718.520)\n",
      "MAE: 745.523 (707.596)\n",
      "MAE: 782.106 (719.369)\n"
     ]
    }
   ],
   "source": [
    "# Lasso Lars\n",
    "# now try running for all feature datasets\n",
    "# create variables for loop\n",
    "df2test = [X_rank_svi_only, X_top4, X_all_flags_only, X_summary_flags, X_not_summary_flags, X_train_scaled, X_raw_svi]\n",
    "target = y_train\n",
    "\n",
    "# LassoLars Models\n",
    "cvll_MAE_list = []\n",
    "for df in df2test:\n",
    "    cvll_MAE = model_MAE.cvLassoLars(df, target, 1) \n",
    "    cvll_MAE_list.append(cvll_MAE)"
   ]
  },
  {
   "cell_type": "code",
   "execution_count": 27,
   "metadata": {},
   "outputs": [
    {
     "name": "stdout",
     "output_type": "stream",
     "text": [
      "MAE: 789.115 (711.202)\n",
      "MAE: 795.197 (730.630)\n",
      "MAE: 886.140 (734.965)\n",
      "MAE: 864.634 (763.147)\n",
      "MAE: 814.246 (773.835)\n",
      "MAE: 867.101 (723.110)\n",
      "MAE: 970.368 (855.503)\n"
     ]
    }
   ],
   "source": [
    "# Random Forest, send in x scaled, y train, and # estimators\n",
    "df2test = [X_rank_svi_only, X_top4, X_all_flags_only, X_summary_flags, X_not_summary_flags, X_train_scaled, X_raw_svi]\n",
    "target = y_train\n",
    "\n",
    "# Random Forest Models\n",
    "cvrf_MAE_list = []\n",
    "for df in df2test:\n",
    "    cvrf_MAE = model_MAE.cvRandomForest(df, target, 4) \n",
    "    cvrf_MAE_list.append(cvrf_MAE)"
   ]
  },
  {
   "cell_type": "code",
   "execution_count": 28,
   "metadata": {},
   "outputs": [
    {
     "name": "stdout",
     "output_type": "stream",
     "text": [
      "MAE: 784.059 (715.274)\n",
      "MAE: 746.744 (694.291)\n",
      "MAE: 892.440 (738.460)\n",
      "MAE: 863.749 (732.989)\n",
      "MAE: 815.728 (728.231)\n",
      "MAE: 736.236 (703.981)\n",
      "MAE: 785.083 (717.517)\n"
     ]
    }
   ],
   "source": [
    "# Tweedie Regressor, send in x scaled, y train, power and alpha settings\n",
    "df2test = [X_rank_svi_only, X_top4, X_all_flags_only, X_summary_flags, X_not_summary_flags, X_train_scaled, X_raw_svi]\n",
    "target = y_train\n",
    "\n",
    "# Tweedie Regressor Models\n",
    "cvtw_MAE_list = []\n",
    "for df in df2test:\n",
    "    cvtw_MAE = model_MAE.cvTweedie(df, target, 1.5, 1)\n",
    "    cvtw_MAE_list.append(cvtw_MAE)\n"
   ]
  },
  {
   "cell_type": "code",
   "execution_count": 29,
   "metadata": {},
   "outputs": [
    {
     "name": "stdout",
     "output_type": "stream",
     "text": [
      "MAE: -931.598 (873.853)\n",
      "MAE: -944.111 (877.222)\n",
      "MAE: -950.422 (875.754)\n",
      "MAE: -947.592 (876.159)\n",
      "MAE: -945.986 (875.699)\n",
      "MAE: -945.569 (875.402)\n",
      "MAE: -933.094 (875.387)\n"
     ]
    }
   ],
   "source": [
    "# Support Vector Regressor, send in x scaled, y train, kernel = 'rbf' or 'linear'\n",
    "df2test = [X_rank_svi_only, X_top4, X_all_flags_only, X_summary_flags, X_not_summary_flags, X_train_scaled, X_raw_svi]\n",
    "target = y_train\n",
    "\n",
    "# Support Vector Models\n",
    "cvSVR_MAE_list = []\n",
    "for df in df2test:\n",
    "    cvSVR_MAE = model_MAE.cvSVR(df, target, 'rbf')\n",
    "    cvSVR_MAE_list.append(cvSVR_MAE)\n"
   ]
  },
  {
   "cell_type": "code",
   "execution_count": 30,
   "metadata": {},
   "outputs": [
    {
     "name": "stdout",
     "output_type": "stream",
     "text": [
      "MAE: -945.721 (875.750)\n",
      "MAE: -945.987 (873.534)\n",
      "MAE: -957.058 (875.437)\n",
      "MAE: -955.889 (875.657)\n",
      "MAE: -941.801 (870.728)\n",
      "MAE: -918.582 (859.963)\n",
      "MAE: -947.493 (877.127)\n"
     ]
    }
   ],
   "source": [
    "# Support Vector Regressor, send in x scaled, y train, kernel = 'rbf' or 'linear'\n",
    "df2test = [X_rank_svi_only, X_top4, X_all_flags_only, X_summary_flags, X_not_summary_flags, X_train_scaled, X_raw_svi]\n",
    "target = y_train\n",
    "\n",
    "# Support Vector Models\n",
    "cvSVR_MAE_list = []\n",
    "for df in df2test:\n",
    "    cvSVR_MAE = model_MAE.cvSVR(df, target, 'linear')\n",
    "    cvSVR_MAE_list.append(cvSVR_MAE)\n"
   ]
  },
  {
   "cell_type": "code",
   "execution_count": null,
   "metadata": {},
   "outputs": [],
   "source": [
    "# linear regression Results table:\n",
    "# linear regression Results table:\n",
    "flat_list = []\n",
    "for sublist in modelLR.coef_:\n",
    "    for item in sublist:\n",
    "        flat_list.append(item)\n",
    "\n",
    "lr_result = pd.DataFrame()\n",
    "x_train_columns = X_test_top4.columns.tolist()\n",
    "lr_result['features'] = x_train_columns\n",
    "lr_result['coefs'] = flat_list\n",
    "lr_result['abs_coefs'] = abs(lr_result.coefs)\n",
    "lr_result.sort_values(by='abs_coefs', ascending = False).reset_index()"
   ]
  }
 ],
 "metadata": {
  "kernelspec": {
   "display_name": "Python 3",
   "language": "python",
   "name": "python3"
  },
  "language_info": {
   "codemirror_mode": {
    "name": "ipython",
    "version": 3
   },
   "file_extension": ".py",
   "mimetype": "text/x-python",
   "name": "python",
   "nbconvert_exporter": "python",
   "pygments_lexer": "ipython3",
   "version": "3.7.9"
  },
  "toc": {
   "base_numbering": 1,
   "nav_menu": {},
   "number_sections": true,
   "sideBar": true,
   "skip_h1_title": false,
   "title_cell": "Table of Contents",
   "title_sidebar": "Contents",
   "toc_cell": false,
   "toc_position": {},
   "toc_section_display": true,
   "toc_window_display": false
  }
 },
 "nbformat": 4,
 "nbformat_minor": 4
}
