{
 "cells": [
  {
   "cell_type": "code",
   "execution_count": null,
   "metadata": {},
   "outputs": [],
   "source": [
    "import pandas as pd\n",
    "import acquire\n",
    "import wrangle"
   ]
  },
  {
   "cell_type": "code",
   "execution_count": null,
   "metadata": {},
   "outputs": [],
   "source": [
    "# list of US zip codes with county and population, also includes county weights\n",
    "countydf = pd.read_csv('uszips.csv')"
   ]
  },
  {
   "cell_type": "code",
   "execution_count": null,
   "metadata": {},
   "outputs": [],
   "source": [
    "countydf"
   ]
  },
  {
   "cell_type": "code",
   "execution_count": null,
   "metadata": {},
   "outputs": [],
   "source": [
    "countydf[countydf.county_name == 'Bexar']\n",
    "# shows 70 zip codes for Bexar county"
   ]
  },
  {
   "cell_type": "code",
   "execution_count": null,
   "metadata": {},
   "outputs": [],
   "source": [
    "countydf[countydf.county_name == 'Dallas']\n",
    "# shows 117 rows for Dallas, other states have a Dallas county"
   ]
  },
  {
   "cell_type": "code",
   "execution_count": null,
   "metadata": {},
   "outputs": [],
   "source": [
    "# filter for Dallas county TX only\n",
    "countydf[(countydf.county_name == 'Dallas') & (countydf.state_id == 'TX')]"
   ]
  },
  {
   "cell_type": "code",
   "execution_count": null,
   "metadata": {},
   "outputs": [],
   "source": [
    "# unpack county weights?\n",
    "countydf.county_weights = countydf.county_weights.str.strip('{')\n",
    "countydf.county_weights = countydf.county_weights.str.strip('}')\n",
    "county_weightsdf = countydf.county_weights.str.split(',', expand=True)\n",
    "county_weightsdf.columns = ['zip1', 'zip2', 'zip3', 'zip4', 'zip5', 'zip6']\n",
    "\n",
    "tidy_df = pd.concat([countydf, county_weightsdf], axis=1).drop(columns='county_weights')\n",
    "tidy_df"
   ]
  },
  {
   "cell_type": "code",
   "execution_count": null,
   "metadata": {},
   "outputs": [],
   "source": [
    "tidy_df1 = tidy_df.zip1.str.split(':', expand=True)\n",
    "tidy_df1.columns = ['zip_1', 'zip_1prcnt']\n",
    "\n",
    "tidy_df1 = pd.concat([tidy_df, tidy_df1], axis=1).drop(columns='zip1')\n",
    "tidy_df1"
   ]
  },
  {
   "cell_type": "code",
   "execution_count": null,
   "metadata": {},
   "outputs": [],
   "source": [
    "tidy_df1.zip_1 = tidy_df1.zip_1.str.strip(\"'\")\n",
    "\n",
    "tidy_df2 = tidy_df1.zip2.str.split(':', expand=True)\n",
    "tidy_df2.columns = ['zip_2', 'zip_2prcnt']\n",
    "\n",
    "tidy_df2 = pd.concat([tidy_df1, tidy_df2], axis=1).drop(columns='zip2')\n",
    "tidy_df2"
   ]
  },
  {
   "cell_type": "code",
   "execution_count": null,
   "metadata": {},
   "outputs": [],
   "source": [
    "tidy_df2.zip_2 = tidy_df2.zip_2.str.strip(\"'\")\n",
    "\n",
    "tidy_df3 = tidy_df2.zip3.str.split(':', expand=True)\n",
    "tidy_df3.columns = ['zip_3', 'zip_3prcnt']\n",
    "\n",
    "tidy_df3 = pd.concat([tidy_df2, tidy_df3], axis=1).drop(columns='zip3')\n",
    "tidy_df3"
   ]
  },
  {
   "cell_type": "code",
   "execution_count": null,
   "metadata": {},
   "outputs": [],
   "source": [
    "tidy_df3.zip_3 = tidy_df3.zip_3.str.strip(\"'\")\n",
    "\n",
    "tidy_df4 = tidy_df3.zip4.str.split(':', expand=True)\n",
    "tidy_df4.columns = ['zip_4', 'zip_4prcnt']\n",
    "\n",
    "tidy_df4 = pd.concat([tidy_df3, tidy_df4], axis=1).drop(columns='zip4')\n",
    "tidy_df4"
   ]
  },
  {
   "cell_type": "code",
   "execution_count": null,
   "metadata": {},
   "outputs": [],
   "source": [
    "tidy_df4.to_csv('check_tidy.csv')"
   ]
  },
  {
   "cell_type": "code",
   "execution_count": null,
   "metadata": {},
   "outputs": [],
   "source": [
    "all_dates = pd.read_csv('us-counties_COVID_all_dates.csv')"
   ]
  },
  {
   "cell_type": "code",
   "execution_count": null,
   "metadata": {},
   "outputs": [],
   "source": [
    "all_dates.head()"
   ]
  },
  {
   "cell_type": "code",
   "execution_count": null,
   "metadata": {},
   "outputs": [],
   "source": [
    "all_counties20201208 = all_dates[all_dates.date == '2020-12-08']"
   ]
  },
  {
   "cell_type": "code",
   "execution_count": null,
   "metadata": {},
   "outputs": [],
   "source": [
    "all_counties20201208[all_counties20201208.county == 'Bexar']"
   ]
  },
  {
   "cell_type": "code",
   "execution_count": null,
   "metadata": {},
   "outputs": [],
   "source": [
    "all_counties20201208.to_csv('COVID20201208_county')"
   ]
  },
  {
   "cell_type": "code",
   "execution_count": null,
   "metadata": {},
   "outputs": [],
   "source": [
    "date1208 = pd.read_csv('COVID20201208_county', index_col = 0)"
   ]
  },
  {
   "cell_type": "code",
   "execution_count": null,
   "metadata": {},
   "outputs": [],
   "source": [
    "date1208"
   ]
  },
  {
   "cell_type": "code",
   "execution_count": null,
   "metadata": {},
   "outputs": [],
   "source": [
    "# merge zip to county for datae 12/8 ?? use inner join? will lose Puerto Rico I think\n",
    "# need to isolate to Texas? other states have a Dallas county\n",
    "zip_1208_county = pd.merge(countydf, date1208, left_on='county_name', right_on='county')"
   ]
  },
  {
   "cell_type": "code",
   "execution_count": null,
   "metadata": {},
   "outputs": [],
   "source": [
    "zip_1208_county.shape"
   ]
  },
  {
   "cell_type": "code",
   "execution_count": null,
   "metadata": {},
   "outputs": [],
   "source": [
    "zip_1208_county[zip_1208_county.county_name == 'Bexar']\n",
    "# good, still have 70 zip codes for Bexar"
   ]
  },
  {
   "cell_type": "code",
   "execution_count": null,
   "metadata": {},
   "outputs": [],
   "source": [
    "zip_1208_county[(zip_1208_county.county_name == 'Dallas') & (zip_1208_county.state_id == 'TX')]\n",
    "# good, still have 70 zip codes for Bexar"
   ]
  },
  {
   "cell_type": "code",
   "execution_count": null,
   "metadata": {},
   "outputs": [],
   "source": []
  },
  {
   "cell_type": "code",
   "execution_count": null,
   "metadata": {},
   "outputs": [],
   "source": []
  },
  {
   "cell_type": "code",
   "execution_count": null,
   "metadata": {},
   "outputs": [],
   "source": [
    "# test Dallas compile\n",
    "dallasdf = acquire.compile_dallas_data()"
   ]
  },
  {
   "cell_type": "code",
   "execution_count": null,
   "metadata": {},
   "outputs": [],
   "source": [
    "dallasdf.isna().sum()"
   ]
  },
  {
   "cell_type": "code",
   "execution_count": null,
   "metadata": {},
   "outputs": [],
   "source": [
    "dallasdf.shape"
   ]
  },
  {
   "cell_type": "code",
   "execution_count": null,
   "metadata": {},
   "outputs": [],
   "source": [
    "null_list = dallasdf[dallasdf.cases_per_100k.isna()].zip.tolist()"
   ]
  },
  {
   "cell_type": "code",
   "execution_count": null,
   "metadata": {},
   "outputs": [],
   "source": [
    "# there are 62 zip codes in the Dallas SVI that are not showing in the list of cases\n",
    "len(set(null_list))"
   ]
  },
  {
   "cell_type": "code",
   "execution_count": null,
   "metadata": {},
   "outputs": [],
   "source": [
    "set(null_list)"
   ]
  },
  {
   "cell_type": "code",
   "execution_count": null,
   "metadata": {},
   "outputs": [],
   "source": [
    "ddf = acquire.get_dallas_data()"
   ]
  },
  {
   "cell_type": "code",
   "execution_count": null,
   "metadata": {},
   "outputs": [],
   "source": [
    "ddf.info()"
   ]
  },
  {
   "cell_type": "code",
   "execution_count": null,
   "metadata": {},
   "outputs": [],
   "source": [
    "ddf"
   ]
  },
  {
   "cell_type": "code",
   "execution_count": null,
   "metadata": {},
   "outputs": [],
   "source": []
  },
  {
   "cell_type": "code",
   "execution_count": null,
   "metadata": {},
   "outputs": [],
   "source": []
  },
  {
   "cell_type": "code",
   "execution_count": null,
   "metadata": {},
   "outputs": [],
   "source": [
    "dsvi = acquire.get_dallas_svi_data()"
   ]
  },
  {
   "cell_type": "code",
   "execution_count": null,
   "metadata": {},
   "outputs": [],
   "source": [
    "dsvi.shape"
   ]
  },
  {
   "cell_type": "code",
   "execution_count": null,
   "metadata": {},
   "outputs": [],
   "source": [
    "svi_zip = pd.merge(dsvi, mer, on='tract', how='left')"
   ]
  },
  {
   "cell_type": "code",
   "execution_count": null,
   "metadata": {},
   "outputs": [],
   "source": [
    "svi_zip[svi_zip.zip.isna()]"
   ]
  },
  {
   "cell_type": "code",
   "execution_count": null,
   "metadata": {},
   "outputs": [],
   "source": [
    "mer = acquire.get_HUD(dsvi)"
   ]
  },
  {
   "cell_type": "code",
   "execution_count": null,
   "metadata": {},
   "outputs": [],
   "source": [
    "len(mer)"
   ]
  },
  {
   "cell_type": "code",
   "execution_count": null,
   "metadata": {},
   "outputs": [],
   "source": [
    "mer.head()"
   ]
  },
  {
   "cell_type": "code",
   "execution_count": null,
   "metadata": {},
   "outputs": [],
   "source": [
    "mer[mer.tract == 48113001701]"
   ]
  },
  {
   "cell_type": "code",
   "execution_count": null,
   "metadata": {},
   "outputs": [],
   "source": [
    "mer[mer.tract == 48113020700]"
   ]
  },
  {
   "cell_type": "code",
   "execution_count": null,
   "metadata": {},
   "outputs": [],
   "source": []
  }
 ],
 "metadata": {
  "kernelspec": {
   "display_name": "Python 3",
   "language": "python",
   "name": "python3"
  },
  "language_info": {
   "codemirror_mode": {
    "name": "ipython",
    "version": 3
   },
   "file_extension": ".py",
   "mimetype": "text/x-python",
   "name": "python",
   "nbconvert_exporter": "python",
   "pygments_lexer": "ipython3",
   "version": "3.7.9"
  },
  "toc": {
   "base_numbering": 1,
   "nav_menu": {},
   "number_sections": true,
   "sideBar": true,
   "skip_h1_title": false,
   "title_cell": "Table of Contents",
   "title_sidebar": "Contents",
   "toc_cell": false,
   "toc_position": {},
   "toc_section_display": true,
   "toc_window_display": false
  }
 },
 "nbformat": 4,
 "nbformat_minor": 4
}
