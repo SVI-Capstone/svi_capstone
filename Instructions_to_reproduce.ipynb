{
 "cells": [
  {
   "cell_type": "markdown",
   "metadata": {},
   "source": [
    "# A Tale of Two Cities - Instructions for Reproduction"
   ]
  },
  {
   "cell_type": "code",
   "execution_count": 1,
   "metadata": {},
   "outputs": [],
   "source": [
    "import pandas as pd"
   ]
  },
  {
   "cell_type": "markdown",
   "metadata": {},
   "source": [
    "# Links to original source data\n",
    "\n",
    "CDC's SVI index:      \n",
    "https://www.atsdr.cdc.gov/placeandhealth/svi/data_documentation_download.html\n",
    "- Most recent year for our research was 2018\n",
    "   \n",
    "San Antonio COVID-19 Dashboard:     \n",
    "https://cosacovid-cosagis.hub.arcgis.com/datasets/bexar-county-covid-19-data-by-zip-code/data?geometry=-100.416%2C29.018%2C-96.502%2C29.855&showData=true\n",
    "- San Antonio data is only available for current day by zip code, our data was downloaded on December 8th, 2020\n",
    "\n",
    "Dallas COVID-19 Dashboard:      \n",
    "https://www.dallascounty.org/covid-19/\n",
    "- Dallas does not allow download by zip code, and only shows range of case counts per zip code.\n",
    "- On December 8th, 2020 we took the median of the range for each zip code and created a list of case counts by zip code\n",
    "\n",
    "HUD Crosswalk:     \n",
    "https://www.huduser.gov/portal/datasets/usps_crosswalk.html\n",
    "- used tract to zip file to find percentage of addresses within a particular zip code that a specific census tract accounted for\n"
   ]
  },
  {
   "cell_type": "markdown",
   "metadata": {},
   "source": [
    "# Filter SVI for Bexar and Dallas \n",
    "\n",
    "- write to separate .csv files"
   ]
  },
  {
   "cell_type": "markdown",
   "metadata": {},
   "source": [
    "# Create Acquire scripts\n",
    "\n",
    "- Read San Antonio case data and return dataframe (get_san_antonio_data)\n",
    "- Read Dallas case data and return dataframe (get_dallas_data)\n",
    "- Read San Antonio SVI info and return dataframe (get_sa_svi_data)\n",
    "- Read Dallas SVI info and return dataframe (get_dallas_svi_data)\n",
    "- Send city case dataframe in and read HUD file. Get zip codes for only those present in the city dataframe. Group by the tract and get the maximum total addresses percentage for each tract within a zip code. Return dataframe with zip code and maximum address percentage by census tract (get_HUD)\n",
    "- Compile the dataset merging on tract and zip (compile_sa_data and compile_dallas_data)"
   ]
  },
  {
   "cell_type": "markdown",
   "metadata": {},
   "source": [
    "# Create Prepare scripts"
   ]
  },
  {
   "cell_type": "markdown",
   "metadata": {},
   "source": [
    "***\n",
    "# Creating SVI history.csv"
   ]
  },
  {
   "cell_type": "markdown",
   "metadata": {},
   "source": [
    "- get 2018, 2016, 2014 historical SVI data .csv\n",
    "    - note: 2010 is not available sorted by state\n",
    "    - need to watch for possible issues with tract/FIPS changes creating null values\n",
    "- get the rank/raw score for each theme and total by census track for each year available\n",
    "- merge these back together on FIPS and watch for nulls\n",
    "- change up or down from previous year\n",
    "- stddev\n",
    "- %/amount change year over year?\n",
    "\n",
    "\n",
    "Groupings/Themes\n",
    "- theme1 = socioeconomic status\n",
    "- theme2 = household composition and disability\n",
    "- theme3 = minority and language status\n",
    "- theme4 = housing type and transportation\n",
    "\n",
    "\n",
    "- NOTE: excluding 2010 because shape and columns in .csv are substantially different, will only got back to 2014"
   ]
  },
  {
   "cell_type": "code",
   "execution_count": null,
   "metadata": {},
   "outputs": [],
   "source": [
    "# get 2018 by census tract\n",
    "SVI2018 = pd.read_csv('data_csv_files/SVI2018_US.csv')"
   ]
  },
  {
   "cell_type": "code",
   "execution_count": null,
   "metadata": {},
   "outputs": [],
   "source": [
    "SVI2018.head()"
   ]
  },
  {
   "cell_type": "code",
   "execution_count": null,
   "metadata": {},
   "outputs": [],
   "source": [
    "# filter for just TX\n",
    "SVI2018 = SVI2018[SVI2018.STATE == 'TEXAS']"
   ]
  },
  {
   "cell_type": "code",
   "execution_count": null,
   "metadata": {},
   "outputs": [],
   "source": [
    "SVI2018.head()"
   ]
  },
  {
   "cell_type": "code",
   "execution_count": null,
   "metadata": {},
   "outputs": [],
   "source": [
    "# get list of all raw/rank SVI score columns\n",
    "rpl_list18 = [col for col in SVI2018.columns if col.startswith('R')]"
   ]
  },
  {
   "cell_type": "code",
   "execution_count": null,
   "metadata": {},
   "outputs": [],
   "source": [
    "rpl_list18"
   ]
  },
  {
   "cell_type": "code",
   "execution_count": null,
   "metadata": {},
   "outputs": [],
   "source": [
    "# create dataframe with just the raw/rank score columns\n",
    "df2018 = SVI2018[[c for c in SVI2018.columns if c in rpl_list18]]"
   ]
  },
  {
   "cell_type": "code",
   "execution_count": null,
   "metadata": {},
   "outputs": [],
   "source": [
    "# rename columns\n",
    "df2018.rename(columns = {'RPL_THEMES': 'raw_svi2018', \n",
    "                     \"RPL_THEME1\": \"r_soci_total2018\", \n",
    "                     \"RPL_THEME2\": \"r_comp_total2018\", \n",
    "                     \"RPL_THEME3\": \"r_status_total2018\", \n",
    "                     \"RPL_THEME4\": \"r_trans_total2018\"}, inplace = True)"
   ]
  },
  {
   "cell_type": "code",
   "execution_count": null,
   "metadata": {},
   "outputs": [],
   "source": [
    "# add back county, FIPS, population\n",
    "df2018['county'] = SVI2018.COUNTY\n",
    "df2018['tract'] = SVI2018.FIPS\n",
    "df2018['est_population2018'] = SVI2018.E_TOTPOP"
   ]
  },
  {
   "cell_type": "code",
   "execution_count": null,
   "metadata": {},
   "outputs": [],
   "source": [
    "df2018.head()"
   ]
  },
  {
   "cell_type": "code",
   "execution_count": null,
   "metadata": {},
   "outputs": [],
   "source": [
    "df2018.shape"
   ]
  },
  {
   "cell_type": "code",
   "execution_count": null,
   "metadata": {},
   "outputs": [],
   "source": [
    "# note 2016 is already filtered down to TX only\n",
    "SVI2016 = pd.read_csv('data_csv_files/TX_SVI_census2016.csv')"
   ]
  },
  {
   "cell_type": "code",
   "execution_count": null,
   "metadata": {},
   "outputs": [],
   "source": [
    "SVI2016.head()"
   ]
  },
  {
   "cell_type": "code",
   "execution_count": null,
   "metadata": {},
   "outputs": [],
   "source": [
    "rpl_list16 = [col for col in SVI2016.columns if col.startswith('R')]"
   ]
  },
  {
   "cell_type": "code",
   "execution_count": null,
   "metadata": {},
   "outputs": [],
   "source": [
    "rpl_list16"
   ]
  },
  {
   "cell_type": "code",
   "execution_count": null,
   "metadata": {},
   "outputs": [],
   "source": [
    "# create dataframe with just the raw/rank score columns\n",
    "df2016 = SVI2016[[c for c in SVI2016.columns if c in rpl_list16]]"
   ]
  },
  {
   "cell_type": "code",
   "execution_count": null,
   "metadata": {},
   "outputs": [],
   "source": [
    "# rename columns\n",
    "df2016.rename(columns = {'RPL_THEMES': 'raw_svi2016', \n",
    "                     \"RPL_THEME1\": \"r_soci_total2016\", \n",
    "                     \"RPL_THEME2\": \"r_comp_total2016\", \n",
    "                     \"RPL_THEME3\": \"r_status_total2016\", \n",
    "                     \"RPL_THEME4\": \"r_trans_total2016\"}, inplace = True)"
   ]
  },
  {
   "cell_type": "code",
   "execution_count": null,
   "metadata": {},
   "outputs": [],
   "source": [
    "# add back county, FIPS, population\n",
    "#df2016['county2016'] = SVI2016.COUNTY\n",
    "df2016['tract'] = SVI2016.FIPS\n",
    "df2016['est_population2016'] = SVI2016.E_TOTPOP"
   ]
  },
  {
   "cell_type": "code",
   "execution_count": null,
   "metadata": {},
   "outputs": [],
   "source": [
    "df2016.head()\n"
   ]
  },
  {
   "cell_type": "code",
   "execution_count": null,
   "metadata": {},
   "outputs": [],
   "source": [
    "df2016.shape"
   ]
  },
  {
   "cell_type": "code",
   "execution_count": null,
   "metadata": {},
   "outputs": [],
   "source": [
    "# note 2014 is already filtered down to TX only\n",
    "SVI2014 = pd.read_csv('TX_SVI_census2014.csv')"
   ]
  },
  {
   "cell_type": "code",
   "execution_count": null,
   "metadata": {},
   "outputs": [],
   "source": [
    "rpl_list14 = [col for col in SVI2014.columns if col.startswith('R')]\n",
    "rpl_list14"
   ]
  },
  {
   "cell_type": "code",
   "execution_count": null,
   "metadata": {},
   "outputs": [],
   "source": [
    "# create dataframe with just the raw/rank score columns\n",
    "df2014 = SVI2014[[c for c in SVI2014.columns if c in rpl_list14]]"
   ]
  },
  {
   "cell_type": "code",
   "execution_count": null,
   "metadata": {},
   "outputs": [],
   "source": [
    "# rename columns\n",
    "df2014.rename(columns = {'RPL_THEMES': 'raw_svi2014', \n",
    "                     \"RPL_THEME1\": \"r_soci_total2014\", \n",
    "                     \"RPL_THEME2\": \"r_comp_total2014\", \n",
    "                     \"RPL_THEME3\": \"r_status_total2014\", \n",
    "                     \"RPL_THEME4\": \"r_trans_total2014\"}, inplace = True)"
   ]
  },
  {
   "cell_type": "code",
   "execution_count": null,
   "metadata": {},
   "outputs": [],
   "source": [
    "# add back county, FIPS, population\n",
    "#df2014['county2014'] = SVI2014.COUNTY\n",
    "df2014['tract'] = SVI2014.FIPS\n",
    "df2014['est_population2014'] = SVI2014.E_TOTPOP"
   ]
  },
  {
   "cell_type": "code",
   "execution_count": null,
   "metadata": {},
   "outputs": [],
   "source": [
    "df2014.head()\n"
   ]
  },
  {
   "cell_type": "code",
   "execution_count": null,
   "metadata": {},
   "outputs": [],
   "source": [
    "df2014.shape"
   ]
  },
  {
   "cell_type": "code",
   "execution_count": null,
   "metadata": {},
   "outputs": [],
   "source": [
    "# get 2010 by census tract\n",
    "SVI2010 = pd.read_csv('SVI2010_US.csv')"
   ]
  },
  {
   "cell_type": "code",
   "execution_count": null,
   "metadata": {},
   "outputs": [],
   "source": [
    "# DO NOT USE - not worth time to sort\n",
    "SVI2010.head()"
   ]
  },
  {
   "cell_type": "code",
   "execution_count": null,
   "metadata": {},
   "outputs": [],
   "source": [
    "# merge the 2018, 2016, and 2014 dateframes on census_tract\n",
    "# all are same shape = (5254, 8), use left merge just in case so don't lose any 2018 data\n",
    "SVI_hist = pd.merge(df2018, df2016, on='tract', how='left')"
   ]
  },
  {
   "cell_type": "code",
   "execution_count": null,
   "metadata": {},
   "outputs": [],
   "source": [
    "SVI_hist.shape"
   ]
  },
  {
   "cell_type": "code",
   "execution_count": null,
   "metadata": {},
   "outputs": [],
   "source": [
    "SVI_hist.columns"
   ]
  },
  {
   "cell_type": "code",
   "execution_count": null,
   "metadata": {},
   "outputs": [],
   "source": [
    "SVI_hist_full = pd.merge(SVI_hist, df2014, on='tract', how='left')"
   ]
  },
  {
   "cell_type": "code",
   "execution_count": null,
   "metadata": {},
   "outputs": [],
   "source": [
    "SVI_hist_full.shape"
   ]
  },
  {
   "cell_type": "code",
   "execution_count": null,
   "metadata": {},
   "outputs": [],
   "source": [
    "SVI_hist_full.head()"
   ]
  },
  {
   "cell_type": "code",
   "execution_count": null,
   "metadata": {},
   "outputs": [],
   "source": [
    "# now drop any -999.0 observations, per CDC these were removed during ranking\n",
    "SVI_hist_full = SVI_hist_full[SVI_hist_full.raw_svi2018 != -999.0]"
   ]
  },
  {
   "cell_type": "code",
   "execution_count": null,
   "metadata": {},
   "outputs": [],
   "source": [
    "SVI_hist_full.head()"
   ]
  },
  {
   "cell_type": "code",
   "execution_count": null,
   "metadata": {},
   "outputs": [],
   "source": [
    "SVI_hist_full.shape"
   ]
  },
  {
   "cell_type": "code",
   "execution_count": null,
   "metadata": {},
   "outputs": [],
   "source": [
    "SVI_hist_full.columns"
   ]
  },
  {
   "cell_type": "code",
   "execution_count": null,
   "metadata": {},
   "outputs": [],
   "source": [
    "svi_histdf = SVI_hist_full[['county', 'tract', 'raw_svi2018', 'raw_svi2016', 'raw_svi2014', \n",
    "               'r_soci_total2018', 'r_comp_total2018', 'r_status_total2018', 'r_trans_total2018',\n",
    "              'r_soci_total2016', 'r_comp_total2016', 'r_status_total2016', 'r_trans_total2016', \n",
    "              'r_soci_total2014', 'r_comp_total2014', 'r_status_total2014', 'r_trans_total2014',\n",
    "              'est_population2018', 'est_population2016', 'est_population2014']]"
   ]
  },
  {
   "cell_type": "code",
   "execution_count": null,
   "metadata": {},
   "outputs": [],
   "source": [
    "svi_histdf.head()"
   ]
  },
  {
   "cell_type": "code",
   "execution_count": null,
   "metadata": {},
   "outputs": [],
   "source": [
    "# write combined file to csv\n",
    "svi_histdf.to_csv('SVI_history.csv')"
   ]
  },
  {
   "cell_type": "markdown",
   "metadata": {},
   "source": [
    "# Using SVI history for trend calculations"
   ]
  },
  {
   "cell_type": "code",
   "execution_count": 1,
   "metadata": {},
   "outputs": [],
   "source": [
    "import pandas as pd\n",
    "import numpy as np\n",
    "from scripts_python import acquire, prepare, wrangle\n"
   ]
  },
  {
   "cell_type": "code",
   "execution_count": null,
   "metadata": {},
   "outputs": [],
   "source": [
    "# read in history file\n",
    "svi = pd.read_csv('data_csv_files/SVI_history.csv', index_col=0)"
   ]
  },
  {
   "cell_type": "code",
   "execution_count": null,
   "metadata": {},
   "outputs": [],
   "source": [
    "svi.head()"
   ]
  },
  {
   "cell_type": "markdown",
   "metadata": {},
   "source": [
    "**Adding calculated columns**"
   ]
  },
  {
   "cell_type": "code",
   "execution_count": null,
   "metadata": {},
   "outputs": [],
   "source": [
    "svi['rising'] = np.where(((svi.raw_svi2016 > svi.raw_svi2014) & (svi.raw_svi2018 > svi.raw_svi2016)), 1, 0)"
   ]
  },
  {
   "cell_type": "code",
   "execution_count": null,
   "metadata": {},
   "outputs": [],
   "source": [
    "svi['falling'] = np.where(((svi.raw_svi2016 < svi.raw_svi2014) & (svi.raw_svi2018 < svi.raw_svi2016)), 1, 0)"
   ]
  },
  {
   "cell_type": "code",
   "execution_count": null,
   "metadata": {},
   "outputs": [],
   "source": [
    "svi['delta'] = svi.raw_svi2018 - svi.raw_svi2014"
   ]
  },
  {
   "cell_type": "code",
   "execution_count": null,
   "metadata": {},
   "outputs": [],
   "source": [
    "svi['avg3yr'] = (svi.raw_svi2018 + svi.raw_svi2016 + svi.raw_svi2014)/3"
   ]
  },
  {
   "cell_type": "code",
   "execution_count": null,
   "metadata": {},
   "outputs": [],
   "source": [
    "svi['r_soci_rise'] = np.where(((svi.r_soci_total2016 > svi.r_soci_total2014) & (svi.r_soci_total2018 > svi.r_soci_total2016)), 1, 0)"
   ]
  },
  {
   "cell_type": "code",
   "execution_count": null,
   "metadata": {},
   "outputs": [],
   "source": [
    "svi['r_comp_rise'] = np.where(((svi.r_comp_total2016 > svi.r_comp_total2014) & (svi.r_comp_total2018 > svi.r_comp_total2016)), 1, 0)"
   ]
  },
  {
   "cell_type": "code",
   "execution_count": null,
   "metadata": {},
   "outputs": [],
   "source": [
    "svi['r_status_rise'] = np.where(((svi.r_status_total2016 > svi.r_status_total2014) & (svi.r_status_total2018 > svi.r_status_total2016)), 1, 0)"
   ]
  },
  {
   "cell_type": "code",
   "execution_count": null,
   "metadata": {},
   "outputs": [],
   "source": [
    "svi['r_trans_rise'] = np.where(((svi.r_trans_total2016 > svi.r_trans_total2014) & (svi.r_trans_total2018 > svi.r_trans_total2016)), 1, 0)"
   ]
  },
  {
   "cell_type": "code",
   "execution_count": null,
   "metadata": {},
   "outputs": [],
   "source": [
    "svi['r_soci_fall'] = np.where(((svi.r_soci_total2016 < svi.r_soci_total2014) & (svi.r_soci_total2018 < svi.r_soci_total2016)), 1, 0)"
   ]
  },
  {
   "cell_type": "code",
   "execution_count": null,
   "metadata": {},
   "outputs": [],
   "source": [
    "svi['r_comp_fall'] = np.where(((svi.r_comp_total2016 < svi.r_comp_total2014) & (svi.r_comp_total2018 < svi.r_comp_total2016)), 1, 0)"
   ]
  },
  {
   "cell_type": "code",
   "execution_count": null,
   "metadata": {},
   "outputs": [],
   "source": [
    "svi['r_status_fall'] = np.where(((svi.r_status_total2016 < svi.r_status_total2014) & (svi.r_status_total2018 < svi.r_status_total2016)), 1, 0)"
   ]
  },
  {
   "cell_type": "code",
   "execution_count": null,
   "metadata": {},
   "outputs": [],
   "source": [
    "svi['r_trans_fall'] = np.where(((svi.r_trans_total2016 < svi.r_trans_total2014) & (svi.r_trans_total2018 < svi.r_trans_total2016)), 1, 0)"
   ]
  },
  {
   "cell_type": "code",
   "execution_count": null,
   "metadata": {},
   "outputs": [],
   "source": [
    "svi.head()"
   ]
  },
  {
   "cell_type": "code",
   "execution_count": null,
   "metadata": {},
   "outputs": [],
   "source": [
    "# filter to Bexar and Dallas counties\n",
    "dsvi = svi[svi.county == 'Dallas']\n",
    "dsvi"
   ]
  },
  {
   "cell_type": "code",
   "execution_count": null,
   "metadata": {},
   "outputs": [],
   "source": [
    "sasvi = svi[svi.county =='Bexar']\n",
    "sasvi"
   ]
  },
  {
   "cell_type": "markdown",
   "metadata": {},
   "source": [
    "# SVI comparison Questions\n",
    "- overall county mean for both counties by year? total?\n",
    "- overall is county rising? falling? neither?\n",
    "- delta for both counties?\n",
    "- average scores for all raw and r columns for each county?\n",
    "- how many tracks risiing? falling? neither? by county?\n",
    "- other patterns?"
   ]
  },
  {
   "cell_type": "code",
   "execution_count": null,
   "metadata": {},
   "outputs": [],
   "source": [
    "svi.columns"
   ]
  },
  {
   "cell_type": "code",
   "execution_count": null,
   "metadata": {},
   "outputs": [],
   "source": [
    "# aggregate columns by county\n",
    "raw_compdf = svi.groupby(['county'])['raw_svi2018', 'raw_svi2016', 'raw_svi2014', 'delta', 'avg3yr', \n",
    "       'r_soci_total2018', 'r_comp_total2018', 'r_status_total2018',\n",
    "       'r_trans_total2018', 'r_soci_total2016', 'r_comp_total2016',\n",
    "       'r_status_total2016', 'r_trans_total2016', 'r_soci_total2014',\n",
    "       'r_comp_total2014', 'r_status_total2014', 'r_trans_total2014'].agg({'raw_svi2018':['min', 'max','mean'], \n",
    "                                             'raw_svi2016':['min', 'max','mean'], \n",
    "                                            'raw_svi2014':['min', 'max','mean'], 'delta':['min', 'max','mean'], \n",
    "                                             'avg3yr':['min', 'max','mean'],\n",
    "                                             'r_soci_total2018':['mean'],\n",
    "                                             'r_comp_total2018':['mean'], \n",
    "                                             'r_status_total2018':['mean'],\n",
    "                                             'r_trans_total2018':['mean'], \n",
    "                                             'r_soci_total2016':['mean'], \n",
    "                                             'r_comp_total2016':['mean'], \n",
    "                                             'r_status_total2016':['mean'], \n",
    "                                             'r_trans_total2016':['mean'], \n",
    "                                             'r_soci_total2014':['mean'], \n",
    "                                             'r_comp_total2014':['mean'], \n",
    "                                             'r_status_total2014':['mean'], \n",
    "                                             'r_trans_total2014':['mean']})"
   ]
  },
  {
   "cell_type": "code",
   "execution_count": null,
   "metadata": {},
   "outputs": [],
   "source": [
    "# aggregate columns by sum\n",
    "sum_compdf = svi.groupby(['county'])['rising', 'falling', 'r_soci_rise', 'r_comp_rise',\n",
    "       'r_status_rise', 'r_trans_rise', 'r_soci_fall', 'r_comp_fall',\n",
    "       'r_status_fall', 'r_trans_fall'].agg({'rising':['sum'], 'falling':['sum'],  'r_soci_rise':['sum'], \n",
    "                                             'r_comp_rise':['sum'], 'r_status_rise':['sum'], \n",
    "                                             'r_trans_rise':['sum'], 'r_soci_fall':['sum'], 'r_comp_fall':['sum'], \n",
    "                                             'r_status_fall':['sum'], 'r_trans_fall':['sum']})"
   ]
  },
  {
   "cell_type": "code",
   "execution_count": null,
   "metadata": {},
   "outputs": [],
   "source": [
    "# flatten column headers\n",
    "raw_compdf.columns = [' '.join(col).strip() for col in raw_compdf.columns.values]\n",
    "raw_compdf = raw_compdf.reset_index()"
   ]
  },
  {
   "cell_type": "code",
   "execution_count": null,
   "metadata": {},
   "outputs": [],
   "source": [
    "# flatten column headers\n",
    "sum_compdf.columns = [' '.join(col).strip() for col in sum_compdf.columns.values]\n",
    "sum_compdf = sum_compdf.reset_index()"
   ]
  },
  {
   "cell_type": "code",
   "execution_count": null,
   "metadata": {},
   "outputs": [],
   "source": [
    "# filter for only Dallas \n",
    "rd_comp = raw_compdf[raw_compdf.county == 'Dallas']\n",
    "sd_comp = sum_compdf[sum_compdf.county == 'Dallas']\n"
   ]
  },
  {
   "cell_type": "code",
   "execution_count": null,
   "metadata": {},
   "outputs": [],
   "source": [
    "# filter for only  Bexar\n",
    "rs_comp = raw_compdf[raw_compdf.county == 'Bexar']\n",
    "ss_comp = sum_compdf[sum_compdf.county == 'Bexar']"
   ]
  },
  {
   "cell_type": "code",
   "execution_count": null,
   "metadata": {},
   "outputs": [],
   "source": [
    "# better idea, single filter for to get both counties\n",
    "rbdcomp = raw_compdf[(raw_compdf.county == 'Dallas') | (raw_compdf.county == 'Bexar')]\n",
    "rbdcomp"
   ]
  },
  {
   "cell_type": "code",
   "execution_count": null,
   "metadata": {},
   "outputs": [],
   "source": [
    "# better idea, single filter for to get both counties\n",
    "sbdcomp = sum_compdf[(sum_compdf.county == 'Dallas') | (sum_compdf.county == 'Bexar')]\n",
    "sbdcomp"
   ]
  },
  {
   "cell_type": "markdown",
   "metadata": {},
   "source": [
    "**Resetting index to county**"
   ]
  },
  {
   "cell_type": "code",
   "execution_count": null,
   "metadata": {},
   "outputs": [],
   "source": [
    "rbdcomp = rbdcomp.set_index('county')"
   ]
  },
  {
   "cell_type": "code",
   "execution_count": null,
   "metadata": {},
   "outputs": [],
   "source": [
    "sbdcomp = sbdcomp.set_index('county')"
   ]
  },
  {
   "cell_type": "code",
   "execution_count": null,
   "metadata": {},
   "outputs": [],
   "source": [
    "rbdcomp"
   ]
  },
  {
   "cell_type": "code",
   "execution_count": null,
   "metadata": {},
   "outputs": [],
   "source": [
    "# add summary calculations\n",
    "rbdcomp['raw_svi_mean_change18-14'] = rbdcomp['raw_svi2018 mean'] - rbdcomp['raw_svi2014 mean']\n",
    "rbdcomp['r_soci_mean_change18-14'] = rbdcomp['r_soci_total2018 mean'] - rbdcomp['r_soci_total2014 mean']\n",
    "rbdcomp['r_comp_mean_change18-14'] = rbdcomp['r_comp_total2018 mean'] - rbdcomp['r_comp_total2014 mean']\n",
    "rbdcomp['r_status_mean_change18-14'] = rbdcomp['r_status_total2018 mean'] - rbdcomp['r_status_total2014 mean']\n",
    "rbdcomp['r_trans_mean_change18-14'] = rbdcomp['r_trans_total2018 mean'] - rbdcomp['r_trans_total2014 mean']"
   ]
  },
  {
   "cell_type": "code",
   "execution_count": null,
   "metadata": {},
   "outputs": [],
   "source": [
    "# transpose to make it easier to review side by side\n",
    "Trbdcomp = rbdcomp.T"
   ]
  },
  {
   "cell_type": "code",
   "execution_count": null,
   "metadata": {},
   "outputs": [],
   "source": [
    "Trbdcomp"
   ]
  },
  {
   "cell_type": "code",
   "execution_count": null,
   "metadata": {},
   "outputs": [],
   "source": [
    "# read to .csv\n",
    "Trbdcomp.to_csv('SVI_history_summary_rank.csv')"
   ]
  },
  {
   "cell_type": "markdown",
   "metadata": {},
   "source": [
    "**Takeaways**\n",
    "\n",
    "- nothing really jumps out here\n",
    "- everything seems to be within tenths or hundredths"
   ]
  },
  {
   "cell_type": "code",
   "execution_count": null,
   "metadata": {},
   "outputs": [],
   "source": [
    "sbdcomp"
   ]
  },
  {
   "cell_type": "markdown",
   "metadata": {},
   "source": [
    "**Add summary calculations**"
   ]
  },
  {
   "cell_type": "code",
   "execution_count": null,
   "metadata": {},
   "outputs": [],
   "source": [
    "sbdcomp['num_tracts'] = [362, 527]"
   ]
  },
  {
   "cell_type": "code",
   "execution_count": null,
   "metadata": {},
   "outputs": [],
   "source": [
    "sbdcomp['rising_pct'] = sbdcomp['rising sum']/sbdcomp['num_tracts']\n",
    "sbdcomp['falling_pct'] = sbdcomp['falling sum']/sbdcomp['num_tracts']\n",
    "sbdcomp['r_soci_rise_pct'] = sbdcomp['r_soci_rise sum']/sbdcomp['num_tracts']\n",
    "sbdcomp['r_comp_rise_pct'] = sbdcomp['r_comp_rise sum']/sbdcomp['num_tracts']\n",
    "sbdcomp['r_status_rise_pct'] = sbdcomp['r_status_rise sum']/sbdcomp['num_tracts']\n",
    "sbdcomp['r_trans_rise_pct'] = sbdcomp['r_trans_rise sum']/sbdcomp['num_tracts']\n",
    "sbdcomp['r_soci_fall_pct'] = sbdcomp['r_soci_fall sum']/sbdcomp['num_tracts']\n",
    "sbdcomp['r_comp_fall_pct'] = sbdcomp['r_comp_fall sum']/sbdcomp['num_tracts']\n",
    "sbdcomp['r_status_fall_pct'] = sbdcomp['r_status_fall sum']/sbdcomp['num_tracts']\n",
    "sbdcomp['r_trans_fall_pct'] = sbdcomp['r_trans_fall sum']/sbdcomp['num_tracts']"
   ]
  },
  {
   "cell_type": "code",
   "execution_count": null,
   "metadata": {},
   "outputs": [],
   "source": [
    "sbdcomp"
   ]
  },
  {
   "cell_type": "code",
   "execution_count": null,
   "metadata": {},
   "outputs": [],
   "source": [
    "# transpose to make it easier to review side by side\n",
    "Tsbdcomp = sbdcomp.T"
   ]
  },
  {
   "cell_type": "code",
   "execution_count": null,
   "metadata": {},
   "outputs": [],
   "source": [
    "Tsbdcomp"
   ]
  },
  {
   "cell_type": "code",
   "execution_count": null,
   "metadata": {},
   "outputs": [],
   "source": [
    "# read to .csv\n",
    "Tsbdcomp.to_csv('SVI_history_summary_sum.csv')"
   ]
  },
  {
   "cell_type": "markdown",
   "metadata": {},
   "source": [
    "**Takeaways**     \n",
    "- remember, rising is bad, this means tracts are scoring higher than previous year and that means things are worse than they were before\n",
    "- falling scores are good, these are areas where the community is getting LESS vulnerable over time\n",
    "- 45% of the communities (tracts) in San Antonio are getting worse scores year over year from 2014 to 2018\n",
    "    - vs. 39% of the communities in Dallas\n",
    "- only 8% of the areas in San Antonio are seeing a year over year improvement in score\n",
    "    - vs. 13% of communities in Dallas\n",
    "- key grouping in San Antonio that is getting worse year over year is socioeconomic subgroup\n",
    "    - San Antonio 38% getting worse vs. 30% in Dallas\n",
    "    - San Antonio only 13% of areas are improving vs 19% in Dallas\n",
    "- another key group difference household composition\n",
    "    - San Antonio 30% getting worse vs. 25% in Dallas\n",
    "    - San Antonio 23% getting better vs. 28% getting better in Dallas\n",
    "    \n",
    "    \n",
    "**Things that might be impacting this**      \n",
    "- Dallas might have programs in place that San Antonio does not to assist these at risk areas\n",
    "- Redlining history and continued impact in San Antonio may be disproportionately effecting or stagnating improvements in areas in San Antonio"
   ]
  },
  {
   "cell_type": "markdown",
   "metadata": {},
   "source": [
    "# Create San Antonio .csv for Tableau mapping"
   ]
  },
  {
   "cell_type": "code",
   "execution_count": null,
   "metadata": {},
   "outputs": [],
   "source": [
    "\n",
    "import pandas as pd\n",
    "import seaborn as sns\n",
    "\n",
    "from scripts_python import wrangle\n",
    "from scripts_python import explore\n",
    "from scripts_python import model_MAE, model_classification\n",
    "\n",
    "import matplotlib.pyplot as plt\n",
    "import numpy as np\n",
    "\n",
    "\n",
    "from math import sqrt\n",
    "from scipy import stats"
   ]
  },
  {
   "cell_type": "code",
   "execution_count": null,
   "metadata": {},
   "outputs": [],
   "source": [
    "df, train_exp, X_train_scaled, y_train, X_test_scaled, y_test = wrangle.wrangle_data()"
   ]
  },
  {
   "cell_type": "code",
   "execution_count": null,
   "metadata": {},
   "outputs": [],
   "source": [
    "cluster_vars = ['spl_theme1_scaled', 'ep_pov_scaled', 'e_pov_scaled']\n",
    "explore.elbow_plot(X_train_scaled, cluster_vars)"
   ]
  },
  {
   "cell_type": "code",
   "execution_count": null,
   "metadata": {},
   "outputs": [],
   "source": [
    "train_clusters, kmeans = explore.run_kmeans(train_exp, X_train_scaled, k=3, cluster_vars=cluster_vars, cluster_col_name = 'poverty_cluster')\n",
    "test_clusters = explore.kmeans_transform(X_test_scaled, kmeans, cluster_vars, cluster_col_name = 'poverty_cluster')"
   ]
  },
  {
   "cell_type": "code",
   "execution_count": null,
   "metadata": {},
   "outputs": [],
   "source": [
    "\n",
    "train_clusters, kmeans = explore.run_kmeans(train_exp, X_train_scaled, k=3, cluster_vars=cluster_vars, cluster_col_name = 'poverty_cluster')\n",
    "test_clusters = explore.kmeans_transform(X_test_scaled, kmeans, cluster_vars, cluster_col_name = 'poverty_cluster')"
   ]
  },
  {
   "cell_type": "code",
   "execution_count": null,
   "metadata": {},
   "outputs": [],
   "source": [
    "\n",
    "centroids = explore.get_centroids(cluster_vars, cluster_col_name='poverty_cluster', kmeans= kmeans)"
   ]
  },
  {
   "cell_type": "code",
   "execution_count": null,
   "metadata": {},
   "outputs": [],
   "source": [
    "\n",
    "train_exp = explore.add_to_train(train_clusters, centroids, train_exp, cluster_col_name = 'poverty_cluster')"
   ]
  },
  {
   "cell_type": "code",
   "execution_count": null,
   "metadata": {},
   "outputs": [],
   "source": [
    "# export train_exp for Tableau\n",
    "#train_exp.to_csv('train_exp_mapping.csv')"
   ]
  },
  {
   "cell_type": "code",
   "execution_count": null,
   "metadata": {},
   "outputs": [],
   "source": [
    "train_exp.head()"
   ]
  },
  {
   "cell_type": "code",
   "execution_count": null,
   "metadata": {},
   "outputs": [],
   "source": [
    "long_lat = pd.read_csv('FIPS_long_lat.csv')"
   ]
  },
  {
   "cell_type": "code",
   "execution_count": null,
   "metadata": {},
   "outputs": [],
   "source": [
    "long_lat"
   ]
  },
  {
   "cell_type": "code",
   "execution_count": null,
   "metadata": {},
   "outputs": [],
   "source": [
    "merge_ll_train = pd.merge(train_exp, long_lat, left_on='tract', right_on='GEOID', how='left')"
   ]
  },
  {
   "cell_type": "code",
   "execution_count": null,
   "metadata": {},
   "outputs": [],
   "source": [
    "merge_ll_train.head()"
   ]
  },
  {
   "cell_type": "code",
   "execution_count": null,
   "metadata": {},
   "outputs": [],
   "source": [
    "# export train_exp for Tableau\n",
    "merge_ll_train.to_csv('train_exp_wll.csv')"
   ]
  },
  {
   "cell_type": "markdown",
   "metadata": {},
   "source": [
    "## Create Dallas .csv for Tableau"
   ]
  },
  {
   "cell_type": "code",
   "execution_count": null,
   "metadata": {},
   "outputs": [],
   "source": [
    "ddf, dtrain_exp, dX_train_scaled, dy_train, dX_test_scaled, yd_test = wrangle.wrangle_dallas_data()"
   ]
  },
  {
   "cell_type": "code",
   "execution_count": null,
   "metadata": {},
   "outputs": [],
   "source": [
    "dcluster_vars = ['spl_theme1_scaled', 'ep_pov_scaled', 'e_pov_scaled']\n",
    "#explore.elbow_plot(dX_train_scaled, cluster_vars)"
   ]
  },
  {
   "cell_type": "code",
   "execution_count": null,
   "metadata": {},
   "outputs": [],
   "source": [
    "\n",
    "dtrain_clusters, dkmeans = explore.run_kmeans(dtrain_exp, dX_train_scaled, k=4, cluster_vars=dcluster_vars, cluster_col_name = 'dpoverty_cluster')\n"
   ]
  },
  {
   "cell_type": "code",
   "execution_count": null,
   "metadata": {},
   "outputs": [],
   "source": [
    "dcentroids = explore.get_centroids(dcluster_vars, cluster_col_name='dpoverty_cluster', kmeans= dkmeans)"
   ]
  },
  {
   "cell_type": "code",
   "execution_count": null,
   "metadata": {},
   "outputs": [],
   "source": [
    "dtrain_exp = explore.add_to_train(dtrain_clusters, dcentroids, dtrain_exp, cluster_col_name = 'dpoverty_cluster')\n"
   ]
  },
  {
   "cell_type": "code",
   "execution_count": null,
   "metadata": {},
   "outputs": [],
   "source": [
    "dmerge_ll_train = pd.merge(dtrain_exp, long_lat, left_on='tract', right_on='GEOID', how='left')"
   ]
  },
  {
   "cell_type": "code",
   "execution_count": null,
   "metadata": {},
   "outputs": [],
   "source": [
    "# export train_exp for Tableau\n",
    "dmerge_ll_train.to_csv('Dallas_train_exp_wll.csv')"
   ]
  },
  {
   "cell_type": "markdown",
   "metadata": {},
   "source": [
    "# Repeat of above with only tracts in the Train data set instead of full county"
   ]
  },
  {
   "cell_type": "markdown",
   "metadata": {},
   "source": [
    "`*Need to run wrangle sections for SA and Dallas bellow before this will run*`"
   ]
  },
  {
   "cell_type": "code",
   "execution_count": null,
   "metadata": {},
   "outputs": [],
   "source": [
    "dtrain_exp.head()"
   ]
  },
  {
   "cell_type": "code",
   "execution_count": null,
   "metadata": {},
   "outputs": [],
   "source": [
    "dmerge = dtrain_exp[['tract']]"
   ]
  },
  {
   "cell_type": "code",
   "execution_count": null,
   "metadata": {},
   "outputs": [],
   "source": [
    "train_exp.head()"
   ]
  },
  {
   "cell_type": "code",
   "execution_count": null,
   "metadata": {},
   "outputs": [],
   "source": [
    "samerge = train_exp[['tract']]"
   ]
  },
  {
   "cell_type": "code",
   "execution_count": null,
   "metadata": {},
   "outputs": [],
   "source": [
    "frames = [dmerge, samerge]\n",
    "merge_tract = pd.concat(frames, axis=0)"
   ]
  },
  {
   "cell_type": "code",
   "execution_count": null,
   "metadata": {},
   "outputs": [],
   "source": [
    "merge_tract"
   ]
  },
  {
   "cell_type": "code",
   "execution_count": null,
   "metadata": {
    "scrolled": true
   },
   "outputs": [],
   "source": [
    "svi.head()"
   ]
  },
  {
   "cell_type": "code",
   "execution_count": null,
   "metadata": {},
   "outputs": [],
   "source": [
    "train_svi = svi[svi.tract.isin(merge_tract.tract)]"
   ]
  },
  {
   "cell_type": "code",
   "execution_count": null,
   "metadata": {},
   "outputs": [],
   "source": [
    "train_svi"
   ]
  },
  {
   "cell_type": "code",
   "execution_count": null,
   "metadata": {},
   "outputs": [],
   "source": [
    "train_svi[train_svi.county == 'Dallas'].count()"
   ]
  },
  {
   "cell_type": "code",
   "execution_count": null,
   "metadata": {},
   "outputs": [],
   "source": [
    "train_svi[train_svi.county == 'Bexar'].count()"
   ]
  },
  {
   "cell_type": "code",
   "execution_count": null,
   "metadata": {},
   "outputs": [],
   "source": [
    "train_svi[train_svi.county == 'Bexar'].rising.sum()"
   ]
  },
  {
   "cell_type": "code",
   "execution_count": null,
   "metadata": {},
   "outputs": [],
   "source": [
    "train_svi[train_svi.county == 'Dallas'].rising.sum()"
   ]
  },
  {
   "cell_type": "code",
   "execution_count": null,
   "metadata": {},
   "outputs": [],
   "source": [
    "# aggregate columns by county\n",
    "traw_compdf = train_svi.groupby(['county'])['raw_svi2018', 'raw_svi2016', 'raw_svi2014', 'delta', 'avg3yr', \n",
    "       'r_soci_total2018', 'r_comp_total2018', 'r_status_total2018',\n",
    "       'r_trans_total2018', 'r_soci_total2016', 'r_comp_total2016',\n",
    "       'r_status_total2016', 'r_trans_total2016', 'r_soci_total2014',\n",
    "       'r_comp_total2014', 'r_status_total2014', 'r_trans_total2014'].agg({'raw_svi2018':['min', 'max','mean'], \n",
    "                                             'raw_svi2016':['min', 'max','mean'], \n",
    "                                            'raw_svi2014':['min', 'max','mean'], 'delta':['min', 'max','mean'], \n",
    "                                             'avg3yr':['min', 'max','mean'],\n",
    "                                             'r_soci_total2018':['mean'],\n",
    "                                             'r_comp_total2018':['mean'], \n",
    "                                             'r_status_total2018':['mean'],\n",
    "                                             'r_trans_total2018':['mean'], \n",
    "                                             'r_soci_total2016':['mean'], \n",
    "                                             'r_comp_total2016':['mean'], \n",
    "                                             'r_status_total2016':['mean'], \n",
    "                                             'r_trans_total2016':['mean'], \n",
    "                                             'r_soci_total2014':['mean'], \n",
    "                                             'r_comp_total2014':['mean'], \n",
    "                                             'r_status_total2014':['mean'], \n",
    "                                             'r_trans_total2014':['mean']})"
   ]
  },
  {
   "cell_type": "code",
   "execution_count": null,
   "metadata": {},
   "outputs": [],
   "source": [
    "# aggregate columns by sum\n",
    "tsum_compdf = train_svi.groupby(['county'])['rising', 'falling', 'r_soci_rise', 'r_comp_rise',\n",
    "       'r_status_rise', 'r_trans_rise', 'r_soci_fall', 'r_comp_fall',\n",
    "       'r_status_fall', 'r_trans_fall'].agg({'rising':['sum'], 'falling':['sum'],  'r_soci_rise':['sum'], \n",
    "                                             'r_comp_rise':['sum'], 'r_status_rise':['sum'], \n",
    "                                             'r_trans_rise':['sum'], 'r_soci_fall':['sum'], 'r_comp_fall':['sum'], \n",
    "                                             'r_status_fall':['sum'], 'r_trans_fall':['sum']})"
   ]
  },
  {
   "cell_type": "code",
   "execution_count": null,
   "metadata": {},
   "outputs": [],
   "source": [
    "# flatten column headers\n",
    "traw_compdf.columns = [' '.join(col).strip() for col in traw_compdf.columns.values]\n",
    "traw_compdf = traw_compdf.reset_index()"
   ]
  },
  {
   "cell_type": "code",
   "execution_count": null,
   "metadata": {},
   "outputs": [],
   "source": [
    "# flatten column headers\n",
    "tsum_compdf.columns = [' '.join(col).strip() for col in tsum_compdf.columns.values]\n",
    "tsum_compdf = tsum_compdf.reset_index()"
   ]
  },
  {
   "cell_type": "code",
   "execution_count": null,
   "metadata": {},
   "outputs": [],
   "source": [
    "# filter for only Dallas \n",
    "trd_comp = traw_compdf[traw_compdf.county == 'Dallas']\n",
    "tsd_comp = tsum_compdf[tsum_compdf.county == 'Dallas']\n"
   ]
  },
  {
   "cell_type": "code",
   "execution_count": null,
   "metadata": {},
   "outputs": [],
   "source": [
    "# filter for only  Bexar\n",
    "trs_comp = traw_compdf[traw_compdf.county == 'Bexar']\n",
    "tss_comp = tsum_compdf[tsum_compdf.county == 'Bexar']"
   ]
  },
  {
   "cell_type": "code",
   "execution_count": null,
   "metadata": {},
   "outputs": [],
   "source": [
    "# better idea, single filter for to get both counties\n",
    "trbdcomp = traw_compdf[(traw_compdf.county == 'Dallas') | (traw_compdf.county == 'Bexar')]\n",
    "trbdcomp"
   ]
  },
  {
   "cell_type": "code",
   "execution_count": null,
   "metadata": {},
   "outputs": [],
   "source": [
    "# better idea, single filter for to get both counties\n",
    "tsbdcomp = tsum_compdf[(tsum_compdf.county == 'Dallas') | (tsum_compdf.county == 'Bexar')]\n",
    "tsbdcomp"
   ]
  },
  {
   "cell_type": "markdown",
   "metadata": {},
   "source": [
    "**Resetting index to county**"
   ]
  },
  {
   "cell_type": "code",
   "execution_count": null,
   "metadata": {},
   "outputs": [],
   "source": [
    "trbdcomp = trbdcomp.set_index('county')"
   ]
  },
  {
   "cell_type": "code",
   "execution_count": null,
   "metadata": {},
   "outputs": [],
   "source": [
    "tsbdcomp = tsbdcomp.set_index('county')"
   ]
  },
  {
   "cell_type": "code",
   "execution_count": null,
   "metadata": {},
   "outputs": [],
   "source": [
    "trbdcomp"
   ]
  },
  {
   "cell_type": "code",
   "execution_count": null,
   "metadata": {},
   "outputs": [],
   "source": [
    "# add summary calculations\n",
    "trbdcomp['raw_svi_mean_change18-14'] = trbdcomp['raw_svi2018 mean'] - trbdcomp['raw_svi2014 mean']\n",
    "trbdcomp['r_soci_mean_change18-14'] = trbdcomp['r_soci_total2018 mean'] - trbdcomp['r_soci_total2014 mean']\n",
    "trbdcomp['r_comp_mean_change18-14'] = trbdcomp['r_comp_total2018 mean'] - trbdcomp['r_comp_total2014 mean']\n",
    "trbdcomp['r_status_mean_change18-14'] = trbdcomp['r_status_total2018 mean'] - trbdcomp['r_status_total2014 mean']\n",
    "trbdcomp['r_trans_mean_change18-14'] = trbdcomp['r_trans_total2018 mean'] - trbdcomp['r_trans_total2014 mean']"
   ]
  },
  {
   "cell_type": "code",
   "execution_count": null,
   "metadata": {},
   "outputs": [],
   "source": [
    "# transpose to make it easier to review side by side\n",
    "tTrbdcomp = trbdcomp.T"
   ]
  },
  {
   "cell_type": "code",
   "execution_count": null,
   "metadata": {},
   "outputs": [],
   "source": [
    "tTrbdcomp"
   ]
  },
  {
   "cell_type": "code",
   "execution_count": null,
   "metadata": {},
   "outputs": [],
   "source": [
    "# read to .csv\n",
    "tTrbdcomp.to_csv('trainSVI_history_summary_rank.csv')"
   ]
  },
  {
   "cell_type": "markdown",
   "metadata": {},
   "source": [
    "**Takeaways**\n",
    "\n",
    "- nothing really jumps out here\n",
    "- everything seems to be within tenths or hundredths"
   ]
  },
  {
   "cell_type": "code",
   "execution_count": null,
   "metadata": {},
   "outputs": [],
   "source": [
    "tsbdcomp"
   ]
  },
  {
   "cell_type": "markdown",
   "metadata": {},
   "source": [
    "**Add summary calculations**"
   ]
  },
  {
   "cell_type": "code",
   "execution_count": null,
   "metadata": {},
   "outputs": [],
   "source": [
    "tsbdcomp['num_tracts'] = [289, 246]"
   ]
  },
  {
   "cell_type": "code",
   "execution_count": null,
   "metadata": {},
   "outputs": [],
   "source": [
    "tsbdcomp['rising_pct'] = tsbdcomp['rising sum']/tsbdcomp['num_tracts']\n",
    "tsbdcomp['falling_pct'] = tsbdcomp['falling sum']/tsbdcomp['num_tracts']\n",
    "tsbdcomp['r_soci_rise_pct'] = tsbdcomp['r_soci_rise sum']/tsbdcomp['num_tracts']\n",
    "tsbdcomp['r_comp_rise_pct'] = tsbdcomp['r_comp_rise sum']/tsbdcomp['num_tracts']\n",
    "tsbdcomp['r_status_rise_pct'] = tsbdcomp['r_status_rise sum']/tsbdcomp['num_tracts']\n",
    "tsbdcomp['r_trans_rise_pct'] = tsbdcomp['r_trans_rise sum']/tsbdcomp['num_tracts']\n",
    "tsbdcomp['r_soci_fall_pct'] = tsbdcomp['r_soci_fall sum']/tsbdcomp['num_tracts']\n",
    "tsbdcomp['r_comp_fall_pct'] = tsbdcomp['r_comp_fall sum']/tsbdcomp['num_tracts']\n",
    "tsbdcomp['r_status_fall_pct'] = tsbdcomp['r_status_fall sum']/tsbdcomp['num_tracts']\n",
    "tsbdcomp['r_trans_fall_pct'] = tsbdcomp['r_trans_fall sum']/tsbdcomp['num_tracts']"
   ]
  },
  {
   "cell_type": "code",
   "execution_count": null,
   "metadata": {},
   "outputs": [],
   "source": [
    "tsbdcomp"
   ]
  },
  {
   "cell_type": "code",
   "execution_count": null,
   "metadata": {},
   "outputs": [],
   "source": [
    "# transpose to make it easier to review side by side\n",
    "tTsbdcomp = tsbdcomp.T"
   ]
  },
  {
   "cell_type": "code",
   "execution_count": null,
   "metadata": {},
   "outputs": [],
   "source": [
    "tTsbdcomp"
   ]
  },
  {
   "cell_type": "code",
   "execution_count": null,
   "metadata": {},
   "outputs": [],
   "source": [
    "# read to .csv\n",
    "tTsbdcomp.to_csv('trainSVI_history_summary_sum.csv')"
   ]
  },
  {
   "cell_type": "markdown",
   "metadata": {},
   "source": [
    "**Takeaways**     \n",
    "- remember, rising is bad, this means tracts are scoring higher than previous year and that means things are worse than they were before\n",
    "- falling scores are good, these are areas where the community is getting LESS vulnerable over time\n",
    "- 45% of the communities (tracts) in San Antonio are getting worse scores year over year from 2014 to 2018\n",
    "    - vs. 39% of the communities in Dallas\n",
    "- only 8% of the areas in San Antonio are seeing a year over year improvement in score\n",
    "    - vs. 13% of communities in Dallas\n",
    "- key grouping in San Antonio that is getting worse year over year is socioeconomic subgroup\n",
    "    - San Antonio 38% getting worse vs. 30% in Dallas\n",
    "    - San Antonio only 13% of areas are improving vs 19% in Dallas\n",
    "- another key group difference household composition\n",
    "    - San Antonio 30% getting worse vs. 25% in Dallas\n",
    "    - San Antonio 23% getting better vs. 28% getting better in Dallas\n",
    "    \n",
    "    \n",
    "**Things that might be impacting this**      \n",
    "- Dallas might have programs in place that San Antonio does not to assist these at risk areas\n",
    "- Redlining history and continued impact in San Antonio may be disproportionately effecting or stagnating improvements in areas in San Antonio"
   ]
  },
  {
   "cell_type": "markdown",
   "metadata": {},
   "source": [
    "# Merge Tableau datasets"
   ]
  },
  {
   "cell_type": "code",
   "execution_count": 1,
   "metadata": {},
   "outputs": [],
   "source": [
    "import pandas as pd"
   ]
  },
  {
   "cell_type": "code",
   "execution_count": 2,
   "metadata": {},
   "outputs": [],
   "source": [
    "# read in current csv files in use for mapping in Tableau\n",
    "tsa = pd.read_csv('train_exp_wll.csv', index_col=0)\n",
    "td = pd.read_csv('Dallas_train_exp_wll.csv', index_col=0)"
   ]
  },
  {
   "cell_type": "code",
   "execution_count": 3,
   "metadata": {},
   "outputs": [
    {
     "data": {
      "text/html": [
       "<div>\n",
       "<style scoped>\n",
       "    .dataframe tbody tr th:only-of-type {\n",
       "        vertical-align: middle;\n",
       "    }\n",
       "\n",
       "    .dataframe tbody tr th {\n",
       "        vertical-align: top;\n",
       "    }\n",
       "\n",
       "    .dataframe thead th {\n",
       "        text-align: right;\n",
       "    }\n",
       "</style>\n",
       "<table border=\"1\" class=\"dataframe\">\n",
       "  <thead>\n",
       "    <tr style=\"text-align: right;\">\n",
       "      <th></th>\n",
       "      <th>tract</th>\n",
       "      <th>e_pov</th>\n",
       "      <th>ep_pov</th>\n",
       "      <th>spl_theme1</th>\n",
       "      <th>raw_svi</th>\n",
       "      <th>f_pov_soci</th>\n",
       "      <th>f_unemp_soci</th>\n",
       "      <th>f_pci_soci</th>\n",
       "      <th>f_nohsdp_soci</th>\n",
       "      <th>f_soci_total</th>\n",
       "      <th>...</th>\n",
       "      <th>r_status_fall</th>\n",
       "      <th>r_trans_fall</th>\n",
       "      <th>poverty_cluster</th>\n",
       "      <th>centroid_spl_theme1_scaled</th>\n",
       "      <th>centroid_ep_pov_scaled</th>\n",
       "      <th>centroid_e_pov_scaled</th>\n",
       "      <th>USPS</th>\n",
       "      <th>GEOID</th>\n",
       "      <th>INTPTLAT</th>\n",
       "      <th>INTPTLONG</th>\n",
       "    </tr>\n",
       "  </thead>\n",
       "  <tbody>\n",
       "    <tr>\n",
       "      <th>0</th>\n",
       "      <td>48029181821</td>\n",
       "      <td>328</td>\n",
       "      <td>8.8</td>\n",
       "      <td>1.3480</td>\n",
       "      <td>0.4879</td>\n",
       "      <td>0</td>\n",
       "      <td>0</td>\n",
       "      <td>0</td>\n",
       "      <td>0</td>\n",
       "      <td>0</td>\n",
       "      <td>...</td>\n",
       "      <td>0</td>\n",
       "      <td>0</td>\n",
       "      <td>0</td>\n",
       "      <td>0.243449</td>\n",
       "      <td>0.095138</td>\n",
       "      <td>0.096143</td>\n",
       "      <td>TX</td>\n",
       "      <td>48029181821</td>\n",
       "      <td>29.540713</td>\n",
       "      <td>-98.623809</td>\n",
       "    </tr>\n",
       "    <tr>\n",
       "      <th>1</th>\n",
       "      <td>48029171902</td>\n",
       "      <td>3712</td>\n",
       "      <td>25.5</td>\n",
       "      <td>2.9506</td>\n",
       "      <td>0.6394</td>\n",
       "      <td>0</td>\n",
       "      <td>0</td>\n",
       "      <td>0</td>\n",
       "      <td>0</td>\n",
       "      <td>0</td>\n",
       "      <td>...</td>\n",
       "      <td>0</td>\n",
       "      <td>0</td>\n",
       "      <td>2</td>\n",
       "      <td>0.815684</td>\n",
       "      <td>0.485412</td>\n",
       "      <td>0.435892</td>\n",
       "      <td>TX</td>\n",
       "      <td>48029171902</td>\n",
       "      <td>29.434723</td>\n",
       "      <td>-98.657214</td>\n",
       "    </tr>\n",
       "    <tr>\n",
       "      <th>2</th>\n",
       "      <td>48029130200</td>\n",
       "      <td>340</td>\n",
       "      <td>19.2</td>\n",
       "      <td>3.0120</td>\n",
       "      <td>0.6523</td>\n",
       "      <td>0</td>\n",
       "      <td>0</td>\n",
       "      <td>0</td>\n",
       "      <td>0</td>\n",
       "      <td>0</td>\n",
       "      <td>...</td>\n",
       "      <td>1</td>\n",
       "      <td>0</td>\n",
       "      <td>1</td>\n",
       "      <td>0.560423</td>\n",
       "      <td>0.254288</td>\n",
       "      <td>0.211310</td>\n",
       "      <td>TX</td>\n",
       "      <td>48029130200</td>\n",
       "      <td>29.415824</td>\n",
       "      <td>-98.467376</td>\n",
       "    </tr>\n",
       "    <tr>\n",
       "      <th>3</th>\n",
       "      <td>48029121120</td>\n",
       "      <td>143</td>\n",
       "      <td>2.7</td>\n",
       "      <td>0.8444</td>\n",
       "      <td>0.0872</td>\n",
       "      <td>0</td>\n",
       "      <td>0</td>\n",
       "      <td>0</td>\n",
       "      <td>0</td>\n",
       "      <td>0</td>\n",
       "      <td>...</td>\n",
       "      <td>0</td>\n",
       "      <td>0</td>\n",
       "      <td>0</td>\n",
       "      <td>0.243449</td>\n",
       "      <td>0.095138</td>\n",
       "      <td>0.096143</td>\n",
       "      <td>TX</td>\n",
       "      <td>48029121120</td>\n",
       "      <td>29.557548</td>\n",
       "      <td>-98.437246</td>\n",
       "    </tr>\n",
       "    <tr>\n",
       "      <th>4</th>\n",
       "      <td>48029120502</td>\n",
       "      <td>1766</td>\n",
       "      <td>31.8</td>\n",
       "      <td>3.4352</td>\n",
       "      <td>0.9531</td>\n",
       "      <td>0</td>\n",
       "      <td>0</td>\n",
       "      <td>0</td>\n",
       "      <td>0</td>\n",
       "      <td>0</td>\n",
       "      <td>...</td>\n",
       "      <td>0</td>\n",
       "      <td>0</td>\n",
       "      <td>2</td>\n",
       "      <td>0.815684</td>\n",
       "      <td>0.485412</td>\n",
       "      <td>0.435892</td>\n",
       "      <td>TX</td>\n",
       "      <td>48029120502</td>\n",
       "      <td>29.504533</td>\n",
       "      <td>-98.407621</td>\n",
       "    </tr>\n",
       "  </tbody>\n",
       "</table>\n",
       "<p>5 rows × 49 columns</p>\n",
       "</div>"
      ],
      "text/plain": [
       "         tract  e_pov  ep_pov  spl_theme1  raw_svi  f_pov_soci  f_unemp_soci  \\\n",
       "0  48029181821    328     8.8      1.3480   0.4879           0             0   \n",
       "1  48029171902   3712    25.5      2.9506   0.6394           0             0   \n",
       "2  48029130200    340    19.2      3.0120   0.6523           0             0   \n",
       "3  48029121120    143     2.7      0.8444   0.0872           0             0   \n",
       "4  48029120502   1766    31.8      3.4352   0.9531           0             0   \n",
       "\n",
       "   f_pci_soci  f_nohsdp_soci  f_soci_total  ...  r_status_fall  r_trans_fall  \\\n",
       "0           0              0             0  ...              0             0   \n",
       "1           0              0             0  ...              0             0   \n",
       "2           0              0             0  ...              1             0   \n",
       "3           0              0             0  ...              0             0   \n",
       "4           0              0             0  ...              0             0   \n",
       "\n",
       "   poverty_cluster  centroid_spl_theme1_scaled  centroid_ep_pov_scaled  \\\n",
       "0                0                    0.243449                0.095138   \n",
       "1                2                    0.815684                0.485412   \n",
       "2                1                    0.560423                0.254288   \n",
       "3                0                    0.243449                0.095138   \n",
       "4                2                    0.815684                0.485412   \n",
       "\n",
       "   centroid_e_pov_scaled  USPS        GEOID   INTPTLAT  \\\n",
       "0               0.096143    TX  48029181821  29.540713   \n",
       "1               0.435892    TX  48029171902  29.434723   \n",
       "2               0.211310    TX  48029130200  29.415824   \n",
       "3               0.096143    TX  48029121120  29.557548   \n",
       "4               0.435892    TX  48029120502  29.504533   \n",
       "\n",
       "   INTPTLONG                                                                                                                               \n",
       "0                                         -98.623809                                                                                       \n",
       "1                                         -98.657214                                                                                       \n",
       "2                                         -98.467376                                                                                       \n",
       "3                                         -98.437246                                                                                       \n",
       "4                                         -98.407621                                                                                       \n",
       "\n",
       "[5 rows x 49 columns]"
      ]
     },
     "execution_count": 3,
     "metadata": {},
     "output_type": "execute_result"
    }
   ],
   "source": [
    "tsa.head()"
   ]
  },
  {
   "cell_type": "code",
   "execution_count": 4,
   "metadata": {},
   "outputs": [],
   "source": [
    "# need a county designation\n",
    "tsa['county'] = 'Bexar'"
   ]
  },
  {
   "cell_type": "code",
   "execution_count": 5,
   "metadata": {},
   "outputs": [
    {
     "data": {
      "text/html": [
       "<div>\n",
       "<style scoped>\n",
       "    .dataframe tbody tr th:only-of-type {\n",
       "        vertical-align: middle;\n",
       "    }\n",
       "\n",
       "    .dataframe tbody tr th {\n",
       "        vertical-align: top;\n",
       "    }\n",
       "\n",
       "    .dataframe thead th {\n",
       "        text-align: right;\n",
       "    }\n",
       "</style>\n",
       "<table border=\"1\" class=\"dataframe\">\n",
       "  <thead>\n",
       "    <tr style=\"text-align: right;\">\n",
       "      <th></th>\n",
       "      <th>tract</th>\n",
       "      <th>e_pov</th>\n",
       "      <th>ep_pov</th>\n",
       "      <th>spl_theme1</th>\n",
       "      <th>raw_svi</th>\n",
       "      <th>f_pov_soci</th>\n",
       "      <th>f_unemp_soci</th>\n",
       "      <th>f_pci_soci</th>\n",
       "      <th>f_nohsdp_soci</th>\n",
       "      <th>f_soci_total</th>\n",
       "      <th>...</th>\n",
       "      <th>r_trans_fall</th>\n",
       "      <th>poverty_cluster</th>\n",
       "      <th>centroid_spl_theme1_scaled</th>\n",
       "      <th>centroid_ep_pov_scaled</th>\n",
       "      <th>centroid_e_pov_scaled</th>\n",
       "      <th>USPS</th>\n",
       "      <th>GEOID</th>\n",
       "      <th>INTPTLAT</th>\n",
       "      <th>INTPTLONG</th>\n",
       "      <th>county</th>\n",
       "    </tr>\n",
       "  </thead>\n",
       "  <tbody>\n",
       "    <tr>\n",
       "      <th>0</th>\n",
       "      <td>48029181821</td>\n",
       "      <td>328</td>\n",
       "      <td>8.8</td>\n",
       "      <td>1.3480</td>\n",
       "      <td>0.4879</td>\n",
       "      <td>0</td>\n",
       "      <td>0</td>\n",
       "      <td>0</td>\n",
       "      <td>0</td>\n",
       "      <td>0</td>\n",
       "      <td>...</td>\n",
       "      <td>0</td>\n",
       "      <td>0</td>\n",
       "      <td>0.243449</td>\n",
       "      <td>0.095138</td>\n",
       "      <td>0.096143</td>\n",
       "      <td>TX</td>\n",
       "      <td>48029181821</td>\n",
       "      <td>29.540713</td>\n",
       "      <td>-98.623809</td>\n",
       "      <td>Bexar</td>\n",
       "    </tr>\n",
       "    <tr>\n",
       "      <th>1</th>\n",
       "      <td>48029171902</td>\n",
       "      <td>3712</td>\n",
       "      <td>25.5</td>\n",
       "      <td>2.9506</td>\n",
       "      <td>0.6394</td>\n",
       "      <td>0</td>\n",
       "      <td>0</td>\n",
       "      <td>0</td>\n",
       "      <td>0</td>\n",
       "      <td>0</td>\n",
       "      <td>...</td>\n",
       "      <td>0</td>\n",
       "      <td>2</td>\n",
       "      <td>0.815684</td>\n",
       "      <td>0.485412</td>\n",
       "      <td>0.435892</td>\n",
       "      <td>TX</td>\n",
       "      <td>48029171902</td>\n",
       "      <td>29.434723</td>\n",
       "      <td>-98.657214</td>\n",
       "      <td>Bexar</td>\n",
       "    </tr>\n",
       "    <tr>\n",
       "      <th>2</th>\n",
       "      <td>48029130200</td>\n",
       "      <td>340</td>\n",
       "      <td>19.2</td>\n",
       "      <td>3.0120</td>\n",
       "      <td>0.6523</td>\n",
       "      <td>0</td>\n",
       "      <td>0</td>\n",
       "      <td>0</td>\n",
       "      <td>0</td>\n",
       "      <td>0</td>\n",
       "      <td>...</td>\n",
       "      <td>0</td>\n",
       "      <td>1</td>\n",
       "      <td>0.560423</td>\n",
       "      <td>0.254288</td>\n",
       "      <td>0.211310</td>\n",
       "      <td>TX</td>\n",
       "      <td>48029130200</td>\n",
       "      <td>29.415824</td>\n",
       "      <td>-98.467376</td>\n",
       "      <td>Bexar</td>\n",
       "    </tr>\n",
       "    <tr>\n",
       "      <th>3</th>\n",
       "      <td>48029121120</td>\n",
       "      <td>143</td>\n",
       "      <td>2.7</td>\n",
       "      <td>0.8444</td>\n",
       "      <td>0.0872</td>\n",
       "      <td>0</td>\n",
       "      <td>0</td>\n",
       "      <td>0</td>\n",
       "      <td>0</td>\n",
       "      <td>0</td>\n",
       "      <td>...</td>\n",
       "      <td>0</td>\n",
       "      <td>0</td>\n",
       "      <td>0.243449</td>\n",
       "      <td>0.095138</td>\n",
       "      <td>0.096143</td>\n",
       "      <td>TX</td>\n",
       "      <td>48029121120</td>\n",
       "      <td>29.557548</td>\n",
       "      <td>-98.437246</td>\n",
       "      <td>Bexar</td>\n",
       "    </tr>\n",
       "    <tr>\n",
       "      <th>4</th>\n",
       "      <td>48029120502</td>\n",
       "      <td>1766</td>\n",
       "      <td>31.8</td>\n",
       "      <td>3.4352</td>\n",
       "      <td>0.9531</td>\n",
       "      <td>0</td>\n",
       "      <td>0</td>\n",
       "      <td>0</td>\n",
       "      <td>0</td>\n",
       "      <td>0</td>\n",
       "      <td>...</td>\n",
       "      <td>0</td>\n",
       "      <td>2</td>\n",
       "      <td>0.815684</td>\n",
       "      <td>0.485412</td>\n",
       "      <td>0.435892</td>\n",
       "      <td>TX</td>\n",
       "      <td>48029120502</td>\n",
       "      <td>29.504533</td>\n",
       "      <td>-98.407621</td>\n",
       "      <td>Bexar</td>\n",
       "    </tr>\n",
       "  </tbody>\n",
       "</table>\n",
       "<p>5 rows × 50 columns</p>\n",
       "</div>"
      ],
      "text/plain": [
       "         tract  e_pov  ep_pov  spl_theme1  raw_svi  f_pov_soci  f_unemp_soci  \\\n",
       "0  48029181821    328     8.8      1.3480   0.4879           0             0   \n",
       "1  48029171902   3712    25.5      2.9506   0.6394           0             0   \n",
       "2  48029130200    340    19.2      3.0120   0.6523           0             0   \n",
       "3  48029121120    143     2.7      0.8444   0.0872           0             0   \n",
       "4  48029120502   1766    31.8      3.4352   0.9531           0             0   \n",
       "\n",
       "   f_pci_soci  f_nohsdp_soci  f_soci_total  ...  r_trans_fall  \\\n",
       "0           0              0             0  ...             0   \n",
       "1           0              0             0  ...             0   \n",
       "2           0              0             0  ...             0   \n",
       "3           0              0             0  ...             0   \n",
       "4           0              0             0  ...             0   \n",
       "\n",
       "   poverty_cluster  centroid_spl_theme1_scaled  centroid_ep_pov_scaled  \\\n",
       "0                0                    0.243449                0.095138   \n",
       "1                2                    0.815684                0.485412   \n",
       "2                1                    0.560423                0.254288   \n",
       "3                0                    0.243449                0.095138   \n",
       "4                2                    0.815684                0.485412   \n",
       "\n",
       "   centroid_e_pov_scaled  USPS        GEOID   INTPTLAT  \\\n",
       "0               0.096143    TX  48029181821  29.540713   \n",
       "1               0.435892    TX  48029171902  29.434723   \n",
       "2               0.211310    TX  48029130200  29.415824   \n",
       "3               0.096143    TX  48029121120  29.557548   \n",
       "4               0.435892    TX  48029120502  29.504533   \n",
       "\n",
       "   INTPTLONG                                                                                                                               \\\n",
       "0                                         -98.623809                                                                                        \n",
       "1                                         -98.657214                                                                                        \n",
       "2                                         -98.467376                                                                                        \n",
       "3                                         -98.437246                                                                                        \n",
       "4                                         -98.407621                                                                                        \n",
       "\n",
       "   county  \n",
       "0   Bexar  \n",
       "1   Bexar  \n",
       "2   Bexar  \n",
       "3   Bexar  \n",
       "4   Bexar  \n",
       "\n",
       "[5 rows x 50 columns]"
      ]
     },
     "execution_count": 5,
     "metadata": {},
     "output_type": "execute_result"
    }
   ],
   "source": [
    "tsa.head()"
   ]
  },
  {
   "cell_type": "code",
   "execution_count": 6,
   "metadata": {},
   "outputs": [
    {
     "data": {
      "text/html": [
       "<div>\n",
       "<style scoped>\n",
       "    .dataframe tbody tr th:only-of-type {\n",
       "        vertical-align: middle;\n",
       "    }\n",
       "\n",
       "    .dataframe tbody tr th {\n",
       "        vertical-align: top;\n",
       "    }\n",
       "\n",
       "    .dataframe thead th {\n",
       "        text-align: right;\n",
       "    }\n",
       "</style>\n",
       "<table border=\"1\" class=\"dataframe\">\n",
       "  <thead>\n",
       "    <tr style=\"text-align: right;\">\n",
       "      <th></th>\n",
       "      <th>tract</th>\n",
       "      <th>e_pov</th>\n",
       "      <th>ep_pov</th>\n",
       "      <th>spl_theme1</th>\n",
       "      <th>raw_svi</th>\n",
       "      <th>f_pov_soci</th>\n",
       "      <th>f_unemp_soci</th>\n",
       "      <th>f_pci_soci</th>\n",
       "      <th>f_nohsdp_soci</th>\n",
       "      <th>f_soci_total</th>\n",
       "      <th>...</th>\n",
       "      <th>r_status_fall</th>\n",
       "      <th>r_trans_fall</th>\n",
       "      <th>dpoverty_cluster</th>\n",
       "      <th>centroid_spl_theme1_scaled</th>\n",
       "      <th>centroid_ep_pov_scaled</th>\n",
       "      <th>centroid_e_pov_scaled</th>\n",
       "      <th>USPS</th>\n",
       "      <th>GEOID</th>\n",
       "      <th>INTPTLAT</th>\n",
       "      <th>INTPTLONG</th>\n",
       "    </tr>\n",
       "  </thead>\n",
       "  <tbody>\n",
       "    <tr>\n",
       "      <th>0</th>\n",
       "      <td>48113013616</td>\n",
       "      <td>528</td>\n",
       "      <td>7.3</td>\n",
       "      <td>0.7117</td>\n",
       "      <td>0.0891</td>\n",
       "      <td>0</td>\n",
       "      <td>0</td>\n",
       "      <td>0</td>\n",
       "      <td>0</td>\n",
       "      <td>0</td>\n",
       "      <td>...</td>\n",
       "      <td>0</td>\n",
       "      <td>0</td>\n",
       "      <td>0</td>\n",
       "      <td>0.099795</td>\n",
       "      <td>0.085008</td>\n",
       "      <td>0.048500</td>\n",
       "      <td>TX</td>\n",
       "      <td>48113013616</td>\n",
       "      <td>32.955747</td>\n",
       "      <td>-96.824537</td>\n",
       "    </tr>\n",
       "    <tr>\n",
       "      <th>1</th>\n",
       "      <td>48113006402</td>\n",
       "      <td>1508</td>\n",
       "      <td>26.9</td>\n",
       "      <td>3.0822</td>\n",
       "      <td>0.8041</td>\n",
       "      <td>0</td>\n",
       "      <td>0</td>\n",
       "      <td>0</td>\n",
       "      <td>1</td>\n",
       "      <td>1</td>\n",
       "      <td>...</td>\n",
       "      <td>0</td>\n",
       "      <td>0</td>\n",
       "      <td>3</td>\n",
       "      <td>0.727022</td>\n",
       "      <td>0.406888</td>\n",
       "      <td>0.266358</td>\n",
       "      <td>TX</td>\n",
       "      <td>48113006402</td>\n",
       "      <td>32.727449</td>\n",
       "      <td>-96.873434</td>\n",
       "    </tr>\n",
       "    <tr>\n",
       "      <th>2</th>\n",
       "      <td>48113012000</td>\n",
       "      <td>1966</td>\n",
       "      <td>24.2</td>\n",
       "      <td>3.0839</td>\n",
       "      <td>0.8900</td>\n",
       "      <td>0</td>\n",
       "      <td>0</td>\n",
       "      <td>1</td>\n",
       "      <td>1</td>\n",
       "      <td>2</td>\n",
       "      <td>...</td>\n",
       "      <td>0</td>\n",
       "      <td>1</td>\n",
       "      <td>1</td>\n",
       "      <td>0.839377</td>\n",
       "      <td>0.635655</td>\n",
       "      <td>0.530122</td>\n",
       "      <td>TX</td>\n",
       "      <td>48113012000</td>\n",
       "      <td>32.755887</td>\n",
       "      <td>-96.658353</td>\n",
       "    </tr>\n",
       "    <tr>\n",
       "      <th>3</th>\n",
       "      <td>48113011001</td>\n",
       "      <td>2039</td>\n",
       "      <td>26.8</td>\n",
       "      <td>2.0099</td>\n",
       "      <td>0.6402</td>\n",
       "      <td>0</td>\n",
       "      <td>0</td>\n",
       "      <td>0</td>\n",
       "      <td>0</td>\n",
       "      <td>0</td>\n",
       "      <td>...</td>\n",
       "      <td>0</td>\n",
       "      <td>0</td>\n",
       "      <td>1</td>\n",
       "      <td>0.839377</td>\n",
       "      <td>0.635655</td>\n",
       "      <td>0.530122</td>\n",
       "      <td>TX</td>\n",
       "      <td>48113011001</td>\n",
       "      <td>32.681705</td>\n",
       "      <td>-96.848655</td>\n",
       "    </tr>\n",
       "    <tr>\n",
       "      <th>4</th>\n",
       "      <td>48113000406</td>\n",
       "      <td>1361</td>\n",
       "      <td>15.5</td>\n",
       "      <td>2.3060</td>\n",
       "      <td>0.4159</td>\n",
       "      <td>0</td>\n",
       "      <td>0</td>\n",
       "      <td>0</td>\n",
       "      <td>0</td>\n",
       "      <td>0</td>\n",
       "      <td>...</td>\n",
       "      <td>0</td>\n",
       "      <td>1</td>\n",
       "      <td>3</td>\n",
       "      <td>0.727022</td>\n",
       "      <td>0.406888</td>\n",
       "      <td>0.266358</td>\n",
       "      <td>TX</td>\n",
       "      <td>48113000406</td>\n",
       "      <td>32.835973</td>\n",
       "      <td>-96.852964</td>\n",
       "    </tr>\n",
       "  </tbody>\n",
       "</table>\n",
       "<p>5 rows × 49 columns</p>\n",
       "</div>"
      ],
      "text/plain": [
       "         tract  e_pov  ep_pov  spl_theme1  raw_svi  f_pov_soci  f_unemp_soci  \\\n",
       "0  48113013616    528     7.3      0.7117   0.0891           0             0   \n",
       "1  48113006402   1508    26.9      3.0822   0.8041           0             0   \n",
       "2  48113012000   1966    24.2      3.0839   0.8900           0             0   \n",
       "3  48113011001   2039    26.8      2.0099   0.6402           0             0   \n",
       "4  48113000406   1361    15.5      2.3060   0.4159           0             0   \n",
       "\n",
       "   f_pci_soci  f_nohsdp_soci  f_soci_total  ...  r_status_fall  r_trans_fall  \\\n",
       "0           0              0             0  ...              0             0   \n",
       "1           0              1             1  ...              0             0   \n",
       "2           1              1             2  ...              0             1   \n",
       "3           0              0             0  ...              0             0   \n",
       "4           0              0             0  ...              0             1   \n",
       "\n",
       "   dpoverty_cluster  centroid_spl_theme1_scaled  centroid_ep_pov_scaled  \\\n",
       "0                 0                    0.099795                0.085008   \n",
       "1                 3                    0.727022                0.406888   \n",
       "2                 1                    0.839377                0.635655   \n",
       "3                 1                    0.839377                0.635655   \n",
       "4                 3                    0.727022                0.406888   \n",
       "\n",
       "   centroid_e_pov_scaled  USPS        GEOID   INTPTLAT  \\\n",
       "0               0.048500    TX  48113013616  32.955747   \n",
       "1               0.266358    TX  48113006402  32.727449   \n",
       "2               0.530122    TX  48113012000  32.755887   \n",
       "3               0.530122    TX  48113011001  32.681705   \n",
       "4               0.266358    TX  48113000406  32.835973   \n",
       "\n",
       "   INTPTLONG                                                                                                                               \n",
       "0                                         -96.824537                                                                                       \n",
       "1                                         -96.873434                                                                                       \n",
       "2                                         -96.658353                                                                                       \n",
       "3                                         -96.848655                                                                                       \n",
       "4                                         -96.852964                                                                                       \n",
       "\n",
       "[5 rows x 49 columns]"
      ]
     },
     "execution_count": 6,
     "metadata": {},
     "output_type": "execute_result"
    }
   ],
   "source": [
    "td.head()"
   ]
  },
  {
   "cell_type": "code",
   "execution_count": 7,
   "metadata": {},
   "outputs": [],
   "source": [
    "# need a county designation\n",
    "td['county'] = 'Dallas'"
   ]
  },
  {
   "cell_type": "code",
   "execution_count": 9,
   "metadata": {},
   "outputs": [
    {
     "data": {
      "text/html": [
       "<div>\n",
       "<style scoped>\n",
       "    .dataframe tbody tr th:only-of-type {\n",
       "        vertical-align: middle;\n",
       "    }\n",
       "\n",
       "    .dataframe tbody tr th {\n",
       "        vertical-align: top;\n",
       "    }\n",
       "\n",
       "    .dataframe thead th {\n",
       "        text-align: right;\n",
       "    }\n",
       "</style>\n",
       "<table border=\"1\" class=\"dataframe\">\n",
       "  <thead>\n",
       "    <tr style=\"text-align: right;\">\n",
       "      <th></th>\n",
       "      <th>tract</th>\n",
       "      <th>e_pov</th>\n",
       "      <th>ep_pov</th>\n",
       "      <th>spl_theme1</th>\n",
       "      <th>raw_svi</th>\n",
       "      <th>f_pov_soci</th>\n",
       "      <th>f_unemp_soci</th>\n",
       "      <th>f_pci_soci</th>\n",
       "      <th>f_nohsdp_soci</th>\n",
       "      <th>f_soci_total</th>\n",
       "      <th>...</th>\n",
       "      <th>r_trans_fall</th>\n",
       "      <th>dpoverty_cluster</th>\n",
       "      <th>centroid_spl_theme1_scaled</th>\n",
       "      <th>centroid_ep_pov_scaled</th>\n",
       "      <th>centroid_e_pov_scaled</th>\n",
       "      <th>USPS</th>\n",
       "      <th>GEOID</th>\n",
       "      <th>INTPTLAT</th>\n",
       "      <th>INTPTLONG</th>\n",
       "      <th>county</th>\n",
       "    </tr>\n",
       "  </thead>\n",
       "  <tbody>\n",
       "    <tr>\n",
       "      <th>0</th>\n",
       "      <td>48113013616</td>\n",
       "      <td>528</td>\n",
       "      <td>7.3</td>\n",
       "      <td>0.7117</td>\n",
       "      <td>0.0891</td>\n",
       "      <td>0</td>\n",
       "      <td>0</td>\n",
       "      <td>0</td>\n",
       "      <td>0</td>\n",
       "      <td>0</td>\n",
       "      <td>...</td>\n",
       "      <td>0</td>\n",
       "      <td>0</td>\n",
       "      <td>0.099795</td>\n",
       "      <td>0.085008</td>\n",
       "      <td>0.048500</td>\n",
       "      <td>TX</td>\n",
       "      <td>48113013616</td>\n",
       "      <td>32.955747</td>\n",
       "      <td>-96.824537</td>\n",
       "      <td>Dallas</td>\n",
       "    </tr>\n",
       "    <tr>\n",
       "      <th>1</th>\n",
       "      <td>48113006402</td>\n",
       "      <td>1508</td>\n",
       "      <td>26.9</td>\n",
       "      <td>3.0822</td>\n",
       "      <td>0.8041</td>\n",
       "      <td>0</td>\n",
       "      <td>0</td>\n",
       "      <td>0</td>\n",
       "      <td>1</td>\n",
       "      <td>1</td>\n",
       "      <td>...</td>\n",
       "      <td>0</td>\n",
       "      <td>3</td>\n",
       "      <td>0.727022</td>\n",
       "      <td>0.406888</td>\n",
       "      <td>0.266358</td>\n",
       "      <td>TX</td>\n",
       "      <td>48113006402</td>\n",
       "      <td>32.727449</td>\n",
       "      <td>-96.873434</td>\n",
       "      <td>Dallas</td>\n",
       "    </tr>\n",
       "    <tr>\n",
       "      <th>2</th>\n",
       "      <td>48113012000</td>\n",
       "      <td>1966</td>\n",
       "      <td>24.2</td>\n",
       "      <td>3.0839</td>\n",
       "      <td>0.8900</td>\n",
       "      <td>0</td>\n",
       "      <td>0</td>\n",
       "      <td>1</td>\n",
       "      <td>1</td>\n",
       "      <td>2</td>\n",
       "      <td>...</td>\n",
       "      <td>1</td>\n",
       "      <td>1</td>\n",
       "      <td>0.839377</td>\n",
       "      <td>0.635655</td>\n",
       "      <td>0.530122</td>\n",
       "      <td>TX</td>\n",
       "      <td>48113012000</td>\n",
       "      <td>32.755887</td>\n",
       "      <td>-96.658353</td>\n",
       "      <td>Dallas</td>\n",
       "    </tr>\n",
       "    <tr>\n",
       "      <th>3</th>\n",
       "      <td>48113011001</td>\n",
       "      <td>2039</td>\n",
       "      <td>26.8</td>\n",
       "      <td>2.0099</td>\n",
       "      <td>0.6402</td>\n",
       "      <td>0</td>\n",
       "      <td>0</td>\n",
       "      <td>0</td>\n",
       "      <td>0</td>\n",
       "      <td>0</td>\n",
       "      <td>...</td>\n",
       "      <td>0</td>\n",
       "      <td>1</td>\n",
       "      <td>0.839377</td>\n",
       "      <td>0.635655</td>\n",
       "      <td>0.530122</td>\n",
       "      <td>TX</td>\n",
       "      <td>48113011001</td>\n",
       "      <td>32.681705</td>\n",
       "      <td>-96.848655</td>\n",
       "      <td>Dallas</td>\n",
       "    </tr>\n",
       "    <tr>\n",
       "      <th>4</th>\n",
       "      <td>48113000406</td>\n",
       "      <td>1361</td>\n",
       "      <td>15.5</td>\n",
       "      <td>2.3060</td>\n",
       "      <td>0.4159</td>\n",
       "      <td>0</td>\n",
       "      <td>0</td>\n",
       "      <td>0</td>\n",
       "      <td>0</td>\n",
       "      <td>0</td>\n",
       "      <td>...</td>\n",
       "      <td>1</td>\n",
       "      <td>3</td>\n",
       "      <td>0.727022</td>\n",
       "      <td>0.406888</td>\n",
       "      <td>0.266358</td>\n",
       "      <td>TX</td>\n",
       "      <td>48113000406</td>\n",
       "      <td>32.835973</td>\n",
       "      <td>-96.852964</td>\n",
       "      <td>Dallas</td>\n",
       "    </tr>\n",
       "  </tbody>\n",
       "</table>\n",
       "<p>5 rows × 50 columns</p>\n",
       "</div>"
      ],
      "text/plain": [
       "         tract  e_pov  ep_pov  spl_theme1  raw_svi  f_pov_soci  f_unemp_soci  \\\n",
       "0  48113013616    528     7.3      0.7117   0.0891           0             0   \n",
       "1  48113006402   1508    26.9      3.0822   0.8041           0             0   \n",
       "2  48113012000   1966    24.2      3.0839   0.8900           0             0   \n",
       "3  48113011001   2039    26.8      2.0099   0.6402           0             0   \n",
       "4  48113000406   1361    15.5      2.3060   0.4159           0             0   \n",
       "\n",
       "   f_pci_soci  f_nohsdp_soci  f_soci_total  ...  r_trans_fall  \\\n",
       "0           0              0             0  ...             0   \n",
       "1           0              1             1  ...             0   \n",
       "2           1              1             2  ...             1   \n",
       "3           0              0             0  ...             0   \n",
       "4           0              0             0  ...             1   \n",
       "\n",
       "   dpoverty_cluster  centroid_spl_theme1_scaled  centroid_ep_pov_scaled  \\\n",
       "0                 0                    0.099795                0.085008   \n",
       "1                 3                    0.727022                0.406888   \n",
       "2                 1                    0.839377                0.635655   \n",
       "3                 1                    0.839377                0.635655   \n",
       "4                 3                    0.727022                0.406888   \n",
       "\n",
       "   centroid_e_pov_scaled  USPS        GEOID   INTPTLAT  \\\n",
       "0               0.048500    TX  48113013616  32.955747   \n",
       "1               0.266358    TX  48113006402  32.727449   \n",
       "2               0.530122    TX  48113012000  32.755887   \n",
       "3               0.530122    TX  48113011001  32.681705   \n",
       "4               0.266358    TX  48113000406  32.835973   \n",
       "\n",
       "   INTPTLONG                                                                                                                               \\\n",
       "0                                         -96.824537                                                                                        \n",
       "1                                         -96.873434                                                                                        \n",
       "2                                         -96.658353                                                                                        \n",
       "3                                         -96.848655                                                                                        \n",
       "4                                         -96.852964                                                                                        \n",
       "\n",
       "   county  \n",
       "0  Dallas  \n",
       "1  Dallas  \n",
       "2  Dallas  \n",
       "3  Dallas  \n",
       "4  Dallas  \n",
       "\n",
       "[5 rows x 50 columns]"
      ]
     },
     "execution_count": 9,
     "metadata": {},
     "output_type": "execute_result"
    }
   ],
   "source": [
    "td.head()"
   ]
  },
  {
   "cell_type": "code",
   "execution_count": 10,
   "metadata": {},
   "outputs": [],
   "source": [
    "# join these together into signle dataset by row\n",
    "tframes = [tsa, td]\n",
    "tableaudf = pd.concat(tframes, axis=0, join='outer')"
   ]
  },
  {
   "cell_type": "code",
   "execution_count": 11,
   "metadata": {},
   "outputs": [
    {
     "data": {
      "text/html": [
       "<div>\n",
       "<style scoped>\n",
       "    .dataframe tbody tr th:only-of-type {\n",
       "        vertical-align: middle;\n",
       "    }\n",
       "\n",
       "    .dataframe tbody tr th {\n",
       "        vertical-align: top;\n",
       "    }\n",
       "\n",
       "    .dataframe thead th {\n",
       "        text-align: right;\n",
       "    }\n",
       "</style>\n",
       "<table border=\"1\" class=\"dataframe\">\n",
       "  <thead>\n",
       "    <tr style=\"text-align: right;\">\n",
       "      <th></th>\n",
       "      <th>tract</th>\n",
       "      <th>e_pov</th>\n",
       "      <th>ep_pov</th>\n",
       "      <th>spl_theme1</th>\n",
       "      <th>raw_svi</th>\n",
       "      <th>f_pov_soci</th>\n",
       "      <th>f_unemp_soci</th>\n",
       "      <th>f_pci_soci</th>\n",
       "      <th>f_nohsdp_soci</th>\n",
       "      <th>f_soci_total</th>\n",
       "      <th>...</th>\n",
       "      <th>poverty_cluster</th>\n",
       "      <th>centroid_spl_theme1_scaled</th>\n",
       "      <th>centroid_ep_pov_scaled</th>\n",
       "      <th>centroid_e_pov_scaled</th>\n",
       "      <th>USPS</th>\n",
       "      <th>GEOID</th>\n",
       "      <th>INTPTLAT</th>\n",
       "      <th>INTPTLONG</th>\n",
       "      <th>county</th>\n",
       "      <th>dpoverty_cluster</th>\n",
       "    </tr>\n",
       "  </thead>\n",
       "  <tbody>\n",
       "    <tr>\n",
       "      <th>0</th>\n",
       "      <td>48029181821</td>\n",
       "      <td>328</td>\n",
       "      <td>8.8</td>\n",
       "      <td>1.3480</td>\n",
       "      <td>0.4879</td>\n",
       "      <td>0</td>\n",
       "      <td>0</td>\n",
       "      <td>0</td>\n",
       "      <td>0</td>\n",
       "      <td>0</td>\n",
       "      <td>...</td>\n",
       "      <td>0.0</td>\n",
       "      <td>0.243449</td>\n",
       "      <td>0.095138</td>\n",
       "      <td>0.096143</td>\n",
       "      <td>TX</td>\n",
       "      <td>48029181821</td>\n",
       "      <td>29.540713</td>\n",
       "      <td>-98.623809</td>\n",
       "      <td>Bexar</td>\n",
       "      <td>NaN</td>\n",
       "    </tr>\n",
       "    <tr>\n",
       "      <th>1</th>\n",
       "      <td>48029171902</td>\n",
       "      <td>3712</td>\n",
       "      <td>25.5</td>\n",
       "      <td>2.9506</td>\n",
       "      <td>0.6394</td>\n",
       "      <td>0</td>\n",
       "      <td>0</td>\n",
       "      <td>0</td>\n",
       "      <td>0</td>\n",
       "      <td>0</td>\n",
       "      <td>...</td>\n",
       "      <td>2.0</td>\n",
       "      <td>0.815684</td>\n",
       "      <td>0.485412</td>\n",
       "      <td>0.435892</td>\n",
       "      <td>TX</td>\n",
       "      <td>48029171902</td>\n",
       "      <td>29.434723</td>\n",
       "      <td>-98.657214</td>\n",
       "      <td>Bexar</td>\n",
       "      <td>NaN</td>\n",
       "    </tr>\n",
       "    <tr>\n",
       "      <th>2</th>\n",
       "      <td>48029130200</td>\n",
       "      <td>340</td>\n",
       "      <td>19.2</td>\n",
       "      <td>3.0120</td>\n",
       "      <td>0.6523</td>\n",
       "      <td>0</td>\n",
       "      <td>0</td>\n",
       "      <td>0</td>\n",
       "      <td>0</td>\n",
       "      <td>0</td>\n",
       "      <td>...</td>\n",
       "      <td>1.0</td>\n",
       "      <td>0.560423</td>\n",
       "      <td>0.254288</td>\n",
       "      <td>0.211310</td>\n",
       "      <td>TX</td>\n",
       "      <td>48029130200</td>\n",
       "      <td>29.415824</td>\n",
       "      <td>-98.467376</td>\n",
       "      <td>Bexar</td>\n",
       "      <td>NaN</td>\n",
       "    </tr>\n",
       "    <tr>\n",
       "      <th>3</th>\n",
       "      <td>48029121120</td>\n",
       "      <td>143</td>\n",
       "      <td>2.7</td>\n",
       "      <td>0.8444</td>\n",
       "      <td>0.0872</td>\n",
       "      <td>0</td>\n",
       "      <td>0</td>\n",
       "      <td>0</td>\n",
       "      <td>0</td>\n",
       "      <td>0</td>\n",
       "      <td>...</td>\n",
       "      <td>0.0</td>\n",
       "      <td>0.243449</td>\n",
       "      <td>0.095138</td>\n",
       "      <td>0.096143</td>\n",
       "      <td>TX</td>\n",
       "      <td>48029121120</td>\n",
       "      <td>29.557548</td>\n",
       "      <td>-98.437246</td>\n",
       "      <td>Bexar</td>\n",
       "      <td>NaN</td>\n",
       "    </tr>\n",
       "    <tr>\n",
       "      <th>4</th>\n",
       "      <td>48029120502</td>\n",
       "      <td>1766</td>\n",
       "      <td>31.8</td>\n",
       "      <td>3.4352</td>\n",
       "      <td>0.9531</td>\n",
       "      <td>0</td>\n",
       "      <td>0</td>\n",
       "      <td>0</td>\n",
       "      <td>0</td>\n",
       "      <td>0</td>\n",
       "      <td>...</td>\n",
       "      <td>2.0</td>\n",
       "      <td>0.815684</td>\n",
       "      <td>0.485412</td>\n",
       "      <td>0.435892</td>\n",
       "      <td>TX</td>\n",
       "      <td>48029120502</td>\n",
       "      <td>29.504533</td>\n",
       "      <td>-98.407621</td>\n",
       "      <td>Bexar</td>\n",
       "      <td>NaN</td>\n",
       "    </tr>\n",
       "  </tbody>\n",
       "</table>\n",
       "<p>5 rows × 51 columns</p>\n",
       "</div>"
      ],
      "text/plain": [
       "         tract  e_pov  ep_pov  spl_theme1  raw_svi  f_pov_soci  f_unemp_soci  \\\n",
       "0  48029181821    328     8.8      1.3480   0.4879           0             0   \n",
       "1  48029171902   3712    25.5      2.9506   0.6394           0             0   \n",
       "2  48029130200    340    19.2      3.0120   0.6523           0             0   \n",
       "3  48029121120    143     2.7      0.8444   0.0872           0             0   \n",
       "4  48029120502   1766    31.8      3.4352   0.9531           0             0   \n",
       "\n",
       "   f_pci_soci  f_nohsdp_soci  f_soci_total  ...  poverty_cluster  \\\n",
       "0           0              0             0  ...              0.0   \n",
       "1           0              0             0  ...              2.0   \n",
       "2           0              0             0  ...              1.0   \n",
       "3           0              0             0  ...              0.0   \n",
       "4           0              0             0  ...              2.0   \n",
       "\n",
       "   centroid_spl_theme1_scaled  centroid_ep_pov_scaled  centroid_e_pov_scaled  \\\n",
       "0                    0.243449                0.095138               0.096143   \n",
       "1                    0.815684                0.485412               0.435892   \n",
       "2                    0.560423                0.254288               0.211310   \n",
       "3                    0.243449                0.095138               0.096143   \n",
       "4                    0.815684                0.485412               0.435892   \n",
       "\n",
       "   USPS        GEOID   INTPTLAT  \\\n",
       "0    TX  48029181821  29.540713   \n",
       "1    TX  48029171902  29.434723   \n",
       "2    TX  48029130200  29.415824   \n",
       "3    TX  48029121120  29.557548   \n",
       "4    TX  48029120502  29.504533   \n",
       "\n",
       "   INTPTLONG                                                                                                                               \\\n",
       "0                                         -98.623809                                                                                        \n",
       "1                                         -98.657214                                                                                        \n",
       "2                                         -98.467376                                                                                        \n",
       "3                                         -98.437246                                                                                        \n",
       "4                                         -98.407621                                                                                        \n",
       "\n",
       "   county  dpoverty_cluster  \n",
       "0   Bexar               NaN  \n",
       "1   Bexar               NaN  \n",
       "2   Bexar               NaN  \n",
       "3   Bexar               NaN  \n",
       "4   Bexar               NaN  \n",
       "\n",
       "[5 rows x 51 columns]"
      ]
     },
     "execution_count": 11,
     "metadata": {},
     "output_type": "execute_result"
    }
   ],
   "source": [
    "tableaudf.head()"
   ]
  },
  {
   "cell_type": "code",
   "execution_count": 12,
   "metadata": {},
   "outputs": [],
   "source": [
    "# write new df to csv for Tableau\n",
    "#tableaudf.to_csv('tableuadf.csv')"
   ]
  }
 ],
 "metadata": {
  "kernelspec": {
   "display_name": "Python 3",
   "language": "python",
   "name": "python3"
  },
  "language_info": {
   "codemirror_mode": {
    "name": "ipython",
    "version": 3
   },
   "file_extension": ".py",
   "mimetype": "text/x-python",
   "name": "python",
   "nbconvert_exporter": "python",
   "pygments_lexer": "ipython3",
   "version": "3.7.9"
  },
  "toc": {
   "base_numbering": 1,
   "nav_menu": {},
   "number_sections": true,
   "sideBar": true,
   "skip_h1_title": false,
   "title_cell": "Table of Contents",
   "title_sidebar": "Contents",
   "toc_cell": false,
   "toc_position": {},
   "toc_section_display": true,
   "toc_window_display": false
  }
 },
 "nbformat": 4,
 "nbformat_minor": 4
}
